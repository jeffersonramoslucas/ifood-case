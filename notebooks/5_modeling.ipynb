{
 "cells": [
  {
   "cell_type": "markdown",
   "id": "c1d1470d-fd8f-4f94-840c-79e4613d2933",
   "metadata": {},
   "source": [
    "# Modelo 1: recomendação de ofertas\n",
    "\n",
    "## *Etapa 1: Modelo Supervisionado*\n",
    "\n",
    "Esta etapa inclui o treinamento do modelo supervisionado que tem como resultado a propensão de compra de um tipo de oferta $P(offerType)$ \n",
    "assim como  a propensão de compra de uma oferta condicionada ao tipo de oferta $P(offer | offerType)$ \n",
    "\n",
    "\n",
    "TEOREMA DE BAYES\n",
    "\n",
    "$$P(A|B) = \\frac{P(B|A) \\times P(A)}{P(B)}$$\n",
    "\n",
    "PARA -> \n",
    "A = offer,\n",
    "B = offer_type\n",
    "\n",
    "$$P(offer | offerType) = \\frac{P(offerType | offer) \\times P(offer)}{P(offerType)}$$\n",
    "\n",
    "$$P(offer | offerType) \\times P(offerType) = P(offerType | offer) \\times P(offer)$$\n",
    "\n",
    "$$P(offer) = \\frac{P(offer | offerType) \\times P(offerType)}{P(offerType | offer)}$$\n",
    "\n",
    "\n",
    "$$P(offerType | offer) = 1$$\n",
    "\n",
    "SOLUÇÂO:\n",
    "$$P(offer) = P(offer | offerType) \\times P(offerType)$$\n",
    "\n",
    "$P(offer | offerType) =>$ Solução Frequentista\n",
    "\n",
    "$P(offerType) =>$ Modelo Supervisionado\n",
    "\n",
    "## *Etapa 2: Cluster de Clientes*\n",
    "Esta etapa inclui a criação de cluster de clientes com base em suas informações demograficas"
   ]
  },
  {
   "cell_type": "code",
   "execution_count": 1,
   "id": "64bcfffc-a8fa-4996-9fd5-c2bfe3b02132",
   "metadata": {
    "tags": []
   },
   "outputs": [
    {
     "name": "stderr",
     "output_type": "stream",
     "text": [
      "WARNING: Using incubator modules: jdk.incubator.vector\n",
      "Using Spark's default log4j profile: org/apache/spark/log4j2-defaults.properties\n",
      "25/08/11 00:24:10 WARN Utils: Your hostname, N0L144853, resolves to a loopback address: 127.0.1.1; using 192.168.68.107 instead (on interface wlp0s20f3)\n",
      "25/08/11 00:24:10 WARN Utils: Set SPARK_LOCAL_IP if you need to bind to another address\n",
      "Using Spark's default log4j profile: org/apache/spark/log4j2-defaults.properties\n",
      "Setting default log level to \"WARN\".\n",
      "To adjust logging level use sc.setLogLevel(newLevel). For SparkR, use setLogLevel(newLevel).\n",
      "25/08/11 00:24:11 WARN NativeCodeLoader: Unable to load native-hadoop library for your platform... using builtin-java classes where applicable\n",
      "25/08/11 00:24:11 WARN Utils: Service 'SparkUI' could not bind on port 4040. Attempting port 4041.\n",
      "25/08/11 00:24:11 WARN Utils: Service 'SparkUI' could not bind on port 4041. Attempting port 4042.\n",
      "25/08/11 00:24:11 WARN Utils: Service 'SparkUI' could not bind on port 4042. Attempting port 4043.\n",
      "25/08/11 00:24:11 WARN Utils: Service 'SparkUI' could not bind on port 4043. Attempting port 4044.\n",
      "25/08/11 00:24:11 WARN Utils: Service 'SparkUI' could not bind on port 4044. Attempting port 4045.\n",
      "25/08/11 00:24:11 WARN Utils: Service 'SparkUI' could not bind on port 4045. Attempting port 4046.\n",
      "25/08/11 00:24:11 WARN Utils: Service 'SparkUI' could not bind on port 4046. Attempting port 4047.\n"
     ]
    },
    {
     "data": {
      "text/html": [
       "<style>.jp-Cell-outputArea { text-align: center; }</style>"
      ],
      "text/plain": [
       "<IPython.core.display.HTML object>"
      ]
     },
     "metadata": {},
     "output_type": "display_data"
    }
   ],
   "source": [
    "from pyspark.sql import SparkSession\n",
    "spark = SparkSession.builder.appName('PySparkTest').getOrCreate()\n",
    "\n",
    "from IPython.display import display, HTML\n",
    "display(HTML(\"<style>.jp-Cell-outputArea { text-align: center; }</style>\"))"
   ]
  },
  {
   "cell_type": "code",
   "execution_count": 2,
   "id": "f64b7599-22c6-449b-b219-03f98e735ab7",
   "metadata": {
    "tags": []
   },
   "outputs": [],
   "source": [
    "import plotly.express as px\n",
    "from pyspark.sql import functions as F\n",
    "from pyspark.ml.clustering import KMeans\n",
    "from pyspark.ml.functions import vector_to_array\n",
    "from pyspark.ml.classification import RandomForestClassifier\n",
    "from pyspark.ml.feature import VectorAssembler, StandardScaler\n",
    "\n",
    "\n",
    "def metrics_at(df, tresh):\n",
    "    TN = df.where(f\"y_proba_class1 < {tresh} AND target=0\").count()\n",
    "    FN = df.where(f\"y_proba_class1 < {tresh} AND target=1\").count()\n",
    "    FP = df.where(f\"y_proba_class1 >= {tresh} AND target=0\").count()\n",
    "    TP = df.where(f\"y_proba_class1 >= {tresh} AND target=1\").count()\n",
    "\n",
    "    precision = TP / (TP + FP) if (TP + FP)>0 else 0.0\n",
    "    recall = TP / (TP + FN) if (TP + FN)>0 else 0.0\n",
    "    f1 = (2*precision*recall)/(precision+recall) if (precision + recall) > 0 else 0.0\n",
    "    \n",
    "    return precision, recall, f1, TP, FP, TN, FN\n",
    "\n",
    "def optimize_threshold(df):\n",
    "    qs = [i/100 for i in range(5, 96)]\n",
    "    thresholds = df.approxQuantile(\"y_proba_class1\", qs, 0.001)\n",
    "\n",
    "    best = (None, -1.0) \n",
    "    for t in thresholds:\n",
    "        p,r,f1,TP,FP,TN,FN = metrics_at(df, t)\n",
    "        if f1 > best[1]:\n",
    "            best = (t, f1)\n",
    "    best_t = best[0]\n",
    "\n",
    "    return best_t\n",
    "\n",
    "SPLIT_TRAIN = 0.8\n",
    "NUM_TREES = 200\n",
    "MAX_DEPTH = 10\n",
    "MAX_BINS = 80"
   ]
  },
  {
   "cell_type": "markdown",
   "id": "0a45e3de-5371-4067-a831-ff4bb6ab8bcc",
   "metadata": {},
   "source": [
    "# Read Files"
   ]
  },
  {
   "cell_type": "code",
   "execution_count": 3,
   "id": "d5038f02-05ae-4333-8680-1a468e57d849",
   "metadata": {
    "tags": []
   },
   "outputs": [],
   "source": [
    "path_mastertable = '../data/trusted/mastertable'\n",
    "path_output_freq_bayes = '../data/trusted/freq_bayes'\n",
    "path_output_rf_model = '../data/trusted/rf_output_model'\n",
    "path_output_km_model = '../data/trusted/km_output_model'\n",
    "\n",
    "df_merge = spark.read.format(\"parquet\").option(\"header\", \"true\").option(\"inferSchema\", \"true\").load(path_mastertable)"
   ]
  },
  {
   "cell_type": "markdown",
   "id": "d679bfd1-dc71-4a8c-9754-690efa53ce00",
   "metadata": {
    "application/vnd.databricks.v1+cell": {
     "cellMetadata": {},
     "inputWidgets": {},
     "nuid": "26687d27-e96e-4b4b-bd04-8cc5608f7247",
     "showTitle": false,
     "tableResultSettingsMap": {},
     "title": ""
    }
   },
   "source": [
    "# Modeling"
   ]
  },
  {
   "cell_type": "code",
   "execution_count": 4,
   "id": "9a7ec2b2-82ef-4ede-8f55-e60e40e31cf8",
   "metadata": {
    "application/vnd.databricks.v1+cell": {
     "cellMetadata": {
      "byteLimit": 2048000,
      "rowLimit": 10000
     },
     "inputWidgets": {},
     "nuid": "09326a61-ba1b-498d-88d1-b5520e3cc5a1",
     "showTitle": false,
     "tableResultSettingsMap": {
      "0": {
       "dataGridStateBlob": "{\"version\":1,\"tableState\":{\"columnPinning\":{\"left\":[\"#row_number#\"],\"right\":[]},\"columnSizing\":{},\"columnVisibility\":{}},\"settings\":{\"columns\":{}},\"syncTimestamp\":1754626475390}",
       "filterBlob": null,
       "queryPlanFiltersBlob": null,
       "tableResultIndex": 0
      }
     },
     "title": ""
    },
    "tags": []
   },
   "outputs": [
    {
     "name": "stdout",
     "output_type": "stream",
     "text": [
      "+--------------------------------+-------------+----------------+\n",
      "|client_id                       |offer_type   |offer_type_count|\n",
      "+--------------------------------+-------------+----------------+\n",
      "|00bc983061d3471e8c8e74d31b7c8b6f|discount     |2               |\n",
      "|0222d267445f4f078bc325224e471766|bogo         |2               |\n",
      "|03118ab70a404fada1a433cd6abaa491|bogo         |1               |\n",
      "|033d0a511a5c452ea2be37a23f8c6dcb|informational|2               |\n",
      "|072731be403a472883bed6c38a8e7aa8|bogo         |1               |\n",
      "+--------------------------------+-------------+----------------+\n",
      "only showing top 5 rows\n"
     ]
    }
   ],
   "source": [
    "aux = df_merge.select(\"client_id\", 'offer_id', \"qtd_offer_received\", 'qtd_offer_completed', 'offer_type')\\\n",
    "              .groupBy(\"client_id\", 'offer_type')\\\n",
    "              .agg(F.sum(\"qtd_offer_received\").alias(\"offer_type_count\"))\n",
    "\n",
    "aux.show(5, truncate=False)"
   ]
  },
  {
   "cell_type": "code",
   "execution_count": 5,
   "id": "7d732cc2-a3dc-454d-91c0-0ae1e3c598bc",
   "metadata": {
    "application/vnd.databricks.v1+cell": {
     "cellMetadata": {
      "byteLimit": 2048000,
      "rowLimit": 10000
     },
     "inputWidgets": {},
     "nuid": "36c1f834-b093-42b1-8b6b-2c9c2cd83a4d",
     "showTitle": false,
     "tableResultSettingsMap": {
      "0": {
       "dataGridStateBlob": "{\"version\":1,\"tableState\":{\"columnPinning\":{\"left\":[\"#row_number#\"],\"right\":[]},\"columnSizing\":{},\"columnVisibility\":{}},\"settings\":{\"columns\":{}},\"syncTimestamp\":1754627784493}",
       "filterBlob": null,
       "queryPlanFiltersBlob": null,
       "tableResultIndex": 0
      }
     },
     "title": ""
    },
    "tags": []
   },
   "outputs": [
    {
     "name": "stdout",
     "output_type": "stream",
     "text": [
      "+--------------------------------+-------------+--------------------------------+-------------------+----------------+------------------+\n",
      "|client_id                       |offer_type   |offer_id                        |qtd_offer_completed|offer_type_count|freq_bayes        |\n",
      "+--------------------------------+-------------+--------------------------------+-------------------+----------------+------------------+\n",
      "|0009655768c64bdeb2e877511632db8f|discount     |2906b810c7d4411798c6938adc9daaa5|1                  |2               |0.5               |\n",
      "|0009655768c64bdeb2e877511632db8f|informational|3f207df678b143eea3cee63160fa8bed|0                  |2               |0.0               |\n",
      "|0009655768c64bdeb2e877511632db8f|informational|5a8bc65990b245e5a138643cd4eb9837|0                  |2               |0.0               |\n",
      "|0009655768c64bdeb2e877511632db8f|bogo         |f19421c1d4aa40978ebb69ca19b0e20d|1                  |1               |1.0               |\n",
      "|0009655768c64bdeb2e877511632db8f|discount     |fafdcd668e3743c1bb461111dcafc2a4|1                  |2               |0.5               |\n",
      "|00116118485d4dfda04fdbaba9a87b5c|bogo         |f19421c1d4aa40978ebb69ca19b0e20d|0                  |2               |0.0               |\n",
      "|0011e0d4e6b944f998e987f904e8c1e5|discount     |0b1e1539f2cc45b7b9fa7c272da2e1d7|1                  |2               |0.5               |\n",
      "|0011e0d4e6b944f998e987f904e8c1e5|discount     |2298d6c36e964ae4a3e7e9706d1fb8c2|1                  |2               |0.5               |\n",
      "|0011e0d4e6b944f998e987f904e8c1e5|informational|3f207df678b143eea3cee63160fa8bed|0                  |2               |0.0               |\n",
      "|0011e0d4e6b944f998e987f904e8c1e5|informational|5a8bc65990b245e5a138643cd4eb9837|0                  |2               |0.0               |\n",
      "|0011e0d4e6b944f998e987f904e8c1e5|bogo         |9b98b8c7a33c4b65b9aebfe6a799e6d9|1                  |1               |1.0               |\n",
      "|0020c2b971eb4e9188eac86d93036a77|bogo         |4d5c57ea9a6940dd891ad53e9dbe8da0|1                  |2               |0.5               |\n",
      "|0020c2b971eb4e9188eac86d93036a77|informational|5a8bc65990b245e5a138643cd4eb9837|0                  |1               |0.0               |\n",
      "|0020c2b971eb4e9188eac86d93036a77|bogo         |ae264e3637204a6fb9bb56bc8210ddfd|0                  |2               |0.0               |\n",
      "|0020c2b971eb4e9188eac86d93036a77|discount     |fafdcd668e3743c1bb461111dcafc2a4|2                  |2               |1.0               |\n",
      "|0020ccbbb6d84e358d3414a3ff76cffd|discount     |2298d6c36e964ae4a3e7e9706d1fb8c2|1                  |1               |1.0               |\n",
      "|0020ccbbb6d84e358d3414a3ff76cffd|informational|5a8bc65990b245e5a138643cd4eb9837|0                  |1               |0.0               |\n",
      "|0020ccbbb6d84e358d3414a3ff76cffd|bogo         |9b98b8c7a33c4b65b9aebfe6a799e6d9|1                  |2               |0.5               |\n",
      "|0020ccbbb6d84e358d3414a3ff76cffd|bogo         |f19421c1d4aa40978ebb69ca19b0e20d|1                  |2               |0.5               |\n",
      "|003d66b6608740288d6cc97a6903f4f0|discount     |0b1e1539f2cc45b7b9fa7c272da2e1d7|1                  |3               |0.3333333333333333|\n",
      "+--------------------------------+-------------+--------------------------------+-------------------+----------------+------------------+\n",
      "only showing top 20 rows\n"
     ]
    }
   ],
   "source": [
    "df_freq_bayes = df_merge.select(\"client_id\", 'offer_id', 'qtd_offer_completed', 'offer_type')\\\n",
    "                        .join(aux, on=['client_id', 'offer_type'], how='left')\\\n",
    "                        .select(\"client_id\", \"offer_type\", \"offer_id\", \"qtd_offer_completed\", \"offer_type_count\")\\\n",
    "                        .withColumn(\"freq_bayes\", F.when(F.col(\"offer_type_count\")!=0, F.col(\"qtd_offer_completed\")/F.col(\"offer_type_count\")).otherwise(0))\\\n",
    "                        .orderBy(\"client_id\", 'offer_id')\n",
    "df_freq_bayes.show(truncate=False)"
   ]
  },
  {
   "cell_type": "code",
   "execution_count": 6,
   "id": "97289ddf-8cf2-4465-9115-0ae7e3f77085",
   "metadata": {
    "application/vnd.databricks.v1+cell": {
     "cellMetadata": {
      "byteLimit": 2048000,
      "rowLimit": 10000
     },
     "inputWidgets": {},
     "nuid": "b5ad1a98-9895-4af1-a848-38ff36b9f2c3",
     "showTitle": false,
     "tableResultSettingsMap": {},
     "title": ""
    },
    "tags": []
   },
   "outputs": [
    {
     "name": "stdout",
     "output_type": "stream",
     "text": [
      "+---------+----------+--------+-------------------+----------------+----------+\n",
      "|client_id|offer_type|offer_id|qtd_offer_completed|offer_type_count|freq_bayes|\n",
      "+---------+----------+--------+-------------------+----------------+----------+\n",
      "|        0|         0|       0|                  0|               0|         0|\n",
      "+---------+----------+--------+-------------------+----------------+----------+\n",
      "\n"
     ]
    }
   ],
   "source": [
    "df_freq_bayes.select([F.count(F.when(F.col(c).isNull(), c)).alias(c) for c in df_freq_bayes.columns]).show()"
   ]
  },
  {
   "cell_type": "code",
   "execution_count": 7,
   "id": "5fcc16fc-f0e8-46d3-8838-f7d80507d2fd",
   "metadata": {
    "tags": []
   },
   "outputs": [],
   "source": [
    "df_freq_bayes.write.format(\"parquet\").mode(\"overwrite\").save(path_output_freq_bayes)"
   ]
  },
  {
   "cell_type": "markdown",
   "id": "6c074c7a-768b-41e1-9415-e72d0c89b795",
   "metadata": {
    "tags": []
   },
   "source": [
    "## Select Features"
   ]
  },
  {
   "cell_type": "code",
   "execution_count": 8,
   "id": "b26f9aea-268e-46a1-922b-6e0b3aba41a6",
   "metadata": {
    "application/vnd.databricks.v1+cell": {
     "cellMetadata": {
      "byteLimit": 2048000,
      "rowLimit": 10000
     },
     "inputWidgets": {},
     "nuid": "c11e6e73-6d38-4e63-9711-7c81c025519d",
     "showTitle": false,
     "tableResultSettingsMap": {
      "0": {
       "dataGridStateBlob": "{\"version\":1,\"tableState\":{\"columnPinning\":{\"left\":[\"#row_number#\"],\"right\":[]},\"columnSizing\":{},\"columnVisibility\":{}},\"settings\":{\"columns\":{}},\"syncTimestamp\":1754645411882}",
       "filterBlob": null,
       "queryPlanFiltersBlob": null,
       "tableResultIndex": 0
      }
     },
     "title": ""
    },
    "tags": []
   },
   "outputs": [
    {
     "name": "stdout",
     "output_type": "stream",
     "text": [
      "+--------------------------------+--------------------------------+----------------+------------------+----------------+----------+-------------------------+-------------------------+--------+--------+--------+--------+---------------+-----------------+---------------+---------------+--------------------+--------------+---------------+------------+----------+------+\n",
      "|client_id                       |offer_id                        |offer_type_index|qtd_offer_received|qtd_offer_viewed|sum_reward|registered_duration_month|registered_duration_years|gender_M|gender_F|gender_O|gender_U|age_group_index|credit_card_limit|category_limite|offer_min_value|offer_discount_value|offer_duration|qtd_transaction|total_amount|avg_amount|target|\n",
      "+--------------------------------+--------------------------------+----------------+------------------+----------------+----------+-------------------------+-------------------------+--------+--------+--------+--------+---------------+-----------------+---------------+---------------+--------------------+--------------+---------------+------------+----------+------+\n",
      "|0009655768c64bdeb2e877511632db8f|2906b810c7d4411798c6938adc9daaa5|0               |1                 |0               |2.0       |99                       |8                        |1       |0       |0       |0       |2              |72000            |3              |10             |2                   |7.0           |8              |127.6       |15.95     |1     |\n",
      "|0009655768c64bdeb2e877511632db8f|3f207df678b143eea3cee63160fa8bed|1               |1                 |1               |0.0       |99                       |8                        |1       |0       |0       |0       |2              |72000            |3              |0              |0                   |4.0           |8              |127.6       |15.95     |0     |\n",
      "|0009655768c64bdeb2e877511632db8f|5a8bc65990b245e5a138643cd4eb9837|1               |1                 |1               |0.0       |99                       |8                        |1       |0       |0       |0       |2              |72000            |3              |0              |0                   |3.0           |8              |127.6       |15.95     |0     |\n",
      "|0009655768c64bdeb2e877511632db8f|f19421c1d4aa40978ebb69ca19b0e20d|2               |1                 |1               |5.0       |99                       |8                        |1       |0       |0       |0       |2              |72000            |3              |5              |5                   |5.0           |8              |127.6       |15.95     |1     |\n",
      "|0009655768c64bdeb2e877511632db8f|fafdcd668e3743c1bb461111dcafc2a4|0               |1                 |1               |2.0       |99                       |8                        |1       |0       |0       |0       |2              |72000            |3              |10             |2                   |10.0          |8              |127.6       |15.95     |1     |\n",
      "+--------------------------------+--------------------------------+----------------+------------------+----------------+----------+-------------------------+-------------------------+--------+--------+--------+--------+---------------+-----------------+---------------+---------------+--------------------+--------------+---------------+------------+----------+------+\n",
      "only showing top 5 rows\n"
     ]
    }
   ],
   "source": [
    "df_features = df_merge.select('client_id', 'offer_id', 'offer_type_index', 'qtd_offer_received', 'qtd_offer_viewed', 'qtd_offer_completed', 'sum_reward', \n",
    "                              'registered_duration_month', 'registered_duration_years', 'gender_M', 'gender_F', 'gender_O','gender_U', 'age_group_index', \n",
    "                              'credit_card_limit', 'category_limite', 'offer_min_value', 'offer_discount_value', 'offer_duration', 'qtd_transaction', \n",
    "                              'total_amount', 'avg_amount')\\\n",
    "                        .withColumn('target', F.when(F.col('qtd_offer_completed')>0, 1).otherwise(0))\\\n",
    "                        .drop('qtd_offer_completed')\n",
    "df_features.show(5, truncate=False)"
   ]
  },
  {
   "cell_type": "code",
   "execution_count": 9,
   "id": "c25fa552-94cc-44f1-a0b9-68f917bb657f",
   "metadata": {
    "tags": []
   },
   "outputs": [
    {
     "name": "stdout",
     "output_type": "stream",
     "text": [
      "+------+-----+\n",
      "|target|count|\n",
      "+------+-----+\n",
      "|     1|28996|\n",
      "|     0|34292|\n",
      "+------+-----+\n",
      "\n"
     ]
    }
   ],
   "source": [
    "df_features.groupBy('target').count().show()"
   ]
  },
  {
   "cell_type": "markdown",
   "id": "0fd8e658-0ae8-4755-8f5a-47f7779d738e",
   "metadata": {},
   "source": [
    "## Create RandomForestModel"
   ]
  },
  {
   "cell_type": "code",
   "execution_count": 10,
   "id": "fce47d66-d75b-48e4-a2d3-06725871eb12",
   "metadata": {
    "tags": []
   },
   "outputs": [],
   "source": [
    "features = ['offer_type_index',  'offer_min_value', 'offer_discount_value', 'offer_duration', 'gender_M', \n",
    "            'gender_F', 'gender_O', 'gender_U', 'age_group_index','category_limite', 'registered_duration_month',\n",
    "            'registered_duration_years', 'qtd_transaction', 'total_amount', 'avg_amount']"
   ]
  },
  {
   "cell_type": "code",
   "execution_count": 11,
   "id": "205946c6-42bd-4512-b16d-451cf30da484",
   "metadata": {
    "tags": []
   },
   "outputs": [
    {
     "data": {
      "application/vnd.plotly.v1+json": {
       "config": {
        "plotlyServerURL": "https://plot.ly"
       },
       "data": [
        {
         "coloraxis": "coloraxis",
         "hovertemplate": "x: %{x}<br>y: %{y}<br>color: %{z}<extra></extra>",
         "name": "0",
         "texttemplate": "%{z:.2f}",
         "type": "heatmap",
         "x": [
          "offer_type_index",
          "offer_min_value",
          "offer_discount_value",
          "offer_duration",
          "gender_M",
          "gender_F",
          "gender_O",
          "gender_U",
          "age_group_index",
          "category_limite",
          "registered_duration_month",
          "registered_duration_years",
          "qtd_transaction",
          "total_amount",
          "avg_amount",
          "target"
         ],
         "xaxis": "x",
         "y": [
          "offer_type_index",
          "offer_min_value",
          "offer_discount_value",
          "offer_duration",
          "gender_M",
          "gender_F",
          "gender_O",
          "gender_U",
          "age_group_index",
          "category_limite",
          "registered_duration_month",
          "registered_duration_years",
          "qtd_transaction",
          "total_amount",
          "avg_amount",
          "target"
         ],
         "yaxis": "y",
         "z": {
          "_inputArray": [
           {
            "0": 1,
            "1": -0.34376138106053433,
            "10": 0.0021475574169049277,
            "11": 0.0016319831801680526,
            "12": -0.0026375039101819136,
            "13": -0.00377657053207845,
            "14": -0.0012618956801318261,
            "15": -0.06467781173052582,
            "2": 0.5919128435954308,
            "3": -0.5074384766669521,
            "4": -0.0016428163581201308,
            "5": -0.000544604144977038,
            "6": -9.795632756469124e-06,
            "7": 0.003250471589098725,
            "8": 0.0021458115337347114,
            "9": 0.0009819052889919473
           },
           {
            "0": -0.34376138106053433,
            "1": 1,
            "10": 0.002543838744583879,
            "11": 0.002800613758247101,
            "12": 0.011641790963105686,
            "13": 0.006719921396788678,
            "14": 0.00012916054426979318,
            "15": 0.25894311031369255,
            "2": 0.46550353727056837,
            "3": 0.8085590958485165,
            "4": 0.0030070077428256295,
            "5": 9.77237268324917e-05,
            "6": -0.004117303820210532,
            "7": -0.0032965992808748693,
            "8": -0.0024363524602675326,
            "9": -0.0024877192429577015
           },
           {
            "0": 0.5919128435954308,
            "1": 0.46550353727056837,
            "10": 0.002275074506007395,
            "11": 0.0020249688974111526,
            "12": 0.021353694734113502,
            "13": 0.007272049727792549,
            "14": -0.0013652946592507117,
            "15": 0.19061954614192597,
            "2": 1,
            "3": 0.16057205009254752,
            "4": 0.0020968774299227042,
            "5": -0.0019994189139453736,
            "6": -0.0043057021171637126,
            "7": 0.0011492130214600662,
            "8": -0.0010192502983649143,
            "9": -0.00020498496495951517
           },
           {
            "0": -0.5074384766669521,
            "1": 0.8085590958485165,
            "10": 0.0007495161121752838,
            "11": 0.0006578832590191968,
            "12": 0.026125246119179463,
            "13": 0.013696019674464648,
            "14": -0.0017770532787733293,
            "15": 0.34007968488760876,
            "2": 0.16057205009254752,
            "3": 1,
            "4": 0.004201909739820949,
            "5": -0.0012383927825163697,
            "6": -0.001387928479707827,
            "7": -0.0040612524000937,
            "8": -0.0008634858024587625,
            "9": -0.002099360470301777
           },
           {
            "0": -0.0016428163581201308,
            "1": 0.0030070077428256295,
            "10": 0.029621204552236352,
            "11": 0.03203323556917731,
            "12": 0.07511287714441936,
            "13": -0.040098228754508344,
            "14": -0.0621364586447272,
            "15": -0.015504903961739586,
            "2": 0.0020968774299227042,
            "3": 0.004201909739820949,
            "4": 1,
            "5": -0.7506492838853922,
            "6": -0.11091004535363859,
            "7": -0.38219655435460104,
            "8": -0.15142067151925467,
            "9": -0.2316127795923117
           },
           {
            "0": -0.000544604144977038,
            "1": 9.77237268324917e-05,
            "10": -0.00843733165934637,
            "11": -0.009402236195841237,
            "12": -0.015425391526468395,
            "13": 0.21895985192032497,
            "14": 0.24207008143658684,
            "15": 0.18556232544714893,
            "2": -0.0019994189139453736,
            "3": -0.0012383927825163697,
            "4": -0.7506492838853922,
            "5": 1,
            "6": -0.08324928433837894,
            "7": -0.2868774377033509,
            "8": 0.0962977027194148,
            "9": 0.1523178394117458
           },
           {
            "0": -9.795632756469124e-06,
            "1": -0.004117303820210532,
            "10": -0.01049549417290342,
            "11": -0.01076888470136758,
            "12": 0.006749439094377922,
            "13": 0.01891074454202493,
            "14": 0.009577117223780053,
            "15": 0.02219434667545779,
            "2": -0.0043057021171637126,
            "3": -0.001387928479707827,
            "4": -0.11091004535363859,
            "5": -0.08324928433837894,
            "6": 1,
            "7": -0.04238675811682117,
            "8": -0.0001158387022751889,
            "9": -0.01472919766661053
           },
           {
            "0": 0.003250471589098725,
            "1": -0.0032965992808748693,
            "10": -0.028817308909400034,
            "11": -0.03095480081236826,
            "12": -0.09263047773694719,
            "13": -0.2613324999638474,
            "14": -0.25849510712028223,
            "15": -0.2512023974755115,
            "2": 0.0011492130214600662,
            "3": -0.0040612524000937,
            "4": -0.38219655435460104,
            "5": -0.2868774377033509,
            "6": -0.04238675811682117,
            "7": 1,
            "8": 0.08843036852216661,
            "9": 0.13281488097131922
           },
           {
            "0": 0.0021458115337347114,
            "1": -0.0024363524602675326,
            "10": 0.005255473461479192,
            "11": 0.005002589520116895,
            "12": -0.13998941705008755,
            "13": 0.06343116671763056,
            "14": 0.1405753722596472,
            "15": 0.04438561399807785,
            "2": -0.0010192502983649143,
            "3": -0.0008634858024587625,
            "4": -0.15142067151925467,
            "5": 0.0962977027194148,
            "6": -0.0001158387022751889,
            "7": 0.08843036852216661,
            "8": 1,
            "9": 0.2436344610734024
           },
           {
            "0": 0.0009819052889919473,
            "1": -0.0024877192429577015,
            "10": 0.018801727824703417,
            "11": 0.019796786244324696,
            "12": -0.2360590981129168,
            "13": 0.23400663329306526,
            "14": 0.37559129352919274,
            "15": 0.12261132907680508,
            "2": -0.00020498496495951517,
            "3": -0.002099360470301777,
            "4": -0.2316127795923117,
            "5": 0.1523178394117458,
            "6": -0.01472919766661053,
            "7": 0.13281488097131922,
            "8": 0.2436344610734024,
            "9": 1
           },
           {
            "0": 0.0021475574169049277,
            "1": 0.002543838744583879,
            "10": 1,
            "11": 0.9666747339877962,
            "12": 0.4326922066700039,
            "13": 0.16960128060403512,
            "14": 0.04454263321494831,
            "15": 0.15909912677011082,
            "2": 0.002275074506007395,
            "3": 0.0007495161121752838,
            "4": 0.029621204552236352,
            "5": -0.00843733165934637,
            "6": -0.01049549417290342,
            "7": -0.028817308909400034,
            "8": 0.005255473461479192,
            "9": 0.018801727824703417
           },
           {
            "0": 0.0016319831801680526,
            "1": 0.002800613758247101,
            "10": 0.9666747339877962,
            "11": 1,
            "12": 0.42701367665297196,
            "13": 0.16457100548877457,
            "14": 0.042344705390780626,
            "15": 0.15398769219888134,
            "2": 0.0020249688974111526,
            "3": 0.0006578832590191968,
            "4": 0.03203323556917731,
            "5": -0.009402236195841237,
            "6": -0.01076888470136758,
            "7": -0.03095480081236826,
            "8": 0.005002589520116895,
            "9": 0.019796786244324696
           },
           {
            "0": -0.0026375039101819136,
            "1": 0.011641790963105686,
            "10": 0.4326922066700039,
            "11": 0.42701367665297196,
            "12": 1,
            "13": 0.3507623148250343,
            "14": -0.05801178872976411,
            "15": 0.25831636166930977,
            "2": 0.021353694734113502,
            "3": 0.026125246119179463,
            "4": 0.07511287714441936,
            "5": -0.015425391526468395,
            "6": 0.006749439094377922,
            "7": -0.09263047773694719,
            "8": -0.13998941705008755,
            "9": -0.2360590981129168
           },
           {
            "0": -0.00377657053207845,
            "1": 0.006719921396788678,
            "10": 0.16960128060403512,
            "11": 0.16457100548877457,
            "12": 0.3507623148250343,
            "13": 1,
            "14": 0.7778496404789398,
            "15": 0.3763791675056898,
            "2": 0.007272049727792549,
            "3": 0.013696019674464648,
            "4": -0.040098228754508344,
            "5": 0.21895985192032497,
            "6": 0.01891074454202493,
            "7": -0.2613324999638474,
            "8": 0.06343116671763056,
            "9": 0.23400663329306526
           },
           {
            "0": -0.0012618956801318261,
            "1": 0.00012916054426979318,
            "10": 0.04454263321494831,
            "11": 0.042344705390780626,
            "12": -0.05801178872976411,
            "13": 0.7778496404789398,
            "14": 1,
            "15": 0.27754945094677475,
            "2": -0.0013652946592507117,
            "3": -0.0017770532787733293,
            "4": -0.0621364586447272,
            "5": 0.24207008143658684,
            "6": 0.009577117223780053,
            "7": -0.25849510712028223,
            "8": 0.1405753722596472,
            "9": 0.37559129352919274
           },
           {
            "0": -0.06467781173052582,
            "1": 0.25894311031369255,
            "10": 0.15909912677011082,
            "11": 0.15398769219888134,
            "12": 0.25831636166930977,
            "13": 0.3763791675056898,
            "14": 0.27754945094677475,
            "15": 1,
            "2": 0.19061954614192597,
            "3": 0.34007968488760876,
            "4": -0.015504903961739586,
            "5": 0.18556232544714893,
            "6": 0.02219434667545779,
            "7": -0.2512023974755115,
            "8": 0.04438561399807785,
            "9": 0.12261132907680508
           }
          ],
          "bdata": "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",
          "dtype": "f8",
          "shape": "16, 16"
         }
        }
       ],
       "layout": {
        "coloraxis": {
         "colorbar": {
          "title": {
           "text": "Correlação"
          }
         },
         "colorscale": [
          [
           0,
           "rgb(103,0,31)"
          ],
          [
           0.1,
           "rgb(178,24,43)"
          ],
          [
           0.2,
           "rgb(214,96,77)"
          ],
          [
           0.3,
           "rgb(244,165,130)"
          ],
          [
           0.4,
           "rgb(253,219,199)"
          ],
          [
           0.5,
           "rgb(247,247,247)"
          ],
          [
           0.6,
           "rgb(209,229,240)"
          ],
          [
           0.7,
           "rgb(146,197,222)"
          ],
          [
           0.8,
           "rgb(67,147,195)"
          ],
          [
           0.9,
           "rgb(33,102,172)"
          ],
          [
           1,
           "rgb(5,48,97)"
          ]
         ]
        },
        "height": 1000,
        "template": {
         "data": {
          "bar": [
           {
            "error_x": {
             "color": "#2a3f5f"
            },
            "error_y": {
             "color": "#2a3f5f"
            },
            "marker": {
             "line": {
              "color": "#E5ECF6",
              "width": 0.5
             },
             "pattern": {
              "fillmode": "overlay",
              "size": 10,
              "solidity": 0.2
             }
            },
            "type": "bar"
           }
          ],
          "barpolar": [
           {
            "marker": {
             "line": {
              "color": "#E5ECF6",
              "width": 0.5
             },
             "pattern": {
              "fillmode": "overlay",
              "size": 10,
              "solidity": 0.2
             }
            },
            "type": "barpolar"
           }
          ],
          "carpet": [
           {
            "aaxis": {
             "endlinecolor": "#2a3f5f",
             "gridcolor": "white",
             "linecolor": "white",
             "minorgridcolor": "white",
             "startlinecolor": "#2a3f5f"
            },
            "baxis": {
             "endlinecolor": "#2a3f5f",
             "gridcolor": "white",
             "linecolor": "white",
             "minorgridcolor": "white",
             "startlinecolor": "#2a3f5f"
            },
            "type": "carpet"
           }
          ],
          "choropleth": [
           {
            "colorbar": {
             "outlinewidth": 0,
             "ticks": ""
            },
            "type": "choropleth"
           }
          ],
          "contour": [
           {
            "colorbar": {
             "outlinewidth": 0,
             "ticks": ""
            },
            "colorscale": [
             [
              0,
              "#0d0887"
             ],
             [
              0.1111111111111111,
              "#46039f"
             ],
             [
              0.2222222222222222,
              "#7201a8"
             ],
             [
              0.3333333333333333,
              "#9c179e"
             ],
             [
              0.4444444444444444,
              "#bd3786"
             ],
             [
              0.5555555555555556,
              "#d8576b"
             ],
             [
              0.6666666666666666,
              "#ed7953"
             ],
             [
              0.7777777777777778,
              "#fb9f3a"
             ],
             [
              0.8888888888888888,
              "#fdca26"
             ],
             [
              1,
              "#f0f921"
             ]
            ],
            "type": "contour"
           }
          ],
          "contourcarpet": [
           {
            "colorbar": {
             "outlinewidth": 0,
             "ticks": ""
            },
            "type": "contourcarpet"
           }
          ],
          "heatmap": [
           {
            "colorbar": {
             "outlinewidth": 0,
             "ticks": ""
            },
            "colorscale": [
             [
              0,
              "#0d0887"
             ],
             [
              0.1111111111111111,
              "#46039f"
             ],
             [
              0.2222222222222222,
              "#7201a8"
             ],
             [
              0.3333333333333333,
              "#9c179e"
             ],
             [
              0.4444444444444444,
              "#bd3786"
             ],
             [
              0.5555555555555556,
              "#d8576b"
             ],
             [
              0.6666666666666666,
              "#ed7953"
             ],
             [
              0.7777777777777778,
              "#fb9f3a"
             ],
             [
              0.8888888888888888,
              "#fdca26"
             ],
             [
              1,
              "#f0f921"
             ]
            ],
            "type": "heatmap"
           }
          ],
          "histogram": [
           {
            "marker": {
             "pattern": {
              "fillmode": "overlay",
              "size": 10,
              "solidity": 0.2
             }
            },
            "type": "histogram"
           }
          ],
          "histogram2d": [
           {
            "colorbar": {
             "outlinewidth": 0,
             "ticks": ""
            },
            "colorscale": [
             [
              0,
              "#0d0887"
             ],
             [
              0.1111111111111111,
              "#46039f"
             ],
             [
              0.2222222222222222,
              "#7201a8"
             ],
             [
              0.3333333333333333,
              "#9c179e"
             ],
             [
              0.4444444444444444,
              "#bd3786"
             ],
             [
              0.5555555555555556,
              "#d8576b"
             ],
             [
              0.6666666666666666,
              "#ed7953"
             ],
             [
              0.7777777777777778,
              "#fb9f3a"
             ],
             [
              0.8888888888888888,
              "#fdca26"
             ],
             [
              1,
              "#f0f921"
             ]
            ],
            "type": "histogram2d"
           }
          ],
          "histogram2dcontour": [
           {
            "colorbar": {
             "outlinewidth": 0,
             "ticks": ""
            },
            "colorscale": [
             [
              0,
              "#0d0887"
             ],
             [
              0.1111111111111111,
              "#46039f"
             ],
             [
              0.2222222222222222,
              "#7201a8"
             ],
             [
              0.3333333333333333,
              "#9c179e"
             ],
             [
              0.4444444444444444,
              "#bd3786"
             ],
             [
              0.5555555555555556,
              "#d8576b"
             ],
             [
              0.6666666666666666,
              "#ed7953"
             ],
             [
              0.7777777777777778,
              "#fb9f3a"
             ],
             [
              0.8888888888888888,
              "#fdca26"
             ],
             [
              1,
              "#f0f921"
             ]
            ],
            "type": "histogram2dcontour"
           }
          ],
          "mesh3d": [
           {
            "colorbar": {
             "outlinewidth": 0,
             "ticks": ""
            },
            "type": "mesh3d"
           }
          ],
          "parcoords": [
           {
            "line": {
             "colorbar": {
              "outlinewidth": 0,
              "ticks": ""
             }
            },
            "type": "parcoords"
           }
          ],
          "pie": [
           {
            "automargin": true,
            "type": "pie"
           }
          ],
          "scatter": [
           {
            "fillpattern": {
             "fillmode": "overlay",
             "size": 10,
             "solidity": 0.2
            },
            "type": "scatter"
           }
          ],
          "scatter3d": [
           {
            "line": {
             "colorbar": {
              "outlinewidth": 0,
              "ticks": ""
             }
            },
            "marker": {
             "colorbar": {
              "outlinewidth": 0,
              "ticks": ""
             }
            },
            "type": "scatter3d"
           }
          ],
          "scattercarpet": [
           {
            "marker": {
             "colorbar": {
              "outlinewidth": 0,
              "ticks": ""
             }
            },
            "type": "scattercarpet"
           }
          ],
          "scattergeo": [
           {
            "marker": {
             "colorbar": {
              "outlinewidth": 0,
              "ticks": ""
             }
            },
            "type": "scattergeo"
           }
          ],
          "scattergl": [
           {
            "marker": {
             "colorbar": {
              "outlinewidth": 0,
              "ticks": ""
             }
            },
            "type": "scattergl"
           }
          ],
          "scattermap": [
           {
            "marker": {
             "colorbar": {
              "outlinewidth": 0,
              "ticks": ""
             }
            },
            "type": "scattermap"
           }
          ],
          "scattermapbox": [
           {
            "marker": {
             "colorbar": {
              "outlinewidth": 0,
              "ticks": ""
             }
            },
            "type": "scattermapbox"
           }
          ],
          "scatterpolar": [
           {
            "marker": {
             "colorbar": {
              "outlinewidth": 0,
              "ticks": ""
             }
            },
            "type": "scatterpolar"
           }
          ],
          "scatterpolargl": [
           {
            "marker": {
             "colorbar": {
              "outlinewidth": 0,
              "ticks": ""
             }
            },
            "type": "scatterpolargl"
           }
          ],
          "scatterternary": [
           {
            "marker": {
             "colorbar": {
              "outlinewidth": 0,
              "ticks": ""
             }
            },
            "type": "scatterternary"
           }
          ],
          "surface": [
           {
            "colorbar": {
             "outlinewidth": 0,
             "ticks": ""
            },
            "colorscale": [
             [
              0,
              "#0d0887"
             ],
             [
              0.1111111111111111,
              "#46039f"
             ],
             [
              0.2222222222222222,
              "#7201a8"
             ],
             [
              0.3333333333333333,
              "#9c179e"
             ],
             [
              0.4444444444444444,
              "#bd3786"
             ],
             [
              0.5555555555555556,
              "#d8576b"
             ],
             [
              0.6666666666666666,
              "#ed7953"
             ],
             [
              0.7777777777777778,
              "#fb9f3a"
             ],
             [
              0.8888888888888888,
              "#fdca26"
             ],
             [
              1,
              "#f0f921"
             ]
            ],
            "type": "surface"
           }
          ],
          "table": [
           {
            "cells": {
             "fill": {
              "color": "#EBF0F8"
             },
             "line": {
              "color": "white"
             }
            },
            "header": {
             "fill": {
              "color": "#C8D4E3"
             },
             "line": {
              "color": "white"
             }
            },
            "type": "table"
           }
          ]
         },
         "layout": {
          "annotationdefaults": {
           "arrowcolor": "#2a3f5f",
           "arrowhead": 0,
           "arrowwidth": 1
          },
          "autotypenumbers": "strict",
          "coloraxis": {
           "colorbar": {
            "outlinewidth": 0,
            "ticks": ""
           }
          },
          "colorscale": {
           "diverging": [
            [
             0,
             "#8e0152"
            ],
            [
             0.1,
             "#c51b7d"
            ],
            [
             0.2,
             "#de77ae"
            ],
            [
             0.3,
             "#f1b6da"
            ],
            [
             0.4,
             "#fde0ef"
            ],
            [
             0.5,
             "#f7f7f7"
            ],
            [
             0.6,
             "#e6f5d0"
            ],
            [
             0.7,
             "#b8e186"
            ],
            [
             0.8,
             "#7fbc41"
            ],
            [
             0.9,
             "#4d9221"
            ],
            [
             1,
             "#276419"
            ]
           ],
           "sequential": [
            [
             0,
             "#0d0887"
            ],
            [
             0.1111111111111111,
             "#46039f"
            ],
            [
             0.2222222222222222,
             "#7201a8"
            ],
            [
             0.3333333333333333,
             "#9c179e"
            ],
            [
             0.4444444444444444,
             "#bd3786"
            ],
            [
             0.5555555555555556,
             "#d8576b"
            ],
            [
             0.6666666666666666,
             "#ed7953"
            ],
            [
             0.7777777777777778,
             "#fb9f3a"
            ],
            [
             0.8888888888888888,
             "#fdca26"
            ],
            [
             1,
             "#f0f921"
            ]
           ],
           "sequentialminus": [
            [
             0,
             "#0d0887"
            ],
            [
             0.1111111111111111,
             "#46039f"
            ],
            [
             0.2222222222222222,
             "#7201a8"
            ],
            [
             0.3333333333333333,
             "#9c179e"
            ],
            [
             0.4444444444444444,
             "#bd3786"
            ],
            [
             0.5555555555555556,
             "#d8576b"
            ],
            [
             0.6666666666666666,
             "#ed7953"
            ],
            [
             0.7777777777777778,
             "#fb9f3a"
            ],
            [
             0.8888888888888888,
             "#fdca26"
            ],
            [
             1,
             "#f0f921"
            ]
           ]
          },
          "colorway": [
           "#636efa",
           "#EF553B",
           "#00cc96",
           "#ab63fa",
           "#FFA15A",
           "#19d3f3",
           "#FF6692",
           "#B6E880",
           "#FF97FF",
           "#FECB52"
          ],
          "font": {
           "color": "#2a3f5f"
          },
          "geo": {
           "bgcolor": "white",
           "lakecolor": "white",
           "landcolor": "#E5ECF6",
           "showlakes": true,
           "showland": true,
           "subunitcolor": "white"
          },
          "hoverlabel": {
           "align": "left"
          },
          "hovermode": "closest",
          "mapbox": {
           "style": "light"
          },
          "paper_bgcolor": "white",
          "plot_bgcolor": "#E5ECF6",
          "polar": {
           "angularaxis": {
            "gridcolor": "white",
            "linecolor": "white",
            "ticks": ""
           },
           "bgcolor": "#E5ECF6",
           "radialaxis": {
            "gridcolor": "white",
            "linecolor": "white",
            "ticks": ""
           }
          },
          "scene": {
           "xaxis": {
            "backgroundcolor": "#E5ECF6",
            "gridcolor": "white",
            "gridwidth": 2,
            "linecolor": "white",
            "showbackground": true,
            "ticks": "",
            "zerolinecolor": "white"
           },
           "yaxis": {
            "backgroundcolor": "#E5ECF6",
            "gridcolor": "white",
            "gridwidth": 2,
            "linecolor": "white",
            "showbackground": true,
            "ticks": "",
            "zerolinecolor": "white"
           },
           "zaxis": {
            "backgroundcolor": "#E5ECF6",
            "gridcolor": "white",
            "gridwidth": 2,
            "linecolor": "white",
            "showbackground": true,
            "ticks": "",
            "zerolinecolor": "white"
           }
          },
          "shapedefaults": {
           "line": {
            "color": "#2a3f5f"
           }
          },
          "ternary": {
           "aaxis": {
            "gridcolor": "white",
            "linecolor": "white",
            "ticks": ""
           },
           "baxis": {
            "gridcolor": "white",
            "linecolor": "white",
            "ticks": ""
           },
           "bgcolor": "#E5ECF6",
           "caxis": {
            "gridcolor": "white",
            "linecolor": "white",
            "ticks": ""
           }
          },
          "title": {
           "x": 0.05
          },
          "xaxis": {
           "automargin": true,
           "gridcolor": "white",
           "linecolor": "white",
           "ticks": "",
           "title": {
            "standoff": 15
           },
           "zerolinecolor": "white",
           "zerolinewidth": 2
          },
          "yaxis": {
           "automargin": true,
           "gridcolor": "white",
           "linecolor": "white",
           "ticks": "",
           "title": {
            "standoff": 15
           },
           "zerolinecolor": "white",
           "zerolinewidth": 2
          }
         }
        },
        "title": {
         "text": "Correlação entre features e target",
         "x": 0.5,
         "xanchor": "center"
        },
        "width": 1500,
        "xaxis": {
         "anchor": "y",
         "autorange": true,
         "constrain": "domain",
         "domain": [
          0.19049459041731065,
          0.8095054095826894
         ],
         "range": [
          -0.5,
          15.5
         ],
         "scaleanchor": "y",
         "type": "category"
        },
        "yaxis": {
         "anchor": "x",
         "autorange": true,
         "constrain": "domain",
         "domain": [
          0,
          1
         ],
         "range": [
          -0.5,
          15.5
         ],
         "type": "category"
        }
       }
      },
      "image/png": "[encoded data removed]"
     },
     "metadata": {},
     "output_type": "display_data"
    }
   ],
   "source": [
    "correlation_matrix = df_features[features + ['target']].toPandas().corr()\n",
    "\n",
    "fig = px.imshow(\n",
    "    correlation_matrix,\n",
    "    text_auto=\".2f\",           \n",
    "    color_continuous_scale=\"RdBu\",  \n",
    "    origin=\"lower\",\n",
    "    title=\"Correlação entre features e target\"\n",
    ")\n",
    "\n",
    "fig.update_layout(\n",
    "    width=1500,\n",
    "    height=1000,\n",
    "    title=dict(x=0.5, xanchor=\"center\"), \n",
    "    coloraxis_colorbar=dict(title=\"Correlação\")\n",
    ")\n",
    "\n",
    "fig.show()"
   ]
  },
  {
   "cell_type": "markdown",
   "id": "589b9929-c352-471e-bd05-e9037dd7526a",
   "metadata": {},
   "source": [
    "### Train Model"
   ]
  },
  {
   "cell_type": "code",
   "execution_count": 12,
   "id": "8cf87a6a-1375-4a2c-bcf9-00acb129e589",
   "metadata": {
    "tags": []
   },
   "outputs": [],
   "source": [
    "assembler = VectorAssembler(inputCols=features, outputCol=\"features\")\n",
    "df_features = assembler.transform(df_features)\n",
    "\n",
    "train_df, test_df = df_features.randomSplit([SPLIT_TRAIN, 1-SPLIT_TRAIN], seed=42)"
   ]
  },
  {
   "cell_type": "code",
   "execution_count": 13,
   "id": "d12cf08a-9265-4f20-8cfb-cd44789b4184",
   "metadata": {
    "tags": []
   },
   "outputs": [
    {
     "name": "stderr",
     "output_type": "stream",
     "text": [
      "25/08/11 00:24:20 WARN SparkStringUtils: Truncated the string representation of a plan since it was too large. This behavior can be adjusted by setting 'spark.sql.debug.maxToStringFields'.\n"
     ]
    },
    {
     "data": {
      "text/plain": [
       "(63288, 63288)"
      ]
     },
     "execution_count": 13,
     "metadata": {},
     "output_type": "execute_result"
    }
   ],
   "source": [
    "df_features.count(), train_df.count()+test_df.count()"
   ]
  },
  {
   "cell_type": "code",
   "execution_count": 14,
   "id": "a9a701e4-a8c5-480f-8aea-c89f059e4016",
   "metadata": {
    "tags": []
   },
   "outputs": [
    {
     "name": "stderr",
     "output_type": "stream",
     "text": [
      "25/08/11 00:24:29 WARN DAGScheduler: Broadcasting large task binary with size 1135.3 KiB\n",
      "25/08/11 00:24:32 WARN DAGScheduler: Broadcasting large task binary with size 2.0 MiB\n",
      "25/08/11 00:24:35 WARN DAGScheduler: Broadcasting large task binary with size 3.8 MiB\n",
      "25/08/11 00:24:39 WARN DAGScheduler: Broadcasting large task binary with size 1073.3 KiB\n",
      "25/08/11 00:24:39 WARN DAGScheduler: Broadcasting large task binary with size 6.9 MiB\n",
      "25/08/11 00:24:44 WARN DAGScheduler: Broadcasting large task binary with size 1869.8 KiB\n",
      "25/08/11 00:24:44 WARN DAGScheduler: Broadcasting large task binary with size 12.3 MiB\n",
      "25/08/11 00:24:50 WARN DAGScheduler: Broadcasting large task binary with size 3.0 MiB\n",
      "                                                                                \r"
     ]
    }
   ],
   "source": [
    "rf = RandomForestClassifier(labelCol=\"target\", \n",
    "                            featuresCol=\"features\", \n",
    "                            numTrees=NUM_TREES, \n",
    "                            maxDepth=MAX_DEPTH, \n",
    "                            maxBins=MAX_BINS\n",
    "                        )\n",
    "model = rf.fit(train_df)"
   ]
  },
  {
   "cell_type": "code",
   "execution_count": 15,
   "id": "268f0d22-6313-4b62-b977-bc6beb62dcb1",
   "metadata": {
    "tags": []
   },
   "outputs": [],
   "source": [
    "pred = model.transform(test_df)"
   ]
  },
  {
   "cell_type": "code",
   "execution_count": 16,
   "id": "0537549b-28bb-4da1-9867-9364d691935c",
   "metadata": {
    "tags": []
   },
   "outputs": [],
   "source": [
    "pred = pred.withColumn(\"prob_vec\", vector_to_array(F.col(\"probability\")))\\\n",
    "           .withColumn(\"y_proba_class0\", F.col(\"prob_vec\")[0])\\\n",
    "           .withColumn(\"y_proba_class1\", F.col(\"prob_vec\")[1])"
   ]
  },
  {
   "cell_type": "code",
   "execution_count": 17,
   "id": "065649ed-457e-43ad-99c0-3dc34cf8eab8",
   "metadata": {
    "tags": []
   },
   "outputs": [
    {
     "name": "stderr",
     "output_type": "stream",
     "text": [
      "25/08/11 00:24:52 WARN DAGScheduler: Broadcasting large task binary with size 7.2 MiB\n",
      "25/08/11 00:24:53 WARN DAGScheduler: Broadcasting large task binary with size 7.2 MiB\n",
      "25/08/11 00:24:53 WARN DAGScheduler: Broadcasting large task binary with size 7.2 MiB\n",
      "25/08/11 00:24:53 WARN DAGScheduler: Broadcasting large task binary with size 7.2 MiB\n",
      "25/08/11 00:24:54 WARN DAGScheduler: Broadcasting large task binary with size 7.2 MiB\n",
      "25/08/11 00:24:55 WARN DAGScheduler: Broadcasting large task binary with size 7.2 MiB\n"
     ]
    },
    {
     "name": "stdout",
     "output_type": "stream",
     "text": [
      "+-----------------+----+----+\n",
      "|target_prediction| 0.0| 1.0|\n",
      "+-----------------+----+----+\n",
      "|                0|5979| 979|\n",
      "|                1| 610|5245|\n",
      "+-----------------+----+----+\n",
      "\n"
     ]
    },
    {
     "name": "stderr",
     "output_type": "stream",
     "text": [
      "25/08/11 00:24:55 WARN DAGScheduler: Broadcasting large task binary with size 7.2 MiB\n"
     ]
    }
   ],
   "source": [
    "conf_matrix_df = pred.select(\"target\", \"prediction\")\\\n",
    "                     .crosstab(\"target\", \"prediction\").fillna(0)\n",
    "conf_matrix_df.show()"
   ]
  },
  {
   "cell_type": "markdown",
   "id": "e7dd7f6a-849d-4792-a1f6-c2bbcc704c94",
   "metadata": {},
   "source": [
    "##### Podemos melhorar um pouco esses Falsos Negativo encontrando um melhor ponto de corte (Temos que ter atenção, pois mudar isso vai depender do negócio, em outras palavras, da estratégia de negócio)\n",
    " - Vale a pena pro negócio enviar mais ofertas que tenham uma baixa probabilidade de aceitação sabendo que vamos capturar mais clientes com alta probabilidade de aceitação?"
   ]
  },
  {
   "cell_type": "markdown",
   "id": "3c0f93f2-5535-4ad5-93c8-d66defba70db",
   "metadata": {},
   "source": [
    "##### Procurando melhor Tresh para a base de Teste"
   ]
  },
  {
   "cell_type": "code",
   "execution_count": 18,
   "id": "6e9f26e4-3f9c-4985-a272-de7d9c42f81c",
   "metadata": {
    "scrolled": true
   },
   "outputs": [
    {
     "name": "stderr",
     "output_type": "stream",
     "text": [
      "25/08/11 00:24:55 WARN DAGScheduler: Broadcasting large task binary with size 7.2 MiB\n",
      "25/08/11 00:24:56 WARN DAGScheduler: Broadcasting large task binary with size 7.2 MiB\n",
      "25/08/11 00:24:57 WARN DAGScheduler: Broadcasting large task binary with size 7.2 MiB\n",
      "25/08/11 00:24:58 WARN DAGScheduler: Broadcasting large task binary with size 7.2 MiB\n",
      "25/08/11 00:24:59 WARN DAGScheduler: Broadcasting large task binary with size 7.2 MiB\n",
      "25/08/11 00:25:00 WARN DAGScheduler: Broadcasting large task binary with size 7.2 MiB\n",
      "25/08/11 00:25:01 WARN DAGScheduler: Broadcasting large task binary with size 7.2 MiB\n",
      "25/08/11 00:25:02 WARN DAGScheduler: Broadcasting large task binary with size 7.2 MiB\n",
      "25/08/11 00:25:02 WARN DAGScheduler: Broadcasting large task binary with size 7.2 MiB\n",
      "25/08/11 00:25:03 WARN DAGScheduler: Broadcasting large task binary with size 7.2 MiB\n",
      "25/08/11 00:25:04 WARN DAGScheduler: Broadcasting large task binary with size 7.2 MiB\n",
      "25/08/11 00:25:05 WARN DAGScheduler: Broadcasting large task binary with size 7.2 MiB\n",
      "25/08/11 00:25:05 WARN DAGScheduler: Broadcasting large task binary with size 7.2 MiB\n",
      "25/08/11 00:25:06 WARN DAGScheduler: Broadcasting large task binary with size 7.2 MiB\n",
      "25/08/11 00:25:07 WARN DAGScheduler: Broadcasting large task binary with size 7.2 MiB\n",
      "25/08/11 00:25:08 WARN DAGScheduler: Broadcasting large task binary with size 7.2 MiB\n",
      "25/08/11 00:25:08 WARN DAGScheduler: Broadcasting large task binary with size 7.2 MiB\n",
      "25/08/11 00:25:09 WARN DAGScheduler: Broadcasting large task binary with size 7.2 MiB\n",
      "25/08/11 00:25:10 WARN DAGScheduler: Broadcasting large task binary with size 7.2 MiB\n",
      "25/08/11 00:25:11 WARN DAGScheduler: Broadcasting large task binary with size 7.2 MiB\n",
      "25/08/11 00:25:12 WARN DAGScheduler: Broadcasting large task binary with size 7.2 MiB\n",
      "25/08/11 00:25:12 WARN DAGScheduler: Broadcasting large task binary with size 7.2 MiB\n",
      "25/08/11 00:25:13 WARN DAGScheduler: Broadcasting large task binary with size 7.2 MiB\n",
      "25/08/11 00:25:14 WARN DAGScheduler: Broadcasting large task binary with size 7.2 MiB\n",
      "25/08/11 00:25:14 WARN DAGScheduler: Broadcasting large task binary with size 7.2 MiB\n",
      "25/08/11 00:25:15 WARN DAGScheduler: Broadcasting large task binary with size 7.2 MiB\n",
      "25/08/11 00:25:16 WARN DAGScheduler: Broadcasting large task binary with size 7.2 MiB\n",
      "25/08/11 00:25:17 WARN DAGScheduler: Broadcasting large task binary with size 7.2 MiB\n",
      "25/08/11 00:25:17 WARN DAGScheduler: Broadcasting large task binary with size 7.2 MiB\n",
      "25/08/11 00:25:18 WARN DAGScheduler: Broadcasting large task binary with size 7.2 MiB\n",
      "25/08/11 00:25:19 WARN DAGScheduler: Broadcasting large task binary with size 7.2 MiB\n",
      "25/08/11 00:25:19 WARN DAGScheduler: Broadcasting large task binary with size 7.2 MiB\n",
      "25/08/11 00:25:20 WARN DAGScheduler: Broadcasting large task binary with size 7.2 MiB\n",
      "25/08/11 00:25:21 WARN DAGScheduler: Broadcasting large task binary with size 7.2 MiB\n",
      "25/08/11 00:25:22 WARN DAGScheduler: Broadcasting large task binary with size 7.2 MiB\n",
      "25/08/11 00:25:22 WARN DAGScheduler: Broadcasting large task binary with size 7.2 MiB\n",
      "25/08/11 00:25:23 WARN DAGScheduler: Broadcasting large task binary with size 7.2 MiB\n",
      "25/08/11 00:25:24 WARN DAGScheduler: Broadcasting large task binary with size 7.2 MiB\n",
      "25/08/11 00:25:25 WARN DAGScheduler: Broadcasting large task binary with size 7.2 MiB\n",
      "25/08/11 00:25:25 WARN DAGScheduler: Broadcasting large task binary with size 7.2 MiB\n",
      "25/08/11 00:25:26 WARN DAGScheduler: Broadcasting large task binary with size 7.2 MiB\n",
      "25/08/11 00:25:26 WARN DAGScheduler: Broadcasting large task binary with size 7.2 MiB\n",
      "25/08/11 00:25:27 WARN DAGScheduler: Broadcasting large task binary with size 7.2 MiB\n",
      "25/08/11 00:25:28 WARN DAGScheduler: Broadcasting large task binary with size 7.2 MiB\n",
      "25/08/11 00:25:29 WARN DAGScheduler: Broadcasting large task binary with size 7.2 MiB\n",
      "25/08/11 00:25:30 WARN DAGScheduler: Broadcasting large task binary with size 7.2 MiB\n",
      "25/08/11 00:25:30 WARN DAGScheduler: Broadcasting large task binary with size 7.2 MiB\n",
      "25/08/11 00:25:31 WARN DAGScheduler: Broadcasting large task binary with size 7.2 MiB\n",
      "25/08/11 00:25:32 WARN DAGScheduler: Broadcasting large task binary with size 7.2 MiB\n",
      "25/08/11 00:25:33 WARN DAGScheduler: Broadcasting large task binary with size 7.2 MiB\n",
      "25/08/11 00:25:34 WARN DAGScheduler: Broadcasting large task binary with size 7.2 MiB\n",
      "25/08/11 00:25:34 WARN DAGScheduler: Broadcasting large task binary with size 7.2 MiB\n",
      "25/08/11 00:25:35 WARN DAGScheduler: Broadcasting large task binary with size 7.2 MiB\n",
      "25/08/11 00:25:36 WARN DAGScheduler: Broadcasting large task binary with size 7.2 MiB\n",
      "25/08/11 00:25:37 WARN DAGScheduler: Broadcasting large task binary with size 7.2 MiB\n",
      "25/08/11 00:25:38 WARN DAGScheduler: Broadcasting large task binary with size 7.2 MiB\n",
      "25/08/11 00:25:38 WARN DAGScheduler: Broadcasting large task binary with size 7.2 MiB\n",
      "25/08/11 00:25:39 WARN DAGScheduler: Broadcasting large task binary with size 7.2 MiB\n",
      "25/08/11 00:25:40 WARN DAGScheduler: Broadcasting large task binary with size 7.2 MiB\n",
      "25/08/11 00:25:41 WARN DAGScheduler: Broadcasting large task binary with size 7.2 MiB\n",
      "25/08/11 00:25:42 WARN DAGScheduler: Broadcasting large task binary with size 7.2 MiB\n",
      "25/08/11 00:25:43 WARN DAGScheduler: Broadcasting large task binary with size 7.2 MiB\n",
      "25/08/11 00:25:43 WARN DAGScheduler: Broadcasting large task binary with size 7.2 MiB\n",
      "25/08/11 00:25:44 WARN DAGScheduler: Broadcasting large task binary with size 7.2 MiB\n",
      "25/08/11 00:25:45 WARN DAGScheduler: Broadcasting large task binary with size 7.2 MiB\n",
      "25/08/11 00:25:46 WARN DAGScheduler: Broadcasting large task binary with size 7.2 MiB\n",
      "25/08/11 00:25:47 WARN DAGScheduler: Broadcasting large task binary with size 7.2 MiB\n",
      "25/08/11 00:25:48 WARN DAGScheduler: Broadcasting large task binary with size 7.2 MiB\n",
      "25/08/11 00:25:49 WARN DAGScheduler: Broadcasting large task binary with size 7.2 MiB\n",
      "25/08/11 00:25:49 WARN DAGScheduler: Broadcasting large task binary with size 7.2 MiB\n",
      "25/08/11 00:25:50 WARN DAGScheduler: Broadcasting large task binary with size 7.2 MiB\n",
      "25/08/11 00:25:51 WARN DAGScheduler: Broadcasting large task binary with size 7.2 MiB\n",
      "25/08/11 00:25:52 WARN DAGScheduler: Broadcasting large task binary with size 7.2 MiB\n",
      "25/08/11 00:25:53 WARN DAGScheduler: Broadcasting large task binary with size 7.2 MiB\n",
      "25/08/11 00:25:54 WARN DAGScheduler: Broadcasting large task binary with size 7.2 MiB\n",
      "25/08/11 00:25:55 WARN DAGScheduler: Broadcasting large task binary with size 7.2 MiB\n",
      "25/08/11 00:25:55 WARN DAGScheduler: Broadcasting large task binary with size 7.2 MiB\n",
      "25/08/11 00:25:56 WARN DAGScheduler: Broadcasting large task binary with size 7.2 MiB\n",
      "25/08/11 00:25:57 WARN DAGScheduler: Broadcasting large task binary with size 7.2 MiB\n",
      "25/08/11 00:25:58 WARN DAGScheduler: Broadcasting large task binary with size 7.2 MiB\n",
      "25/08/11 00:25:59 WARN DAGScheduler: Broadcasting large task binary with size 7.2 MiB\n",
      "25/08/11 00:25:59 WARN DAGScheduler: Broadcasting large task binary with size 7.2 MiB\n",
      "25/08/11 00:26:00 WARN DAGScheduler: Broadcasting large task binary with size 7.2 MiB\n",
      "25/08/11 00:26:01 WARN DAGScheduler: Broadcasting large task binary with size 7.2 MiB\n",
      "25/08/11 00:26:02 WARN DAGScheduler: Broadcasting large task binary with size 7.2 MiB\n",
      "25/08/11 00:26:03 WARN DAGScheduler: Broadcasting large task binary with size 7.2 MiB\n",
      "25/08/11 00:26:03 WARN DAGScheduler: Broadcasting large task binary with size 7.2 MiB\n",
      "25/08/11 00:26:04 WARN DAGScheduler: Broadcasting large task binary with size 7.2 MiB\n",
      "25/08/11 00:26:05 WARN DAGScheduler: Broadcasting large task binary with size 7.2 MiB\n",
      "25/08/11 00:26:06 WARN DAGScheduler: Broadcasting large task binary with size 7.2 MiB\n",
      "25/08/11 00:26:06 WARN DAGScheduler: Broadcasting large task binary with size 7.2 MiB\n",
      "25/08/11 00:26:07 WARN DAGScheduler: Broadcasting large task binary with size 7.2 MiB\n",
      "25/08/11 00:26:08 WARN DAGScheduler: Broadcasting large task binary with size 7.2 MiB\n",
      "25/08/11 00:26:08 WARN DAGScheduler: Broadcasting large task binary with size 7.2 MiB\n",
      "25/08/11 00:26:09 WARN DAGScheduler: Broadcasting large task binary with size 7.2 MiB\n",
      "25/08/11 00:26:10 WARN DAGScheduler: Broadcasting large task binary with size 7.2 MiB\n",
      "25/08/11 00:26:11 WARN DAGScheduler: Broadcasting large task binary with size 7.2 MiB\n",
      "25/08/11 00:26:12 WARN DAGScheduler: Broadcasting large task binary with size 7.2 MiB\n",
      "25/08/11 00:26:13 WARN DAGScheduler: Broadcasting large task binary with size 7.2 MiB\n",
      "25/08/11 00:26:14 WARN DAGScheduler: Broadcasting large task binary with size 7.2 MiB\n",
      "25/08/11 00:26:15 WARN DAGScheduler: Broadcasting large task binary with size 7.2 MiB\n",
      "25/08/11 00:26:15 WARN DAGScheduler: Broadcasting large task binary with size 7.2 MiB\n",
      "25/08/11 00:26:16 WARN DAGScheduler: Broadcasting large task binary with size 7.2 MiB\n",
      "25/08/11 00:26:17 WARN DAGScheduler: Broadcasting large task binary with size 7.2 MiB\n",
      "25/08/11 00:26:18 WARN DAGScheduler: Broadcasting large task binary with size 7.2 MiB\n",
      "25/08/11 00:26:19 WARN DAGScheduler: Broadcasting large task binary with size 7.2 MiB\n",
      "25/08/11 00:26:20 WARN DAGScheduler: Broadcasting large task binary with size 7.2 MiB\n",
      "25/08/11 00:26:21 WARN DAGScheduler: Broadcasting large task binary with size 7.2 MiB\n",
      "25/08/11 00:26:22 WARN DAGScheduler: Broadcasting large task binary with size 7.2 MiB\n",
      "25/08/11 00:26:23 WARN DAGScheduler: Broadcasting large task binary with size 7.2 MiB\n",
      "25/08/11 00:26:24 WARN DAGScheduler: Broadcasting large task binary with size 7.2 MiB\n",
      "25/08/11 00:26:25 WARN DAGScheduler: Broadcasting large task binary with size 7.2 MiB\n",
      "25/08/11 00:26:25 WARN DAGScheduler: Broadcasting large task binary with size 7.2 MiB\n",
      "25/08/11 00:26:26 WARN DAGScheduler: Broadcasting large task binary with size 7.2 MiB\n",
      "25/08/11 00:26:27 WARN DAGScheduler: Broadcasting large task binary with size 7.2 MiB\n",
      "25/08/11 00:26:28 WARN DAGScheduler: Broadcasting large task binary with size 7.2 MiB\n",
      "25/08/11 00:26:29 WARN DAGScheduler: Broadcasting large task binary with size 7.2 MiB\n",
      "25/08/11 00:26:30 WARN DAGScheduler: Broadcasting large task binary with size 7.2 MiB\n",
      "25/08/11 00:26:30 WARN DAGScheduler: Broadcasting large task binary with size 7.2 MiB\n",
      "25/08/11 00:26:31 WARN DAGScheduler: Broadcasting large task binary with size 7.2 MiB\n",
      "25/08/11 00:26:32 WARN DAGScheduler: Broadcasting large task binary with size 7.2 MiB\n",
      "25/08/11 00:26:33 WARN DAGScheduler: Broadcasting large task binary with size 7.2 MiB\n",
      "25/08/11 00:26:34 WARN DAGScheduler: Broadcasting large task binary with size 7.2 MiB\n",
      "25/08/11 00:26:35 WARN DAGScheduler: Broadcasting large task binary with size 7.2 MiB\n",
      "25/08/11 00:26:36 WARN DAGScheduler: Broadcasting large task binary with size 7.2 MiB\n",
      "25/08/11 00:26:37 WARN DAGScheduler: Broadcasting large task binary with size 7.2 MiB\n",
      "25/08/11 00:26:37 WARN DAGScheduler: Broadcasting large task binary with size 7.2 MiB\n",
      "25/08/11 00:26:38 WARN DAGScheduler: Broadcasting large task binary with size 7.2 MiB\n",
      "25/08/11 00:26:39 WARN DAGScheduler: Broadcasting large task binary with size 7.2 MiB\n",
      "25/08/11 00:26:40 WARN DAGScheduler: Broadcasting large task binary with size 7.2 MiB\n",
      "25/08/11 00:26:41 WARN DAGScheduler: Broadcasting large task binary with size 7.2 MiB\n",
      "25/08/11 00:26:41 WARN DAGScheduler: Broadcasting large task binary with size 7.2 MiB\n",
      "25/08/11 00:26:42 WARN DAGScheduler: Broadcasting large task binary with size 7.2 MiB\n",
      "25/08/11 00:26:43 WARN DAGScheduler: Broadcasting large task binary with size 7.2 MiB\n",
      "25/08/11 00:26:44 WARN DAGScheduler: Broadcasting large task binary with size 7.2 MiB\n",
      "25/08/11 00:26:45 WARN DAGScheduler: Broadcasting large task binary with size 7.2 MiB\n",
      "25/08/11 00:26:46 WARN DAGScheduler: Broadcasting large task binary with size 7.2 MiB\n",
      "25/08/11 00:26:46 WARN DAGScheduler: Broadcasting large task binary with size 7.2 MiB\n",
      "25/08/11 00:26:47 WARN DAGScheduler: Broadcasting large task binary with size 7.2 MiB\n",
      "25/08/11 00:26:48 WARN DAGScheduler: Broadcasting large task binary with size 7.2 MiB\n",
      "25/08/11 00:26:49 WARN DAGScheduler: Broadcasting large task binary with size 7.2 MiB\n",
      "25/08/11 00:26:50 WARN DAGScheduler: Broadcasting large task binary with size 7.2 MiB\n",
      "25/08/11 00:26:51 WARN DAGScheduler: Broadcasting large task binary with size 7.2 MiB\n",
      "25/08/11 00:26:51 WARN DAGScheduler: Broadcasting large task binary with size 7.2 MiB\n",
      "25/08/11 00:26:52 WARN DAGScheduler: Broadcasting large task binary with size 7.2 MiB\n",
      "25/08/11 00:26:53 WARN DAGScheduler: Broadcasting large task binary with size 7.2 MiB\n",
      "25/08/11 00:26:54 WARN DAGScheduler: Broadcasting large task binary with size 7.2 MiB\n",
      "25/08/11 00:26:55 WARN DAGScheduler: Broadcasting large task binary with size 7.2 MiB\n",
      "25/08/11 00:26:55 WARN DAGScheduler: Broadcasting large task binary with size 7.2 MiB\n",
      "25/08/11 00:26:56 WARN DAGScheduler: Broadcasting large task binary with size 7.2 MiB\n",
      "25/08/11 00:26:57 WARN DAGScheduler: Broadcasting large task binary with size 7.2 MiB\n",
      "25/08/11 00:26:58 WARN DAGScheduler: Broadcasting large task binary with size 7.2 MiB\n",
      "25/08/11 00:26:59 WARN DAGScheduler: Broadcasting large task binary with size 7.2 MiB\n",
      "25/08/11 00:26:59 WARN DAGScheduler: Broadcasting large task binary with size 7.2 MiB\n",
      "25/08/11 00:27:00 WARN DAGScheduler: Broadcasting large task binary with size 7.2 MiB\n",
      "25/08/11 00:27:01 WARN DAGScheduler: Broadcasting large task binary with size 7.2 MiB\n",
      "25/08/11 00:27:02 WARN DAGScheduler: Broadcasting large task binary with size 7.2 MiB\n",
      "25/08/11 00:27:03 WARN DAGScheduler: Broadcasting large task binary with size 7.2 MiB\n",
      "25/08/11 00:27:03 WARN DAGScheduler: Broadcasting large task binary with size 7.2 MiB\n",
      "25/08/11 00:27:04 WARN DAGScheduler: Broadcasting large task binary with size 7.2 MiB\n",
      "25/08/11 00:27:05 WARN DAGScheduler: Broadcasting large task binary with size 7.2 MiB\n",
      "25/08/11 00:27:06 WARN DAGScheduler: Broadcasting large task binary with size 7.2 MiB\n",
      "25/08/11 00:27:07 WARN DAGScheduler: Broadcasting large task binary with size 7.2 MiB\n",
      "25/08/11 00:27:08 WARN DAGScheduler: Broadcasting large task binary with size 7.2 MiB\n",
      "25/08/11 00:27:09 WARN DAGScheduler: Broadcasting large task binary with size 7.2 MiB\n",
      "25/08/11 00:27:09 WARN DAGScheduler: Broadcasting large task binary with size 7.2 MiB\n",
      "25/08/11 00:27:10 WARN DAGScheduler: Broadcasting large task binary with size 7.2 MiB\n",
      "25/08/11 00:27:11 WARN DAGScheduler: Broadcasting large task binary with size 7.2 MiB\n",
      "25/08/11 00:27:11 WARN DAGScheduler: Broadcasting large task binary with size 7.2 MiB\n",
      "25/08/11 00:27:12 WARN DAGScheduler: Broadcasting large task binary with size 7.2 MiB\n",
      "25/08/11 00:27:13 WARN DAGScheduler: Broadcasting large task binary with size 7.2 MiB\n",
      "25/08/11 00:27:14 WARN DAGScheduler: Broadcasting large task binary with size 7.2 MiB\n",
      "25/08/11 00:27:15 WARN DAGScheduler: Broadcasting large task binary with size 7.2 MiB\n",
      "25/08/11 00:27:16 WARN DAGScheduler: Broadcasting large task binary with size 7.2 MiB\n",
      "25/08/11 00:27:16 WARN DAGScheduler: Broadcasting large task binary with size 7.2 MiB\n",
      "25/08/11 00:27:17 WARN DAGScheduler: Broadcasting large task binary with size 7.2 MiB\n",
      "25/08/11 00:27:18 WARN DAGScheduler: Broadcasting large task binary with size 7.2 MiB\n",
      "25/08/11 00:27:19 WARN DAGScheduler: Broadcasting large task binary with size 7.2 MiB\n",
      "25/08/11 00:27:20 WARN DAGScheduler: Broadcasting large task binary with size 7.2 MiB\n",
      "25/08/11 00:27:21 WARN DAGScheduler: Broadcasting large task binary with size 7.2 MiB\n",
      "25/08/11 00:27:22 WARN DAGScheduler: Broadcasting large task binary with size 7.2 MiB\n",
      "25/08/11 00:27:22 WARN DAGScheduler: Broadcasting large task binary with size 7.2 MiB\n",
      "25/08/11 00:27:23 WARN DAGScheduler: Broadcasting large task binary with size 7.2 MiB\n",
      "25/08/11 00:27:24 WARN DAGScheduler: Broadcasting large task binary with size 7.2 MiB\n",
      "25/08/11 00:27:25 WARN DAGScheduler: Broadcasting large task binary with size 7.2 MiB\n",
      "25/08/11 00:27:26 WARN DAGScheduler: Broadcasting large task binary with size 7.2 MiB\n",
      "25/08/11 00:27:27 WARN DAGScheduler: Broadcasting large task binary with size 7.2 MiB\n",
      "25/08/11 00:27:27 WARN DAGScheduler: Broadcasting large task binary with size 7.2 MiB\n",
      "25/08/11 00:27:28 WARN DAGScheduler: Broadcasting large task binary with size 7.2 MiB\n",
      "25/08/11 00:27:29 WARN DAGScheduler: Broadcasting large task binary with size 7.2 MiB\n",
      "25/08/11 00:27:30 WARN DAGScheduler: Broadcasting large task binary with size 7.2 MiB\n",
      "25/08/11 00:27:31 WARN DAGScheduler: Broadcasting large task binary with size 7.2 MiB\n",
      "25/08/11 00:27:32 WARN DAGScheduler: Broadcasting large task binary with size 7.2 MiB\n",
      "25/08/11 00:27:33 WARN DAGScheduler: Broadcasting large task binary with size 7.2 MiB\n",
      "25/08/11 00:27:33 WARN DAGScheduler: Broadcasting large task binary with size 7.2 MiB\n",
      "25/08/11 00:27:34 WARN DAGScheduler: Broadcasting large task binary with size 7.2 MiB\n",
      "25/08/11 00:27:35 WARN DAGScheduler: Broadcasting large task binary with size 7.2 MiB\n",
      "25/08/11 00:27:36 WARN DAGScheduler: Broadcasting large task binary with size 7.2 MiB\n",
      "25/08/11 00:27:37 WARN DAGScheduler: Broadcasting large task binary with size 7.2 MiB\n",
      "25/08/11 00:27:38 WARN DAGScheduler: Broadcasting large task binary with size 7.2 MiB\n",
      "25/08/11 00:27:39 WARN DAGScheduler: Broadcasting large task binary with size 7.2 MiB\n",
      "25/08/11 00:27:39 WARN DAGScheduler: Broadcasting large task binary with size 7.2 MiB\n",
      "25/08/11 00:27:40 WARN DAGScheduler: Broadcasting large task binary with size 7.2 MiB\n",
      "25/08/11 00:27:41 WARN DAGScheduler: Broadcasting large task binary with size 7.2 MiB\n",
      "25/08/11 00:27:42 WARN DAGScheduler: Broadcasting large task binary with size 7.2 MiB\n",
      "25/08/11 00:27:42 WARN DAGScheduler: Broadcasting large task binary with size 7.2 MiB\n",
      "25/08/11 00:27:43 WARN DAGScheduler: Broadcasting large task binary with size 7.2 MiB\n",
      "25/08/11 00:27:44 WARN DAGScheduler: Broadcasting large task binary with size 7.2 MiB\n",
      "25/08/11 00:27:45 WARN DAGScheduler: Broadcasting large task binary with size 7.2 MiB\n",
      "25/08/11 00:27:46 WARN DAGScheduler: Broadcasting large task binary with size 7.2 MiB\n",
      "25/08/11 00:27:47 WARN DAGScheduler: Broadcasting large task binary with size 7.2 MiB\n",
      "25/08/11 00:27:48 WARN DAGScheduler: Broadcasting large task binary with size 7.2 MiB\n",
      "25/08/11 00:27:48 WARN DAGScheduler: Broadcasting large task binary with size 7.2 MiB\n",
      "25/08/11 00:27:49 WARN DAGScheduler: Broadcasting large task binary with size 7.2 MiB\n",
      "25/08/11 00:27:50 WARN DAGScheduler: Broadcasting large task binary with size 7.2 MiB\n",
      "25/08/11 00:27:51 WARN DAGScheduler: Broadcasting large task binary with size 7.2 MiB\n",
      "25/08/11 00:27:52 WARN DAGScheduler: Broadcasting large task binary with size 7.2 MiB\n",
      "25/08/11 00:27:53 WARN DAGScheduler: Broadcasting large task binary with size 7.2 MiB\n",
      "25/08/11 00:27:53 WARN DAGScheduler: Broadcasting large task binary with size 7.2 MiB\n",
      "25/08/11 00:27:54 WARN DAGScheduler: Broadcasting large task binary with size 7.2 MiB\n",
      "25/08/11 00:27:55 WARN DAGScheduler: Broadcasting large task binary with size 7.2 MiB\n",
      "25/08/11 00:27:56 WARN DAGScheduler: Broadcasting large task binary with size 7.2 MiB\n",
      "25/08/11 00:27:57 WARN DAGScheduler: Broadcasting large task binary with size 7.2 MiB\n",
      "25/08/11 00:27:57 WARN DAGScheduler: Broadcasting large task binary with size 7.2 MiB\n",
      "25/08/11 00:27:58 WARN DAGScheduler: Broadcasting large task binary with size 7.2 MiB\n",
      "25/08/11 00:27:59 WARN DAGScheduler: Broadcasting large task binary with size 7.2 MiB\n",
      "25/08/11 00:28:00 WARN DAGScheduler: Broadcasting large task binary with size 7.2 MiB\n",
      "25/08/11 00:28:01 WARN DAGScheduler: Broadcasting large task binary with size 7.2 MiB\n",
      "25/08/11 00:28:02 WARN DAGScheduler: Broadcasting large task binary with size 7.2 MiB\n",
      "25/08/11 00:28:02 WARN DAGScheduler: Broadcasting large task binary with size 7.2 MiB\n",
      "25/08/11 00:28:03 WARN DAGScheduler: Broadcasting large task binary with size 7.2 MiB\n",
      "25/08/11 00:28:04 WARN DAGScheduler: Broadcasting large task binary with size 7.2 MiB\n",
      "25/08/11 00:28:05 WARN DAGScheduler: Broadcasting large task binary with size 7.2 MiB\n",
      "25/08/11 00:28:06 WARN DAGScheduler: Broadcasting large task binary with size 7.2 MiB\n",
      "25/08/11 00:28:06 WARN DAGScheduler: Broadcasting large task binary with size 7.2 MiB\n",
      "25/08/11 00:28:07 WARN DAGScheduler: Broadcasting large task binary with size 7.2 MiB\n",
      "25/08/11 00:28:08 WARN DAGScheduler: Broadcasting large task binary with size 7.2 MiB\n",
      "25/08/11 00:28:09 WARN DAGScheduler: Broadcasting large task binary with size 7.2 MiB\n",
      "25/08/11 00:28:10 WARN DAGScheduler: Broadcasting large task binary with size 7.2 MiB\n",
      "25/08/11 00:28:10 WARN DAGScheduler: Broadcasting large task binary with size 7.2 MiB\n",
      "25/08/11 00:28:11 WARN DAGScheduler: Broadcasting large task binary with size 7.2 MiB\n",
      "25/08/11 00:28:12 WARN DAGScheduler: Broadcasting large task binary with size 7.2 MiB\n",
      "25/08/11 00:28:13 WARN DAGScheduler: Broadcasting large task binary with size 7.2 MiB\n",
      "25/08/11 00:28:14 WARN DAGScheduler: Broadcasting large task binary with size 7.2 MiB\n",
      "25/08/11 00:28:15 WARN DAGScheduler: Broadcasting large task binary with size 7.2 MiB\n",
      "25/08/11 00:28:16 WARN DAGScheduler: Broadcasting large task binary with size 7.2 MiB\n",
      "25/08/11 00:28:17 WARN DAGScheduler: Broadcasting large task binary with size 7.2 MiB\n",
      "25/08/11 00:28:18 WARN DAGScheduler: Broadcasting large task binary with size 7.2 MiB\n",
      "25/08/11 00:28:18 WARN DAGScheduler: Broadcasting large task binary with size 7.2 MiB\n",
      "25/08/11 00:28:19 WARN DAGScheduler: Broadcasting large task binary with size 7.2 MiB\n",
      "25/08/11 00:28:20 WARN DAGScheduler: Broadcasting large task binary with size 7.2 MiB\n",
      "25/08/11 00:28:20 WARN DAGScheduler: Broadcasting large task binary with size 7.2 MiB\n",
      "25/08/11 00:28:21 WARN DAGScheduler: Broadcasting large task binary with size 7.2 MiB\n",
      "25/08/11 00:28:22 WARN DAGScheduler: Broadcasting large task binary with size 7.2 MiB\n",
      "25/08/11 00:28:23 WARN DAGScheduler: Broadcasting large task binary with size 7.2 MiB\n",
      "25/08/11 00:28:24 WARN DAGScheduler: Broadcasting large task binary with size 7.2 MiB\n",
      "25/08/11 00:28:25 WARN DAGScheduler: Broadcasting large task binary with size 7.2 MiB\n",
      "25/08/11 00:28:25 WARN DAGScheduler: Broadcasting large task binary with size 7.2 MiB\n",
      "25/08/11 00:28:26 WARN DAGScheduler: Broadcasting large task binary with size 7.2 MiB\n",
      "25/08/11 00:28:27 WARN DAGScheduler: Broadcasting large task binary with size 7.2 MiB\n",
      "25/08/11 00:28:28 WARN DAGScheduler: Broadcasting large task binary with size 7.2 MiB\n",
      "25/08/11 00:28:29 WARN DAGScheduler: Broadcasting large task binary with size 7.2 MiB\n",
      "25/08/11 00:28:29 WARN DAGScheduler: Broadcasting large task binary with size 7.2 MiB\n",
      "25/08/11 00:28:30 WARN DAGScheduler: Broadcasting large task binary with size 7.2 MiB\n",
      "25/08/11 00:28:31 WARN DAGScheduler: Broadcasting large task binary with size 7.2 MiB\n",
      "25/08/11 00:28:32 WARN DAGScheduler: Broadcasting large task binary with size 7.2 MiB\n",
      "25/08/11 00:28:33 WARN DAGScheduler: Broadcasting large task binary with size 7.2 MiB\n",
      "25/08/11 00:28:34 WARN DAGScheduler: Broadcasting large task binary with size 7.2 MiB\n",
      "25/08/11 00:28:35 WARN DAGScheduler: Broadcasting large task binary with size 7.2 MiB\n",
      "25/08/11 00:28:35 WARN DAGScheduler: Broadcasting large task binary with size 7.2 MiB\n",
      "25/08/11 00:28:36 WARN DAGScheduler: Broadcasting large task binary with size 7.2 MiB\n",
      "25/08/11 00:28:37 WARN DAGScheduler: Broadcasting large task binary with size 7.2 MiB\n",
      "25/08/11 00:28:38 WARN DAGScheduler: Broadcasting large task binary with size 7.2 MiB\n",
      "25/08/11 00:28:39 WARN DAGScheduler: Broadcasting large task binary with size 7.2 MiB\n",
      "25/08/11 00:28:39 WARN DAGScheduler: Broadcasting large task binary with size 7.2 MiB\n",
      "25/08/11 00:28:40 WARN DAGScheduler: Broadcasting large task binary with size 7.2 MiB\n",
      "25/08/11 00:28:41 WARN DAGScheduler: Broadcasting large task binary with size 7.2 MiB\n",
      "25/08/11 00:28:42 WARN DAGScheduler: Broadcasting large task binary with size 7.2 MiB\n",
      "25/08/11 00:28:43 WARN DAGScheduler: Broadcasting large task binary with size 7.2 MiB\n",
      "25/08/11 00:28:43 WARN DAGScheduler: Broadcasting large task binary with size 7.2 MiB\n",
      "25/08/11 00:28:44 WARN DAGScheduler: Broadcasting large task binary with size 7.2 MiB\n",
      "25/08/11 00:28:45 WARN DAGScheduler: Broadcasting large task binary with size 7.2 MiB\n",
      "25/08/11 00:28:46 WARN DAGScheduler: Broadcasting large task binary with size 7.2 MiB\n",
      "25/08/11 00:28:46 WARN DAGScheduler: Broadcasting large task binary with size 7.2 MiB\n",
      "25/08/11 00:28:47 WARN DAGScheduler: Broadcasting large task binary with size 7.2 MiB\n",
      "25/08/11 00:28:48 WARN DAGScheduler: Broadcasting large task binary with size 7.2 MiB\n",
      "25/08/11 00:28:49 WARN DAGScheduler: Broadcasting large task binary with size 7.2 MiB\n",
      "25/08/11 00:28:50 WARN DAGScheduler: Broadcasting large task binary with size 7.2 MiB\n",
      "25/08/11 00:28:51 WARN DAGScheduler: Broadcasting large task binary with size 7.2 MiB\n",
      "25/08/11 00:28:51 WARN DAGScheduler: Broadcasting large task binary with size 7.2 MiB\n",
      "25/08/11 00:28:52 WARN DAGScheduler: Broadcasting large task binary with size 7.2 MiB\n",
      "25/08/11 00:28:53 WARN DAGScheduler: Broadcasting large task binary with size 7.2 MiB\n",
      "25/08/11 00:28:54 WARN DAGScheduler: Broadcasting large task binary with size 7.2 MiB\n",
      "25/08/11 00:28:55 WARN DAGScheduler: Broadcasting large task binary with size 7.2 MiB\n",
      "25/08/11 00:28:56 WARN DAGScheduler: Broadcasting large task binary with size 7.2 MiB\n",
      "25/08/11 00:28:57 WARN DAGScheduler: Broadcasting large task binary with size 7.2 MiB\n",
      "25/08/11 00:28:58 WARN DAGScheduler: Broadcasting large task binary with size 7.2 MiB\n",
      "25/08/11 00:28:58 WARN DAGScheduler: Broadcasting large task binary with size 7.2 MiB\n",
      "25/08/11 00:28:59 WARN DAGScheduler: Broadcasting large task binary with size 7.2 MiB\n",
      "25/08/11 00:29:00 WARN DAGScheduler: Broadcasting large task binary with size 7.2 MiB\n",
      "25/08/11 00:29:00 WARN DAGScheduler: Broadcasting large task binary with size 7.2 MiB\n",
      "25/08/11 00:29:01 WARN DAGScheduler: Broadcasting large task binary with size 7.2 MiB\n",
      "25/08/11 00:29:02 WARN DAGScheduler: Broadcasting large task binary with size 7.2 MiB\n",
      "25/08/11 00:29:02 WARN DAGScheduler: Broadcasting large task binary with size 7.2 MiB\n",
      "25/08/11 00:29:03 WARN DAGScheduler: Broadcasting large task binary with size 7.2 MiB\n",
      "25/08/11 00:29:04 WARN DAGScheduler: Broadcasting large task binary with size 7.2 MiB\n",
      "25/08/11 00:29:05 WARN DAGScheduler: Broadcasting large task binary with size 7.2 MiB\n",
      "25/08/11 00:29:06 WARN DAGScheduler: Broadcasting large task binary with size 7.2 MiB\n",
      "25/08/11 00:29:06 WARN DAGScheduler: Broadcasting large task binary with size 7.2 MiB\n",
      "25/08/11 00:29:07 WARN DAGScheduler: Broadcasting large task binary with size 7.2 MiB\n",
      "25/08/11 00:29:08 WARN DAGScheduler: Broadcasting large task binary with size 7.2 MiB\n",
      "25/08/11 00:29:09 WARN DAGScheduler: Broadcasting large task binary with size 7.2 MiB\n",
      "25/08/11 00:29:10 WARN DAGScheduler: Broadcasting large task binary with size 7.2 MiB\n",
      "25/08/11 00:29:11 WARN DAGScheduler: Broadcasting large task binary with size 7.2 MiB\n",
      "25/08/11 00:29:12 WARN DAGScheduler: Broadcasting large task binary with size 7.2 MiB\n",
      "25/08/11 00:29:12 WARN DAGScheduler: Broadcasting large task binary with size 7.2 MiB\n",
      "25/08/11 00:29:13 WARN DAGScheduler: Broadcasting large task binary with size 7.2 MiB\n",
      "25/08/11 00:29:14 WARN DAGScheduler: Broadcasting large task binary with size 7.2 MiB\n",
      "25/08/11 00:29:15 WARN DAGScheduler: Broadcasting large task binary with size 7.2 MiB\n",
      "25/08/11 00:29:16 WARN DAGScheduler: Broadcasting large task binary with size 7.2 MiB\n",
      "25/08/11 00:29:17 WARN DAGScheduler: Broadcasting large task binary with size 7.2 MiB\n",
      "25/08/11 00:29:17 WARN DAGScheduler: Broadcasting large task binary with size 7.2 MiB\n",
      "25/08/11 00:29:18 WARN DAGScheduler: Broadcasting large task binary with size 7.2 MiB\n",
      "25/08/11 00:29:19 WARN DAGScheduler: Broadcasting large task binary with size 7.2 MiB\n",
      "25/08/11 00:29:20 WARN DAGScheduler: Broadcasting large task binary with size 7.2 MiB\n",
      "25/08/11 00:29:20 WARN DAGScheduler: Broadcasting large task binary with size 7.2 MiB\n",
      "25/08/11 00:29:21 WARN DAGScheduler: Broadcasting large task binary with size 7.2 MiB\n",
      "25/08/11 00:29:22 WARN DAGScheduler: Broadcasting large task binary with size 7.2 MiB\n",
      "25/08/11 00:29:23 WARN DAGScheduler: Broadcasting large task binary with size 7.2 MiB\n",
      "25/08/11 00:29:24 WARN DAGScheduler: Broadcasting large task binary with size 7.2 MiB\n",
      "25/08/11 00:29:24 WARN DAGScheduler: Broadcasting large task binary with size 7.2 MiB\n",
      "25/08/11 00:29:25 WARN DAGScheduler: Broadcasting large task binary with size 7.2 MiB\n",
      "25/08/11 00:29:26 WARN DAGScheduler: Broadcasting large task binary with size 7.2 MiB\n",
      "25/08/11 00:29:27 WARN DAGScheduler: Broadcasting large task binary with size 7.2 MiB\n",
      "25/08/11 00:29:28 WARN DAGScheduler: Broadcasting large task binary with size 7.2 MiB\n",
      "25/08/11 00:29:29 WARN DAGScheduler: Broadcasting large task binary with size 7.2 MiB\n",
      "25/08/11 00:29:29 WARN DAGScheduler: Broadcasting large task binary with size 7.2 MiB\n",
      "25/08/11 00:29:30 WARN DAGScheduler: Broadcasting large task binary with size 7.2 MiB\n",
      "25/08/11 00:29:31 WARN DAGScheduler: Broadcasting large task binary with size 7.2 MiB\n",
      "25/08/11 00:29:32 WARN DAGScheduler: Broadcasting large task binary with size 7.2 MiB\n",
      "25/08/11 00:29:33 WARN DAGScheduler: Broadcasting large task binary with size 7.2 MiB\n",
      "25/08/11 00:29:33 WARN DAGScheduler: Broadcasting large task binary with size 7.2 MiB\n",
      "25/08/11 00:29:34 WARN DAGScheduler: Broadcasting large task binary with size 7.2 MiB\n",
      "25/08/11 00:29:35 WARN DAGScheduler: Broadcasting large task binary with size 7.2 MiB\n",
      "25/08/11 00:29:36 WARN DAGScheduler: Broadcasting large task binary with size 7.2 MiB\n",
      "25/08/11 00:29:36 WARN DAGScheduler: Broadcasting large task binary with size 7.2 MiB\n",
      "25/08/11 00:29:37 WARN DAGScheduler: Broadcasting large task binary with size 7.2 MiB\n",
      "25/08/11 00:29:38 WARN DAGScheduler: Broadcasting large task binary with size 7.2 MiB\n",
      "25/08/11 00:29:39 WARN DAGScheduler: Broadcasting large task binary with size 7.2 MiB\n",
      "25/08/11 00:29:40 WARN DAGScheduler: Broadcasting large task binary with size 7.2 MiB\n",
      "25/08/11 00:29:41 WARN DAGScheduler: Broadcasting large task binary with size 7.2 MiB\n",
      "25/08/11 00:29:42 WARN DAGScheduler: Broadcasting large task binary with size 7.2 MiB\n",
      "25/08/11 00:29:43 WARN DAGScheduler: Broadcasting large task binary with size 7.2 MiB\n",
      "25/08/11 00:29:44 WARN DAGScheduler: Broadcasting large task binary with size 7.2 MiB\n",
      "25/08/11 00:29:44 WARN DAGScheduler: Broadcasting large task binary with size 7.2 MiB\n",
      "25/08/11 00:29:45 WARN DAGScheduler: Broadcasting large task binary with size 7.2 MiB\n",
      "25/08/11 00:29:46 WARN DAGScheduler: Broadcasting large task binary with size 7.2 MiB\n",
      "25/08/11 00:29:47 WARN DAGScheduler: Broadcasting large task binary with size 7.2 MiB\n",
      "25/08/11 00:29:47 WARN DAGScheduler: Broadcasting large task binary with size 7.2 MiB\n",
      "25/08/11 00:29:48 WARN DAGScheduler: Broadcasting large task binary with size 7.2 MiB\n",
      "25/08/11 00:29:49 WARN DAGScheduler: Broadcasting large task binary with size 7.2 MiB\n",
      "25/08/11 00:29:49 WARN DAGScheduler: Broadcasting large task binary with size 7.2 MiB\n",
      "25/08/11 00:29:50 WARN DAGScheduler: Broadcasting large task binary with size 7.2 MiB\n",
      "25/08/11 00:29:51 WARN DAGScheduler: Broadcasting large task binary with size 7.2 MiB\n",
      "25/08/11 00:29:52 WARN DAGScheduler: Broadcasting large task binary with size 7.2 MiB\n"
     ]
    },
    {
     "name": "stdout",
     "output_type": "stream",
     "text": [
      "Melhor threshold por F1: 0.456\n"
     ]
    },
    {
     "name": "stderr",
     "output_type": "stream",
     "text": [
      "                                                                                \r"
     ]
    }
   ],
   "source": [
    "pred_probs = pred.select('y_proba_class1', 'target')\n",
    "test_best_tresh = optimize_threshold(pred_probs)\n",
    "\n",
    "print(f\"Melhor threshold por F1: {test_best_tresh:.3f}\")"
   ]
  },
  {
   "cell_type": "code",
   "execution_count": 19,
   "id": "b4c89457-a33c-4866-9331-4d419d8a0f56",
   "metadata": {
    "tags": []
   },
   "outputs": [
    {
     "name": "stderr",
     "output_type": "stream",
     "text": [
      "25/08/11 00:29:53 WARN DAGScheduler: Broadcasting large task binary with size 7.2 MiB\n",
      "25/08/11 00:29:54 WARN DAGScheduler: Broadcasting large task binary with size 7.2 MiB\n",
      "25/08/11 00:29:55 WARN DAGScheduler: Broadcasting large task binary with size 7.2 MiB\n",
      "25/08/11 00:29:55 WARN DAGScheduler: Broadcasting large task binary with size 7.2 MiB\n"
     ]
    },
    {
     "name": "stdout",
     "output_type": "stream",
     "text": [
      "5879 1079 517 5338\n",
      "precision: 0.83185\n",
      "recall: 0.91170\n",
      "f1: 0.86995\n"
     ]
    },
    {
     "name": "stderr",
     "output_type": "stream",
     "text": [
      "                                                                                \r"
     ]
    }
   ],
   "source": [
    "precision, recall, f1, TP, FP, TN, FN = metrics_at(pred.select('y_proba_class1', 'target'), test_best_tresh)\n",
    "\n",
    "print(TN, FP, FN, TP)\n",
    "print(f\"precision: {precision:.5f}\")\n",
    "print(f\"recall: {recall:.5f}\")\n",
    "print(f\"f1: {f1:.5f}\")"
   ]
  },
  {
   "cell_type": "markdown",
   "id": "88e8406f-3772-40ce-9316-3f7ab866ac48",
   "metadata": {},
   "source": [
    "### Predict Dataset"
   ]
  },
  {
   "cell_type": "code",
   "execution_count": 20,
   "id": "f118e4af-8bf3-45eb-9f76-ef76c534e5bb",
   "metadata": {
    "tags": []
   },
   "outputs": [],
   "source": [
    "df_base = assembler.transform(df_features.drop('features'))\n",
    "\n",
    "preds_base = model.transform(df_base)\n",
    "\n",
    "preds_base = preds_base.withColumn(\"prob_vec\", vector_to_array(F.col(\"probability\")))\\\n",
    "                       .withColumn(\"y_proba_class0\", F.col(\"prob_vec\")[0])\\\n",
    "                       .withColumn(\"y_proba_class1\", F.col(\"prob_vec\")[1])"
   ]
  },
  {
   "cell_type": "code",
   "execution_count": 21,
   "id": "2b734a5b-1842-4f8a-adba-79e0861d802a",
   "metadata": {
    "scrolled": true,
    "tags": []
   },
   "outputs": [
    {
     "name": "stdout",
     "output_type": "stream",
     "text": [
      "+--------------------+--------------------+----------------+------------------+----------------+----------+-------------------------+-------------------------+--------+--------+--------+--------+---------------+-----------------+---------------+---------------+--------------------+--------------+---------------+------------------+------------------+------+--------------------+--------------------+--------------------+----------+--------------------+--------------------+-------------------+\n",
      "|           client_id|            offer_id|offer_type_index|qtd_offer_received|qtd_offer_viewed|sum_reward|registered_duration_month|registered_duration_years|gender_M|gender_F|gender_O|gender_U|age_group_index|credit_card_limit|category_limite|offer_min_value|offer_discount_value|offer_duration|qtd_transaction|      total_amount|        avg_amount|target|            features|       rawPrediction|         probability|prediction|            prob_vec|      y_proba_class0|     y_proba_class1|\n",
      "+--------------------+--------------------+----------------+------------------+----------------+----------+-------------------------+-------------------------+--------+--------+--------+--------+---------------+-----------------+---------------+---------------+--------------------+--------------+---------------+------------------+------------------+------+--------------------+--------------------+--------------------+----------+--------------------+--------------------+-------------------+\n",
      "|0009655768c64bdeb...|2906b810c7d441179...|               0|                 1|               0|       2.0|                       99|                        8|       1|       0|       0|       0|              2|            72000|              3|             10|                   2|           7.0|              8|             127.6|             15.95|     1|[0.0,10.0,2.0,7.0...|[16.9004267061288...|[0.08450213353064...|       1.0|[0.08450213353064...| 0.08450213353064434| 0.9154978664693556|\n",
      "|0009655768c64bdeb...|3f207df678b143eea...|               1|                 1|               1|       0.0|                       99|                        8|       1|       0|       0|       0|              2|            72000|              3|              0|                   0|           4.0|              8|             127.6|             15.95|     0|[1.0,0.0,0.0,4.0,...|         [200.0,0.0]|           [1.0,0.0]|       0.0|          [1.0, 0.0]|                 1.0|                0.0|\n",
      "|0009655768c64bdeb...|5a8bc65990b245e5a...|               1|                 1|               1|       0.0|                       99|                        8|       1|       0|       0|       0|              2|            72000|              3|              0|                   0|           3.0|              8|             127.6|             15.95|     0|[1.0,0.0,0.0,3.0,...|         [200.0,0.0]|           [1.0,0.0]|       0.0|          [1.0, 0.0]|                 1.0|                0.0|\n",
      "|0009655768c64bdeb...|f19421c1d4aa40978...|               2|                 1|               1|       5.0|                       99|                        8|       1|       0|       0|       0|              2|            72000|              3|              5|                   5|           5.0|              8|             127.6|             15.95|     1|[2.0,5.0,5.0,5.0,...|[20.5383622472894...|[0.10269181123644...|       1.0|[0.10269181123644...| 0.10269181123644716| 0.8973081887635529|\n",
      "|0009655768c64bdeb...|fafdcd668e3743c1b...|               0|                 1|               1|       2.0|                       99|                        8|       1|       0|       0|       0|              2|            72000|              3|             10|                   2|          10.0|              8|             127.6|             15.95|     1|[0.0,10.0,2.0,10....|[13.2745469861696...|[0.06637273493084...|       1.0|[0.06637273493084...| 0.06637273493084819| 0.9336272650691518|\n",
      "|00116118485d4dfda...|f19421c1d4aa40978...|               2|                 2|               2|       0.0|                       87|                        7|       0|       0|       0|       1|              0|            81000|              3|              5|                   5|           5.0|              3|              4.09|1.3633333333333333|     0|[2.0,5.0,5.0,5.0,...|[195.663367654287...|[0.97831683827143...|       0.0|[0.97831683827143...|  0.9783168382714379|0.02168316172856201|\n",
      "|0011e0d4e6b944f99...|0b1e1539f2cc45b7b...|               0|                 1|               1|       5.0|                       91|                        7|       0|       0|       1|       0|              3|            57000|              2|             20|                   5|          10.0|              5| 79.46000000000001|15.892000000000001|     1|[0.0,20.0,5.0,10....|[62.6261345581332...|[0.31313067279066...|       1.0|[0.31313067279066...|  0.3131306727906662| 0.6868693272093338|\n",
      "|0011e0d4e6b944f99...|2298d6c36e964ae4a...|               0|                 1|               1|       3.0|                       91|                        7|       0|       0|       1|       0|              3|            57000|              2|              7|                   3|           7.0|              5| 79.46000000000001|15.892000000000001|     1|[0.0,7.0,3.0,7.0,...|[40.9705067952827...|[0.20485253397641...|       1.0|[0.20485253397641...| 0.20485253397641384| 0.7951474660235862|\n",
      "|0011e0d4e6b944f99...|3f207df678b143eea...|               1|                 1|               1|       0.0|                       91|                        7|       0|       0|       1|       0|              3|            57000|              2|              0|                   0|           4.0|              5| 79.46000000000001|15.892000000000001|     0|[1.0,0.0,0.0,4.0,...|         [200.0,0.0]|           [1.0,0.0]|       0.0|          [1.0, 0.0]|                 1.0|                0.0|\n",
      "|0011e0d4e6b944f99...|5a8bc65990b245e5a...|               1|                 1|               1|       0.0|                       91|                        7|       0|       0|       1|       0|              3|            57000|              2|              0|                   0|           3.0|              5| 79.46000000000001|15.892000000000001|     0|[1.0,0.0,0.0,3.0,...|         [200.0,0.0]|           [1.0,0.0]|       0.0|          [1.0, 0.0]|                 1.0|                0.0|\n",
      "|0011e0d4e6b944f99...|9b98b8c7a33c4b65b...|               2|                 1|               1|       5.0|                       91|                        7|       0|       0|       1|       0|              3|            57000|              2|              5|                   5|           7.0|              5| 79.46000000000001|15.892000000000001|     1|[2.0,5.0,5.0,7.0,...|[50.2935198391637...|[0.25146759919581...|       1.0|[0.25146759919581...| 0.25146759919581874| 0.7485324008041812|\n",
      "|0020c2b971eb4e918...|4d5c57ea9a6940dd8...|               2|                 1|               1|      10.0|                      113|                        9|       0|       1|       0|       0|              4|            90000|              4|             10|                  10|           5.0|              8|            196.86|           24.6075|     1|[2.0,10.0,10.0,5....|[16.0437205181299...|[0.08021860259064...|       1.0|[0.08021860259064...| 0.08021860259064972| 0.9197813974093503|\n",
      "|0020c2b971eb4e918...|5a8bc65990b245e5a...|               1|                 1|               1|       0.0|                      113|                        9|       0|       1|       0|       0|              4|            90000|              4|              0|                   0|           3.0|              8|            196.86|           24.6075|     0|[1.0,0.0,0.0,3.0,...|         [200.0,0.0]|           [1.0,0.0]|       0.0|          [1.0, 0.0]|                 1.0|                0.0|\n",
      "|0020c2b971eb4e918...|ae264e3637204a6fb...|               2|                 1|               0|       0.0|                      113|                        9|       0|       1|       0|       0|              4|            90000|              4|             10|                  10|           7.0|              8|            196.86|           24.6075|     0|[2.0,10.0,10.0,7....|[15.4764599580831...|[0.07738229979041...|       1.0|[0.07738229979041...|  0.0773822997904156| 0.9226177002095844|\n",
      "|0020c2b971eb4e918...|fafdcd668e3743c1b...|               0|                 2|               1|       4.0|                      113|                        9|       0|       1|       0|       0|              4|            90000|              4|             10|                   2|          10.0|              8|            196.86|           24.6075|     1|[0.0,10.0,2.0,10....|[8.53918909872850...|[0.04269594549364...|       1.0|[0.04269594549364...|0.042695945493642515| 0.9573040545063575|\n",
      "|0020ccbbb6d84e358...|2298d6c36e964ae4a...|               0|                 1|               1|       3.0|                      105|                        8|       0|       1|       0|       0|              1|            60000|              2|              7|                   3|           7.0|             12|154.04999999999998|12.837499999999999|     1|[0.0,7.0,3.0,7.0,...|[9.43681378317759...|[0.04718406891588...|       1.0|[0.04718406891588...| 0.04718406891588797|  0.952815931084112|\n",
      "|0020ccbbb6d84e358...|5a8bc65990b245e5a...|               1|                 1|               1|       0.0|                      105|                        8|       0|       1|       0|       0|              1|            60000|              2|              0|                   0|           3.0|             12|154.04999999999998|12.837499999999999|     0|[1.0,0.0,0.0,3.0,...|         [200.0,0.0]|           [1.0,0.0]|       0.0|          [1.0, 0.0]|                 1.0|                0.0|\n",
      "|0020ccbbb6d84e358...|9b98b8c7a33c4b65b...|               2|                 1|               1|       5.0|                      105|                        8|       0|       1|       0|       0|              1|            60000|              2|              5|                   5|           7.0|             12|154.04999999999998|12.837499999999999|     1|[2.0,5.0,5.0,7.0,...|[15.5383604402858...|[0.07769180220142...|       1.0|[0.07769180220142...| 0.07769180220142927| 0.9223081977985707|\n",
      "|0020ccbbb6d84e358...|f19421c1d4aa40978...|               2|                 1|               1|       5.0|                      105|                        8|       0|       1|       0|       0|              1|            60000|              2|              5|                   5|           5.0|             12|154.04999999999998|12.837499999999999|     1|[2.0,5.0,5.0,5.0,...|[15.7686366525675...|[0.07884318326283...|       1.0|[0.07884318326283...| 0.07884318326283757| 0.9211568167371623|\n",
      "|003d66b6608740288...|0b1e1539f2cc45b7b...|               0|                 1|               0|       5.0|                       97|                        8|       0|       1|       0|       0|              1|            73000|              3|             20|                   5|          10.0|             18| 48.34000000000001| 2.685555555555556|     1|[0.0,20.0,5.0,10....|[143.762133816267...|[0.71881066908133...|       0.0|[0.71881066908133...|  0.7188106690813367| 0.2811893309186632|\n",
      "+--------------------+--------------------+----------------+------------------+----------------+----------+-------------------------+-------------------------+--------+--------+--------+--------+---------------+-----------------+---------------+---------------+--------------------+--------------+---------------+------------------+------------------+------+--------------------+--------------------+--------------------+----------+--------------------+--------------------+-------------------+\n",
      "only showing top 20 rows\n"
     ]
    },
    {
     "name": "stderr",
     "output_type": "stream",
     "text": [
      "25/08/11 00:29:56 WARN DAGScheduler: Broadcasting large task binary with size 7.2 MiB\n"
     ]
    }
   ],
   "source": [
    "preds_base.show()"
   ]
  },
  {
   "cell_type": "code",
   "execution_count": 22,
   "id": "a709f494-7fa2-43d9-a1cb-0881191ad0b6",
   "metadata": {
    "tags": []
   },
   "outputs": [
    {
     "name": "stderr",
     "output_type": "stream",
     "text": [
      "25/08/11 00:29:57 WARN DAGScheduler: Broadcasting large task binary with size 7.2 MiB\n",
      "25/08/11 00:29:59 WARN DAGScheduler: Broadcasting large task binary with size 7.2 MiB\n",
      "25/08/11 00:29:59 WARN DAGScheduler: Broadcasting large task binary with size 7.2 MiB\n",
      "25/08/11 00:29:59 WARN DAGScheduler: Broadcasting large task binary with size 7.2 MiB\n",
      "25/08/11 00:30:00 WARN DAGScheduler: Broadcasting large task binary with size 7.2 MiB\n",
      "25/08/11 00:30:01 WARN DAGScheduler: Broadcasting large task binary with size 7.2 MiB\n"
     ]
    },
    {
     "name": "stdout",
     "output_type": "stream",
     "text": [
      "+-----------------+-----+-----+\n",
      "|target_prediction|  0.0|  1.0|\n",
      "+-----------------+-----+-----+\n",
      "|                0|29674| 4618|\n",
      "|                1| 2803|26193|\n",
      "+-----------------+-----+-----+\n",
      "\n"
     ]
    },
    {
     "name": "stderr",
     "output_type": "stream",
     "text": [
      "25/08/11 00:30:02 WARN DAGScheduler: Broadcasting large task binary with size 7.2 MiB\n",
      "                                                                                \r"
     ]
    }
   ],
   "source": [
    "conf_matrix_df = preds_base.select(\"target\", \"prediction\")\\\n",
    "                           .crosstab(\"target\", \"prediction\").fillna(0)\n",
    "conf_matrix_df.show()"
   ]
  },
  {
   "cell_type": "markdown",
   "id": "dfb5413d-57b2-42bf-bb39-8004b669e590",
   "metadata": {},
   "source": [
    "##### Verificando precision, recall e f1 para a base toda com o Tresh padrão"
   ]
  },
  {
   "cell_type": "code",
   "execution_count": 23,
   "id": "8a8d7bd0-d30c-4786-a20d-d31c67040d51",
   "metadata": {
    "tags": []
   },
   "outputs": [
    {
     "name": "stderr",
     "output_type": "stream",
     "text": [
      "25/08/11 00:30:02 WARN DAGScheduler: Broadcasting large task binary with size 7.2 MiB\n",
      "25/08/11 00:30:04 WARN DAGScheduler: Broadcasting large task binary with size 7.2 MiB\n",
      "25/08/11 00:30:06 WARN DAGScheduler: Broadcasting large task binary with size 7.2 MiB\n",
      "25/08/11 00:30:07 WARN DAGScheduler: Broadcasting large task binary with size 7.2 MiB\n",
      "[Stage 1205:>                                                       (0 + 1) / 1]\r"
     ]
    },
    {
     "name": "stdout",
     "output_type": "stream",
     "text": [
      "29674 4618 2803 26193\n",
      "precision: 0.85012\n",
      "recall: 0.90333\n",
      "f1: 0.87592\n"
     ]
    },
    {
     "name": "stderr",
     "output_type": "stream",
     "text": [
      "                                                                                \r"
     ]
    }
   ],
   "source": [
    "pred_probs = preds_base.select('y_proba_class1', 'target')\n",
    "precision, recall, f1, TP, FP, TN, FN = metrics_at(pred_probs, 0.5)\n",
    "\n",
    "print(TN, FP, FN, TP)\n",
    "print(f\"precision: {precision:.5f}\")\n",
    "print(f\"recall: {recall:.5f}\")\n",
    "print(f\"f1: {f1:.5f}\")"
   ]
  },
  {
   "cell_type": "markdown",
   "id": "0e53508e-fa18-41b6-adaa-8a265be10778",
   "metadata": {},
   "source": [
    "##### Verificando precision, recall e f1 para a base toda com o melhor Tresh da base de Teste"
   ]
  },
  {
   "cell_type": "code",
   "execution_count": 24,
   "id": "92d34bf6-26df-4135-b54c-fb82a819a8c1",
   "metadata": {
    "tags": []
   },
   "outputs": [
    {
     "name": "stderr",
     "output_type": "stream",
     "text": [
      "25/08/11 00:30:09 WARN DAGScheduler: Broadcasting large task binary with size 7.2 MiB\n",
      "25/08/11 00:30:11 WARN DAGScheduler: Broadcasting large task binary with size 7.2 MiB\n",
      "25/08/11 00:30:12 WARN DAGScheduler: Broadcasting large task binary with size 7.2 MiB\n",
      "25/08/11 00:30:14 WARN DAGScheduler: Broadcasting large task binary with size 7.2 MiB\n",
      "[Stage 1217:>                                                       (0 + 1) / 1]\r"
     ]
    },
    {
     "name": "stdout",
     "output_type": "stream",
     "text": [
      "29164 5128 2372 26624\n",
      "precision: 0.83850\n",
      "recall: 0.91820\n",
      "f1: 0.87654\n"
     ]
    },
    {
     "name": "stderr",
     "output_type": "stream",
     "text": [
      "                                                                                \r"
     ]
    }
   ],
   "source": [
    "pred_probs = preds_base.select('y_proba_class1', 'target')\n",
    "precision, recall, f1, TP, FP, TN, FN = metrics_at(pred_probs, test_best_tresh)\n",
    "\n",
    "print(TN, FP, FN, TP)\n",
    "print(f\"precision: {precision:.5f}\")\n",
    "print(f\"recall: {recall:.5f}\")\n",
    "print(f\"f1: {f1:.5f}\")"
   ]
  },
  {
   "cell_type": "markdown",
   "id": "bf0d1f14-28f8-4904-ab2e-3fe52c040623",
   "metadata": {},
   "source": [
    "##### Procurando melhor Tresh quando considerado toda a base"
   ]
  },
  {
   "cell_type": "code",
   "execution_count": 25,
   "id": "19e8ad3f-df07-42ed-ab67-c069e011c9f2",
   "metadata": {
    "scrolled": true
   },
   "outputs": [
    {
     "name": "stderr",
     "output_type": "stream",
     "text": [
      "25/08/11 00:30:16 WARN DAGScheduler: Broadcasting large task binary with size 7.2 MiB\n",
      "25/08/11 00:30:18 WARN DAGScheduler: Broadcasting large task binary with size 7.2 MiB\n",
      "25/08/11 00:30:20 WARN DAGScheduler: Broadcasting large task binary with size 7.2 MiB\n",
      "25/08/11 00:30:21 WARN DAGScheduler: Broadcasting large task binary with size 7.2 MiB\n",
      "25/08/11 00:30:23 WARN DAGScheduler: Broadcasting large task binary with size 7.2 MiB\n",
      "25/08/11 00:30:25 WARN DAGScheduler: Broadcasting large task binary with size 7.2 MiB\n",
      "25/08/11 00:30:27 WARN DAGScheduler: Broadcasting large task binary with size 7.2 MiB\n",
      "25/08/11 00:30:29 WARN DAGScheduler: Broadcasting large task binary with size 7.2 MiB\n",
      "25/08/11 00:30:30 WARN DAGScheduler: Broadcasting large task binary with size 7.2 MiB\n",
      "25/08/11 00:30:32 WARN DAGScheduler: Broadcasting large task binary with size 7.2 MiB\n",
      "25/08/11 00:30:34 WARN DAGScheduler: Broadcasting large task binary with size 7.2 MiB\n",
      "25/08/11 00:30:36 WARN DAGScheduler: Broadcasting large task binary with size 7.2 MiB\n",
      "25/08/11 00:30:38 WARN DAGScheduler: Broadcasting large task binary with size 7.2 MiB\n",
      "25/08/11 00:30:39 WARN DAGScheduler: Broadcasting large task binary with size 7.2 MiB\n",
      "25/08/11 00:30:41 WARN DAGScheduler: Broadcasting large task binary with size 7.2 MiB\n",
      "25/08/11 00:30:43 WARN DAGScheduler: Broadcasting large task binary with size 7.2 MiB\n",
      "25/08/11 00:30:45 WARN DAGScheduler: Broadcasting large task binary with size 7.2 MiB\n",
      "25/08/11 00:30:46 WARN DAGScheduler: Broadcasting large task binary with size 7.2 MiB\n",
      "25/08/11 00:30:48 WARN DAGScheduler: Broadcasting large task binary with size 7.2 MiB\n",
      "25/08/11 00:30:50 WARN DAGScheduler: Broadcasting large task binary with size 7.2 MiB\n",
      "25/08/11 00:30:51 WARN DAGScheduler: Broadcasting large task binary with size 7.2 MiB\n",
      "25/08/11 00:30:53 WARN DAGScheduler: Broadcasting large task binary with size 7.2 MiB\n",
      "25/08/11 00:30:55 WARN DAGScheduler: Broadcasting large task binary with size 7.2 MiB\n",
      "25/08/11 00:30:56 WARN DAGScheduler: Broadcasting large task binary with size 7.2 MiB\n",
      "25/08/11 00:30:58 WARN DAGScheduler: Broadcasting large task binary with size 7.2 MiB\n",
      "25/08/11 00:30:59 WARN DAGScheduler: Broadcasting large task binary with size 7.2 MiB\n",
      "25/08/11 00:31:01 WARN DAGScheduler: Broadcasting large task binary with size 7.2 MiB\n",
      "25/08/11 00:31:03 WARN DAGScheduler: Broadcasting large task binary with size 7.2 MiB\n",
      "25/08/11 00:31:04 WARN DAGScheduler: Broadcasting large task binary with size 7.2 MiB\n",
      "25/08/11 00:31:06 WARN DAGScheduler: Broadcasting large task binary with size 7.2 MiB\n",
      "25/08/11 00:31:07 WARN DAGScheduler: Broadcasting large task binary with size 7.2 MiB\n",
      "25/08/11 00:31:09 WARN DAGScheduler: Broadcasting large task binary with size 7.2 MiB\n",
      "25/08/11 00:31:10 WARN DAGScheduler: Broadcasting large task binary with size 7.2 MiB\n",
      "25/08/11 00:31:12 WARN DAGScheduler: Broadcasting large task binary with size 7.2 MiB\n",
      "25/08/11 00:31:13 WARN DAGScheduler: Broadcasting large task binary with size 7.2 MiB\n",
      "25/08/11 00:31:15 WARN DAGScheduler: Broadcasting large task binary with size 7.2 MiB\n",
      "25/08/11 00:31:17 WARN DAGScheduler: Broadcasting large task binary with size 7.2 MiB\n",
      "25/08/11 00:31:18 WARN DAGScheduler: Broadcasting large task binary with size 7.2 MiB\n",
      "25/08/11 00:31:20 WARN DAGScheduler: Broadcasting large task binary with size 7.2 MiB\n",
      "25/08/11 00:31:22 WARN DAGScheduler: Broadcasting large task binary with size 7.2 MiB\n",
      "25/08/11 00:31:23 WARN DAGScheduler: Broadcasting large task binary with size 7.2 MiB\n",
      "25/08/11 00:31:25 WARN DAGScheduler: Broadcasting large task binary with size 7.2 MiB\n",
      "25/08/11 00:31:27 WARN DAGScheduler: Broadcasting large task binary with size 7.2 MiB\n",
      "25/08/11 00:31:29 WARN DAGScheduler: Broadcasting large task binary with size 7.2 MiB\n",
      "25/08/11 00:31:31 WARN DAGScheduler: Broadcasting large task binary with size 7.2 MiB\n",
      "25/08/11 00:31:33 WARN DAGScheduler: Broadcasting large task binary with size 7.2 MiB\n",
      "25/08/11 00:31:35 WARN DAGScheduler: Broadcasting large task binary with size 7.2 MiB\n",
      "25/08/11 00:31:36 WARN DAGScheduler: Broadcasting large task binary with size 7.2 MiB\n",
      "25/08/11 00:31:38 WARN DAGScheduler: Broadcasting large task binary with size 7.2 MiB\n",
      "25/08/11 00:31:40 WARN DAGScheduler: Broadcasting large task binary with size 7.2 MiB\n",
      "25/08/11 00:31:42 WARN DAGScheduler: Broadcasting large task binary with size 7.2 MiB\n",
      "25/08/11 00:31:43 WARN DAGScheduler: Broadcasting large task binary with size 7.2 MiB\n",
      "25/08/11 00:31:45 WARN DAGScheduler: Broadcasting large task binary with size 7.2 MiB\n",
      "25/08/11 00:31:47 WARN DAGScheduler: Broadcasting large task binary with size 7.2 MiB\n",
      "25/08/11 00:31:49 WARN DAGScheduler: Broadcasting large task binary with size 7.2 MiB\n",
      "25/08/11 00:31:51 WARN DAGScheduler: Broadcasting large task binary with size 7.2 MiB\n",
      "25/08/11 00:31:53 WARN DAGScheduler: Broadcasting large task binary with size 7.2 MiB\n",
      "25/08/11 00:31:55 WARN DAGScheduler: Broadcasting large task binary with size 7.2 MiB\n",
      "25/08/11 00:31:57 WARN DAGScheduler: Broadcasting large task binary with size 7.2 MiB\n",
      "25/08/11 00:31:58 WARN DAGScheduler: Broadcasting large task binary with size 7.2 MiB\n",
      "25/08/11 00:32:00 WARN DAGScheduler: Broadcasting large task binary with size 7.2 MiB\n",
      "25/08/11 00:32:02 WARN DAGScheduler: Broadcasting large task binary with size 7.2 MiB\n",
      "25/08/11 00:32:04 WARN DAGScheduler: Broadcasting large task binary with size 7.2 MiB\n",
      "25/08/11 00:32:06 WARN DAGScheduler: Broadcasting large task binary with size 7.2 MiB\n",
      "25/08/11 00:32:07 WARN DAGScheduler: Broadcasting large task binary with size 7.2 MiB\n",
      "25/08/11 00:32:09 WARN DAGScheduler: Broadcasting large task binary with size 7.2 MiB\n",
      "25/08/11 00:32:11 WARN DAGScheduler: Broadcasting large task binary with size 7.2 MiB\n",
      "25/08/11 00:32:13 WARN DAGScheduler: Broadcasting large task binary with size 7.2 MiB\n",
      "25/08/11 00:32:14 WARN DAGScheduler: Broadcasting large task binary with size 7.2 MiB\n",
      "25/08/11 00:32:16 WARN DAGScheduler: Broadcasting large task binary with size 7.2 MiB\n",
      "25/08/11 00:32:18 WARN DAGScheduler: Broadcasting large task binary with size 7.2 MiB\n",
      "25/08/11 00:32:20 WARN DAGScheduler: Broadcasting large task binary with size 7.2 MiB\n",
      "25/08/11 00:32:22 WARN DAGScheduler: Broadcasting large task binary with size 7.2 MiB\n",
      "25/08/11 00:32:23 WARN DAGScheduler: Broadcasting large task binary with size 7.2 MiB\n",
      "25/08/11 00:32:25 WARN DAGScheduler: Broadcasting large task binary with size 7.2 MiB\n",
      "25/08/11 00:32:27 WARN DAGScheduler: Broadcasting large task binary with size 7.2 MiB\n",
      "25/08/11 00:32:28 WARN DAGScheduler: Broadcasting large task binary with size 7.2 MiB\n",
      "25/08/11 00:32:30 WARN DAGScheduler: Broadcasting large task binary with size 7.2 MiB\n",
      "25/08/11 00:32:32 WARN DAGScheduler: Broadcasting large task binary with size 7.2 MiB\n",
      "25/08/11 00:32:34 WARN DAGScheduler: Broadcasting large task binary with size 7.2 MiB\n",
      "25/08/11 00:32:36 WARN DAGScheduler: Broadcasting large task binary with size 7.2 MiB\n",
      "25/08/11 00:32:38 WARN DAGScheduler: Broadcasting large task binary with size 7.2 MiB\n",
      "25/08/11 00:32:40 WARN DAGScheduler: Broadcasting large task binary with size 7.2 MiB\n",
      "25/08/11 00:32:41 WARN DAGScheduler: Broadcasting large task binary with size 7.2 MiB\n",
      "25/08/11 00:32:43 WARN DAGScheduler: Broadcasting large task binary with size 7.2 MiB\n",
      "25/08/11 00:32:45 WARN DAGScheduler: Broadcasting large task binary with size 7.2 MiB\n",
      "25/08/11 00:32:47 WARN DAGScheduler: Broadcasting large task binary with size 7.2 MiB\n",
      "25/08/11 00:32:49 WARN DAGScheduler: Broadcasting large task binary with size 7.2 MiB\n",
      "25/08/11 00:32:50 WARN DAGScheduler: Broadcasting large task binary with size 7.2 MiB\n",
      "25/08/11 00:32:52 WARN DAGScheduler: Broadcasting large task binary with size 7.2 MiB\n",
      "25/08/11 00:32:54 WARN DAGScheduler: Broadcasting large task binary with size 7.2 MiB\n",
      "25/08/11 00:32:56 WARN DAGScheduler: Broadcasting large task binary with size 7.2 MiB\n",
      "25/08/11 00:32:58 WARN DAGScheduler: Broadcasting large task binary with size 7.2 MiB\n",
      "25/08/11 00:33:00 WARN DAGScheduler: Broadcasting large task binary with size 7.2 MiB\n",
      "25/08/11 00:33:01 WARN DAGScheduler: Broadcasting large task binary with size 7.2 MiB\n",
      "25/08/11 00:33:03 WARN DAGScheduler: Broadcasting large task binary with size 7.2 MiB\n",
      "25/08/11 00:33:05 WARN DAGScheduler: Broadcasting large task binary with size 7.2 MiB\n",
      "25/08/11 00:33:07 WARN DAGScheduler: Broadcasting large task binary with size 7.2 MiB\n",
      "25/08/11 00:33:09 WARN DAGScheduler: Broadcasting large task binary with size 7.2 MiB\n",
      "25/08/11 00:33:11 WARN DAGScheduler: Broadcasting large task binary with size 7.2 MiB\n",
      "25/08/11 00:33:12 WARN DAGScheduler: Broadcasting large task binary with size 7.2 MiB\n",
      "25/08/11 00:33:15 WARN DAGScheduler: Broadcasting large task binary with size 7.2 MiB\n",
      "25/08/11 00:33:17 WARN DAGScheduler: Broadcasting large task binary with size 7.2 MiB\n",
      "25/08/11 00:33:19 WARN DAGScheduler: Broadcasting large task binary with size 7.2 MiB\n",
      "25/08/11 00:33:20 WARN DAGScheduler: Broadcasting large task binary with size 7.2 MiB\n",
      "25/08/11 00:33:22 WARN DAGScheduler: Broadcasting large task binary with size 7.2 MiB\n",
      "25/08/11 00:33:24 WARN DAGScheduler: Broadcasting large task binary with size 7.2 MiB\n",
      "25/08/11 00:33:26 WARN DAGScheduler: Broadcasting large task binary with size 7.2 MiB\n",
      "25/08/11 00:33:28 WARN DAGScheduler: Broadcasting large task binary with size 7.2 MiB\n",
      "25/08/11 00:33:30 WARN DAGScheduler: Broadcasting large task binary with size 7.2 MiB\n",
      "25/08/11 00:33:32 WARN DAGScheduler: Broadcasting large task binary with size 7.2 MiB\n",
      "25/08/11 00:33:33 WARN DAGScheduler: Broadcasting large task binary with size 7.2 MiB\n",
      "25/08/11 00:33:35 WARN DAGScheduler: Broadcasting large task binary with size 7.2 MiB\n",
      "25/08/11 00:33:37 WARN DAGScheduler: Broadcasting large task binary with size 7.2 MiB\n",
      "25/08/11 00:33:39 WARN DAGScheduler: Broadcasting large task binary with size 7.2 MiB\n",
      "25/08/11 00:33:41 WARN DAGScheduler: Broadcasting large task binary with size 7.2 MiB\n",
      "25/08/11 00:33:43 WARN DAGScheduler: Broadcasting large task binary with size 7.2 MiB\n",
      "25/08/11 00:33:45 WARN DAGScheduler: Broadcasting large task binary with size 7.2 MiB\n",
      "25/08/11 00:33:46 WARN DAGScheduler: Broadcasting large task binary with size 7.2 MiB\n",
      "25/08/11 00:33:48 WARN DAGScheduler: Broadcasting large task binary with size 7.2 MiB\n",
      "25/08/11 00:33:50 WARN DAGScheduler: Broadcasting large task binary with size 7.2 MiB\n",
      "25/08/11 00:33:52 WARN DAGScheduler: Broadcasting large task binary with size 7.2 MiB\n",
      "25/08/11 00:33:54 WARN DAGScheduler: Broadcasting large task binary with size 7.2 MiB\n",
      "25/08/11 00:33:56 WARN DAGScheduler: Broadcasting large task binary with size 7.2 MiB\n",
      "25/08/11 00:33:57 WARN DAGScheduler: Broadcasting large task binary with size 7.2 MiB\n",
      "25/08/11 00:33:59 WARN DAGScheduler: Broadcasting large task binary with size 7.2 MiB\n",
      "25/08/11 00:34:01 WARN DAGScheduler: Broadcasting large task binary with size 7.2 MiB\n",
      "25/08/11 00:34:03 WARN DAGScheduler: Broadcasting large task binary with size 7.2 MiB\n",
      "25/08/11 00:34:05 WARN DAGScheduler: Broadcasting large task binary with size 7.2 MiB\n",
      "25/08/11 00:34:07 WARN DAGScheduler: Broadcasting large task binary with size 7.2 MiB\n",
      "25/08/11 00:34:08 WARN DAGScheduler: Broadcasting large task binary with size 7.2 MiB\n",
      "25/08/11 00:34:10 WARN DAGScheduler: Broadcasting large task binary with size 7.2 MiB\n",
      "25/08/11 00:34:12 WARN DAGScheduler: Broadcasting large task binary with size 7.2 MiB\n",
      "25/08/11 00:34:14 WARN DAGScheduler: Broadcasting large task binary with size 7.2 MiB\n",
      "25/08/11 00:34:15 WARN DAGScheduler: Broadcasting large task binary with size 7.2 MiB\n",
      "25/08/11 00:34:17 WARN DAGScheduler: Broadcasting large task binary with size 7.2 MiB\n",
      "25/08/11 00:34:19 WARN DAGScheduler: Broadcasting large task binary with size 7.2 MiB\n",
      "25/08/11 00:34:21 WARN DAGScheduler: Broadcasting large task binary with size 7.2 MiB\n",
      "25/08/11 00:34:23 WARN DAGScheduler: Broadcasting large task binary with size 7.2 MiB\n",
      "25/08/11 00:34:25 WARN DAGScheduler: Broadcasting large task binary with size 7.2 MiB\n",
      "25/08/11 00:34:27 WARN DAGScheduler: Broadcasting large task binary with size 7.2 MiB\n",
      "25/08/11 00:34:29 WARN DAGScheduler: Broadcasting large task binary with size 7.2 MiB\n",
      "25/08/11 00:34:31 WARN DAGScheduler: Broadcasting large task binary with size 7.2 MiB\n",
      "25/08/11 00:34:33 WARN DAGScheduler: Broadcasting large task binary with size 7.2 MiB\n",
      "25/08/11 00:34:34 WARN DAGScheduler: Broadcasting large task binary with size 7.2 MiB\n",
      "25/08/11 00:34:36 WARN DAGScheduler: Broadcasting large task binary with size 7.2 MiB\n",
      "25/08/11 00:34:38 WARN DAGScheduler: Broadcasting large task binary with size 7.2 MiB\n",
      "25/08/11 00:34:40 WARN DAGScheduler: Broadcasting large task binary with size 7.2 MiB\n",
      "25/08/11 00:34:42 WARN DAGScheduler: Broadcasting large task binary with size 7.2 MiB\n",
      "25/08/11 00:34:43 WARN DAGScheduler: Broadcasting large task binary with size 7.2 MiB\n",
      "25/08/11 00:34:45 WARN DAGScheduler: Broadcasting large task binary with size 7.2 MiB\n",
      "25/08/11 00:34:47 WARN DAGScheduler: Broadcasting large task binary with size 7.2 MiB\n",
      "25/08/11 00:34:49 WARN DAGScheduler: Broadcasting large task binary with size 7.2 MiB\n",
      "25/08/11 00:34:51 WARN DAGScheduler: Broadcasting large task binary with size 7.2 MiB\n",
      "25/08/11 00:34:53 WARN DAGScheduler: Broadcasting large task binary with size 7.2 MiB\n",
      "25/08/11 00:34:55 WARN DAGScheduler: Broadcasting large task binary with size 7.2 MiB\n",
      "25/08/11 00:34:57 WARN DAGScheduler: Broadcasting large task binary with size 7.2 MiB\n",
      "25/08/11 00:34:59 WARN DAGScheduler: Broadcasting large task binary with size 7.2 MiB\n",
      "25/08/11 00:35:01 WARN DAGScheduler: Broadcasting large task binary with size 7.2 MiB\n",
      "25/08/11 00:35:03 WARN DAGScheduler: Broadcasting large task binary with size 7.2 MiB\n",
      "25/08/11 00:35:05 WARN DAGScheduler: Broadcasting large task binary with size 7.2 MiB\n",
      "25/08/11 00:35:07 WARN DAGScheduler: Broadcasting large task binary with size 7.2 MiB\n",
      "25/08/11 00:35:09 WARN DAGScheduler: Broadcasting large task binary with size 7.2 MiB\n",
      "25/08/11 00:35:11 WARN DAGScheduler: Broadcasting large task binary with size 7.2 MiB\n",
      "25/08/11 00:35:13 WARN DAGScheduler: Broadcasting large task binary with size 7.2 MiB\n",
      "25/08/11 00:35:15 WARN DAGScheduler: Broadcasting large task binary with size 7.2 MiB\n",
      "25/08/11 00:35:17 WARN DAGScheduler: Broadcasting large task binary with size 7.2 MiB\n",
      "25/08/11 00:35:19 WARN DAGScheduler: Broadcasting large task binary with size 7.2 MiB\n",
      "25/08/11 00:35:20 WARN DAGScheduler: Broadcasting large task binary with size 7.2 MiB\n",
      "25/08/11 00:35:22 WARN DAGScheduler: Broadcasting large task binary with size 7.2 MiB\n",
      "25/08/11 00:35:24 WARN DAGScheduler: Broadcasting large task binary with size 7.2 MiB\n",
      "25/08/11 00:35:26 WARN DAGScheduler: Broadcasting large task binary with size 7.2 MiB\n",
      "25/08/11 00:35:28 WARN DAGScheduler: Broadcasting large task binary with size 7.2 MiB\n",
      "25/08/11 00:35:31 WARN DAGScheduler: Broadcasting large task binary with size 7.2 MiB\n",
      "25/08/11 00:35:32 WARN DAGScheduler: Broadcasting large task binary with size 7.2 MiB\n",
      "25/08/11 00:35:35 WARN DAGScheduler: Broadcasting large task binary with size 7.2 MiB\n",
      "25/08/11 00:35:37 WARN DAGScheduler: Broadcasting large task binary with size 7.2 MiB\n",
      "25/08/11 00:35:39 WARN DAGScheduler: Broadcasting large task binary with size 7.2 MiB\n",
      "25/08/11 00:35:40 WARN DAGScheduler: Broadcasting large task binary with size 7.2 MiB\n",
      "25/08/11 00:35:42 WARN DAGScheduler: Broadcasting large task binary with size 7.2 MiB\n",
      "25/08/11 00:35:44 WARN DAGScheduler: Broadcasting large task binary with size 7.2 MiB\n",
      "25/08/11 00:35:46 WARN DAGScheduler: Broadcasting large task binary with size 7.2 MiB\n",
      "25/08/11 00:35:48 WARN DAGScheduler: Broadcasting large task binary with size 7.2 MiB\n",
      "25/08/11 00:35:50 WARN DAGScheduler: Broadcasting large task binary with size 7.2 MiB\n",
      "25/08/11 00:35:52 WARN DAGScheduler: Broadcasting large task binary with size 7.2 MiB\n",
      "25/08/11 00:35:54 WARN DAGScheduler: Broadcasting large task binary with size 7.2 MiB\n",
      "25/08/11 00:35:56 WARN DAGScheduler: Broadcasting large task binary with size 7.2 MiB\n",
      "25/08/11 00:35:58 WARN DAGScheduler: Broadcasting large task binary with size 7.2 MiB\n",
      "25/08/11 00:35:59 WARN DAGScheduler: Broadcasting large task binary with size 7.2 MiB\n",
      "25/08/11 00:36:01 WARN DAGScheduler: Broadcasting large task binary with size 7.2 MiB\n",
      "25/08/11 00:36:04 WARN DAGScheduler: Broadcasting large task binary with size 7.2 MiB\n",
      "25/08/11 00:36:06 WARN DAGScheduler: Broadcasting large task binary with size 7.2 MiB\n",
      "25/08/11 00:36:07 WARN DAGScheduler: Broadcasting large task binary with size 7.2 MiB\n",
      "25/08/11 00:36:09 WARN DAGScheduler: Broadcasting large task binary with size 7.2 MiB\n",
      "25/08/11 00:36:11 WARN DAGScheduler: Broadcasting large task binary with size 7.2 MiB\n",
      "25/08/11 00:36:13 WARN DAGScheduler: Broadcasting large task binary with size 7.2 MiB\n",
      "25/08/11 00:36:15 WARN DAGScheduler: Broadcasting large task binary with size 7.2 MiB\n",
      "25/08/11 00:36:17 WARN DAGScheduler: Broadcasting large task binary with size 7.2 MiB\n",
      "25/08/11 00:36:19 WARN DAGScheduler: Broadcasting large task binary with size 7.2 MiB\n",
      "25/08/11 00:36:21 WARN DAGScheduler: Broadcasting large task binary with size 7.2 MiB\n",
      "25/08/11 00:36:23 WARN DAGScheduler: Broadcasting large task binary with size 7.2 MiB\n",
      "25/08/11 00:36:25 WARN DAGScheduler: Broadcasting large task binary with size 7.2 MiB\n",
      "25/08/11 00:36:27 WARN DAGScheduler: Broadcasting large task binary with size 7.2 MiB\n",
      "25/08/11 00:36:29 WARN DAGScheduler: Broadcasting large task binary with size 7.2 MiB\n",
      "25/08/11 00:36:31 WARN DAGScheduler: Broadcasting large task binary with size 7.2 MiB\n",
      "25/08/11 00:36:33 WARN DAGScheduler: Broadcasting large task binary with size 7.2 MiB\n",
      "25/08/11 00:36:35 WARN DAGScheduler: Broadcasting large task binary with size 7.2 MiB\n",
      "25/08/11 00:36:36 WARN DAGScheduler: Broadcasting large task binary with size 7.2 MiB\n",
      "25/08/11 00:36:38 WARN DAGScheduler: Broadcasting large task binary with size 7.2 MiB\n",
      "25/08/11 00:36:40 WARN DAGScheduler: Broadcasting large task binary with size 7.2 MiB\n",
      "25/08/11 00:36:42 WARN DAGScheduler: Broadcasting large task binary with size 7.2 MiB\n",
      "25/08/11 00:36:44 WARN DAGScheduler: Broadcasting large task binary with size 7.2 MiB\n",
      "25/08/11 00:36:46 WARN DAGScheduler: Broadcasting large task binary with size 7.2 MiB\n",
      "25/08/11 00:36:47 WARN DAGScheduler: Broadcasting large task binary with size 7.2 MiB\n",
      "25/08/11 00:36:49 WARN DAGScheduler: Broadcasting large task binary with size 7.2 MiB\n",
      "25/08/11 00:36:51 WARN DAGScheduler: Broadcasting large task binary with size 7.2 MiB\n",
      "25/08/11 00:36:53 WARN DAGScheduler: Broadcasting large task binary with size 7.2 MiB\n",
      "25/08/11 00:36:55 WARN DAGScheduler: Broadcasting large task binary with size 7.2 MiB\n",
      "25/08/11 00:36:57 WARN DAGScheduler: Broadcasting large task binary with size 7.2 MiB\n",
      "25/08/11 00:36:59 WARN DAGScheduler: Broadcasting large task binary with size 7.2 MiB\n",
      "25/08/11 00:37:01 WARN DAGScheduler: Broadcasting large task binary with size 7.2 MiB\n",
      "25/08/11 00:37:03 WARN DAGScheduler: Broadcasting large task binary with size 7.2 MiB\n",
      "25/08/11 00:37:05 WARN DAGScheduler: Broadcasting large task binary with size 7.2 MiB\n",
      "25/08/11 00:37:07 WARN DAGScheduler: Broadcasting large task binary with size 7.2 MiB\n",
      "25/08/11 00:37:08 WARN DAGScheduler: Broadcasting large task binary with size 7.2 MiB\n",
      "25/08/11 00:37:10 WARN DAGScheduler: Broadcasting large task binary with size 7.2 MiB\n",
      "25/08/11 00:37:12 WARN DAGScheduler: Broadcasting large task binary with size 7.2 MiB\n",
      "25/08/11 00:37:14 WARN DAGScheduler: Broadcasting large task binary with size 7.2 MiB\n",
      "25/08/11 00:37:16 WARN DAGScheduler: Broadcasting large task binary with size 7.2 MiB\n",
      "25/08/11 00:37:18 WARN DAGScheduler: Broadcasting large task binary with size 7.2 MiB\n",
      "25/08/11 00:37:20 WARN DAGScheduler: Broadcasting large task binary with size 7.2 MiB\n",
      "25/08/11 00:37:22 WARN DAGScheduler: Broadcasting large task binary with size 7.2 MiB\n",
      "25/08/11 00:37:24 WARN DAGScheduler: Broadcasting large task binary with size 7.2 MiB\n",
      "25/08/11 00:37:26 WARN DAGScheduler: Broadcasting large task binary with size 7.2 MiB\n",
      "25/08/11 00:37:27 WARN DAGScheduler: Broadcasting large task binary with size 7.2 MiB\n",
      "25/08/11 00:37:29 WARN DAGScheduler: Broadcasting large task binary with size 7.2 MiB\n",
      "25/08/11 00:37:31 WARN DAGScheduler: Broadcasting large task binary with size 7.2 MiB\n",
      "25/08/11 00:37:33 WARN DAGScheduler: Broadcasting large task binary with size 7.2 MiB\n",
      "25/08/11 00:37:34 WARN DAGScheduler: Broadcasting large task binary with size 7.2 MiB\n",
      "25/08/11 00:37:36 WARN DAGScheduler: Broadcasting large task binary with size 7.2 MiB\n",
      "25/08/11 00:37:38 WARN DAGScheduler: Broadcasting large task binary with size 7.2 MiB\n",
      "25/08/11 00:37:39 WARN DAGScheduler: Broadcasting large task binary with size 7.2 MiB\n",
      "25/08/11 00:37:41 WARN DAGScheduler: Broadcasting large task binary with size 7.2 MiB\n",
      "25/08/11 00:37:43 WARN DAGScheduler: Broadcasting large task binary with size 7.2 MiB\n",
      "25/08/11 00:37:45 WARN DAGScheduler: Broadcasting large task binary with size 7.2 MiB\n",
      "25/08/11 00:37:47 WARN DAGScheduler: Broadcasting large task binary with size 7.2 MiB\n",
      "25/08/11 00:37:49 WARN DAGScheduler: Broadcasting large task binary with size 7.2 MiB\n",
      "25/08/11 00:37:51 WARN DAGScheduler: Broadcasting large task binary with size 7.2 MiB\n",
      "25/08/11 00:37:53 WARN DAGScheduler: Broadcasting large task binary with size 7.2 MiB\n",
      "25/08/11 00:37:54 WARN DAGScheduler: Broadcasting large task binary with size 7.2 MiB\n",
      "25/08/11 00:37:56 WARN DAGScheduler: Broadcasting large task binary with size 7.2 MiB\n",
      "25/08/11 00:37:58 WARN DAGScheduler: Broadcasting large task binary with size 7.2 MiB\n",
      "25/08/11 00:38:00 WARN DAGScheduler: Broadcasting large task binary with size 7.2 MiB\n",
      "25/08/11 00:38:01 WARN DAGScheduler: Broadcasting large task binary with size 7.2 MiB\n",
      "25/08/11 00:38:03 WARN DAGScheduler: Broadcasting large task binary with size 7.2 MiB\n",
      "25/08/11 00:38:05 WARN DAGScheduler: Broadcasting large task binary with size 7.2 MiB\n",
      "25/08/11 00:38:06 WARN DAGScheduler: Broadcasting large task binary with size 7.2 MiB\n",
      "25/08/11 00:38:08 WARN DAGScheduler: Broadcasting large task binary with size 7.2 MiB\n",
      "25/08/11 00:38:10 WARN DAGScheduler: Broadcasting large task binary with size 7.2 MiB\n",
      "25/08/11 00:38:11 WARN DAGScheduler: Broadcasting large task binary with size 7.2 MiB\n",
      "25/08/11 00:38:14 WARN DAGScheduler: Broadcasting large task binary with size 7.2 MiB\n",
      "25/08/11 00:38:16 WARN DAGScheduler: Broadcasting large task binary with size 7.2 MiB\n",
      "25/08/11 00:38:18 WARN DAGScheduler: Broadcasting large task binary with size 7.2 MiB\n",
      "25/08/11 00:38:20 WARN DAGScheduler: Broadcasting large task binary with size 7.2 MiB\n",
      "25/08/11 00:38:22 WARN DAGScheduler: Broadcasting large task binary with size 7.2 MiB\n",
      "25/08/11 00:38:24 WARN DAGScheduler: Broadcasting large task binary with size 7.2 MiB\n",
      "25/08/11 00:38:26 WARN DAGScheduler: Broadcasting large task binary with size 7.2 MiB\n",
      "25/08/11 00:38:27 WARN DAGScheduler: Broadcasting large task binary with size 7.2 MiB\n",
      "25/08/11 00:38:29 WARN DAGScheduler: Broadcasting large task binary with size 7.2 MiB\n",
      "25/08/11 00:38:31 WARN DAGScheduler: Broadcasting large task binary with size 7.2 MiB\n",
      "25/08/11 00:38:33 WARN DAGScheduler: Broadcasting large task binary with size 7.2 MiB\n",
      "25/08/11 00:38:35 WARN DAGScheduler: Broadcasting large task binary with size 7.2 MiB\n",
      "25/08/11 00:38:37 WARN DAGScheduler: Broadcasting large task binary with size 7.2 MiB\n",
      "25/08/11 00:38:39 WARN DAGScheduler: Broadcasting large task binary with size 7.2 MiB\n",
      "25/08/11 00:38:41 WARN DAGScheduler: Broadcasting large task binary with size 7.2 MiB\n",
      "25/08/11 00:38:43 WARN DAGScheduler: Broadcasting large task binary with size 7.2 MiB\n",
      "25/08/11 00:38:45 WARN DAGScheduler: Broadcasting large task binary with size 7.2 MiB\n",
      "25/08/11 00:38:47 WARN DAGScheduler: Broadcasting large task binary with size 7.2 MiB\n",
      "25/08/11 00:38:49 WARN DAGScheduler: Broadcasting large task binary with size 7.2 MiB\n",
      "25/08/11 00:38:51 WARN DAGScheduler: Broadcasting large task binary with size 7.2 MiB\n",
      "25/08/11 00:38:53 WARN DAGScheduler: Broadcasting large task binary with size 7.2 MiB\n",
      "25/08/11 00:38:54 WARN DAGScheduler: Broadcasting large task binary with size 7.2 MiB\n",
      "25/08/11 00:38:56 WARN DAGScheduler: Broadcasting large task binary with size 7.2 MiB\n",
      "25/08/11 00:38:58 WARN DAGScheduler: Broadcasting large task binary with size 7.2 MiB\n",
      "25/08/11 00:39:00 WARN DAGScheduler: Broadcasting large task binary with size 7.2 MiB\n",
      "25/08/11 00:39:01 WARN DAGScheduler: Broadcasting large task binary with size 7.2 MiB\n",
      "25/08/11 00:39:03 WARN DAGScheduler: Broadcasting large task binary with size 7.2 MiB\n",
      "25/08/11 00:39:05 WARN DAGScheduler: Broadcasting large task binary with size 7.2 MiB\n",
      "25/08/11 00:39:07 WARN DAGScheduler: Broadcasting large task binary with size 7.2 MiB\n",
      "25/08/11 00:39:08 WARN DAGScheduler: Broadcasting large task binary with size 7.2 MiB\n",
      "25/08/11 00:39:10 WARN DAGScheduler: Broadcasting large task binary with size 7.2 MiB\n",
      "25/08/11 00:39:12 WARN DAGScheduler: Broadcasting large task binary with size 7.2 MiB\n",
      "25/08/11 00:39:14 WARN DAGScheduler: Broadcasting large task binary with size 7.2 MiB\n",
      "25/08/11 00:39:16 WARN DAGScheduler: Broadcasting large task binary with size 7.2 MiB\n",
      "25/08/11 00:39:17 WARN DAGScheduler: Broadcasting large task binary with size 7.2 MiB\n",
      "25/08/11 00:39:19 WARN DAGScheduler: Broadcasting large task binary with size 7.2 MiB\n",
      "25/08/11 00:39:21 WARN DAGScheduler: Broadcasting large task binary with size 7.2 MiB\n",
      "25/08/11 00:39:23 WARN DAGScheduler: Broadcasting large task binary with size 7.2 MiB\n",
      "25/08/11 00:39:25 WARN DAGScheduler: Broadcasting large task binary with size 7.2 MiB\n",
      "25/08/11 00:39:26 WARN DAGScheduler: Broadcasting large task binary with size 7.2 MiB\n",
      "25/08/11 00:39:28 WARN DAGScheduler: Broadcasting large task binary with size 7.2 MiB\n",
      "25/08/11 00:39:30 WARN DAGScheduler: Broadcasting large task binary with size 7.2 MiB\n",
      "25/08/11 00:39:32 WARN DAGScheduler: Broadcasting large task binary with size 7.2 MiB\n",
      "25/08/11 00:39:34 WARN DAGScheduler: Broadcasting large task binary with size 7.2 MiB\n",
      "25/08/11 00:39:35 WARN DAGScheduler: Broadcasting large task binary with size 7.2 MiB\n",
      "25/08/11 00:39:37 WARN DAGScheduler: Broadcasting large task binary with size 7.2 MiB\n",
      "25/08/11 00:39:39 WARN DAGScheduler: Broadcasting large task binary with size 7.2 MiB\n",
      "25/08/11 00:39:41 WARN DAGScheduler: Broadcasting large task binary with size 7.2 MiB\n",
      "25/08/11 00:39:43 WARN DAGScheduler: Broadcasting large task binary with size 7.2 MiB\n",
      "25/08/11 00:39:45 WARN DAGScheduler: Broadcasting large task binary with size 7.2 MiB\n",
      "25/08/11 00:39:47 WARN DAGScheduler: Broadcasting large task binary with size 7.2 MiB\n",
      "25/08/11 00:39:48 WARN DAGScheduler: Broadcasting large task binary with size 7.2 MiB\n",
      "25/08/11 00:39:50 WARN DAGScheduler: Broadcasting large task binary with size 7.2 MiB\n",
      "25/08/11 00:39:52 WARN DAGScheduler: Broadcasting large task binary with size 7.2 MiB\n",
      "25/08/11 00:39:54 WARN DAGScheduler: Broadcasting large task binary with size 7.2 MiB\n",
      "25/08/11 00:39:56 WARN DAGScheduler: Broadcasting large task binary with size 7.2 MiB\n",
      "25/08/11 00:39:58 WARN DAGScheduler: Broadcasting large task binary with size 7.2 MiB\n",
      "25/08/11 00:40:01 WARN DAGScheduler: Broadcasting large task binary with size 7.2 MiB\n",
      "25/08/11 00:40:03 WARN DAGScheduler: Broadcasting large task binary with size 7.2 MiB\n",
      "25/08/11 00:40:05 WARN DAGScheduler: Broadcasting large task binary with size 7.2 MiB\n",
      "25/08/11 00:40:07 WARN DAGScheduler: Broadcasting large task binary with size 7.2 MiB\n",
      "25/08/11 00:40:09 WARN DAGScheduler: Broadcasting large task binary with size 7.2 MiB\n",
      "25/08/11 00:40:11 WARN DAGScheduler: Broadcasting large task binary with size 7.2 MiB\n",
      "25/08/11 00:40:13 WARN DAGScheduler: Broadcasting large task binary with size 7.2 MiB\n",
      "25/08/11 00:40:15 WARN DAGScheduler: Broadcasting large task binary with size 7.2 MiB\n",
      "25/08/11 00:40:16 WARN DAGScheduler: Broadcasting large task binary with size 7.2 MiB\n",
      "25/08/11 00:40:18 WARN DAGScheduler: Broadcasting large task binary with size 7.2 MiB\n",
      "25/08/11 00:40:20 WARN DAGScheduler: Broadcasting large task binary with size 7.2 MiB\n",
      "25/08/11 00:40:22 WARN DAGScheduler: Broadcasting large task binary with size 7.2 MiB\n",
      "25/08/11 00:40:24 WARN DAGScheduler: Broadcasting large task binary with size 7.2 MiB\n",
      "25/08/11 00:40:26 WARN DAGScheduler: Broadcasting large task binary with size 7.2 MiB\n",
      "25/08/11 00:40:28 WARN DAGScheduler: Broadcasting large task binary with size 7.2 MiB\n",
      "25/08/11 00:40:30 WARN DAGScheduler: Broadcasting large task binary with size 7.2 MiB\n",
      "25/08/11 00:40:32 WARN DAGScheduler: Broadcasting large task binary with size 7.2 MiB\n",
      "25/08/11 00:40:34 WARN DAGScheduler: Broadcasting large task binary with size 7.2 MiB\n",
      "25/08/11 00:40:36 WARN DAGScheduler: Broadcasting large task binary with size 7.2 MiB\n",
      "25/08/11 00:40:38 WARN DAGScheduler: Broadcasting large task binary with size 7.2 MiB\n",
      "25/08/11 00:40:40 WARN DAGScheduler: Broadcasting large task binary with size 7.2 MiB\n",
      "25/08/11 00:40:42 WARN DAGScheduler: Broadcasting large task binary with size 7.2 MiB\n",
      "25/08/11 00:40:43 WARN DAGScheduler: Broadcasting large task binary with size 7.2 MiB\n",
      "25/08/11 00:40:45 WARN DAGScheduler: Broadcasting large task binary with size 7.2 MiB\n",
      "25/08/11 00:40:47 WARN DAGScheduler: Broadcasting large task binary with size 7.2 MiB\n",
      "25/08/11 00:40:49 WARN DAGScheduler: Broadcasting large task binary with size 7.2 MiB\n",
      "25/08/11 00:40:51 WARN DAGScheduler: Broadcasting large task binary with size 7.2 MiB\n",
      "25/08/11 00:40:53 WARN DAGScheduler: Broadcasting large task binary with size 7.2 MiB\n",
      "25/08/11 00:40:55 WARN DAGScheduler: Broadcasting large task binary with size 7.2 MiB\n",
      "25/08/11 00:40:57 WARN DAGScheduler: Broadcasting large task binary with size 7.2 MiB\n",
      "25/08/11 00:40:59 WARN DAGScheduler: Broadcasting large task binary with size 7.2 MiB\n",
      "25/08/11 00:41:01 WARN DAGScheduler: Broadcasting large task binary with size 7.2 MiB\n",
      "25/08/11 00:41:02 WARN DAGScheduler: Broadcasting large task binary with size 7.2 MiB\n",
      "25/08/11 00:41:04 WARN DAGScheduler: Broadcasting large task binary with size 7.2 MiB\n",
      "25/08/11 00:41:06 WARN DAGScheduler: Broadcasting large task binary with size 7.2 MiB\n",
      "25/08/11 00:41:08 WARN DAGScheduler: Broadcasting large task binary with size 7.2 MiB\n",
      "25/08/11 00:41:09 WARN DAGScheduler: Broadcasting large task binary with size 7.2 MiB\n",
      "25/08/11 00:41:11 WARN DAGScheduler: Broadcasting large task binary with size 7.2 MiB\n",
      "25/08/11 00:41:13 WARN DAGScheduler: Broadcasting large task binary with size 7.2 MiB\n",
      "25/08/11 00:41:14 WARN DAGScheduler: Broadcasting large task binary with size 7.2 MiB\n",
      "25/08/11 00:41:16 WARN DAGScheduler: Broadcasting large task binary with size 7.2 MiB\n",
      "25/08/11 00:41:18 WARN DAGScheduler: Broadcasting large task binary with size 7.2 MiB\n",
      "25/08/11 00:41:19 WARN DAGScheduler: Broadcasting large task binary with size 7.2 MiB\n",
      "25/08/11 00:41:21 WARN DAGScheduler: Broadcasting large task binary with size 7.2 MiB\n",
      "25/08/11 00:41:23 WARN DAGScheduler: Broadcasting large task binary with size 7.2 MiB\n",
      "25/08/11 00:41:25 WARN DAGScheduler: Broadcasting large task binary with size 7.2 MiB\n",
      "25/08/11 00:41:26 WARN DAGScheduler: Broadcasting large task binary with size 7.2 MiB\n",
      "25/08/11 00:41:28 WARN DAGScheduler: Broadcasting large task binary with size 7.2 MiB\n",
      "[Stage 2310:>                                                       (0 + 1) / 1]\r"
     ]
    },
    {
     "name": "stdout",
     "output_type": "stream",
     "text": [
      "Melhor threshold por F1: 0.459\n"
     ]
    },
    {
     "name": "stderr",
     "output_type": "stream",
     "text": [
      "                                                                                \r"
     ]
    }
   ],
   "source": [
    "pred_probs = preds_base.select('y_proba_class1', 'target')\n",
    "dataset_best_tresh = optimize_threshold(pred_probs)\n",
    "\n",
    "print(f\"Melhor threshold por F1: {dataset_best_tresh:.3f}\")"
   ]
  },
  {
   "cell_type": "code",
   "execution_count": 26,
   "id": "d994d1d8-e89d-4af6-b7a1-658478518eed",
   "metadata": {
    "tags": []
   },
   "outputs": [
    {
     "name": "stderr",
     "output_type": "stream",
     "text": [
      "25/08/11 00:41:30 WARN DAGScheduler: Broadcasting large task binary with size 7.2 MiB\n",
      "25/08/11 00:41:32 WARN DAGScheduler: Broadcasting large task binary with size 7.2 MiB\n",
      "25/08/11 00:41:34 WARN DAGScheduler: Broadcasting large task binary with size 7.2 MiB\n",
      "25/08/11 00:41:35 WARN DAGScheduler: Broadcasting large task binary with size 7.2 MiB\n",
      "[Stage 2322:>                                                       (0 + 1) / 1]\r"
     ]
    },
    {
     "name": "stdout",
     "output_type": "stream",
     "text": [
      "29195 5097 2386 26610\n",
      "precision: 0.83925\n",
      "recall: 0.91771\n",
      "f1: 0.87673\n"
     ]
    },
    {
     "name": "stderr",
     "output_type": "stream",
     "text": [
      "                                                                                \r"
     ]
    }
   ],
   "source": [
    "pred_probs = preds_base.select('y_proba_class1', 'target')\n",
    "precision, recall, f1, TP, FP, TN, FN = metrics_at(pred_probs, dataset_best_tresh)\n",
    "\n",
    "print(TN, FP, FN, TP)\n",
    "print(f\"precision: {precision:.5f}\")\n",
    "print(f\"recall: {recall:.5f}\")\n",
    "print(f\"f1: {f1:.5f}\")"
   ]
  },
  {
   "cell_type": "code",
   "execution_count": 27,
   "id": "468fc2cf-733e-4b56-8439-9fa8012bafe1",
   "metadata": {
    "scrolled": true,
    "tags": []
   },
   "outputs": [
    {
     "data": {
      "text/plain": [
       "(63288, 63288)"
      ]
     },
     "execution_count": 27,
     "metadata": {},
     "output_type": "execute_result"
    }
   ],
   "source": [
    "preds_base.count(), df_features.count()"
   ]
  },
  {
   "cell_type": "code",
   "execution_count": 28,
   "id": "7f5db681-89b4-46f3-b0dc-ca46823557ff",
   "metadata": {
    "tags": []
   },
   "outputs": [
    {
     "name": "stdout",
     "output_type": "stream",
     "text": [
      "+--------------------+--------------------+----------------+------------------+----------------+----------+-------------------------+-------------------------+--------+--------+--------+--------+---------------+-----------------+---------------+---------------+--------------------+--------------+---------------+------------+----------+------+--------------------+--------------------+--------------------+----------+--------------------+-------------------+------------------+\n",
      "|           client_id|            offer_id|offer_type_index|qtd_offer_received|qtd_offer_viewed|sum_reward|registered_duration_month|registered_duration_years|gender_M|gender_F|gender_O|gender_U|age_group_index|credit_card_limit|category_limite|offer_min_value|offer_discount_value|offer_duration|qtd_transaction|total_amount|avg_amount|target|            features|       rawPrediction|         probability|prediction|            prob_vec|     y_proba_class0|    y_proba_class1|\n",
      "+--------------------+--------------------+----------------+------------------+----------------+----------+-------------------------+-------------------------+--------+--------+--------+--------+---------------+-----------------+---------------+---------------+--------------------+--------------+---------------+------------+----------+------+--------------------+--------------------+--------------------+----------+--------------------+-------------------+------------------+\n",
      "|0009655768c64bdeb...|2906b810c7d441179...|               0|                 1|               0|       2.0|                       99|                        8|       1|       0|       0|       0|              2|            72000|              3|             10|                   2|           7.0|              8|       127.6|     15.95|     1|[0.0,10.0,2.0,7.0...|[16.9004267061288...|[0.08450213353064...|       1.0|[0.08450213353064...|0.08450213353064434|0.9154978664693556|\n",
      "|0009655768c64bdeb...|3f207df678b143eea...|               1|                 1|               1|       0.0|                       99|                        8|       1|       0|       0|       0|              2|            72000|              3|              0|                   0|           4.0|              8|       127.6|     15.95|     0|[1.0,0.0,0.0,4.0,...|         [200.0,0.0]|           [1.0,0.0]|       0.0|          [1.0, 0.0]|                1.0|               0.0|\n",
      "|0009655768c64bdeb...|5a8bc65990b245e5a...|               1|                 1|               1|       0.0|                       99|                        8|       1|       0|       0|       0|              2|            72000|              3|              0|                   0|           3.0|              8|       127.6|     15.95|     0|[1.0,0.0,0.0,3.0,...|         [200.0,0.0]|           [1.0,0.0]|       0.0|          [1.0, 0.0]|                1.0|               0.0|\n",
      "|0009655768c64bdeb...|f19421c1d4aa40978...|               2|                 1|               1|       5.0|                       99|                        8|       1|       0|       0|       0|              2|            72000|              3|              5|                   5|           5.0|              8|       127.6|     15.95|     1|[2.0,5.0,5.0,5.0,...|[20.5383622472894...|[0.10269181123644...|       1.0|[0.10269181123644...|0.10269181123644716|0.8973081887635529|\n",
      "|0009655768c64bdeb...|fafdcd668e3743c1b...|               0|                 1|               1|       2.0|                       99|                        8|       1|       0|       0|       0|              2|            72000|              3|             10|                   2|          10.0|              8|       127.6|     15.95|     1|[0.0,10.0,2.0,10....|[13.2745469861696...|[0.06637273493084...|       1.0|[0.06637273493084...|0.06637273493084819|0.9336272650691518|\n",
      "+--------------------+--------------------+----------------+------------------+----------------+----------+-------------------------+-------------------------+--------+--------+--------+--------+---------------+-----------------+---------------+---------------+--------------------+--------------+---------------+------------+----------+------+--------------------+--------------------+--------------------+----------+--------------------+-------------------+------------------+\n",
      "only showing top 5 rows\n"
     ]
    },
    {
     "name": "stderr",
     "output_type": "stream",
     "text": [
      "25/08/11 00:41:37 WARN DAGScheduler: Broadcasting large task binary with size 7.2 MiB\n"
     ]
    }
   ],
   "source": [
    "preds_base.show(5)"
   ]
  },
  {
   "cell_type": "code",
   "execution_count": 29,
   "id": "fba8db5c-7599-4e12-8e1d-6b4e1cfa58c5",
   "metadata": {
    "tags": []
   },
   "outputs": [
    {
     "name": "stderr",
     "output_type": "stream",
     "text": [
      "25/08/11 00:41:38 WARN DAGScheduler: Broadcasting large task binary with size 7.5 MiB\n",
      "                                                                                \r"
     ]
    }
   ],
   "source": [
    "preds_base.write.format(\"parquet\").mode(\"overwrite\").save(path_output_rf_model)"
   ]
  },
  {
   "cell_type": "markdown",
   "id": "7b44ab15-7cbb-4bc7-8ae1-de06ff794202",
   "metadata": {
    "tags": []
   },
   "source": [
    "## Create KMeansModel"
   ]
  },
  {
   "cell_type": "code",
   "execution_count": 30,
   "id": "b84a6dfe-ea53-44c6-bbee-29c21d4b961e",
   "metadata": {
    "tags": []
   },
   "outputs": [],
   "source": [
    "features = ['registered_duration_month', 'registered_duration_years', 'gender_M', 'gender_F', 'gender_O','gender_U', 'age_group_index', \n",
    "            'credit_card_limit', 'category_limite', 'qtd_transaction', 'total_amount', 'avg_amount']"
   ]
  },
  {
   "cell_type": "code",
   "execution_count": 31,
   "id": "0fc2f3e7-3621-4c26-b9f1-6c10ec277c65",
   "metadata": {
    "tags": []
   },
   "outputs": [
    {
     "data": {
      "application/vnd.plotly.v1+json": {
       "config": {
        "plotlyServerURL": "https://plot.ly"
       },
       "data": [
        {
         "coloraxis": "coloraxis",
         "hovertemplate": "x: %{x}<br>y: %{y}<br>color: %{z}<extra></extra>",
         "name": "0",
         "texttemplate": "%{z:.2f}",
         "type": "heatmap",
         "x": [
          "registered_duration_month",
          "registered_duration_years",
          "gender_M",
          "gender_F",
          "gender_O",
          "gender_U",
          "age_group_index",
          "credit_card_limit",
          "category_limite",
          "qtd_transaction",
          "total_amount",
          "avg_amount",
          "target"
         ],
         "xaxis": "x",
         "y": [
          "registered_duration_month",
          "registered_duration_years",
          "gender_M",
          "gender_F",
          "gender_O",
          "gender_U",
          "age_group_index",
          "credit_card_limit",
          "category_limite",
          "qtd_transaction",
          "total_amount",
          "avg_amount",
          "target"
         ],
         "yaxis": "y",
         "z": {
          "_inputArray": [
           {
            "0": 1,
            "1": 0.9666747339877962,
            "10": 0.16960128060403512,
            "11": 0.04454263321494831,
            "12": 0.15909912677011082,
            "2": 0.029621204552236387,
            "3": -0.008437331659346363,
            "4": -0.010495494172903415,
            "5": -0.028817308909400017,
            "6": 0.00525547346147918,
            "7": 0.018043270778466958,
            "8": 0.01880172782470343,
            "9": 0.4326922066700039
           },
           {
            "0": 0.9666747339877962,
            "1": 1,
            "10": 0.16457100548877457,
            "11": 0.042344705390780626,
            "12": 0.15398769219888134,
            "2": 0.03203323556917731,
            "3": -0.009402236195841233,
            "4": -0.010768884701367581,
            "5": -0.03095480081236826,
            "6": 0.005002589520116897,
            "7": 0.018381273169333984,
            "8": 0.019796786244324727,
            "9": 0.42701367665297196
           },
           {
            "0": 0.029621204552236387,
            "1": 0.03203323556917731,
            "10": -0.040098228754508344,
            "11": -0.0621364586447272,
            "12": -0.015504903961739586,
            "2": 1,
            "3": -0.7506492838853922,
            "4": -0.11091004535363859,
            "5": -0.38219655435460104,
            "6": -0.15142067151925467,
            "7": -0.24038624017817084,
            "8": -0.2316127795923117,
            "9": 0.07511287714441936
           },
           {
            "0": -0.008437331659346363,
            "1": -0.009402236195841233,
            "10": 0.21895985192032497,
            "11": 0.24207008143658684,
            "12": 0.18556232544714893,
            "2": -0.7506492838853922,
            "3": 1,
            "4": -0.08324928433837894,
            "5": -0.2868774377033509,
            "6": 0.0962977027194148,
            "7": 0.15137432682719343,
            "8": 0.1523178394117458,
            "9": -0.015425391526468395
           },
           {
            "0": -0.010495494172903415,
            "1": -0.010768884701367581,
            "10": 0.01891074454202493,
            "11": 0.009577117223780053,
            "12": 0.02219434667545779,
            "2": -0.11091004535363859,
            "3": -0.08324928433837894,
            "4": 1,
            "5": -0.04238675811682117,
            "6": -0.0001158387022751889,
            "7": -0.018619164426177903,
            "8": -0.01472919766661053,
            "9": 0.006749439094377922
           },
           {
            "0": -0.028817308909400017,
            "1": -0.03095480081236826,
            "10": -0.2613324999638474,
            "11": -0.25849510712028223,
            "12": -0.2512023974755115,
            "2": -0.38219655435460104,
            "3": -0.2868774377033509,
            "4": -0.04238675811682117,
            "5": 1,
            "6": 0.08843036852216661,
            "7": 0.14860585845901542,
            "8": 0.13281488097131922,
            "9": -0.09263047773694719
           },
           {
            "0": 0.00525547346147918,
            "1": 0.005002589520116897,
            "10": 0.06343116671763056,
            "11": 0.1405753722596472,
            "12": 0.04438561399807785,
            "2": -0.15142067151925467,
            "3": 0.0962977027194148,
            "4": -0.0001158387022751889,
            "5": 0.08843036852216661,
            "6": 1,
            "7": 0.24689062714454602,
            "8": 0.2436344610734024,
            "9": -0.13998941705008755
           },
           {
            "0": 0.018043270778466958,
            "1": 0.018381273169333984,
            "10": 0.23310407088140547,
            "11": 0.37666637350663634,
            "12": 0.11845983133402642,
            "2": -0.24038624017817084,
            "3": 0.15137432682719343,
            "4": -0.018619164426177903,
            "5": 0.14860585845901542,
            "6": 0.24689062714454602,
            "7": 1,
            "8": 0.9707427693080808,
            "9": -0.23964498850489274
           },
           {
            "0": 0.01880172782470343,
            "1": 0.019796786244324727,
            "10": 0.23400663329306526,
            "11": 0.37559129352919274,
            "12": 0.12261132907680508,
            "2": -0.2316127795923117,
            "3": 0.1523178394117458,
            "4": -0.01472919766661053,
            "5": 0.13281488097131922,
            "6": 0.2436344610734024,
            "7": 0.9707427693080808,
            "8": 1,
            "9": -0.2360590981129168
           },
           {
            "0": 0.4326922066700039,
            "1": 0.42701367665297196,
            "10": 0.3507623148250343,
            "11": -0.05801178872976411,
            "12": 0.25831636166930977,
            "2": 0.07511287714441936,
            "3": -0.015425391526468395,
            "4": 0.006749439094377922,
            "5": -0.09263047773694719,
            "6": -0.13998941705008755,
            "7": -0.23964498850489274,
            "8": -0.2360590981129168,
            "9": 1
           },
           {
            "0": 0.16960128060403512,
            "1": 0.16457100548877457,
            "10": 1,
            "11": 0.7778496404789398,
            "12": 0.3763791675056898,
            "2": -0.040098228754508344,
            "3": 0.21895985192032497,
            "4": 0.01891074454202493,
            "5": -0.2613324999638474,
            "6": 0.06343116671763056,
            "7": 0.23310407088140547,
            "8": 0.23400663329306526,
            "9": 0.3507623148250343
           },
           {
            "0": 0.04454263321494831,
            "1": 0.042344705390780626,
            "10": 0.7778496404789398,
            "11": 1,
            "12": 0.27754945094677475,
            "2": -0.0621364586447272,
            "3": 0.24207008143658684,
            "4": 0.009577117223780053,
            "5": -0.25849510712028223,
            "6": 0.1405753722596472,
            "7": 0.37666637350663634,
            "8": 0.37559129352919274,
            "9": -0.05801178872976411
           },
           {
            "0": 0.15909912677011082,
            "1": 0.15398769219888134,
            "10": 0.3763791675056898,
            "11": 0.27754945094677475,
            "12": 1,
            "2": -0.015504903961739586,
            "3": 0.18556232544714893,
            "4": 0.02219434667545779,
            "5": -0.2512023974755115,
            "6": 0.04438561399807785,
            "7": 0.11845983133402642,
            "8": 0.12261132907680508,
            "9": 0.25831636166930977
           }
          ],
          "bdata": "AAAAAAAA8D9RGwva/+7uP0KpR2MFVZ4/ydRWfJdHgb+E5tJhqX6Fv5lkTN1Igp2/KtVFasOGdT8wJKBn73mSP/cpdpjCQJM/bW44pzqx2z8c68aofrXFP7wx38FKzqY/U18mNVxdxD9RGwva/+7uPwAAAAAAAPA/SDJPBqlmoD/8Y8PHekGDv3Cp2jz/DYa/aMGShJ2yn78BviVmmH10P/UJfFyK0pI/jezw1ZtFlD+41AosMVTbPwjZOKepEMU/ItOfiTSupT/lh/1i3rXDP0KpR2MFVZ4/SDJPBqlmoD8AAAAAAADwP+y2oaVRBei/OX2XyZlkvL+TM2aJ6HXYvw2JDqjAYcO/ZqD87/nEzr8eotfQfKXNv87/1/aYOrM/lptBSsGHpL91ZomTWdCvv93ci/sIwY+/ydRWfJdHgb/8Y8PHekGDv+y2oaVRBei/AAAAAAAA8D/+E6Y500+1v9daOS8zXNK/9RzcW/emuD/AoZbjO2DDP0t3b6Umf8M/icsSAVmXj78UQZFd4AbMP/EajgUn/M4/tSWVm4HAxz+E5tJhqX6Fv3Cp2jz/DYa/OX2XyZlkvL/+E6Y500+1vwAAAAAAAPA/5VjKl7ezpb/YZ2TAzV0evzM5KPnmEJO/yP4xclcqjr9EwNPCTKV7P4duZ5VWXZM/tPUg6iqdgz/UOoJkHbqWP5lkTN1Igp2/aMGShJ2yn7+TM2aJ6HXYv9daOS8zXNK/5VjKl7ezpb8AAAAAAADwP5OjxmRfo7Y/NKkJS4QFwz9Q0xj5EwDBPyY4foihtre/XYEu86u50L/+fNAPL4vQvyNidTizE9C/KtVFasOGdT8BviVmmH10Pw2JDqjAYcO/9RzcW/emuD/YZ2TAzV0ev5OjxmRfo7Y/AAAAAAAA8D8sK6OwHJrPP5WSPv1pL88/2hMCWCzrwb/NbpliBj2wP/81PbFf/sE/QroREba5pj8wJKBn73mSP/UJfFyK0pI/ZqD87/nEzr/AoZbjO2DDPzM5KPnmEJO/NKkJS4QFwz8sK6OwHJrPPwAAAAAAAPA/uDbgI1MQ7z8OsCPer6zOv1sDgKxa1s0/7rDtRk0b2D9TJXgtYlO+P/cpdpjCQJM/jezw1ZtFlD8eotfQfKXNv0t3b6Umf8M/yP4xclcqjr9Q0xj5EwDBP5WSPv1pL88/uDbgI1MQ7z8AAAAAAADwP9y7KD0vN86/SDiF6u3zzT+ssZcQsAnYP0oEgcB0Y78/bW44pzqx2z+41AosMVTbP87/1/aYOrM/icsSAVmXj79EwNPCTKV7PyY4foihtre/2hMCWCzrwb8OsCPer6zOv9y7KD0vN86/AAAAAAAA8D8U8LXH43LWP7PrwJ64s62/lwxZWUGI0D8c68aofrXFPwjZOKepEMU/lptBSsGHpL8UQZFd4AbMP4duZ5VWXZM/XYEu86u50L/NbpliBj2wP1sDgKxa1s0/SDiF6u3zzT8U8LXH43LWPwAAAAAAAPA/N//h7STk6D8IStWlmBbYP7wx38FKzqY/ItOfiTSupT91ZomTWdCvv/EajgUn/M4/tPUg6iqdgz/+fNAPL4vQv/81PbFf/sE/7rDtRk0b2D+ssZcQsAnYP7PrwJ64s62/N//h7STk6D8AAAAAAADwP7K0tcVew9E/U18mNVxdxD/lh/1i3rXDP93ci/sIwY+/tSWVm4HAxz/UOoJkHbqWPyNidTizE9C/QroREba5pj9TJXgtYlO+P0oEgcB0Y78/lwxZWUGI0D8IStWlmBbYP7K0tcVew9E/AAAAAAAA8D8=",
          "dtype": "f8",
          "shape": "13, 13"
         }
        }
       ],
       "layout": {
        "coloraxis": {
         "colorbar": {
          "title": {
           "text": "Correlação"
          }
         },
         "colorscale": [
          [
           0,
           "rgb(103,0,31)"
          ],
          [
           0.1,
           "rgb(178,24,43)"
          ],
          [
           0.2,
           "rgb(214,96,77)"
          ],
          [
           0.3,
           "rgb(244,165,130)"
          ],
          [
           0.4,
           "rgb(253,219,199)"
          ],
          [
           0.5,
           "rgb(247,247,247)"
          ],
          [
           0.6,
           "rgb(209,229,240)"
          ],
          [
           0.7,
           "rgb(146,197,222)"
          ],
          [
           0.8,
           "rgb(67,147,195)"
          ],
          [
           0.9,
           "rgb(33,102,172)"
          ],
          [
           1,
           "rgb(5,48,97)"
          ]
         ]
        },
        "height": 1000,
        "template": {
         "data": {
          "bar": [
           {
            "error_x": {
             "color": "#2a3f5f"
            },
            "error_y": {
             "color": "#2a3f5f"
            },
            "marker": {
             "line": {
              "color": "#E5ECF6",
              "width": 0.5
             },
             "pattern": {
              "fillmode": "overlay",
              "size": 10,
              "solidity": 0.2
             }
            },
            "type": "bar"
           }
          ],
          "barpolar": [
           {
            "marker": {
             "line": {
              "color": "#E5ECF6",
              "width": 0.5
             },
             "pattern": {
              "fillmode": "overlay",
              "size": 10,
              "solidity": 0.2
             }
            },
            "type": "barpolar"
           }
          ],
          "carpet": [
           {
            "aaxis": {
             "endlinecolor": "#2a3f5f",
             "gridcolor": "white",
             "linecolor": "white",
             "minorgridcolor": "white",
             "startlinecolor": "#2a3f5f"
            },
            "baxis": {
             "endlinecolor": "#2a3f5f",
             "gridcolor": "white",
             "linecolor": "white",
             "minorgridcolor": "white",
             "startlinecolor": "#2a3f5f"
            },
            "type": "carpet"
           }
          ],
          "choropleth": [
           {
            "colorbar": {
             "outlinewidth": 0,
             "ticks": ""
            },
            "type": "choropleth"
           }
          ],
          "contour": [
           {
            "colorbar": {
             "outlinewidth": 0,
             "ticks": ""
            },
            "colorscale": [
             [
              0,
              "#0d0887"
             ],
             [
              0.1111111111111111,
              "#46039f"
             ],
             [
              0.2222222222222222,
              "#7201a8"
             ],
             [
              0.3333333333333333,
              "#9c179e"
             ],
             [
              0.4444444444444444,
              "#bd3786"
             ],
             [
              0.5555555555555556,
              "#d8576b"
             ],
             [
              0.6666666666666666,
              "#ed7953"
             ],
             [
              0.7777777777777778,
              "#fb9f3a"
             ],
             [
              0.8888888888888888,
              "#fdca26"
             ],
             [
              1,
              "#f0f921"
             ]
            ],
            "type": "contour"
           }
          ],
          "contourcarpet": [
           {
            "colorbar": {
             "outlinewidth": 0,
             "ticks": ""
            },
            "type": "contourcarpet"
           }
          ],
          "heatmap": [
           {
            "colorbar": {
             "outlinewidth": 0,
             "ticks": ""
            },
            "colorscale": [
             [
              0,
              "#0d0887"
             ],
             [
              0.1111111111111111,
              "#46039f"
             ],
             [
              0.2222222222222222,
              "#7201a8"
             ],
             [
              0.3333333333333333,
              "#9c179e"
             ],
             [
              0.4444444444444444,
              "#bd3786"
             ],
             [
              0.5555555555555556,
              "#d8576b"
             ],
             [
              0.6666666666666666,
              "#ed7953"
             ],
             [
              0.7777777777777778,
              "#fb9f3a"
             ],
             [
              0.8888888888888888,
              "#fdca26"
             ],
             [
              1,
              "#f0f921"
             ]
            ],
            "type": "heatmap"
           }
          ],
          "histogram": [
           {
            "marker": {
             "pattern": {
              "fillmode": "overlay",
              "size": 10,
              "solidity": 0.2
             }
            },
            "type": "histogram"
           }
          ],
          "histogram2d": [
           {
            "colorbar": {
             "outlinewidth": 0,
             "ticks": ""
            },
            "colorscale": [
             [
              0,
              "#0d0887"
             ],
             [
              0.1111111111111111,
              "#46039f"
             ],
             [
              0.2222222222222222,
              "#7201a8"
             ],
             [
              0.3333333333333333,
              "#9c179e"
             ],
             [
              0.4444444444444444,
              "#bd3786"
             ],
             [
              0.5555555555555556,
              "#d8576b"
             ],
             [
              0.6666666666666666,
              "#ed7953"
             ],
             [
              0.7777777777777778,
              "#fb9f3a"
             ],
             [
              0.8888888888888888,
              "#fdca26"
             ],
             [
              1,
              "#f0f921"
             ]
            ],
            "type": "histogram2d"
           }
          ],
          "histogram2dcontour": [
           {
            "colorbar": {
             "outlinewidth": 0,
             "ticks": ""
            },
            "colorscale": [
             [
              0,
              "#0d0887"
             ],
             [
              0.1111111111111111,
              "#46039f"
             ],
             [
              0.2222222222222222,
              "#7201a8"
             ],
             [
              0.3333333333333333,
              "#9c179e"
             ],
             [
              0.4444444444444444,
              "#bd3786"
             ],
             [
              0.5555555555555556,
              "#d8576b"
             ],
             [
              0.6666666666666666,
              "#ed7953"
             ],
             [
              0.7777777777777778,
              "#fb9f3a"
             ],
             [
              0.8888888888888888,
              "#fdca26"
             ],
             [
              1,
              "#f0f921"
             ]
            ],
            "type": "histogram2dcontour"
           }
          ],
          "mesh3d": [
           {
            "colorbar": {
             "outlinewidth": 0,
             "ticks": ""
            },
            "type": "mesh3d"
           }
          ],
          "parcoords": [
           {
            "line": {
             "colorbar": {
              "outlinewidth": 0,
              "ticks": ""
             }
            },
            "type": "parcoords"
           }
          ],
          "pie": [
           {
            "automargin": true,
            "type": "pie"
           }
          ],
          "scatter": [
           {
            "fillpattern": {
             "fillmode": "overlay",
             "size": 10,
             "solidity": 0.2
            },
            "type": "scatter"
           }
          ],
          "scatter3d": [
           {
            "line": {
             "colorbar": {
              "outlinewidth": 0,
              "ticks": ""
             }
            },
            "marker": {
             "colorbar": {
              "outlinewidth": 0,
              "ticks": ""
             }
            },
            "type": "scatter3d"
           }
          ],
          "scattercarpet": [
           {
            "marker": {
             "colorbar": {
              "outlinewidth": 0,
              "ticks": ""
             }
            },
            "type": "scattercarpet"
           }
          ],
          "scattergeo": [
           {
            "marker": {
             "colorbar": {
              "outlinewidth": 0,
              "ticks": ""
             }
            },
            "type": "scattergeo"
           }
          ],
          "scattergl": [
           {
            "marker": {
             "colorbar": {
              "outlinewidth": 0,
              "ticks": ""
             }
            },
            "type": "scattergl"
           }
          ],
          "scattermap": [
           {
            "marker": {
             "colorbar": {
              "outlinewidth": 0,
              "ticks": ""
             }
            },
            "type": "scattermap"
           }
          ],
          "scattermapbox": [
           {
            "marker": {
             "colorbar": {
              "outlinewidth": 0,
              "ticks": ""
             }
            },
            "type": "scattermapbox"
           }
          ],
          "scatterpolar": [
           {
            "marker": {
             "colorbar": {
              "outlinewidth": 0,
              "ticks": ""
             }
            },
            "type": "scatterpolar"
           }
          ],
          "scatterpolargl": [
           {
            "marker": {
             "colorbar": {
              "outlinewidth": 0,
              "ticks": ""
             }
            },
            "type": "scatterpolargl"
           }
          ],
          "scatterternary": [
           {
            "marker": {
             "colorbar": {
              "outlinewidth": 0,
              "ticks": ""
             }
            },
            "type": "scatterternary"
           }
          ],
          "surface": [
           {
            "colorbar": {
             "outlinewidth": 0,
             "ticks": ""
            },
            "colorscale": [
             [
              0,
              "#0d0887"
             ],
             [
              0.1111111111111111,
              "#46039f"
             ],
             [
              0.2222222222222222,
              "#7201a8"
             ],
             [
              0.3333333333333333,
              "#9c179e"
             ],
             [
              0.4444444444444444,
              "#bd3786"
             ],
             [
              0.5555555555555556,
              "#d8576b"
             ],
             [
              0.6666666666666666,
              "#ed7953"
             ],
             [
              0.7777777777777778,
              "#fb9f3a"
             ],
             [
              0.8888888888888888,
              "#fdca26"
             ],
             [
              1,
              "#f0f921"
             ]
            ],
            "type": "surface"
           }
          ],
          "table": [
           {
            "cells": {
             "fill": {
              "color": "#EBF0F8"
             },
             "line": {
              "color": "white"
             }
            },
            "header": {
             "fill": {
              "color": "#C8D4E3"
             },
             "line": {
              "color": "white"
             }
            },
            "type": "table"
           }
          ]
         },
         "layout": {
          "annotationdefaults": {
           "arrowcolor": "#2a3f5f",
           "arrowhead": 0,
           "arrowwidth": 1
          },
          "autotypenumbers": "strict",
          "coloraxis": {
           "colorbar": {
            "outlinewidth": 0,
            "ticks": ""
           }
          },
          "colorscale": {
           "diverging": [
            [
             0,
             "#8e0152"
            ],
            [
             0.1,
             "#c51b7d"
            ],
            [
             0.2,
             "#de77ae"
            ],
            [
             0.3,
             "#f1b6da"
            ],
            [
             0.4,
             "#fde0ef"
            ],
            [
             0.5,
             "#f7f7f7"
            ],
            [
             0.6,
             "#e6f5d0"
            ],
            [
             0.7,
             "#b8e186"
            ],
            [
             0.8,
             "#7fbc41"
            ],
            [
             0.9,
             "#4d9221"
            ],
            [
             1,
             "#276419"
            ]
           ],
           "sequential": [
            [
             0,
             "#0d0887"
            ],
            [
             0.1111111111111111,
             "#46039f"
            ],
            [
             0.2222222222222222,
             "#7201a8"
            ],
            [
             0.3333333333333333,
             "#9c179e"
            ],
            [
             0.4444444444444444,
             "#bd3786"
            ],
            [
             0.5555555555555556,
             "#d8576b"
            ],
            [
             0.6666666666666666,
             "#ed7953"
            ],
            [
             0.7777777777777778,
             "#fb9f3a"
            ],
            [
             0.8888888888888888,
             "#fdca26"
            ],
            [
             1,
             "#f0f921"
            ]
           ],
           "sequentialminus": [
            [
             0,
             "#0d0887"
            ],
            [
             0.1111111111111111,
             "#46039f"
            ],
            [
             0.2222222222222222,
             "#7201a8"
            ],
            [
             0.3333333333333333,
             "#9c179e"
            ],
            [
             0.4444444444444444,
             "#bd3786"
            ],
            [
             0.5555555555555556,
             "#d8576b"
            ],
            [
             0.6666666666666666,
             "#ed7953"
            ],
            [
             0.7777777777777778,
             "#fb9f3a"
            ],
            [
             0.8888888888888888,
             "#fdca26"
            ],
            [
             1,
             "#f0f921"
            ]
           ]
          },
          "colorway": [
           "#636efa",
           "#EF553B",
           "#00cc96",
           "#ab63fa",
           "#FFA15A",
           "#19d3f3",
           "#FF6692",
           "#B6E880",
           "#FF97FF",
           "#FECB52"
          ],
          "font": {
           "color": "#2a3f5f"
          },
          "geo": {
           "bgcolor": "white",
           "lakecolor": "white",
           "landcolor": "#E5ECF6",
           "showlakes": true,
           "showland": true,
           "subunitcolor": "white"
          },
          "hoverlabel": {
           "align": "left"
          },
          "hovermode": "closest",
          "mapbox": {
           "style": "light"
          },
          "paper_bgcolor": "white",
          "plot_bgcolor": "#E5ECF6",
          "polar": {
           "angularaxis": {
            "gridcolor": "white",
            "linecolor": "white",
            "ticks": ""
           },
           "bgcolor": "#E5ECF6",
           "radialaxis": {
            "gridcolor": "white",
            "linecolor": "white",
            "ticks": ""
           }
          },
          "scene": {
           "xaxis": {
            "backgroundcolor": "#E5ECF6",
            "gridcolor": "white",
            "gridwidth": 2,
            "linecolor": "white",
            "showbackground": true,
            "ticks": "",
            "zerolinecolor": "white"
           },
           "yaxis": {
            "backgroundcolor": "#E5ECF6",
            "gridcolor": "white",
            "gridwidth": 2,
            "linecolor": "white",
            "showbackground": true,
            "ticks": "",
            "zerolinecolor": "white"
           },
           "zaxis": {
            "backgroundcolor": "#E5ECF6",
            "gridcolor": "white",
            "gridwidth": 2,
            "linecolor": "white",
            "showbackground": true,
            "ticks": "",
            "zerolinecolor": "white"
           }
          },
          "shapedefaults": {
           "line": {
            "color": "#2a3f5f"
           }
          },
          "ternary": {
           "aaxis": {
            "gridcolor": "white",
            "linecolor": "white",
            "ticks": ""
           },
           "baxis": {
            "gridcolor": "white",
            "linecolor": "white",
            "ticks": ""
           },
           "bgcolor": "#E5ECF6",
           "caxis": {
            "gridcolor": "white",
            "linecolor": "white",
            "ticks": ""
           }
          },
          "title": {
           "x": 0.05
          },
          "xaxis": {
           "automargin": true,
           "gridcolor": "white",
           "linecolor": "white",
           "ticks": "",
           "title": {
            "standoff": 15
           },
           "zerolinecolor": "white",
           "zerolinewidth": 2
          },
          "yaxis": {
           "automargin": true,
           "gridcolor": "white",
           "linecolor": "white",
           "ticks": "",
           "title": {
            "standoff": 15
           },
           "zerolinecolor": "white",
           "zerolinewidth": 2
          }
         }
        },
        "title": {
         "text": "Correlação entre features e target",
         "x": 0.5,
         "xanchor": "center"
        },
        "width": 1500,
        "xaxis": {
         "anchor": "y",
         "autorange": true,
         "constrain": "domain",
         "domain": [
          0.19049459041731065,
          0.8095054095826894
         ],
         "range": [
          -0.5,
          12.5
         ],
         "scaleanchor": "y",
         "type": "category"
        },
        "yaxis": {
         "anchor": "x",
         "autorange": true,
         "constrain": "domain",
         "domain": [
          0,
          1
         ],
         "range": [
          -0.5,
          12.5
         ],
         "type": "category"
        }
       }
      }
     },
     "metadata": {},
     "output_type": "display_data"
    }
   ],
   "source": [
    "correlation_matrix = df_features[features + ['target']].toPandas().corr()\n",
    "\n",
    "fig = px.imshow(\n",
    "    correlation_matrix,\n",
    "    text_auto=\".2f\",           \n",
    "    color_continuous_scale=\"RdBu\",  \n",
    "    origin=\"lower\",\n",
    "    title=\"Correlação entre features e target\"\n",
    ")\n",
    "\n",
    "fig.update_layout(\n",
    "    width=1500,\n",
    "    height=1000,\n",
    "    title=dict(x=0.5, xanchor=\"center\"), \n",
    "    coloraxis_colorbar=dict(title=\"Correlação\")\n",
    ")\n",
    "\n",
    "fig.show()"
   ]
  },
  {
   "cell_type": "code",
   "execution_count": 32,
   "id": "57797f97-de10-46ef-905c-b30084a1826d",
   "metadata": {
    "tags": []
   },
   "outputs": [],
   "source": [
    "assembler = VectorAssembler(inputCols=features, outputCol=\"features\")\n",
    "df_features_kmeans = assembler.transform(df_features.drop('features'))"
   ]
  },
  {
   "cell_type": "code",
   "execution_count": 33,
   "id": "da535a96-e11a-478f-a697-2cbd6abed6c2",
   "metadata": {
    "tags": []
   },
   "outputs": [],
   "source": [
    "scaler = StandardScaler(inputCol=\"features\", outputCol=\"features_scaled\", withStd=True, withMean=True)\n",
    "df_features_kmeans = scaler.fit(df_features_kmeans).transform(df_features_kmeans)"
   ]
  },
  {
   "cell_type": "code",
   "execution_count": 34,
   "id": "7b0d2af1-0c74-40d6-91a1-8d90d6bf4d01",
   "metadata": {
    "tags": []
   },
   "outputs": [
    {
     "name": "stdout",
     "output_type": "stream",
     "text": [
      "+--------------------+--------------------+----------------+------------------+----------------+----------+-------------------------+-------------------------+--------+--------+--------+--------+---------------+-----------------+---------------+---------------+--------------------+--------------+---------------+------------+----------+------+--------------------+--------------------+\n",
      "|           client_id|            offer_id|offer_type_index|qtd_offer_received|qtd_offer_viewed|sum_reward|registered_duration_month|registered_duration_years|gender_M|gender_F|gender_O|gender_U|age_group_index|credit_card_limit|category_limite|offer_min_value|offer_discount_value|offer_duration|qtd_transaction|total_amount|avg_amount|target|            features|     features_scaled|\n",
      "+--------------------+--------------------+----------------+------------------+----------------+----------+-------------------------+-------------------------+--------+--------+--------+--------+---------------+-----------------+---------------+---------------+--------------------+--------------+---------------+------------+----------+------+--------------------+--------------------+\n",
      "|0009655768c64bdeb...|2906b810c7d441179...|               0|                 1|               0|       2.0|                       99|                        8|       1|       0|       0|       0|              2|            72000|              3|             10|                   2|           7.0|              8|       127.6|     15.95|     1|[99.0,8.0,1.0,0.0...|[-0.1497050877749...|\n",
      "|0009655768c64bdeb...|3f207df678b143eea...|               1|                 1|               1|       0.0|                       99|                        8|       1|       0|       0|       0|              2|            72000|              3|              0|                   0|           4.0|              8|       127.6|     15.95|     0|[99.0,8.0,1.0,0.0...|[-0.1497050877749...|\n",
      "|0009655768c64bdeb...|5a8bc65990b245e5a...|               1|                 1|               1|       0.0|                       99|                        8|       1|       0|       0|       0|              2|            72000|              3|              0|                   0|           3.0|              8|       127.6|     15.95|     0|[99.0,8.0,1.0,0.0...|[-0.1497050877749...|\n",
      "|0009655768c64bdeb...|f19421c1d4aa40978...|               2|                 1|               1|       5.0|                       99|                        8|       1|       0|       0|       0|              2|            72000|              3|              5|                   5|           5.0|              8|       127.6|     15.95|     1|[99.0,8.0,1.0,0.0...|[-0.1497050877749...|\n",
      "|0009655768c64bdeb...|fafdcd668e3743c1b...|               0|                 1|               1|       2.0|                       99|                        8|       1|       0|       0|       0|              2|            72000|              3|             10|                   2|          10.0|              8|       127.6|     15.95|     1|[99.0,8.0,1.0,0.0...|[-0.1497050877749...|\n",
      "+--------------------+--------------------+----------------+------------------+----------------+----------+-------------------------+-------------------------+--------+--------+--------+--------+---------------+-----------------+---------------+---------------+--------------------+--------------+---------------+------------+----------+------+--------------------+--------------------+\n",
      "only showing top 5 rows\n"
     ]
    }
   ],
   "source": [
    "df_features_kmeans.show(5)"
   ]
  },
  {
   "cell_type": "code",
   "execution_count": 35,
   "id": "eaf470af-d978-45dc-87a4-f480c27fb520",
   "metadata": {
    "tags": []
   },
   "outputs": [],
   "source": [
    "kmeans = KMeans(featuresCol=\"features_scaled\", predictionCol=\"cluster\", k=5, seed=42)\n",
    "model_kmeans = kmeans.fit(df_features_kmeans)"
   ]
  },
  {
   "cell_type": "code",
   "execution_count": 36,
   "id": "02640d29-2555-46fc-81e6-9812052c96c6",
   "metadata": {
    "tags": []
   },
   "outputs": [],
   "source": [
    "df_clusters = model_kmeans.transform(df_features_kmeans)"
   ]
  },
  {
   "cell_type": "code",
   "execution_count": 37,
   "id": "f415481c-ce1e-4379-8a1a-86280977c07a",
   "metadata": {
    "tags": []
   },
   "outputs": [
    {
     "name": "stdout",
     "output_type": "stream",
     "text": [
      "+--------------------+--------------------+----------------+------------------+----------------+----------+-------------------------+-------------------------+--------+--------+--------+--------+---------------+-----------------+---------------+---------------+--------------------+--------------+---------------+------------------+------------------+------+--------------------+--------------------+-------+\n",
      "|           client_id|            offer_id|offer_type_index|qtd_offer_received|qtd_offer_viewed|sum_reward|registered_duration_month|registered_duration_years|gender_M|gender_F|gender_O|gender_U|age_group_index|credit_card_limit|category_limite|offer_min_value|offer_discount_value|offer_duration|qtd_transaction|      total_amount|        avg_amount|target|            features|     features_scaled|cluster|\n",
      "+--------------------+--------------------+----------------+------------------+----------------+----------+-------------------------+-------------------------+--------+--------+--------+--------+---------------+-----------------+---------------+---------------+--------------------+--------------+---------------+------------------+------------------+------+--------------------+--------------------+-------+\n",
      "|0009655768c64bdeb...|2906b810c7d441179...|               0|                 1|               0|       2.0|                       99|                        8|       1|       0|       0|       0|              2|            72000|              3|             10|                   2|           7.0|              8|             127.6|             15.95|     1|[99.0,8.0,1.0,0.0...|[-0.1497050877749...|      4|\n",
      "|0009655768c64bdeb...|3f207df678b143eea...|               1|                 1|               1|       0.0|                       99|                        8|       1|       0|       0|       0|              2|            72000|              3|              0|                   0|           4.0|              8|             127.6|             15.95|     0|[99.0,8.0,1.0,0.0...|[-0.1497050877749...|      4|\n",
      "|0009655768c64bdeb...|5a8bc65990b245e5a...|               1|                 1|               1|       0.0|                       99|                        8|       1|       0|       0|       0|              2|            72000|              3|              0|                   0|           3.0|              8|             127.6|             15.95|     0|[99.0,8.0,1.0,0.0...|[-0.1497050877749...|      4|\n",
      "|0009655768c64bdeb...|f19421c1d4aa40978...|               2|                 1|               1|       5.0|                       99|                        8|       1|       0|       0|       0|              2|            72000|              3|              5|                   5|           5.0|              8|             127.6|             15.95|     1|[99.0,8.0,1.0,0.0...|[-0.1497050877749...|      4|\n",
      "|0009655768c64bdeb...|fafdcd668e3743c1b...|               0|                 1|               1|       2.0|                       99|                        8|       1|       0|       0|       0|              2|            72000|              3|             10|                   2|          10.0|              8|             127.6|             15.95|     1|[99.0,8.0,1.0,0.0...|[-0.1497050877749...|      4|\n",
      "|00116118485d4dfda...|f19421c1d4aa40978...|               2|                 2|               2|       0.0|                       87|                        7|       0|       0|       0|       1|              0|            81000|              3|              5|                   5|           5.0|              3|              4.09|1.3633333333333333|     0|[87.0,7.0,0.0,0.0...|[-1.0366262761763...|      2|\n",
      "|0011e0d4e6b944f99...|0b1e1539f2cc45b7b...|               0|                 1|               1|       5.0|                       91|                        7|       0|       0|       1|       0|              3|            57000|              2|             20|                   5|          10.0|              5| 79.46000000000001|15.892000000000001|     1|[91.0,7.0,0.0,0.0...|[-0.7409858800425...|      4|\n",
      "|0011e0d4e6b944f99...|2298d6c36e964ae4a...|               0|                 1|               1|       3.0|                       91|                        7|       0|       0|       1|       0|              3|            57000|              2|              7|                   3|           7.0|              5| 79.46000000000001|15.892000000000001|     1|[91.0,7.0,0.0,0.0...|[-0.7409858800425...|      4|\n",
      "|0011e0d4e6b944f99...|3f207df678b143eea...|               1|                 1|               1|       0.0|                       91|                        7|       0|       0|       1|       0|              3|            57000|              2|              0|                   0|           4.0|              5| 79.46000000000001|15.892000000000001|     0|[91.0,7.0,0.0,0.0...|[-0.7409858800425...|      4|\n",
      "|0011e0d4e6b944f99...|5a8bc65990b245e5a...|               1|                 1|               1|       0.0|                       91|                        7|       0|       0|       1|       0|              3|            57000|              2|              0|                   0|           3.0|              5| 79.46000000000001|15.892000000000001|     0|[91.0,7.0,0.0,0.0...|[-0.7409858800425...|      4|\n",
      "|0011e0d4e6b944f99...|9b98b8c7a33c4b65b...|               2|                 1|               1|       5.0|                       91|                        7|       0|       0|       1|       0|              3|            57000|              2|              5|                   5|           7.0|              5| 79.46000000000001|15.892000000000001|     1|[91.0,7.0,0.0,0.0...|[-0.7409858800425...|      4|\n",
      "|0020c2b971eb4e918...|4d5c57ea9a6940dd8...|               2|                 1|               1|      10.0|                      113|                        9|       0|       1|       0|       0|              4|            90000|              4|             10|                  10|           5.0|              8|            196.86|           24.6075|     1|[113.0,9.0,0.0,1....|[0.88503629869343...|      0|\n",
      "|0020c2b971eb4e918...|5a8bc65990b245e5a...|               1|                 1|               1|       0.0|                      113|                        9|       0|       1|       0|       0|              4|            90000|              4|              0|                   0|           3.0|              8|            196.86|           24.6075|     0|[113.0,9.0,0.0,1....|[0.88503629869343...|      0|\n",
      "|0020c2b971eb4e918...|ae264e3637204a6fb...|               2|                 1|               0|       0.0|                      113|                        9|       0|       1|       0|       0|              4|            90000|              4|             10|                  10|           7.0|              8|            196.86|           24.6075|     0|[113.0,9.0,0.0,1....|[0.88503629869343...|      0|\n",
      "|0020c2b971eb4e918...|fafdcd668e3743c1b...|               0|                 2|               1|       4.0|                      113|                        9|       0|       1|       0|       0|              4|            90000|              4|             10|                   2|          10.0|              8|            196.86|           24.6075|     1|[113.0,9.0,0.0,1....|[0.88503629869343...|      0|\n",
      "|0020ccbbb6d84e358...|2298d6c36e964ae4a...|               0|                 1|               1|       3.0|                      105|                        8|       0|       1|       0|       0|              1|            60000|              2|              7|                   3|           7.0|             12|154.04999999999998|12.837499999999999|     1|[105.0,8.0,0.0,1....|[0.29375550642580...|      3|\n",
      "|0020ccbbb6d84e358...|5a8bc65990b245e5a...|               1|                 1|               1|       0.0|                      105|                        8|       0|       1|       0|       0|              1|            60000|              2|              0|                   0|           3.0|             12|154.04999999999998|12.837499999999999|     0|[105.0,8.0,0.0,1....|[0.29375550642580...|      3|\n",
      "|0020ccbbb6d84e358...|9b98b8c7a33c4b65b...|               2|                 1|               1|       5.0|                      105|                        8|       0|       1|       0|       0|              1|            60000|              2|              5|                   5|           7.0|             12|154.04999999999998|12.837499999999999|     1|[105.0,8.0,0.0,1....|[0.29375550642580...|      3|\n",
      "|0020ccbbb6d84e358...|f19421c1d4aa40978...|               2|                 1|               1|       5.0|                      105|                        8|       0|       1|       0|       0|              1|            60000|              2|              5|                   5|           5.0|             12|154.04999999999998|12.837499999999999|     1|[105.0,8.0,0.0,1....|[0.29375550642580...|      3|\n",
      "|003d66b6608740288...|0b1e1539f2cc45b7b...|               0|                 1|               0|       5.0|                       97|                        8|       0|       1|       0|       0|              1|            73000|              3|             20|                   5|          10.0|             18| 48.34000000000001| 2.685555555555556|     1|[97.0,8.0,0.0,1.0...|[-0.2975252858418...|      3|\n",
      "+--------------------+--------------------+----------------+------------------+----------------+----------+-------------------------+-------------------------+--------+--------+--------+--------+---------------+-----------------+---------------+---------------+--------------------+--------------+---------------+------------------+------------------+------+--------------------+--------------------+-------+\n",
      "only showing top 20 rows\n"
     ]
    }
   ],
   "source": [
    "df_clusters.show()"
   ]
  },
  {
   "cell_type": "code",
   "execution_count": 38,
   "id": "65e395c4-e832-47f9-9355-0393c076dc41",
   "metadata": {
    "tags": []
   },
   "outputs": [],
   "source": [
    "df_clusters.write.format(\"parquet\").mode(\"overwrite\").save(path_output_km_model)"
   ]
  }
 ],
 "metadata": {
  "kernelspec": {
   "display_name": "Python 3 (ipykernel)",
   "language": "python",
   "name": "python3"
  },
  "language_info": {
   "codemirror_mode": {
    "name": "ipython",
    "version": 3
   },
   "file_extension": ".py",
   "mimetype": "text/x-python",
   "name": "python",
   "nbconvert_exporter": "python",
   "pygments_lexer": "ipython3",
   "version": "3.12.11"
  }
 },
 "nbformat": 4,
 "nbformat_minor": 5
}
