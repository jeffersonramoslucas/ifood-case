{
 "cells": [
  {
   "cell_type": "markdown",
   "id": "c1d1470d-fd8f-4f94-840c-79e4613d2933",
   "metadata": {},
   "source": [
    "# Modelo 1: recomendação de ofertas\n",
    "\n",
    "## *Etapa 1: Modelo Supervisionado*\n",
    "\n",
    "Esta etapa inclui o treinamento do modelo supervisionado que tem como resultado a propensão de compra de um tipo de oferta $P(offerType)$ \n",
    "assim como  a propensão de compra de uma oferta condicionada ao tipo de oferta $P(offer | offerType)$ \n",
    "\n",
    "\n",
    "TEOREMA DE BAYES\n",
    "\n",
    "$$P(A|B) = \\frac{P(B|A) \\times P(A)}{P(B)}$$\n",
    "\n",
    "PARA -> \n",
    "A = offer,\n",
    "B = offer_type\n",
    "\n",
    "$$P(offer | offerType) = \\frac{P(offerType | offer) \\times P(offer)}{P(offerType)}$$\n",
    "\n",
    "$$P(offer | offerType) \\times P(offerType) = P(offerType | offer) \\times P(offer)$$\n",
    "\n",
    "$$P(offer) = \\frac{P(offer | offerType) \\times P(offerType)}{P(offerType | offer)}$$\n",
    "\n",
    "\n",
    "$$P(offerType | offer) = 1$$\n",
    "\n",
    "SOLUÇÂO:\n",
    "$$P(offer) = P(offer | offerType) \\times P(offerType)$$\n",
    "\n",
    "$P(offer | offerType) =>$ Solução Frequentista\n",
    "\n",
    "$P(offerType) =>$ Modelo Supervisionado\n",
    "\n",
    "## *Etapa 2: Cluster de Clientes*\n",
    "Esta etapa inclui a criação de cluster de clientes com base em suas informações demograficas"
   ]
  },
  {
   "cell_type": "code",
   "execution_count": 1,
   "id": "64bcfffc-a8fa-4996-9fd5-c2bfe3b02132",
   "metadata": {},
   "outputs": [
    {
     "name": "stderr",
     "output_type": "stream",
     "text": [
      "WARNING: Using incubator modules: jdk.incubator.vector\n",
      "Using Spark's default log4j profile: org/apache/spark/log4j2-defaults.properties\n",
      "25/08/10 15:57:20 WARN Utils: Your hostname, N0L144853, resolves to a loopback address: 127.0.1.1; using 192.168.3.112 instead (on interface wlp0s20f3)\n",
      "25/08/10 15:57:20 WARN Utils: Set SPARK_LOCAL_IP if you need to bind to another address\n",
      "Using Spark's default log4j profile: org/apache/spark/log4j2-defaults.properties\n",
      "Setting default log level to \"WARN\".\n",
      "To adjust logging level use sc.setLogLevel(newLevel). For SparkR, use setLogLevel(newLevel).\n",
      "25/08/10 15:57:21 WARN NativeCodeLoader: Unable to load native-hadoop library for your platform... using builtin-java classes where applicable\n",
      "25/08/10 15:57:21 WARN Utils: Service 'SparkUI' could not bind on port 4040. Attempting port 4041.\n",
      "25/08/10 15:57:21 WARN Utils: Service 'SparkUI' could not bind on port 4041. Attempting port 4042.\n",
      "25/08/10 15:57:21 WARN Utils: Service 'SparkUI' could not bind on port 4042. Attempting port 4043.\n",
      "25/08/10 15:57:21 WARN Utils: Service 'SparkUI' could not bind on port 4043. Attempting port 4044.\n",
      "25/08/10 15:57:21 WARN Utils: Service 'SparkUI' could not bind on port 4044. Attempting port 4045.\n",
      "25/08/10 15:57:21 WARN Utils: Service 'SparkUI' could not bind on port 4045. Attempting port 4046.\n",
      "25/08/10 15:57:21 WARN Utils: Service 'SparkUI' could not bind on port 4046. Attempting port 4047.\n"
     ]
    },
    {
     "data": {
      "text/html": [
       "<style>.jp-Cell-outputArea { text-align: center; }</style>"
      ],
      "text/plain": [
       "<IPython.core.display.HTML object>"
      ]
     },
     "metadata": {},
     "output_type": "display_data"
    }
   ],
   "source": [
    "from pyspark.sql import SparkSession\n",
    "spark = SparkSession.builder.appName('PySparkTest').getOrCreate()\n",
    "\n",
    "from IPython.display import display, HTML\n",
    "display(HTML(\"<style>.jp-Cell-outputArea { text-align: center; }</style>\"))"
   ]
  },
  {
   "cell_type": "code",
   "execution_count": 2,
   "id": "f64b7599-22c6-449b-b219-03f98e735ab7",
   "metadata": {},
   "outputs": [],
   "source": [
    "import plotly.express as px\n",
    "from pyspark.sql import types as T\n",
    "from pyspark.sql.window import Window\n",
    "from pyspark.sql import functions as F\n",
    "\n",
    "def metrics_at(df, tresh):\n",
    "    TN = df.where(f\"y_proba_class1 < {tresh} AND target=0\").count()\n",
    "    FN = df.where(f\"y_proba_class1 < {tresh} AND target=1\").count()\n",
    "    FP = df.where(f\"y_proba_class1 >= {tresh} AND target=0\").count()\n",
    "    TP = df.where(f\"y_proba_class1 >= {tresh} AND target=1\").count()\n",
    "\n",
    "    precision = TP / (TP + FP) if (TP + FP)>0 else 0.0\n",
    "    recall = TP / (TP + FN) if (TP + FN)>0 else 0.0\n",
    "    f1 = (2*precision*recall)/(precision+recall) if (precision + recall) > 0 else 0.0\n",
    "    \n",
    "    return precision, recall, f1, TP, FP, TN, FN\n",
    "\n",
    "def optimize_threshold(df):\n",
    "    qs = [i/100 for i in range(5, 96)]\n",
    "    thresholds = df.approxQuantile(\"y_proba_class1\", qs, 0.001)\n",
    "\n",
    "    best = (None, -1.0) \n",
    "    for t in thresholds:\n",
    "        p,r,f1,TP,FP,TN,FN = metrics_at(df, t)\n",
    "        if f1 > best[1]:\n",
    "            best = (t, f1)\n",
    "    best_t = best[0]\n",
    "\n",
    "    return best_t\n",
    "\n",
    "SPLIT_TRAIN = 0.8\n",
    "NUM_TREES = 200\n",
    "MAX_DEPTH = 10\n",
    "MAX_BINS = 80"
   ]
  },
  {
   "cell_type": "markdown",
   "id": "0a45e3de-5371-4067-a831-ff4bb6ab8bcc",
   "metadata": {},
   "source": [
    "# Read Files"
   ]
  },
  {
   "cell_type": "code",
   "execution_count": 3,
   "id": "d5038f02-05ae-4333-8680-1a468e57d849",
   "metadata": {},
   "outputs": [],
   "source": [
    "path_mastertable = '../data/trusted/mastertable'\n",
    "\n",
    "df_merge = spark.read.format(\"parquet\").option(\"header\", \"true\").option(\"inferSchema\", \"true\").load(path_mastertable)"
   ]
  },
  {
   "cell_type": "markdown",
   "id": "d679bfd1-dc71-4a8c-9754-690efa53ce00",
   "metadata": {
    "application/vnd.databricks.v1+cell": {
     "cellMetadata": {},
     "inputWidgets": {},
     "nuid": "26687d27-e96e-4b4b-bd04-8cc5608f7247",
     "showTitle": false,
     "tableResultSettingsMap": {},
     "title": ""
    }
   },
   "source": [
    "# Modeling"
   ]
  },
  {
   "cell_type": "code",
   "execution_count": 5,
   "id": "9a7ec2b2-82ef-4ede-8f55-e60e40e31cf8",
   "metadata": {
    "application/vnd.databricks.v1+cell": {
     "cellMetadata": {
      "byteLimit": 2048000,
      "rowLimit": 10000
     },
     "inputWidgets": {},
     "nuid": "09326a61-ba1b-498d-88d1-b5520e3cc5a1",
     "showTitle": false,
     "tableResultSettingsMap": {
      "0": {
       "dataGridStateBlob": "{\"version\":1,\"tableState\":{\"columnPinning\":{\"left\":[\"#row_number#\"],\"right\":[]},\"columnSizing\":{},\"columnVisibility\":{}},\"settings\":{\"columns\":{}},\"syncTimestamp\":1754626475390}",
       "filterBlob": null,
       "queryPlanFiltersBlob": null,
       "tableResultIndex": 0
      }
     },
     "title": ""
    }
   },
   "outputs": [
    {
     "name": "stdout",
     "output_type": "stream",
     "text": [
      "+--------------------------------+-------------+----------------+\n",
      "|client_id                       |offer_type   |offer_type_count|\n",
      "+--------------------------------+-------------+----------------+\n",
      "|00bc983061d3471e8c8e74d31b7c8b6f|discount     |2               |\n",
      "|0222d267445f4f078bc325224e471766|bogo         |2               |\n",
      "|03118ab70a404fada1a433cd6abaa491|bogo         |1               |\n",
      "|033d0a511a5c452ea2be37a23f8c6dcb|informational|2               |\n",
      "|072731be403a472883bed6c38a8e7aa8|bogo         |1               |\n",
      "+--------------------------------+-------------+----------------+\n",
      "only showing top 5 rows\n"
     ]
    }
   ],
   "source": [
    "aux = df_merge.select(\"client_id\", 'offer_id', \"qtd_offer_received\", 'qtd_offer_completed', 'offer_type')\\\n",
    "              .groupBy(\"client_id\", 'offer_type')\\\n",
    "              .agg(F.sum(\"qtd_offer_received\").alias(\"offer_type_count\"))\n",
    "\n",
    "aux.show(5, truncate=False)"
   ]
  },
  {
   "cell_type": "code",
   "execution_count": 6,
   "id": "7d732cc2-a3dc-454d-91c0-0ae1e3c598bc",
   "metadata": {
    "application/vnd.databricks.v1+cell": {
     "cellMetadata": {
      "byteLimit": 2048000,
      "rowLimit": 10000
     },
     "inputWidgets": {},
     "nuid": "36c1f834-b093-42b1-8b6b-2c9c2cd83a4d",
     "showTitle": false,
     "tableResultSettingsMap": {
      "0": {
       "dataGridStateBlob": "{\"version\":1,\"tableState\":{\"columnPinning\":{\"left\":[\"#row_number#\"],\"right\":[]},\"columnSizing\":{},\"columnVisibility\":{}},\"settings\":{\"columns\":{}},\"syncTimestamp\":1754627784493}",
       "filterBlob": null,
       "queryPlanFiltersBlob": null,
       "tableResultIndex": 0
      }
     },
     "title": ""
    }
   },
   "outputs": [
    {
     "name": "stdout",
     "output_type": "stream",
     "text": [
      "+--------------------------------+-------------+--------------------------------+-------------------+----------------+------------------+\n",
      "|client_id                       |offer_type   |offer_id                        |qtd_offer_completed|offer_type_count|freq_bayes        |\n",
      "+--------------------------------+-------------+--------------------------------+-------------------+----------------+------------------+\n",
      "|0009655768c64bdeb2e877511632db8f|discount     |2906b810c7d4411798c6938adc9daaa5|1                  |2               |0.5               |\n",
      "|0009655768c64bdeb2e877511632db8f|informational|3f207df678b143eea3cee63160fa8bed|0                  |2               |0.0               |\n",
      "|0009655768c64bdeb2e877511632db8f|informational|5a8bc65990b245e5a138643cd4eb9837|0                  |2               |0.0               |\n",
      "|0009655768c64bdeb2e877511632db8f|bogo         |f19421c1d4aa40978ebb69ca19b0e20d|1                  |1               |1.0               |\n",
      "|0009655768c64bdeb2e877511632db8f|discount     |fafdcd668e3743c1bb461111dcafc2a4|1                  |2               |0.5               |\n",
      "|00116118485d4dfda04fdbaba9a87b5c|bogo         |f19421c1d4aa40978ebb69ca19b0e20d|0                  |2               |0.0               |\n",
      "|0011e0d4e6b944f998e987f904e8c1e5|discount     |0b1e1539f2cc45b7b9fa7c272da2e1d7|1                  |2               |0.5               |\n",
      "|0011e0d4e6b944f998e987f904e8c1e5|discount     |2298d6c36e964ae4a3e7e9706d1fb8c2|1                  |2               |0.5               |\n",
      "|0011e0d4e6b944f998e987f904e8c1e5|informational|3f207df678b143eea3cee63160fa8bed|0                  |2               |0.0               |\n",
      "|0011e0d4e6b944f998e987f904e8c1e5|informational|5a8bc65990b245e5a138643cd4eb9837|0                  |2               |0.0               |\n",
      "|0011e0d4e6b944f998e987f904e8c1e5|bogo         |9b98b8c7a33c4b65b9aebfe6a799e6d9|1                  |1               |1.0               |\n",
      "|0020c2b971eb4e9188eac86d93036a77|bogo         |4d5c57ea9a6940dd891ad53e9dbe8da0|1                  |2               |0.5               |\n",
      "|0020c2b971eb4e9188eac86d93036a77|informational|5a8bc65990b245e5a138643cd4eb9837|0                  |1               |0.0               |\n",
      "|0020c2b971eb4e9188eac86d93036a77|bogo         |ae264e3637204a6fb9bb56bc8210ddfd|0                  |2               |0.0               |\n",
      "|0020c2b971eb4e9188eac86d93036a77|discount     |fafdcd668e3743c1bb461111dcafc2a4|2                  |2               |1.0               |\n",
      "|0020ccbbb6d84e358d3414a3ff76cffd|discount     |2298d6c36e964ae4a3e7e9706d1fb8c2|1                  |1               |1.0               |\n",
      "|0020ccbbb6d84e358d3414a3ff76cffd|informational|5a8bc65990b245e5a138643cd4eb9837|0                  |1               |0.0               |\n",
      "|0020ccbbb6d84e358d3414a3ff76cffd|bogo         |9b98b8c7a33c4b65b9aebfe6a799e6d9|1                  |2               |0.5               |\n",
      "|0020ccbbb6d84e358d3414a3ff76cffd|bogo         |f19421c1d4aa40978ebb69ca19b0e20d|1                  |2               |0.5               |\n",
      "|003d66b6608740288d6cc97a6903f4f0|discount     |0b1e1539f2cc45b7b9fa7c272da2e1d7|1                  |3               |0.3333333333333333|\n",
      "+--------------------------------+-------------+--------------------------------+-------------------+----------------+------------------+\n",
      "only showing top 20 rows\n"
     ]
    }
   ],
   "source": [
    "df_freq_bayes = df_merge.select(\"client_id\", 'offer_id', 'qtd_offer_completed', 'offer_type')\\\n",
    "                        .join(aux, on=['client_id', 'offer_type'], how='left')\\\n",
    "                        .select(\"client_id\", \"offer_type\", \"offer_id\", \"qtd_offer_completed\", \"offer_type_count\")\\\n",
    "                        .withColumn(\"freq_bayes\", F.when(F.col(\"offer_type_count\")!=0, F.col(\"qtd_offer_completed\")/F.col(\"offer_type_count\")).otherwise(0))\\\n",
    "                        .orderBy(\"client_id\", 'offer_id')\n",
    "df_freq_bayes.show(truncate=False)"
   ]
  },
  {
   "cell_type": "code",
   "execution_count": 7,
   "id": "97289ddf-8cf2-4465-9115-0ae7e3f77085",
   "metadata": {
    "application/vnd.databricks.v1+cell": {
     "cellMetadata": {
      "byteLimit": 2048000,
      "rowLimit": 10000
     },
     "inputWidgets": {},
     "nuid": "b5ad1a98-9895-4af1-a848-38ff36b9f2c3",
     "showTitle": false,
     "tableResultSettingsMap": {},
     "title": ""
    }
   },
   "outputs": [
    {
     "name": "stdout",
     "output_type": "stream",
     "text": [
      "+---------+----------+--------+-------------------+----------------+----------+\n",
      "|client_id|offer_type|offer_id|qtd_offer_completed|offer_type_count|freq_bayes|\n",
      "+---------+----------+--------+-------------------+----------------+----------+\n",
      "|        0|         0|       0|                  0|               0|         0|\n",
      "+---------+----------+--------+-------------------+----------------+----------+\n",
      "\n"
     ]
    }
   ],
   "source": [
    "df_freq_bayes.select([F.count(F.when(F.col(c).isNull(), c)).alias(c) for c in df_freq_bayes.columns]).show()"
   ]
  },
  {
   "cell_type": "code",
   "execution_count": 8,
   "id": "5fcc16fc-f0e8-46d3-8838-f7d80507d2fd",
   "metadata": {},
   "outputs": [],
   "source": [
    "df_freq_bayes.write.format(\"parquet\").mode(\"overwrite\").save('../data/trusted/freq_bayes')"
   ]
  },
  {
   "cell_type": "markdown",
   "id": "6c074c7a-768b-41e1-9415-e72d0c89b795",
   "metadata": {},
   "source": [
    "## Select Features"
   ]
  },
  {
   "cell_type": "code",
   "execution_count": 9,
   "id": "b26f9aea-268e-46a1-922b-6e0b3aba41a6",
   "metadata": {
    "application/vnd.databricks.v1+cell": {
     "cellMetadata": {
      "byteLimit": 2048000,
      "rowLimit": 10000
     },
     "inputWidgets": {},
     "nuid": "c11e6e73-6d38-4e63-9711-7c81c025519d",
     "showTitle": false,
     "tableResultSettingsMap": {
      "0": {
       "dataGridStateBlob": "{\"version\":1,\"tableState\":{\"columnPinning\":{\"left\":[\"#row_number#\"],\"right\":[]},\"columnSizing\":{},\"columnVisibility\":{}},\"settings\":{\"columns\":{}},\"syncTimestamp\":1754645411882}",
       "filterBlob": null,
       "queryPlanFiltersBlob": null,
       "tableResultIndex": 0
      }
     },
     "title": ""
    }
   },
   "outputs": [
    {
     "name": "stdout",
     "output_type": "stream",
     "text": [
      "+--------------------------------+--------------------------------+----------------+------------------+----------------+----------+-------------------------+-------------------------+--------+--------+--------+--------+---------------+-----------------+---------------+---------------+--------------------+--------------+---------------+------------+----------+------+\n",
      "|client_id                       |offer_id                        |offer_type_index|qtd_offer_received|qtd_offer_viewed|sum_reward|registered_duration_month|registered_duration_years|gender_M|gender_F|gender_O|gender_U|age_group_index|credit_card_limit|category_limite|offer_min_value|offer_discount_value|offer_duration|qtd_transaction|total_amount|avg_amount|target|\n",
      "+--------------------------------+--------------------------------+----------------+------------------+----------------+----------+-------------------------+-------------------------+--------+--------+--------+--------+---------------+-----------------+---------------+---------------+--------------------+--------------+---------------+------------+----------+------+\n",
      "|0009655768c64bdeb2e877511632db8f|2906b810c7d4411798c6938adc9daaa5|0               |1                 |0               |2.0       |99                       |8                        |1       |0       |0       |0       |2              |72000            |3              |10             |2                   |7.0           |8              |127.6       |15.95     |1     |\n",
      "|0009655768c64bdeb2e877511632db8f|3f207df678b143eea3cee63160fa8bed|1               |1                 |1               |0.0       |99                       |8                        |1       |0       |0       |0       |2              |72000            |3              |0              |0                   |4.0           |8              |127.6       |15.95     |0     |\n",
      "|0009655768c64bdeb2e877511632db8f|5a8bc65990b245e5a138643cd4eb9837|1               |1                 |1               |0.0       |99                       |8                        |1       |0       |0       |0       |2              |72000            |3              |0              |0                   |3.0           |8              |127.6       |15.95     |0     |\n",
      "|0009655768c64bdeb2e877511632db8f|f19421c1d4aa40978ebb69ca19b0e20d|2               |1                 |1               |5.0       |99                       |8                        |1       |0       |0       |0       |2              |72000            |3              |5              |5                   |5.0           |8              |127.6       |15.95     |1     |\n",
      "|0009655768c64bdeb2e877511632db8f|fafdcd668e3743c1bb461111dcafc2a4|0               |1                 |1               |2.0       |99                       |8                        |1       |0       |0       |0       |2              |72000            |3              |10             |2                   |10.0          |8              |127.6       |15.95     |1     |\n",
      "+--------------------------------+--------------------------------+----------------+------------------+----------------+----------+-------------------------+-------------------------+--------+--------+--------+--------+---------------+-----------------+---------------+---------------+--------------------+--------------+---------------+------------+----------+------+\n",
      "only showing top 5 rows\n"
     ]
    }
   ],
   "source": [
    "df_features = df_merge.select('client_id', 'offer_id', 'offer_type_index', 'qtd_offer_received', 'qtd_offer_viewed', 'qtd_offer_completed', 'sum_reward', \n",
    "                              'registered_duration_month', 'registered_duration_years', 'gender_M', 'gender_F', 'gender_O','gender_U', 'age_group_index', \n",
    "                              'credit_card_limit', 'category_limite', 'offer_min_value', 'offer_discount_value', 'offer_duration', 'qtd_transaction', \n",
    "                              'total_amount', 'avg_amount')\\\n",
    "                        .withColumn('target', F.when(F.col('qtd_offer_completed')>0, 1).otherwise(0))\\\n",
    "                        .drop('qtd_offer_completed')\n",
    "df_features.show(5, truncate=False)"
   ]
  },
  {
   "cell_type": "code",
   "execution_count": 10,
   "id": "c25fa552-94cc-44f1-a0b9-68f917bb657f",
   "metadata": {},
   "outputs": [
    {
     "name": "stdout",
     "output_type": "stream",
     "text": [
      "+------+-----+\n",
      "|target|count|\n",
      "+------+-----+\n",
      "|     1|28996|\n",
      "|     0|34292|\n",
      "+------+-----+\n",
      "\n"
     ]
    }
   ],
   "source": [
    "df_features.groupBy('target').count().show()"
   ]
  },
  {
   "cell_type": "markdown",
   "id": "0fd8e658-0ae8-4755-8f5a-47f7779d738e",
   "metadata": {},
   "source": [
    "## Create RandomForestModel"
   ]
  },
  {
   "cell_type": "code",
   "execution_count": 11,
   "id": "94a47565-badb-4669-9562-41bea1fd488c",
   "metadata": {},
   "outputs": [],
   "source": [
    "from pyspark.ml.functions import vector_to_array\n",
    "from pyspark.ml.feature import VectorAssembler\n",
    "from pyspark.ml.classification import RandomForestClassifier\n",
    "from pyspark.ml.evaluation import MulticlassClassificationEvaluator"
   ]
  },
  {
   "cell_type": "code",
   "execution_count": 12,
   "id": "fce47d66-d75b-48e4-a2d3-06725871eb12",
   "metadata": {},
   "outputs": [],
   "source": [
    "features = ['offer_type_index',  'offer_min_value', 'offer_discount_value', 'offer_duration', 'gender_M', \n",
    "            'gender_F', 'gender_O', 'gender_U', 'age_group_index','category_limite', 'registered_duration_month',\n",
    "            'registered_duration_years', 'qtd_transaction', 'total_amount', 'avg_amount']"
   ]
  },
  {
   "cell_type": "code",
   "execution_count": 13,
   "id": "205946c6-42bd-4512-b16d-451cf30da484",
   "metadata": {},
   "outputs": [
    {
     "data": {
      "application/vnd.plotly.v1+json": {
       "config": {
        "plotlyServerURL": "https://plot.ly"
       },
       "data": [
        {
         "coloraxis": "coloraxis",
         "hovertemplate": "x: %{x}<br>y: %{y}<br>color: %{z}<extra></extra>",
         "name": "0",
         "texttemplate": "%{z:.2f}",
         "type": "heatmap",
         "x": [
          "offer_type_index",
          "offer_min_value",
          "offer_discount_value",
          "offer_duration",
          "gender_M",
          "gender_F",
          "gender_O",
          "gender_U",
          "age_group_index",
          "category_limite",
          "registered_duration_month",
          "registered_duration_years",
          "qtd_transaction",
          "total_amount",
          "avg_amount",
          "target"
         ],
         "xaxis": "x",
         "y": [
          "offer_type_index",
          "offer_min_value",
          "offer_discount_value",
          "offer_duration",
          "gender_M",
          "gender_F",
          "gender_O",
          "gender_U",
          "age_group_index",
          "category_limite",
          "registered_duration_month",
          "registered_duration_years",
          "qtd_transaction",
          "total_amount",
          "avg_amount",
          "target"
         ],
         "yaxis": "y",
         "z": {
          "_inputArray": [
           {
            "0": 1,
            "1": -0.34376138106053433,
            "10": 0.002126330426052725,
            "11": 0.0019205207112685042,
            "12": -0.0026375039101819136,
            "13": -0.00377657053207845,
            "14": -0.0012618956801318261,
            "15": -0.06467781173052582,
            "2": 0.5919128435954308,
            "3": -0.5074384766669521,
            "4": -0.0016428163581201308,
            "5": -0.000544604144977038,
            "6": -9.795632756469124e-06,
            "7": 0.003250471589098725,
            "8": 0.0025696969835817826,
            "9": 0.0009526603097482121
           },
           {
            "0": -0.34376138106053433,
            "1": 1,
            "10": 0.0025745171514131235,
            "11": 0.0024382005557708106,
            "12": 0.011641790963105686,
            "13": 0.006719921396788678,
            "14": 0.00012916054426979318,
            "15": 0.25894311031369255,
            "2": 0.46550353727056837,
            "3": 0.8085590958485165,
            "4": 0.0030070077428256295,
            "5": 9.77237268324917e-05,
            "6": -0.004117303820210532,
            "7": -0.0032965992808748693,
            "8": -0.0035941829343274284,
            "9": -0.000328140712191298
           },
           {
            "0": 0.5919128435954308,
            "1": 0.46550353727056837,
            "10": 0.0022781591106630214,
            "11": 0.001960275003108072,
            "12": 0.021353694734113502,
            "13": 0.007272049727792549,
            "14": -0.0013652946592507117,
            "15": 0.19061954614192597,
            "2": 1,
            "3": 0.16057205009254752,
            "4": 0.0020968774299227042,
            "5": -0.0019994189139453736,
            "6": -0.0043057021171637126,
            "7": 0.0011492130214600662,
            "8": -0.002416065698778024,
            "9": 0.0017693319422249045
           },
           {
            "0": -0.5074384766669521,
            "1": 0.8085590958485165,
            "10": 0.000741404899731071,
            "11": 0.00020372723056005578,
            "12": 0.026125246119179463,
            "13": 0.013696019674464648,
            "14": -0.0017770532787733293,
            "15": 0.34007968488760876,
            "2": 0.16057205009254752,
            "3": 1,
            "4": 0.004201909739820949,
            "5": -0.0012383927825163697,
            "6": -0.001387928479707827,
            "7": -0.0040612524000937,
            "8": -0.0021323116576388887,
            "9": -0.0018479937644009469
           },
           {
            "0": -0.0016428163581201308,
            "1": 0.0030070077428256295,
            "10": 0.029743955941620902,
            "11": 0.0328512535808851,
            "12": 0.07511287714441936,
            "13": -0.040098228754508344,
            "14": -0.0621364586447272,
            "15": -0.015504903961739586,
            "2": 0.0020968774299227042,
            "3": 0.004201909739820949,
            "4": 1,
            "5": -0.7506492838853922,
            "6": -0.11091004535363859,
            "7": -0.38219655435460104,
            "8": -0.14678187868272777,
            "9": -0.2304865938642565
           },
           {
            "0": -0.000544604144977038,
            "1": 9.77237268324917e-05,
            "10": -0.008604180047203955,
            "11": -0.009869855784223763,
            "12": -0.015425391526468395,
            "13": 0.21895985192032497,
            "14": 0.24207008143658684,
            "15": 0.18556232544714893,
            "2": -0.0019994189139453736,
            "3": -0.0012383927825163697,
            "4": -0.7506492838853922,
            "5": 1,
            "6": -0.08324928433837894,
            "7": -0.2868774377033509,
            "8": 0.09973852331826806,
            "9": 0.15419388742632667
           },
           {
            "0": -9.795632756469124e-06,
            "1": -0.004117303820210532,
            "10": -0.01087461714525013,
            "11": -0.01075798018558228,
            "12": 0.006749439094377922,
            "13": 0.01891074454202493,
            "14": 0.009577117223780053,
            "15": 0.02219434667545779,
            "2": -0.0043057021171637126,
            "3": -0.001387928479707827,
            "4": -0.11091004535363859,
            "5": -0.08324928433837894,
            "6": 1,
            "7": -0.04238675811682117,
            "8": 0.0003953555470858031,
            "9": -0.01326954311986073
           },
           {
            "0": 0.003250471589098725,
            "1": -0.0032965992808748693,
            "10": -0.02863658639201238,
            "11": -0.03151164535646995,
            "12": -0.09263047773694719,
            "13": -0.2613324999638474,
            "14": -0.25849510712028223,
            "15": -0.2512023974755115,
            "2": 0.0011492130214600662,
            "3": -0.0040612524000937,
            "4": -0.38219655435460104,
            "5": -0.2868774377033509,
            "6": -0.04238675811682117,
            "7": 1,
            "8": 0.07635337193490072,
            "9": 0.12794578399325457
           },
           {
            "0": 0.0025696969835817826,
            "1": -0.0035941829343274284,
            "10": 0.0006663857766219894,
            "11": -0.0012781672195062103,
            "12": -0.1457357940283283,
            "13": 0.0656479113230071,
            "14": 0.14341003959044693,
            "15": 0.04565565433988815,
            "2": -0.002416065698778024,
            "3": -0.0021323116576388887,
            "4": -0.14678187868272777,
            "5": 0.09973852331826806,
            "6": 0.0003953555470858031,
            "7": 0.07635337193490072,
            "8": 1,
            "9": 0.253267015521616
           },
           {
            "0": 0.0009526603097482121,
            "1": -0.000328140712191298,
            "10": 0.018573516903354577,
            "11": 0.019588765226777577,
            "12": -0.23540137543310954,
            "13": 0.23693216839223963,
            "14": 0.37741529862628154,
            "15": 0.12398452528672527,
            "2": 0.0017693319422249045,
            "3": -0.0018479937644009469,
            "4": -0.2304865938642565,
            "5": 0.15419388742632667,
            "6": -0.01326954311986073,
            "7": 0.12794578399325457,
            "8": 0.253267015521616,
            "9": 1
           },
           {
            "0": 0.002126330426052725,
            "1": 0.0025745171514131235,
            "10": 1,
            "11": 0.966779682519843,
            "12": 0.4326717250700591,
            "13": 0.16948900833049726,
            "14": 0.044474558970135226,
            "15": 0.159058424959805,
            "2": 0.0022781591106630214,
            "3": 0.000741404899731071,
            "4": 0.029743955941620902,
            "5": -0.008604180047203955,
            "6": -0.01087461714525013,
            "7": -0.02863658639201238,
            "8": 0.0006663857766219894,
            "9": 0.018573516903354577
           },
           {
            "0": 0.0019205207112685042,
            "1": 0.0024382005557708106,
            "10": 0.966779682519843,
            "11": 1,
            "12": 0.4274465763845559,
            "13": 0.16525275480460186,
            "14": 0.04267084964454378,
            "15": 0.15431171777314837,
            "2": 0.001960275003108072,
            "3": 0.00020372723056005578,
            "4": 0.0328512535808851,
            "5": -0.009869855784223763,
            "6": -0.01075798018558228,
            "7": -0.03151164535646995,
            "8": -0.0012781672195062103,
            "9": 0.019588765226777577
           },
           {
            "0": -0.0026375039101819136,
            "1": 0.011641790963105686,
            "10": 0.4326717250700591,
            "11": 0.4274465763845559,
            "12": 1,
            "13": 0.3507623148250343,
            "14": -0.05801178872976411,
            "15": 0.25831636166930977,
            "2": 0.021353694734113502,
            "3": 0.026125246119179463,
            "4": 0.07511287714441936,
            "5": -0.015425391526468395,
            "6": 0.006749439094377922,
            "7": -0.09263047773694719,
            "8": -0.1457357940283283,
            "9": -0.23540137543310954
           },
           {
            "0": -0.00377657053207845,
            "1": 0.006719921396788678,
            "10": 0.16948900833049726,
            "11": 0.16525275480460186,
            "12": 0.3507623148250343,
            "13": 1,
            "14": 0.7778496404789398,
            "15": 0.3763791675056898,
            "2": 0.007272049727792549,
            "3": 0.013696019674464648,
            "4": -0.040098228754508344,
            "5": 0.21895985192032497,
            "6": 0.01891074454202493,
            "7": -0.2613324999638474,
            "8": 0.0656479113230071,
            "9": 0.23693216839223963
           },
           {
            "0": -0.0012618956801318261,
            "1": 0.00012916054426979318,
            "10": 0.044474558970135226,
            "11": 0.04267084964454378,
            "12": -0.05801178872976411,
            "13": 0.7778496404789398,
            "14": 1,
            "15": 0.27754945094677475,
            "2": -0.0013652946592507117,
            "3": -0.0017770532787733293,
            "4": -0.0621364586447272,
            "5": 0.24207008143658684,
            "6": 0.009577117223780053,
            "7": -0.25849510712028223,
            "8": 0.14341003959044693,
            "9": 0.37741529862628154
           },
           {
            "0": -0.06467781173052582,
            "1": 0.25894311031369255,
            "10": 0.159058424959805,
            "11": 0.15431171777314837,
            "12": 0.25831636166930977,
            "13": 0.3763791675056898,
            "14": 0.27754945094677475,
            "15": 1,
            "2": 0.19061954614192597,
            "3": 0.34007968488760876,
            "4": -0.015504903961739586,
            "5": 0.18556232544714893,
            "6": 0.02219434667545779,
            "7": -0.2512023974755115,
            "8": 0.04565565433988815,
            "9": 0.12398452528672527
           }
          ],
          "bdata": "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",
          "dtype": "f8",
          "shape": "16, 16"
         }
        }
       ],
       "layout": {
        "coloraxis": {
         "colorbar": {
          "title": {
           "text": "Correlação"
          }
         },
         "colorscale": [
          [
           0,
           "rgb(103,0,31)"
          ],
          [
           0.1,
           "rgb(178,24,43)"
          ],
          [
           0.2,
           "rgb(214,96,77)"
          ],
          [
           0.3,
           "rgb(244,165,130)"
          ],
          [
           0.4,
           "rgb(253,219,199)"
          ],
          [
           0.5,
           "rgb(247,247,247)"
          ],
          [
           0.6,
           "rgb(209,229,240)"
          ],
          [
           0.7,
           "rgb(146,197,222)"
          ],
          [
           0.8,
           "rgb(67,147,195)"
          ],
          [
           0.9,
           "rgb(33,102,172)"
          ],
          [
           1,
           "rgb(5,48,97)"
          ]
         ]
        },
        "height": 1000,
        "template": {
         "data": {
          "bar": [
           {
            "error_x": {
             "color": "#2a3f5f"
            },
            "error_y": {
             "color": "#2a3f5f"
            },
            "marker": {
             "line": {
              "color": "#E5ECF6",
              "width": 0.5
             },
             "pattern": {
              "fillmode": "overlay",
              "size": 10,
              "solidity": 0.2
             }
            },
            "type": "bar"
           }
          ],
          "barpolar": [
           {
            "marker": {
             "line": {
              "color": "#E5ECF6",
              "width": 0.5
             },
             "pattern": {
              "fillmode": "overlay",
              "size": 10,
              "solidity": 0.2
             }
            },
            "type": "barpolar"
           }
          ],
          "carpet": [
           {
            "aaxis": {
             "endlinecolor": "#2a3f5f",
             "gridcolor": "white",
             "linecolor": "white",
             "minorgridcolor": "white",
             "startlinecolor": "#2a3f5f"
            },
            "baxis": {
             "endlinecolor": "#2a3f5f",
             "gridcolor": "white",
             "linecolor": "white",
             "minorgridcolor": "white",
             "startlinecolor": "#2a3f5f"
            },
            "type": "carpet"
           }
          ],
          "choropleth": [
           {
            "colorbar": {
             "outlinewidth": 0,
             "ticks": ""
            },
            "type": "choropleth"
           }
          ],
          "contour": [
           {
            "colorbar": {
             "outlinewidth": 0,
             "ticks": ""
            },
            "colorscale": [
             [
              0,
              "#0d0887"
             ],
             [
              0.1111111111111111,
              "#46039f"
             ],
             [
              0.2222222222222222,
              "#7201a8"
             ],
             [
              0.3333333333333333,
              "#9c179e"
             ],
             [
              0.4444444444444444,
              "#bd3786"
             ],
             [
              0.5555555555555556,
              "#d8576b"
             ],
             [
              0.6666666666666666,
              "#ed7953"
             ],
             [
              0.7777777777777778,
              "#fb9f3a"
             ],
             [
              0.8888888888888888,
              "#fdca26"
             ],
             [
              1,
              "#f0f921"
             ]
            ],
            "type": "contour"
           }
          ],
          "contourcarpet": [
           {
            "colorbar": {
             "outlinewidth": 0,
             "ticks": ""
            },
            "type": "contourcarpet"
           }
          ],
          "heatmap": [
           {
            "colorbar": {
             "outlinewidth": 0,
             "ticks": ""
            },
            "colorscale": [
             [
              0,
              "#0d0887"
             ],
             [
              0.1111111111111111,
              "#46039f"
             ],
             [
              0.2222222222222222,
              "#7201a8"
             ],
             [
              0.3333333333333333,
              "#9c179e"
             ],
             [
              0.4444444444444444,
              "#bd3786"
             ],
             [
              0.5555555555555556,
              "#d8576b"
             ],
             [
              0.6666666666666666,
              "#ed7953"
             ],
             [
              0.7777777777777778,
              "#fb9f3a"
             ],
             [
              0.8888888888888888,
              "#fdca26"
             ],
             [
              1,
              "#f0f921"
             ]
            ],
            "type": "heatmap"
           }
          ],
          "histogram": [
           {
            "marker": {
             "pattern": {
              "fillmode": "overlay",
              "size": 10,
              "solidity": 0.2
             }
            },
            "type": "histogram"
           }
          ],
          "histogram2d": [
           {
            "colorbar": {
             "outlinewidth": 0,
             "ticks": ""
            },
            "colorscale": [
             [
              0,
              "#0d0887"
             ],
             [
              0.1111111111111111,
              "#46039f"
             ],
             [
              0.2222222222222222,
              "#7201a8"
             ],
             [
              0.3333333333333333,
              "#9c179e"
             ],
             [
              0.4444444444444444,
              "#bd3786"
             ],
             [
              0.5555555555555556,
              "#d8576b"
             ],
             [
              0.6666666666666666,
              "#ed7953"
             ],
             [
              0.7777777777777778,
              "#fb9f3a"
             ],
             [
              0.8888888888888888,
              "#fdca26"
             ],
             [
              1,
              "#f0f921"
             ]
            ],
            "type": "histogram2d"
           }
          ],
          "histogram2dcontour": [
           {
            "colorbar": {
             "outlinewidth": 0,
             "ticks": ""
            },
            "colorscale": [
             [
              0,
              "#0d0887"
             ],
             [
              0.1111111111111111,
              "#46039f"
             ],
             [
              0.2222222222222222,
              "#7201a8"
             ],
             [
              0.3333333333333333,
              "#9c179e"
             ],
             [
              0.4444444444444444,
              "#bd3786"
             ],
             [
              0.5555555555555556,
              "#d8576b"
             ],
             [
              0.6666666666666666,
              "#ed7953"
             ],
             [
              0.7777777777777778,
              "#fb9f3a"
             ],
             [
              0.8888888888888888,
              "#fdca26"
             ],
             [
              1,
              "#f0f921"
             ]
            ],
            "type": "histogram2dcontour"
           }
          ],
          "mesh3d": [
           {
            "colorbar": {
             "outlinewidth": 0,
             "ticks": ""
            },
            "type": "mesh3d"
           }
          ],
          "parcoords": [
           {
            "line": {
             "colorbar": {
              "outlinewidth": 0,
              "ticks": ""
             }
            },
            "type": "parcoords"
           }
          ],
          "pie": [
           {
            "automargin": true,
            "type": "pie"
           }
          ],
          "scatter": [
           {
            "fillpattern": {
             "fillmode": "overlay",
             "size": 10,
             "solidity": 0.2
            },
            "type": "scatter"
           }
          ],
          "scatter3d": [
           {
            "line": {
             "colorbar": {
              "outlinewidth": 0,
              "ticks": ""
             }
            },
            "marker": {
             "colorbar": {
              "outlinewidth": 0,
              "ticks": ""
             }
            },
            "type": "scatter3d"
           }
          ],
          "scattercarpet": [
           {
            "marker": {
             "colorbar": {
              "outlinewidth": 0,
              "ticks": ""
             }
            },
            "type": "scattercarpet"
           }
          ],
          "scattergeo": [
           {
            "marker": {
             "colorbar": {
              "outlinewidth": 0,
              "ticks": ""
             }
            },
            "type": "scattergeo"
           }
          ],
          "scattergl": [
           {
            "marker": {
             "colorbar": {
              "outlinewidth": 0,
              "ticks": ""
             }
            },
            "type": "scattergl"
           }
          ],
          "scattermap": [
           {
            "marker": {
             "colorbar": {
              "outlinewidth": 0,
              "ticks": ""
             }
            },
            "type": "scattermap"
           }
          ],
          "scattermapbox": [
           {
            "marker": {
             "colorbar": {
              "outlinewidth": 0,
              "ticks": ""
             }
            },
            "type": "scattermapbox"
           }
          ],
          "scatterpolar": [
           {
            "marker": {
             "colorbar": {
              "outlinewidth": 0,
              "ticks": ""
             }
            },
            "type": "scatterpolar"
           }
          ],
          "scatterpolargl": [
           {
            "marker": {
             "colorbar": {
              "outlinewidth": 0,
              "ticks": ""
             }
            },
            "type": "scatterpolargl"
           }
          ],
          "scatterternary": [
           {
            "marker": {
             "colorbar": {
              "outlinewidth": 0,
              "ticks": ""
             }
            },
            "type": "scatterternary"
           }
          ],
          "surface": [
           {
            "colorbar": {
             "outlinewidth": 0,
             "ticks": ""
            },
            "colorscale": [
             [
              0,
              "#0d0887"
             ],
             [
              0.1111111111111111,
              "#46039f"
             ],
             [
              0.2222222222222222,
              "#7201a8"
             ],
             [
              0.3333333333333333,
              "#9c179e"
             ],
             [
              0.4444444444444444,
              "#bd3786"
             ],
             [
              0.5555555555555556,
              "#d8576b"
             ],
             [
              0.6666666666666666,
              "#ed7953"
             ],
             [
              0.7777777777777778,
              "#fb9f3a"
             ],
             [
              0.8888888888888888,
              "#fdca26"
             ],
             [
              1,
              "#f0f921"
             ]
            ],
            "type": "surface"
           }
          ],
          "table": [
           {
            "cells": {
             "fill": {
              "color": "#EBF0F8"
             },
             "line": {
              "color": "white"
             }
            },
            "header": {
             "fill": {
              "color": "#C8D4E3"
             },
             "line": {
              "color": "white"
             }
            },
            "type": "table"
           }
          ]
         },
         "layout": {
          "annotationdefaults": {
           "arrowcolor": "#2a3f5f",
           "arrowhead": 0,
           "arrowwidth": 1
          },
          "autotypenumbers": "strict",
          "coloraxis": {
           "colorbar": {
            "outlinewidth": 0,
            "ticks": ""
           }
          },
          "colorscale": {
           "diverging": [
            [
             0,
             "#8e0152"
            ],
            [
             0.1,
             "#c51b7d"
            ],
            [
             0.2,
             "#de77ae"
            ],
            [
             0.3,
             "#f1b6da"
            ],
            [
             0.4,
             "#fde0ef"
            ],
            [
             0.5,
             "#f7f7f7"
            ],
            [
             0.6,
             "#e6f5d0"
            ],
            [
             0.7,
             "#b8e186"
            ],
            [
             0.8,
             "#7fbc41"
            ],
            [
             0.9,
             "#4d9221"
            ],
            [
             1,
             "#276419"
            ]
           ],
           "sequential": [
            [
             0,
             "#0d0887"
            ],
            [
             0.1111111111111111,
             "#46039f"
            ],
            [
             0.2222222222222222,
             "#7201a8"
            ],
            [
             0.3333333333333333,
             "#9c179e"
            ],
            [
             0.4444444444444444,
             "#bd3786"
            ],
            [
             0.5555555555555556,
             "#d8576b"
            ],
            [
             0.6666666666666666,
             "#ed7953"
            ],
            [
             0.7777777777777778,
             "#fb9f3a"
            ],
            [
             0.8888888888888888,
             "#fdca26"
            ],
            [
             1,
             "#f0f921"
            ]
           ],
           "sequentialminus": [
            [
             0,
             "#0d0887"
            ],
            [
             0.1111111111111111,
             "#46039f"
            ],
            [
             0.2222222222222222,
             "#7201a8"
            ],
            [
             0.3333333333333333,
             "#9c179e"
            ],
            [
             0.4444444444444444,
             "#bd3786"
            ],
            [
             0.5555555555555556,
             "#d8576b"
            ],
            [
             0.6666666666666666,
             "#ed7953"
            ],
            [
             0.7777777777777778,
             "#fb9f3a"
            ],
            [
             0.8888888888888888,
             "#fdca26"
            ],
            [
             1,
             "#f0f921"
            ]
           ]
          },
          "colorway": [
           "#636efa",
           "#EF553B",
           "#00cc96",
           "#ab63fa",
           "#FFA15A",
           "#19d3f3",
           "#FF6692",
           "#B6E880",
           "#FF97FF",
           "#FECB52"
          ],
          "font": {
           "color": "#2a3f5f"
          },
          "geo": {
           "bgcolor": "white",
           "lakecolor": "white",
           "landcolor": "#E5ECF6",
           "showlakes": true,
           "showland": true,
           "subunitcolor": "white"
          },
          "hoverlabel": {
           "align": "left"
          },
          "hovermode": "closest",
          "mapbox": {
           "style": "light"
          },
          "paper_bgcolor": "white",
          "plot_bgcolor": "#E5ECF6",
          "polar": {
           "angularaxis": {
            "gridcolor": "white",
            "linecolor": "white",
            "ticks": ""
           },
           "bgcolor": "#E5ECF6",
           "radialaxis": {
            "gridcolor": "white",
            "linecolor": "white",
            "ticks": ""
           }
          },
          "scene": {
           "xaxis": {
            "backgroundcolor": "#E5ECF6",
            "gridcolor": "white",
            "gridwidth": 2,
            "linecolor": "white",
            "showbackground": true,
            "ticks": "",
            "zerolinecolor": "white"
           },
           "yaxis": {
            "backgroundcolor": "#E5ECF6",
            "gridcolor": "white",
            "gridwidth": 2,
            "linecolor": "white",
            "showbackground": true,
            "ticks": "",
            "zerolinecolor": "white"
           },
           "zaxis": {
            "backgroundcolor": "#E5ECF6",
            "gridcolor": "white",
            "gridwidth": 2,
            "linecolor": "white",
            "showbackground": true,
            "ticks": "",
            "zerolinecolor": "white"
           }
          },
          "shapedefaults": {
           "line": {
            "color": "#2a3f5f"
           }
          },
          "ternary": {
           "aaxis": {
            "gridcolor": "white",
            "linecolor": "white",
            "ticks": ""
           },
           "baxis": {
            "gridcolor": "white",
            "linecolor": "white",
            "ticks": ""
           },
           "bgcolor": "#E5ECF6",
           "caxis": {
            "gridcolor": "white",
            "linecolor": "white",
            "ticks": ""
           }
          },
          "title": {
           "x": 0.05
          },
          "xaxis": {
           "automargin": true,
           "gridcolor": "white",
           "linecolor": "white",
           "ticks": "",
           "title": {
            "standoff": 15
           },
           "zerolinecolor": "white",
           "zerolinewidth": 2
          },
          "yaxis": {
           "automargin": true,
           "gridcolor": "white",
           "linecolor": "white",
           "ticks": "",
           "title": {
            "standoff": 15
           },
           "zerolinecolor": "white",
           "zerolinewidth": 2
          }
         }
        },
        "title": {
         "text": "Correlação entre features e target",
         "x": 0.5,
         "xanchor": "center"
        },
        "width": 1500,
        "xaxis": {
         "anchor": "y",
         "autorange": true,
         "constrain": "domain",
         "domain": [
          0.19049459041731065,
          0.8095054095826894
         ],
         "range": [
          -0.5,
          15.5
         ],
         "scaleanchor": "y",
         "type": "category"
        },
        "yaxis": {
         "anchor": "x",
         "autorange": true,
         "constrain": "domain",
         "domain": [
          0,
          1
         ],
         "range": [
          -0.5,
          15.5
         ],
         "type": "category"
        }
       }
      },
      "image/png": "[encoded data removed]"
     },
     "metadata": {},
     "output_type": "display_data"
    }
   ],
   "source": [
    "correlation_matrix = df_features[features + ['target']].toPandas().corr()\n",
    "\n",
    "fig = px.imshow(\n",
    "    correlation_matrix,\n",
    "    text_auto=\".2f\",           \n",
    "    color_continuous_scale=\"RdBu\",  \n",
    "    origin=\"lower\",\n",
    "    title=\"Correlação entre features e target\"\n",
    ")\n",
    "\n",
    "fig.update_layout(\n",
    "    width=1500,\n",
    "    height=1000,\n",
    "    title=dict(x=0.5, xanchor=\"center\"), \n",
    "    coloraxis_colorbar=dict(title=\"Correlação\")\n",
    ")\n",
    "\n",
    "fig.show()"
   ]
  },
  {
   "cell_type": "markdown",
   "id": "589b9929-c352-471e-bd05-e9037dd7526a",
   "metadata": {},
   "source": [
    "### Train Model"
   ]
  },
  {
   "cell_type": "code",
   "execution_count": 14,
   "id": "8cf87a6a-1375-4a2c-bcf9-00acb129e589",
   "metadata": {},
   "outputs": [],
   "source": [
    "assembler = VectorAssembler(inputCols=features, outputCol=\"features\")\n",
    "df_features = assembler.transform(df_features)\n",
    "\n",
    "train_df, test_df = df_features.randomSplit([SPLIT_TRAIN, 1-SPLIT_TRAIN], seed=42)"
   ]
  },
  {
   "cell_type": "code",
   "execution_count": 15,
   "id": "d12cf08a-9265-4f20-8cfb-cd44789b4184",
   "metadata": {},
   "outputs": [
    {
     "data": {
      "text/plain": [
       "(63288, 63288)"
      ]
     },
     "execution_count": 15,
     "metadata": {},
     "output_type": "execute_result"
    }
   ],
   "source": [
    "df_features.count(), train_df.count()+test_df.count()"
   ]
  },
  {
   "cell_type": "code",
   "execution_count": 16,
   "id": "a9a701e4-a8c5-480f-8aea-c89f059e4016",
   "metadata": {},
   "outputs": [
    {
     "name": "stderr",
     "output_type": "stream",
     "text": [
      "25/08/10 15:58:08 WARN DAGScheduler: Broadcasting large task binary with size 1158.0 KiB\n",
      "25/08/10 15:58:10 WARN DAGScheduler: Broadcasting large task binary with size 2.1 MiB\n",
      "25/08/10 15:58:13 WARN DAGScheduler: Broadcasting large task binary with size 3.9 MiB\n",
      "25/08/10 15:58:16 WARN DAGScheduler: Broadcasting large task binary with size 1096.7 KiB\n",
      "25/08/10 15:58:17 WARN DAGScheduler: Broadcasting large task binary with size 7.1 MiB\n",
      "25/08/10 15:58:21 WARN DAGScheduler: Broadcasting large task binary with size 1914.3 KiB\n",
      "25/08/10 15:58:22 WARN DAGScheduler: Broadcasting large task binary with size 12.6 MiB\n",
      "25/08/10 15:58:27 WARN DAGScheduler: Broadcasting large task binary with size 3.0 MiB\n",
      "                                                                                \r"
     ]
    }
   ],
   "source": [
    "rf = RandomForestClassifier(labelCol=\"target\", \n",
    "                            featuresCol=\"features\", \n",
    "                            numTrees=NUM_TREES, \n",
    "                            maxDepth=MAX_DEPTH, \n",
    "                            maxBins=MAX_BINS\n",
    "                        )\n",
    "model = rf.fit(train_df)"
   ]
  },
  {
   "cell_type": "code",
   "execution_count": 17,
   "id": "268f0d22-6313-4b62-b977-bc6beb62dcb1",
   "metadata": {},
   "outputs": [],
   "source": [
    "pred = model.transform(test_df)"
   ]
  },
  {
   "cell_type": "code",
   "execution_count": 18,
   "id": "0537549b-28bb-4da1-9867-9364d691935c",
   "metadata": {},
   "outputs": [],
   "source": [
    "pred = pred.withColumn(\"prob_vec\", vector_to_array(F.col(\"probability\")))\\\n",
    "           .withColumn(\"y_proba_class0\", F.col(\"prob_vec\")[0])\\\n",
    "           .withColumn(\"y_proba_class1\", F.col(\"prob_vec\")[1])"
   ]
  },
  {
   "cell_type": "code",
   "execution_count": 19,
   "id": "065649ed-457e-43ad-99c0-3dc34cf8eab8",
   "metadata": {},
   "outputs": [
    {
     "name": "stderr",
     "output_type": "stream",
     "text": [
      "25/08/10 15:59:07 WARN DAGScheduler: Broadcasting large task binary with size 7.4 MiB\n",
      "25/08/10 15:59:08 WARN DAGScheduler: Broadcasting large task binary with size 7.4 MiB\n",
      "25/08/10 15:59:09 WARN DAGScheduler: Broadcasting large task binary with size 7.4 MiB\n",
      "25/08/10 15:59:09 WARN DAGScheduler: Broadcasting large task binary with size 7.4 MiB\n",
      "25/08/10 15:59:09 WARN DAGScheduler: Broadcasting large task binary with size 7.4 MiB\n",
      "25/08/10 15:59:10 WARN DAGScheduler: Broadcasting large task binary with size 7.4 MiB\n"
     ]
    },
    {
     "name": "stdout",
     "output_type": "stream",
     "text": [
      "+-----------------+----+----+\n",
      "|target_prediction| 0.0| 1.0|\n",
      "+-----------------+----+----+\n",
      "|                0|5972| 986|\n",
      "|                1| 613|5242|\n",
      "+-----------------+----+----+\n",
      "\n"
     ]
    },
    {
     "name": "stderr",
     "output_type": "stream",
     "text": [
      "25/08/10 15:59:11 WARN DAGScheduler: Broadcasting large task binary with size 7.4 MiB\n",
      "                                                                                \r"
     ]
    }
   ],
   "source": [
    "conf_matrix_df = pred.select(\"target\", \"prediction\")\\\n",
    "                     .crosstab(\"target\", \"prediction\").fillna(0)\n",
    "conf_matrix_df.show()"
   ]
  },
  {
   "cell_type": "markdown",
   "id": "e7dd7f6a-849d-4792-a1f6-c2bbcc704c94",
   "metadata": {},
   "source": [
    "##### Podemos melhorar um pouco esses Falsos Negativo encontrando um melhor ponto de corte (Temos que ter atenção, pois mudar isso vai depender do negócio, em outras palavras, da estratégia de negócio)\n",
    " - Vale a pena pro negócio enviar mais ofertas que tenham uma baixa probabilidade de aceitação sabendo que vamos capturar mais clientes com alta probabilidade de aceitação?"
   ]
  },
  {
   "cell_type": "markdown",
   "id": "3c0f93f2-5535-4ad5-93c8-d66defba70db",
   "metadata": {},
   "source": [
    "##### Procurando melhor Tresh para a base de Teste"
   ]
  },
  {
   "cell_type": "code",
   "execution_count": 20,
   "id": "6e9f26e4-3f9c-4985-a272-de7d9c42f81c",
   "metadata": {
    "scrolled": true
   },
   "outputs": [
    {
     "name": "stderr",
     "output_type": "stream",
     "text": [
      "25/08/10 15:59:20 WARN DAGScheduler: Broadcasting large task binary with size 7.4 MiB\n",
      "25/08/10 15:59:20 WARN DAGScheduler: Broadcasting large task binary with size 7.4 MiB\n",
      "25/08/10 15:59:21 WARN DAGScheduler: Broadcasting large task binary with size 7.4 MiB\n",
      "25/08/10 15:59:22 WARN DAGScheduler: Broadcasting large task binary with size 7.4 MiB\n",
      "25/08/10 15:59:23 WARN DAGScheduler: Broadcasting large task binary with size 7.4 MiB\n",
      "25/08/10 15:59:24 WARN DAGScheduler: Broadcasting large task binary with size 7.4 MiB\n",
      "25/08/10 15:59:24 WARN DAGScheduler: Broadcasting large task binary with size 7.4 MiB\n",
      "25/08/10 15:59:25 WARN DAGScheduler: Broadcasting large task binary with size 7.4 MiB\n",
      "25/08/10 15:59:26 WARN DAGScheduler: Broadcasting large task binary with size 7.4 MiB\n",
      "25/08/10 15:59:27 WARN DAGScheduler: Broadcasting large task binary with size 7.4 MiB\n",
      "25/08/10 15:59:28 WARN DAGScheduler: Broadcasting large task binary with size 7.4 MiB\n",
      "25/08/10 15:59:28 WARN DAGScheduler: Broadcasting large task binary with size 7.4 MiB\n",
      "25/08/10 15:59:29 WARN DAGScheduler: Broadcasting large task binary with size 7.4 MiB\n",
      "25/08/10 15:59:30 WARN DAGScheduler: Broadcasting large task binary with size 7.4 MiB\n",
      "25/08/10 15:59:31 WARN DAGScheduler: Broadcasting large task binary with size 7.4 MiB\n",
      "25/08/10 15:59:31 WARN DAGScheduler: Broadcasting large task binary with size 7.4 MiB\n",
      "25/08/10 15:59:32 WARN DAGScheduler: Broadcasting large task binary with size 7.4 MiB\n",
      "25/08/10 15:59:33 WARN DAGScheduler: Broadcasting large task binary with size 7.4 MiB\n",
      "25/08/10 15:59:33 WARN DAGScheduler: Broadcasting large task binary with size 7.4 MiB\n",
      "25/08/10 15:59:34 WARN DAGScheduler: Broadcasting large task binary with size 7.4 MiB\n",
      "25/08/10 15:59:34 WARN DAGScheduler: Broadcasting large task binary with size 7.4 MiB\n",
      "25/08/10 15:59:35 WARN DAGScheduler: Broadcasting large task binary with size 7.4 MiB\n",
      "25/08/10 15:59:36 WARN DAGScheduler: Broadcasting large task binary with size 7.4 MiB\n",
      "25/08/10 15:59:36 WARN DAGScheduler: Broadcasting large task binary with size 7.4 MiB\n",
      "25/08/10 15:59:37 WARN DAGScheduler: Broadcasting large task binary with size 7.4 MiB\n",
      "25/08/10 15:59:38 WARN DAGScheduler: Broadcasting large task binary with size 7.4 MiB\n",
      "25/08/10 15:59:38 WARN DAGScheduler: Broadcasting large task binary with size 7.4 MiB\n",
      "25/08/10 15:59:39 WARN DAGScheduler: Broadcasting large task binary with size 7.4 MiB\n",
      "25/08/10 15:59:40 WARN DAGScheduler: Broadcasting large task binary with size 7.4 MiB\n",
      "25/08/10 15:59:40 WARN DAGScheduler: Broadcasting large task binary with size 7.4 MiB\n",
      "25/08/10 15:59:41 WARN DAGScheduler: Broadcasting large task binary with size 7.4 MiB\n",
      "25/08/10 15:59:42 WARN DAGScheduler: Broadcasting large task binary with size 7.4 MiB\n",
      "25/08/10 15:59:42 WARN DAGScheduler: Broadcasting large task binary with size 7.4 MiB\n",
      "25/08/10 15:59:43 WARN DAGScheduler: Broadcasting large task binary with size 7.4 MiB\n",
      "25/08/10 15:59:43 WARN DAGScheduler: Broadcasting large task binary with size 7.4 MiB\n",
      "25/08/10 15:59:44 WARN DAGScheduler: Broadcasting large task binary with size 7.4 MiB\n",
      "25/08/10 15:59:45 WARN DAGScheduler: Broadcasting large task binary with size 7.4 MiB\n",
      "25/08/10 15:59:45 WARN DAGScheduler: Broadcasting large task binary with size 7.4 MiB\n",
      "25/08/10 15:59:46 WARN DAGScheduler: Broadcasting large task binary with size 7.4 MiB\n",
      "25/08/10 15:59:47 WARN DAGScheduler: Broadcasting large task binary with size 7.4 MiB\n",
      "25/08/10 15:59:48 WARN DAGScheduler: Broadcasting large task binary with size 7.4 MiB\n",
      "25/08/10 15:59:48 WARN DAGScheduler: Broadcasting large task binary with size 7.4 MiB\n",
      "25/08/10 15:59:49 WARN DAGScheduler: Broadcasting large task binary with size 7.4 MiB\n",
      "25/08/10 15:59:50 WARN DAGScheduler: Broadcasting large task binary with size 7.4 MiB\n",
      "25/08/10 15:59:51 WARN DAGScheduler: Broadcasting large task binary with size 7.4 MiB\n",
      "25/08/10 15:59:52 WARN DAGScheduler: Broadcasting large task binary with size 7.4 MiB\n",
      "25/08/10 15:59:52 WARN DAGScheduler: Broadcasting large task binary with size 7.4 MiB\n",
      "25/08/10 15:59:53 WARN DAGScheduler: Broadcasting large task binary with size 7.4 MiB\n",
      "25/08/10 15:59:54 WARN DAGScheduler: Broadcasting large task binary with size 7.4 MiB\n",
      "25/08/10 15:59:55 WARN DAGScheduler: Broadcasting large task binary with size 7.4 MiB\n",
      "25/08/10 15:59:56 WARN DAGScheduler: Broadcasting large task binary with size 7.4 MiB\n",
      "25/08/10 15:59:57 WARN DAGScheduler: Broadcasting large task binary with size 7.4 MiB\n",
      "25/08/10 15:59:57 WARN DAGScheduler: Broadcasting large task binary with size 7.4 MiB\n",
      "25/08/10 15:59:58 WARN DAGScheduler: Broadcasting large task binary with size 7.4 MiB\n",
      "25/08/10 15:59:59 WARN DAGScheduler: Broadcasting large task binary with size 7.4 MiB\n",
      "25/08/10 15:59:59 WARN DAGScheduler: Broadcasting large task binary with size 7.4 MiB\n",
      "25/08/10 16:00:00 WARN DAGScheduler: Broadcasting large task binary with size 7.4 MiB\n",
      "25/08/10 16:00:01 WARN DAGScheduler: Broadcasting large task binary with size 7.4 MiB\n",
      "25/08/10 16:00:01 WARN DAGScheduler: Broadcasting large task binary with size 7.4 MiB\n",
      "25/08/10 16:00:02 WARN DAGScheduler: Broadcasting large task binary with size 7.4 MiB\n",
      "25/08/10 16:00:03 WARN DAGScheduler: Broadcasting large task binary with size 7.4 MiB\n",
      "25/08/10 16:00:04 WARN DAGScheduler: Broadcasting large task binary with size 7.4 MiB\n",
      "25/08/10 16:00:05 WARN DAGScheduler: Broadcasting large task binary with size 7.4 MiB\n",
      "25/08/10 16:00:05 WARN DAGScheduler: Broadcasting large task binary with size 7.4 MiB\n",
      "25/08/10 16:00:06 WARN DAGScheduler: Broadcasting large task binary with size 7.4 MiB\n",
      "25/08/10 16:00:07 WARN DAGScheduler: Broadcasting large task binary with size 7.4 MiB\n",
      "25/08/10 16:00:08 WARN DAGScheduler: Broadcasting large task binary with size 7.4 MiB\n",
      "25/08/10 16:00:09 WARN DAGScheduler: Broadcasting large task binary with size 7.4 MiB\n",
      "25/08/10 16:00:09 WARN DAGScheduler: Broadcasting large task binary with size 7.4 MiB\n",
      "25/08/10 16:00:10 WARN DAGScheduler: Broadcasting large task binary with size 7.4 MiB\n",
      "25/08/10 16:00:11 WARN DAGScheduler: Broadcasting large task binary with size 7.4 MiB\n",
      "25/08/10 16:00:12 WARN DAGScheduler: Broadcasting large task binary with size 7.4 MiB\n",
      "25/08/10 16:00:13 WARN DAGScheduler: Broadcasting large task binary with size 7.4 MiB\n",
      "25/08/10 16:00:14 WARN DAGScheduler: Broadcasting large task binary with size 7.4 MiB\n",
      "25/08/10 16:00:14 WARN DAGScheduler: Broadcasting large task binary with size 7.4 MiB\n",
      "25/08/10 16:00:15 WARN DAGScheduler: Broadcasting large task binary with size 7.4 MiB\n",
      "25/08/10 16:00:16 WARN DAGScheduler: Broadcasting large task binary with size 7.4 MiB\n",
      "25/08/10 16:00:17 WARN DAGScheduler: Broadcasting large task binary with size 7.4 MiB\n",
      "25/08/10 16:00:17 WARN DAGScheduler: Broadcasting large task binary with size 7.4 MiB\n",
      "25/08/10 16:00:18 WARN DAGScheduler: Broadcasting large task binary with size 7.4 MiB\n",
      "25/08/10 16:00:19 WARN DAGScheduler: Broadcasting large task binary with size 7.4 MiB\n",
      "25/08/10 16:00:20 WARN DAGScheduler: Broadcasting large task binary with size 7.4 MiB\n",
      "25/08/10 16:00:21 WARN DAGScheduler: Broadcasting large task binary with size 7.4 MiB\n",
      "25/08/10 16:00:22 WARN DAGScheduler: Broadcasting large task binary with size 7.4 MiB\n",
      "25/08/10 16:00:23 WARN DAGScheduler: Broadcasting large task binary with size 7.4 MiB\n",
      "25/08/10 16:00:23 WARN DAGScheduler: Broadcasting large task binary with size 7.4 MiB\n",
      "25/08/10 16:00:24 WARN DAGScheduler: Broadcasting large task binary with size 7.4 MiB\n",
      "25/08/10 16:00:25 WARN DAGScheduler: Broadcasting large task binary with size 7.4 MiB\n",
      "25/08/10 16:00:26 WARN DAGScheduler: Broadcasting large task binary with size 7.4 MiB\n",
      "25/08/10 16:00:27 WARN DAGScheduler: Broadcasting large task binary with size 7.4 MiB\n",
      "25/08/10 16:00:27 WARN DAGScheduler: Broadcasting large task binary with size 7.4 MiB\n",
      "25/08/10 16:00:28 WARN DAGScheduler: Broadcasting large task binary with size 7.4 MiB\n",
      "25/08/10 16:00:29 WARN DAGScheduler: Broadcasting large task binary with size 7.4 MiB\n",
      "25/08/10 16:00:30 WARN DAGScheduler: Broadcasting large task binary with size 7.4 MiB\n",
      "25/08/10 16:00:31 WARN DAGScheduler: Broadcasting large task binary with size 7.4 MiB\n",
      "25/08/10 16:00:31 WARN DAGScheduler: Broadcasting large task binary with size 7.4 MiB\n",
      "25/08/10 16:00:32 WARN DAGScheduler: Broadcasting large task binary with size 7.4 MiB\n",
      "25/08/10 16:00:33 WARN DAGScheduler: Broadcasting large task binary with size 7.4 MiB\n",
      "25/08/10 16:00:34 WARN DAGScheduler: Broadcasting large task binary with size 7.4 MiB\n",
      "25/08/10 16:00:35 WARN DAGScheduler: Broadcasting large task binary with size 7.4 MiB\n",
      "25/08/10 16:00:35 WARN DAGScheduler: Broadcasting large task binary with size 7.4 MiB\n",
      "25/08/10 16:00:36 WARN DAGScheduler: Broadcasting large task binary with size 7.4 MiB\n",
      "25/08/10 16:00:37 WARN DAGScheduler: Broadcasting large task binary with size 7.4 MiB\n",
      "25/08/10 16:00:38 WARN DAGScheduler: Broadcasting large task binary with size 7.4 MiB\n",
      "25/08/10 16:00:39 WARN DAGScheduler: Broadcasting large task binary with size 7.4 MiB\n",
      "25/08/10 16:00:39 WARN DAGScheduler: Broadcasting large task binary with size 7.4 MiB\n",
      "25/08/10 16:00:40 WARN DAGScheduler: Broadcasting large task binary with size 7.4 MiB\n",
      "25/08/10 16:00:41 WARN DAGScheduler: Broadcasting large task binary with size 7.4 MiB\n",
      "25/08/10 16:00:42 WARN DAGScheduler: Broadcasting large task binary with size 7.4 MiB\n",
      "25/08/10 16:00:42 WARN DAGScheduler: Broadcasting large task binary with size 7.4 MiB\n",
      "25/08/10 16:00:43 WARN DAGScheduler: Broadcasting large task binary with size 7.4 MiB\n",
      "25/08/10 16:00:44 WARN DAGScheduler: Broadcasting large task binary with size 7.4 MiB\n",
      "25/08/10 16:00:45 WARN DAGScheduler: Broadcasting large task binary with size 7.4 MiB\n",
      "25/08/10 16:00:45 WARN DAGScheduler: Broadcasting large task binary with size 7.4 MiB\n",
      "25/08/10 16:00:46 WARN DAGScheduler: Broadcasting large task binary with size 7.4 MiB\n",
      "25/08/10 16:00:47 WARN DAGScheduler: Broadcasting large task binary with size 7.4 MiB\n",
      "25/08/10 16:00:47 WARN DAGScheduler: Broadcasting large task binary with size 7.4 MiB\n",
      "25/08/10 16:00:48 WARN DAGScheduler: Broadcasting large task binary with size 7.4 MiB\n",
      "25/08/10 16:00:49 WARN DAGScheduler: Broadcasting large task binary with size 7.4 MiB\n",
      "25/08/10 16:00:50 WARN DAGScheduler: Broadcasting large task binary with size 7.4 MiB\n",
      "25/08/10 16:00:51 WARN DAGScheduler: Broadcasting large task binary with size 7.4 MiB\n",
      "25/08/10 16:00:51 WARN DAGScheduler: Broadcasting large task binary with size 7.4 MiB\n",
      "25/08/10 16:00:52 WARN DAGScheduler: Broadcasting large task binary with size 7.4 MiB\n",
      "25/08/10 16:00:53 WARN DAGScheduler: Broadcasting large task binary with size 7.4 MiB\n",
      "25/08/10 16:00:54 WARN DAGScheduler: Broadcasting large task binary with size 7.4 MiB\n",
      "25/08/10 16:00:55 WARN DAGScheduler: Broadcasting large task binary with size 7.4 MiB\n",
      "25/08/10 16:00:55 WARN DAGScheduler: Broadcasting large task binary with size 7.4 MiB\n",
      "25/08/10 16:00:56 WARN DAGScheduler: Broadcasting large task binary with size 7.4 MiB\n",
      "25/08/10 16:00:57 WARN DAGScheduler: Broadcasting large task binary with size 7.4 MiB\n",
      "25/08/10 16:00:58 WARN DAGScheduler: Broadcasting large task binary with size 7.4 MiB\n",
      "25/08/10 16:00:59 WARN DAGScheduler: Broadcasting large task binary with size 7.4 MiB\n",
      "25/08/10 16:00:59 WARN DAGScheduler: Broadcasting large task binary with size 7.4 MiB\n",
      "25/08/10 16:01:00 WARN DAGScheduler: Broadcasting large task binary with size 7.4 MiB\n",
      "25/08/10 16:01:01 WARN DAGScheduler: Broadcasting large task binary with size 7.4 MiB\n",
      "25/08/10 16:01:02 WARN DAGScheduler: Broadcasting large task binary with size 7.4 MiB\n",
      "25/08/10 16:01:02 WARN DAGScheduler: Broadcasting large task binary with size 7.4 MiB\n",
      "25/08/10 16:01:03 WARN DAGScheduler: Broadcasting large task binary with size 7.4 MiB\n",
      "25/08/10 16:01:04 WARN DAGScheduler: Broadcasting large task binary with size 7.4 MiB\n",
      "25/08/10 16:01:05 WARN DAGScheduler: Broadcasting large task binary with size 7.4 MiB\n",
      "25/08/10 16:01:06 WARN DAGScheduler: Broadcasting large task binary with size 7.4 MiB\n",
      "25/08/10 16:01:06 WARN DAGScheduler: Broadcasting large task binary with size 7.4 MiB\n",
      "25/08/10 16:01:07 WARN DAGScheduler: Broadcasting large task binary with size 7.4 MiB\n",
      "25/08/10 16:01:08 WARN DAGScheduler: Broadcasting large task binary with size 7.4 MiB\n",
      "25/08/10 16:01:09 WARN DAGScheduler: Broadcasting large task binary with size 7.4 MiB\n",
      "25/08/10 16:01:09 WARN DAGScheduler: Broadcasting large task binary with size 7.4 MiB\n",
      "25/08/10 16:01:10 WARN DAGScheduler: Broadcasting large task binary with size 7.4 MiB\n",
      "25/08/10 16:01:11 WARN DAGScheduler: Broadcasting large task binary with size 7.4 MiB\n",
      "25/08/10 16:01:12 WARN DAGScheduler: Broadcasting large task binary with size 7.4 MiB\n",
      "25/08/10 16:01:13 WARN DAGScheduler: Broadcasting large task binary with size 7.4 MiB\n",
      "25/08/10 16:01:13 WARN DAGScheduler: Broadcasting large task binary with size 7.4 MiB\n",
      "25/08/10 16:01:14 WARN DAGScheduler: Broadcasting large task binary with size 7.4 MiB\n",
      "25/08/10 16:01:15 WARN DAGScheduler: Broadcasting large task binary with size 7.4 MiB\n",
      "25/08/10 16:01:16 WARN DAGScheduler: Broadcasting large task binary with size 7.4 MiB\n",
      "25/08/10 16:01:16 WARN DAGScheduler: Broadcasting large task binary with size 7.4 MiB\n",
      "25/08/10 16:01:17 WARN DAGScheduler: Broadcasting large task binary with size 7.4 MiB\n",
      "25/08/10 16:01:18 WARN DAGScheduler: Broadcasting large task binary with size 7.4 MiB\n",
      "25/08/10 16:01:19 WARN DAGScheduler: Broadcasting large task binary with size 7.4 MiB\n",
      "25/08/10 16:01:20 WARN DAGScheduler: Broadcasting large task binary with size 7.4 MiB\n",
      "25/08/10 16:01:21 WARN DAGScheduler: Broadcasting large task binary with size 7.4 MiB\n",
      "25/08/10 16:01:22 WARN DAGScheduler: Broadcasting large task binary with size 7.4 MiB\n",
      "25/08/10 16:01:22 WARN DAGScheduler: Broadcasting large task binary with size 7.4 MiB\n",
      "25/08/10 16:01:23 WARN DAGScheduler: Broadcasting large task binary with size 7.4 MiB\n",
      "25/08/10 16:01:24 WARN DAGScheduler: Broadcasting large task binary with size 7.4 MiB\n",
      "25/08/10 16:01:24 WARN DAGScheduler: Broadcasting large task binary with size 7.4 MiB\n",
      "25/08/10 16:01:25 WARN DAGScheduler: Broadcasting large task binary with size 7.4 MiB\n",
      "25/08/10 16:01:26 WARN DAGScheduler: Broadcasting large task binary with size 7.4 MiB\n",
      "25/08/10 16:01:27 WARN DAGScheduler: Broadcasting large task binary with size 7.4 MiB\n",
      "25/08/10 16:01:28 WARN DAGScheduler: Broadcasting large task binary with size 7.4 MiB\n",
      "25/08/10 16:01:29 WARN DAGScheduler: Broadcasting large task binary with size 7.4 MiB\n",
      "25/08/10 16:01:29 WARN DAGScheduler: Broadcasting large task binary with size 7.4 MiB\n",
      "25/08/10 16:01:30 WARN DAGScheduler: Broadcasting large task binary with size 7.4 MiB\n",
      "25/08/10 16:01:31 WARN DAGScheduler: Broadcasting large task binary with size 7.4 MiB\n",
      "25/08/10 16:01:32 WARN DAGScheduler: Broadcasting large task binary with size 7.4 MiB\n",
      "25/08/10 16:01:33 WARN DAGScheduler: Broadcasting large task binary with size 7.4 MiB\n",
      "25/08/10 16:01:33 WARN DAGScheduler: Broadcasting large task binary with size 7.4 MiB\n",
      "25/08/10 16:01:34 WARN DAGScheduler: Broadcasting large task binary with size 7.4 MiB\n",
      "25/08/10 16:01:35 WARN DAGScheduler: Broadcasting large task binary with size 7.4 MiB\n",
      "25/08/10 16:01:36 WARN DAGScheduler: Broadcasting large task binary with size 7.4 MiB\n",
      "25/08/10 16:01:36 WARN DAGScheduler: Broadcasting large task binary with size 7.4 MiB\n",
      "25/08/10 16:01:37 WARN DAGScheduler: Broadcasting large task binary with size 7.4 MiB\n",
      "25/08/10 16:01:38 WARN DAGScheduler: Broadcasting large task binary with size 7.4 MiB\n",
      "25/08/10 16:01:39 WARN DAGScheduler: Broadcasting large task binary with size 7.4 MiB\n",
      "25/08/10 16:01:39 WARN DAGScheduler: Broadcasting large task binary with size 7.4 MiB\n",
      "25/08/10 16:01:40 WARN DAGScheduler: Broadcasting large task binary with size 7.4 MiB\n",
      "25/08/10 16:01:41 WARN DAGScheduler: Broadcasting large task binary with size 7.4 MiB\n",
      "25/08/10 16:01:42 WARN DAGScheduler: Broadcasting large task binary with size 7.4 MiB\n",
      "25/08/10 16:01:43 WARN DAGScheduler: Broadcasting large task binary with size 7.4 MiB\n",
      "25/08/10 16:01:43 WARN DAGScheduler: Broadcasting large task binary with size 7.4 MiB\n",
      "25/08/10 16:01:44 WARN DAGScheduler: Broadcasting large task binary with size 7.4 MiB\n",
      "25/08/10 16:01:45 WARN DAGScheduler: Broadcasting large task binary with size 7.4 MiB\n",
      "25/08/10 16:01:46 WARN DAGScheduler: Broadcasting large task binary with size 7.4 MiB\n",
      "25/08/10 16:01:47 WARN DAGScheduler: Broadcasting large task binary with size 7.4 MiB\n",
      "25/08/10 16:01:47 WARN DAGScheduler: Broadcasting large task binary with size 7.4 MiB\n",
      "25/08/10 16:01:48 WARN DAGScheduler: Broadcasting large task binary with size 7.4 MiB\n",
      "25/08/10 16:01:49 WARN DAGScheduler: Broadcasting large task binary with size 7.4 MiB\n",
      "25/08/10 16:01:50 WARN DAGScheduler: Broadcasting large task binary with size 7.4 MiB\n",
      "25/08/10 16:01:51 WARN DAGScheduler: Broadcasting large task binary with size 7.4 MiB\n",
      "25/08/10 16:01:51 WARN DAGScheduler: Broadcasting large task binary with size 7.4 MiB\n",
      "25/08/10 16:01:52 WARN DAGScheduler: Broadcasting large task binary with size 7.4 MiB\n",
      "25/08/10 16:01:53 WARN DAGScheduler: Broadcasting large task binary with size 7.4 MiB\n",
      "25/08/10 16:01:54 WARN DAGScheduler: Broadcasting large task binary with size 7.4 MiB\n",
      "25/08/10 16:01:54 WARN DAGScheduler: Broadcasting large task binary with size 7.4 MiB\n",
      "25/08/10 16:01:55 WARN DAGScheduler: Broadcasting large task binary with size 7.4 MiB\n",
      "25/08/10 16:01:56 WARN DAGScheduler: Broadcasting large task binary with size 7.4 MiB\n",
      "25/08/10 16:01:57 WARN DAGScheduler: Broadcasting large task binary with size 7.4 MiB\n",
      "25/08/10 16:01:57 WARN DAGScheduler: Broadcasting large task binary with size 7.4 MiB\n",
      "25/08/10 16:01:58 WARN DAGScheduler: Broadcasting large task binary with size 7.4 MiB\n",
      "25/08/10 16:01:59 WARN DAGScheduler: Broadcasting large task binary with size 7.4 MiB\n",
      "25/08/10 16:02:00 WARN DAGScheduler: Broadcasting large task binary with size 7.4 MiB\n",
      "25/08/10 16:02:00 WARN DAGScheduler: Broadcasting large task binary with size 7.4 MiB\n",
      "25/08/10 16:02:01 WARN DAGScheduler: Broadcasting large task binary with size 7.4 MiB\n",
      "25/08/10 16:02:02 WARN DAGScheduler: Broadcasting large task binary with size 7.4 MiB\n",
      "25/08/10 16:02:02 WARN DAGScheduler: Broadcasting large task binary with size 7.4 MiB\n",
      "25/08/10 16:02:03 WARN DAGScheduler: Broadcasting large task binary with size 7.4 MiB\n",
      "25/08/10 16:02:04 WARN DAGScheduler: Broadcasting large task binary with size 7.4 MiB\n",
      "25/08/10 16:02:05 WARN DAGScheduler: Broadcasting large task binary with size 7.4 MiB\n",
      "25/08/10 16:02:05 WARN DAGScheduler: Broadcasting large task binary with size 7.4 MiB\n",
      "25/08/10 16:02:06 WARN DAGScheduler: Broadcasting large task binary with size 7.4 MiB\n",
      "25/08/10 16:02:07 WARN DAGScheduler: Broadcasting large task binary with size 7.4 MiB\n",
      "25/08/10 16:02:08 WARN DAGScheduler: Broadcasting large task binary with size 7.4 MiB\n",
      "25/08/10 16:02:09 WARN DAGScheduler: Broadcasting large task binary with size 7.4 MiB\n",
      "25/08/10 16:02:09 WARN DAGScheduler: Broadcasting large task binary with size 7.4 MiB\n",
      "25/08/10 16:02:10 WARN DAGScheduler: Broadcasting large task binary with size 7.4 MiB\n",
      "25/08/10 16:02:11 WARN DAGScheduler: Broadcasting large task binary with size 7.4 MiB\n",
      "25/08/10 16:02:12 WARN DAGScheduler: Broadcasting large task binary with size 7.4 MiB\n",
      "25/08/10 16:02:12 WARN DAGScheduler: Broadcasting large task binary with size 7.4 MiB\n",
      "25/08/10 16:02:13 WARN DAGScheduler: Broadcasting large task binary with size 7.4 MiB\n",
      "25/08/10 16:02:14 WARN DAGScheduler: Broadcasting large task binary with size 7.4 MiB\n",
      "25/08/10 16:02:15 WARN DAGScheduler: Broadcasting large task binary with size 7.4 MiB\n",
      "25/08/10 16:02:16 WARN DAGScheduler: Broadcasting large task binary with size 7.4 MiB\n",
      "25/08/10 16:02:16 WARN DAGScheduler: Broadcasting large task binary with size 7.4 MiB\n",
      "25/08/10 16:02:17 WARN DAGScheduler: Broadcasting large task binary with size 7.4 MiB\n",
      "25/08/10 16:02:18 WARN DAGScheduler: Broadcasting large task binary with size 7.4 MiB\n",
      "25/08/10 16:02:19 WARN DAGScheduler: Broadcasting large task binary with size 7.4 MiB\n",
      "25/08/10 16:02:20 WARN DAGScheduler: Broadcasting large task binary with size 7.4 MiB\n",
      "25/08/10 16:02:21 WARN DAGScheduler: Broadcasting large task binary with size 7.4 MiB\n",
      "25/08/10 16:02:21 WARN DAGScheduler: Broadcasting large task binary with size 7.4 MiB\n",
      "25/08/10 16:02:22 WARN DAGScheduler: Broadcasting large task binary with size 7.4 MiB\n",
      "25/08/10 16:02:23 WARN DAGScheduler: Broadcasting large task binary with size 7.4 MiB\n",
      "25/08/10 16:02:24 WARN DAGScheduler: Broadcasting large task binary with size 7.4 MiB\n",
      "25/08/10 16:02:25 WARN DAGScheduler: Broadcasting large task binary with size 7.4 MiB\n",
      "25/08/10 16:02:25 WARN DAGScheduler: Broadcasting large task binary with size 7.4 MiB\n",
      "25/08/10 16:02:26 WARN DAGScheduler: Broadcasting large task binary with size 7.4 MiB\n",
      "25/08/10 16:02:27 WARN DAGScheduler: Broadcasting large task binary with size 7.4 MiB\n",
      "25/08/10 16:02:28 WARN DAGScheduler: Broadcasting large task binary with size 7.4 MiB\n",
      "25/08/10 16:02:29 WARN DAGScheduler: Broadcasting large task binary with size 7.4 MiB\n",
      "25/08/10 16:02:29 WARN DAGScheduler: Broadcasting large task binary with size 7.4 MiB\n",
      "25/08/10 16:02:30 WARN DAGScheduler: Broadcasting large task binary with size 7.4 MiB\n",
      "25/08/10 16:02:31 WARN DAGScheduler: Broadcasting large task binary with size 7.4 MiB\n",
      "25/08/10 16:02:32 WARN DAGScheduler: Broadcasting large task binary with size 7.4 MiB\n",
      "25/08/10 16:02:33 WARN DAGScheduler: Broadcasting large task binary with size 7.4 MiB\n",
      "25/08/10 16:02:33 WARN DAGScheduler: Broadcasting large task binary with size 7.4 MiB\n",
      "25/08/10 16:02:34 WARN DAGScheduler: Broadcasting large task binary with size 7.4 MiB\n",
      "25/08/10 16:02:35 WARN DAGScheduler: Broadcasting large task binary with size 7.4 MiB\n",
      "25/08/10 16:02:36 WARN DAGScheduler: Broadcasting large task binary with size 7.4 MiB\n",
      "25/08/10 16:02:37 WARN DAGScheduler: Broadcasting large task binary with size 7.4 MiB\n",
      "25/08/10 16:02:38 WARN DAGScheduler: Broadcasting large task binary with size 7.4 MiB\n",
      "25/08/10 16:02:38 WARN DAGScheduler: Broadcasting large task binary with size 7.4 MiB\n",
      "25/08/10 16:02:39 WARN DAGScheduler: Broadcasting large task binary with size 7.4 MiB\n",
      "25/08/10 16:02:40 WARN DAGScheduler: Broadcasting large task binary with size 7.4 MiB\n",
      "25/08/10 16:02:41 WARN DAGScheduler: Broadcasting large task binary with size 7.4 MiB\n",
      "25/08/10 16:02:41 WARN DAGScheduler: Broadcasting large task binary with size 7.4 MiB\n",
      "25/08/10 16:02:42 WARN DAGScheduler: Broadcasting large task binary with size 7.4 MiB\n",
      "25/08/10 16:02:43 WARN DAGScheduler: Broadcasting large task binary with size 7.4 MiB\n",
      "25/08/10 16:02:44 WARN DAGScheduler: Broadcasting large task binary with size 7.4 MiB\n",
      "25/08/10 16:02:45 WARN DAGScheduler: Broadcasting large task binary with size 7.4 MiB\n",
      "25/08/10 16:02:46 WARN DAGScheduler: Broadcasting large task binary with size 7.4 MiB\n",
      "25/08/10 16:02:46 WARN DAGScheduler: Broadcasting large task binary with size 7.4 MiB\n",
      "25/08/10 16:02:47 WARN DAGScheduler: Broadcasting large task binary with size 7.4 MiB\n",
      "25/08/10 16:02:48 WARN DAGScheduler: Broadcasting large task binary with size 7.4 MiB\n",
      "25/08/10 16:02:49 WARN DAGScheduler: Broadcasting large task binary with size 7.4 MiB\n",
      "25/08/10 16:02:50 WARN DAGScheduler: Broadcasting large task binary with size 7.4 MiB\n",
      "25/08/10 16:02:50 WARN DAGScheduler: Broadcasting large task binary with size 7.4 MiB\n",
      "25/08/10 16:02:51 WARN DAGScheduler: Broadcasting large task binary with size 7.4 MiB\n",
      "25/08/10 16:02:52 WARN DAGScheduler: Broadcasting large task binary with size 7.4 MiB\n",
      "25/08/10 16:02:53 WARN DAGScheduler: Broadcasting large task binary with size 7.4 MiB\n",
      "25/08/10 16:02:54 WARN DAGScheduler: Broadcasting large task binary with size 7.4 MiB\n",
      "25/08/10 16:02:54 WARN DAGScheduler: Broadcasting large task binary with size 7.4 MiB\n",
      "25/08/10 16:02:55 WARN DAGScheduler: Broadcasting large task binary with size 7.4 MiB\n",
      "25/08/10 16:02:56 WARN DAGScheduler: Broadcasting large task binary with size 7.4 MiB\n",
      "25/08/10 16:02:57 WARN DAGScheduler: Broadcasting large task binary with size 7.4 MiB\n",
      "25/08/10 16:02:58 WARN DAGScheduler: Broadcasting large task binary with size 7.4 MiB\n",
      "25/08/10 16:02:58 WARN DAGScheduler: Broadcasting large task binary with size 7.4 MiB\n",
      "25/08/10 16:02:59 WARN DAGScheduler: Broadcasting large task binary with size 7.4 MiB\n",
      "25/08/10 16:03:00 WARN DAGScheduler: Broadcasting large task binary with size 7.4 MiB\n",
      "25/08/10 16:03:01 WARN DAGScheduler: Broadcasting large task binary with size 7.4 MiB\n",
      "25/08/10 16:03:02 WARN DAGScheduler: Broadcasting large task binary with size 7.4 MiB\n",
      "25/08/10 16:03:03 WARN DAGScheduler: Broadcasting large task binary with size 7.4 MiB\n",
      "25/08/10 16:03:03 WARN DAGScheduler: Broadcasting large task binary with size 7.4 MiB\n",
      "25/08/10 16:03:04 WARN DAGScheduler: Broadcasting large task binary with size 7.4 MiB\n",
      "25/08/10 16:03:05 WARN DAGScheduler: Broadcasting large task binary with size 7.4 MiB\n",
      "25/08/10 16:03:06 WARN DAGScheduler: Broadcasting large task binary with size 7.4 MiB\n",
      "25/08/10 16:03:07 WARN DAGScheduler: Broadcasting large task binary with size 7.4 MiB\n",
      "25/08/10 16:03:08 WARN DAGScheduler: Broadcasting large task binary with size 7.4 MiB\n",
      "25/08/10 16:03:08 WARN DAGScheduler: Broadcasting large task binary with size 7.4 MiB\n",
      "25/08/10 16:03:09 WARN DAGScheduler: Broadcasting large task binary with size 7.4 MiB\n",
      "25/08/10 16:03:10 WARN DAGScheduler: Broadcasting large task binary with size 7.4 MiB\n",
      "25/08/10 16:03:11 WARN DAGScheduler: Broadcasting large task binary with size 7.4 MiB\n",
      "25/08/10 16:03:12 WARN DAGScheduler: Broadcasting large task binary with size 7.4 MiB\n",
      "25/08/10 16:03:13 WARN DAGScheduler: Broadcasting large task binary with size 7.4 MiB\n",
      "25/08/10 16:03:13 WARN DAGScheduler: Broadcasting large task binary with size 7.4 MiB\n",
      "25/08/10 16:03:14 WARN DAGScheduler: Broadcasting large task binary with size 7.4 MiB\n",
      "25/08/10 16:03:15 WARN DAGScheduler: Broadcasting large task binary with size 7.4 MiB\n",
      "25/08/10 16:03:16 WARN DAGScheduler: Broadcasting large task binary with size 7.4 MiB\n",
      "25/08/10 16:03:17 WARN DAGScheduler: Broadcasting large task binary with size 7.4 MiB\n",
      "25/08/10 16:03:18 WARN DAGScheduler: Broadcasting large task binary with size 7.4 MiB\n",
      "25/08/10 16:03:19 WARN DAGScheduler: Broadcasting large task binary with size 7.4 MiB\n",
      "25/08/10 16:03:19 WARN DAGScheduler: Broadcasting large task binary with size 7.4 MiB\n",
      "25/08/10 16:03:20 WARN DAGScheduler: Broadcasting large task binary with size 7.4 MiB\n",
      "25/08/10 16:03:21 WARN DAGScheduler: Broadcasting large task binary with size 7.4 MiB\n",
      "25/08/10 16:03:22 WARN DAGScheduler: Broadcasting large task binary with size 7.4 MiB\n",
      "25/08/10 16:03:23 WARN DAGScheduler: Broadcasting large task binary with size 7.4 MiB\n",
      "25/08/10 16:03:24 WARN DAGScheduler: Broadcasting large task binary with size 7.4 MiB\n",
      "25/08/10 16:03:25 WARN DAGScheduler: Broadcasting large task binary with size 7.4 MiB\n",
      "25/08/10 16:03:25 WARN DAGScheduler: Broadcasting large task binary with size 7.4 MiB\n",
      "25/08/10 16:03:26 WARN DAGScheduler: Broadcasting large task binary with size 7.4 MiB\n",
      "25/08/10 16:03:27 WARN DAGScheduler: Broadcasting large task binary with size 7.4 MiB\n",
      "25/08/10 16:03:28 WARN DAGScheduler: Broadcasting large task binary with size 7.4 MiB\n",
      "25/08/10 16:03:29 WARN DAGScheduler: Broadcasting large task binary with size 7.4 MiB\n",
      "25/08/10 16:03:29 WARN DAGScheduler: Broadcasting large task binary with size 7.4 MiB\n",
      "25/08/10 16:03:30 WARN DAGScheduler: Broadcasting large task binary with size 7.4 MiB\n",
      "25/08/10 16:03:31 WARN DAGScheduler: Broadcasting large task binary with size 7.4 MiB\n",
      "25/08/10 16:03:32 WARN DAGScheduler: Broadcasting large task binary with size 7.4 MiB\n",
      "25/08/10 16:03:33 WARN DAGScheduler: Broadcasting large task binary with size 7.4 MiB\n",
      "25/08/10 16:03:33 WARN DAGScheduler: Broadcasting large task binary with size 7.4 MiB\n",
      "25/08/10 16:03:34 WARN DAGScheduler: Broadcasting large task binary with size 7.4 MiB\n",
      "25/08/10 16:03:35 WARN DAGScheduler: Broadcasting large task binary with size 7.4 MiB\n",
      "25/08/10 16:03:36 WARN DAGScheduler: Broadcasting large task binary with size 7.4 MiB\n",
      "25/08/10 16:03:37 WARN DAGScheduler: Broadcasting large task binary with size 7.4 MiB\n",
      "25/08/10 16:03:38 WARN DAGScheduler: Broadcasting large task binary with size 7.4 MiB\n",
      "25/08/10 16:03:39 WARN DAGScheduler: Broadcasting large task binary with size 7.4 MiB\n",
      "25/08/10 16:03:39 WARN DAGScheduler: Broadcasting large task binary with size 7.4 MiB\n",
      "25/08/10 16:03:40 WARN DAGScheduler: Broadcasting large task binary with size 7.4 MiB\n",
      "25/08/10 16:03:41 WARN DAGScheduler: Broadcasting large task binary with size 7.4 MiB\n",
      "25/08/10 16:03:42 WARN DAGScheduler: Broadcasting large task binary with size 7.4 MiB\n",
      "25/08/10 16:03:42 WARN DAGScheduler: Broadcasting large task binary with size 7.4 MiB\n",
      "25/08/10 16:03:43 WARN DAGScheduler: Broadcasting large task binary with size 7.4 MiB\n",
      "25/08/10 16:03:44 WARN DAGScheduler: Broadcasting large task binary with size 7.4 MiB\n",
      "25/08/10 16:03:45 WARN DAGScheduler: Broadcasting large task binary with size 7.4 MiB\n",
      "25/08/10 16:03:46 WARN DAGScheduler: Broadcasting large task binary with size 7.4 MiB\n",
      "25/08/10 16:03:47 WARN DAGScheduler: Broadcasting large task binary with size 7.4 MiB\n",
      "25/08/10 16:03:48 WARN DAGScheduler: Broadcasting large task binary with size 7.4 MiB\n",
      "25/08/10 16:03:48 WARN DAGScheduler: Broadcasting large task binary with size 7.4 MiB\n",
      "25/08/10 16:03:49 WARN DAGScheduler: Broadcasting large task binary with size 7.4 MiB\n",
      "25/08/10 16:03:50 WARN DAGScheduler: Broadcasting large task binary with size 7.4 MiB\n",
      "25/08/10 16:03:51 WARN DAGScheduler: Broadcasting large task binary with size 7.4 MiB\n",
      "25/08/10 16:03:52 WARN DAGScheduler: Broadcasting large task binary with size 7.4 MiB\n",
      "25/08/10 16:03:53 WARN DAGScheduler: Broadcasting large task binary with size 7.4 MiB\n",
      "25/08/10 16:03:53 WARN DAGScheduler: Broadcasting large task binary with size 7.4 MiB\n",
      "25/08/10 16:03:54 WARN DAGScheduler: Broadcasting large task binary with size 7.4 MiB\n",
      "25/08/10 16:03:55 WARN DAGScheduler: Broadcasting large task binary with size 7.4 MiB\n",
      "25/08/10 16:03:56 WARN DAGScheduler: Broadcasting large task binary with size 7.4 MiB\n",
      "25/08/10 16:03:57 WARN DAGScheduler: Broadcasting large task binary with size 7.4 MiB\n",
      "25/08/10 16:03:58 WARN DAGScheduler: Broadcasting large task binary with size 7.4 MiB\n",
      "25/08/10 16:03:58 WARN DAGScheduler: Broadcasting large task binary with size 7.4 MiB\n",
      "25/08/10 16:03:59 WARN DAGScheduler: Broadcasting large task binary with size 7.4 MiB\n",
      "25/08/10 16:04:00 WARN DAGScheduler: Broadcasting large task binary with size 7.4 MiB\n",
      "25/08/10 16:04:01 WARN DAGScheduler: Broadcasting large task binary with size 7.4 MiB\n",
      "25/08/10 16:04:02 WARN DAGScheduler: Broadcasting large task binary with size 7.4 MiB\n",
      "25/08/10 16:04:02 WARN DAGScheduler: Broadcasting large task binary with size 7.4 MiB\n",
      "25/08/10 16:04:03 WARN DAGScheduler: Broadcasting large task binary with size 7.4 MiB\n",
      "25/08/10 16:04:04 WARN DAGScheduler: Broadcasting large task binary with size 7.4 MiB\n",
      "25/08/10 16:04:05 WARN DAGScheduler: Broadcasting large task binary with size 7.4 MiB\n",
      "25/08/10 16:04:06 WARN DAGScheduler: Broadcasting large task binary with size 7.4 MiB\n",
      "25/08/10 16:04:06 WARN DAGScheduler: Broadcasting large task binary with size 7.4 MiB\n"
     ]
    },
    {
     "name": "stdout",
     "output_type": "stream",
     "text": [
      "Melhor threshold por F1: 0.433\n"
     ]
    },
    {
     "name": "stderr",
     "output_type": "stream",
     "text": [
      "                                                                                \r"
     ]
    }
   ],
   "source": [
    "pred_probs = pred.select('y_proba_class1', 'target')\n",
    "test_best_tresh = optimize_threshold(pred_probs)\n",
    "\n",
    "print(f\"Melhor threshold por F1: {test_best_tresh:.3f}\")"
   ]
  },
  {
   "cell_type": "code",
   "execution_count": 21,
   "id": "b4c89457-a33c-4866-9331-4d419d8a0f56",
   "metadata": {},
   "outputs": [
    {
     "name": "stderr",
     "output_type": "stream",
     "text": [
      "25/08/10 16:04:07 WARN DAGScheduler: Broadcasting large task binary with size 7.4 MiB\n",
      "25/08/10 16:04:08 WARN DAGScheduler: Broadcasting large task binary with size 7.4 MiB\n",
      "25/08/10 16:04:09 WARN DAGScheduler: Broadcasting large task binary with size 7.4 MiB\n",
      "25/08/10 16:04:09 WARN DAGScheduler: Broadcasting large task binary with size 7.4 MiB\n"
     ]
    },
    {
     "name": "stdout",
     "output_type": "stream",
     "text": [
      "5801 1157 465 5390\n",
      "precision: 0.82328\n",
      "recall: 0.92058\n",
      "f1: 0.86921\n"
     ]
    },
    {
     "name": "stderr",
     "output_type": "stream",
     "text": [
      "                                                                                \r"
     ]
    }
   ],
   "source": [
    "precision, recall, f1, TP, FP, TN, FN = metrics_at(pred.select('y_proba_class1', 'target'), test_best_tresh)\n",
    "\n",
    "print(TN, FP, FN, TP)\n",
    "print(f\"precision: {precision:.5f}\")\n",
    "print(f\"recall: {recall:.5f}\")\n",
    "print(f\"f1: {f1:.5f}\")"
   ]
  },
  {
   "cell_type": "markdown",
   "id": "88e8406f-3772-40ce-9316-3f7ab866ac48",
   "metadata": {},
   "source": [
    "### Predict Dataset"
   ]
  },
  {
   "cell_type": "code",
   "execution_count": 22,
   "id": "f118e4af-8bf3-45eb-9f76-ef76c534e5bb",
   "metadata": {},
   "outputs": [],
   "source": [
    "df_base = assembler.transform(df_features.drop('features'))\n",
    "\n",
    "preds_base = model.transform(df_base)\n",
    "\n",
    "preds_base = preds_base.withColumn(\"prob_vec\", vector_to_array(F.col(\"probability\")))\\\n",
    "                       .withColumn(\"y_proba_class0\", F.col(\"prob_vec\")[0])\\\n",
    "                       .withColumn(\"y_proba_class1\", F.col(\"prob_vec\")[1])"
   ]
  },
  {
   "cell_type": "code",
   "execution_count": 23,
   "id": "2b734a5b-1842-4f8a-adba-79e0861d802a",
   "metadata": {
    "scrolled": true
   },
   "outputs": [
    {
     "name": "stdout",
     "output_type": "stream",
     "text": [
      "+--------------------+--------------------+----------------+------------------+----------------+----------+-------------------------+-------------------------+--------+--------+--------+--------+---------------+-----------------+---------------+---------------+--------------------+--------------+---------------+------------------+------------------+------+--------------------+--------------------+--------------------+----------+--------------------+--------------------+--------------------+\n",
      "|           client_id|            offer_id|offer_type_index|qtd_offer_received|qtd_offer_viewed|sum_reward|registered_duration_month|registered_duration_years|gender_M|gender_F|gender_O|gender_U|age_group_index|credit_card_limit|category_limite|offer_min_value|offer_discount_value|offer_duration|qtd_transaction|      total_amount|        avg_amount|target|            features|       rawPrediction|         probability|prediction|            prob_vec|      y_proba_class0|      y_proba_class1|\n",
      "+--------------------+--------------------+----------------+------------------+----------------+----------+-------------------------+-------------------------+--------+--------+--------+--------+---------------+-----------------+---------------+---------------+--------------------+--------------+---------------+------------------+------------------+------+--------------------+--------------------+--------------------+----------+--------------------+--------------------+--------------------+\n",
      "|0009655768c64bdeb...|2906b810c7d441179...|               0|                 1|               0|       2.0|                       99|                        8|       1|       0|       0|       0|              2|            72000|              3|             10|                   2|           7.0|              8|             127.6|             15.95|     1|[0.0,10.0,2.0,7.0...|[15.4687115066128...|[0.07734355753306...|       1.0|[0.07734355753306...| 0.07734355753306414|  0.9226564424669358|\n",
      "|0009655768c64bdeb...|3f207df678b143eea...|               1|                 1|               1|       0.0|                       99|                        8|       1|       0|       0|       0|              2|            72000|              3|              0|                   0|           4.0|              8|             127.6|             15.95|     0|[1.0,0.0,0.0,4.0,...|         [200.0,0.0]|           [1.0,0.0]|       0.0|          [1.0, 0.0]|                 1.0|                 0.0|\n",
      "|0009655768c64bdeb...|5a8bc65990b245e5a...|               1|                 1|               1|       0.0|                       99|                        8|       1|       0|       0|       0|              2|            72000|              3|              0|                   0|           3.0|              8|             127.6|             15.95|     0|[1.0,0.0,0.0,3.0,...|         [200.0,0.0]|           [1.0,0.0]|       0.0|          [1.0, 0.0]|                 1.0|                 0.0|\n",
      "|0009655768c64bdeb...|f19421c1d4aa40978...|               2|                 1|               1|       5.0|                       99|                        8|       1|       0|       0|       0|              2|            72000|              3|              5|                   5|           5.0|              8|             127.6|             15.95|     1|[2.0,5.0,5.0,5.0,...|[20.0006598544183...|[0.10000329927209...|       1.0|[0.10000329927209...| 0.10000329927209153|  0.8999967007279085|\n",
      "|0009655768c64bdeb...|fafdcd668e3743c1b...|               0|                 1|               1|       2.0|                       99|                        8|       1|       0|       0|       0|              2|            72000|              3|             10|                   2|          10.0|              8|             127.6|             15.95|     1|[0.0,10.0,2.0,10....|[12.8100351775834...|[0.06405017588791...|       1.0|[0.06405017588791...|  0.0640501758879172|  0.9359498241120827|\n",
      "|00116118485d4dfda...|f19421c1d4aa40978...|               2|                 2|               2|       0.0|                       87|                        7|       0|       0|       0|       1|              4|           102000|              4|              5|                   5|           5.0|              3|              4.09|1.3633333333333333|     0|[2.0,5.0,5.0,5.0,...|[195.700512959447...|[0.97850256479723...|       0.0|[0.97850256479723...|  0.9785025647972379|0.021497435202762222|\n",
      "|0011e0d4e6b944f99...|0b1e1539f2cc45b7b...|               0|                 1|               1|       5.0|                       90|                        7|       0|       0|       1|       0|              3|            57000|              2|             20|                   5|          10.0|              5| 79.46000000000001|15.892000000000001|     1|[0.0,20.0,5.0,10....|[60.9075905005176...|[0.30453795250258...|       1.0|[0.30453795250258...| 0.30453795250258814|  0.6954620474974119|\n",
      "|0011e0d4e6b944f99...|2298d6c36e964ae4a...|               0|                 1|               1|       3.0|                       90|                        7|       0|       0|       1|       0|              3|            57000|              2|              7|                   3|           7.0|              5| 79.46000000000001|15.892000000000001|     1|[0.0,7.0,3.0,7.0,...|[44.2604247904706...|[0.22130212395235...|       1.0|[0.22130212395235...| 0.22130212395235338|  0.7786978760476466|\n",
      "|0011e0d4e6b944f99...|3f207df678b143eea...|               1|                 1|               1|       0.0|                       90|                        7|       0|       0|       1|       0|              3|            57000|              2|              0|                   0|           4.0|              5| 79.46000000000001|15.892000000000001|     0|[1.0,0.0,0.0,4.0,...|         [200.0,0.0]|           [1.0,0.0]|       0.0|          [1.0, 0.0]|                 1.0|                 0.0|\n",
      "|0011e0d4e6b944f99...|5a8bc65990b245e5a...|               1|                 1|               1|       0.0|                       90|                        7|       0|       0|       1|       0|              3|            57000|              2|              0|                   0|           3.0|              5| 79.46000000000001|15.892000000000001|     0|[1.0,0.0,0.0,3.0,...|         [200.0,0.0]|           [1.0,0.0]|       0.0|          [1.0, 0.0]|                 1.0|                 0.0|\n",
      "|0011e0d4e6b944f99...|9b98b8c7a33c4b65b...|               2|                 1|               1|       5.0|                       90|                        7|       0|       0|       1|       0|              3|            57000|              2|              5|                   5|           7.0|              5| 79.46000000000001|15.892000000000001|     1|[2.0,5.0,5.0,7.0,...|[52.9478384971453...|[0.26473919248572...|       1.0|[0.26473919248572...| 0.26473919248572647|  0.7352608075142735|\n",
      "|0020c2b971eb4e918...|4d5c57ea9a6940dd8...|               2|                 1|               1|      10.0|                      113|                        9|       0|       1|       0|       0|              4|            90000|              4|             10|                  10|           5.0|              8|            196.86|           24.6075|     1|[2.0,10.0,10.0,5....|[16.1388200316735...|[0.08069410015836...|       1.0|[0.08069410015836...| 0.08069410015836757|  0.9193058998416325|\n",
      "|0020c2b971eb4e918...|5a8bc65990b245e5a...|               1|                 1|               1|       0.0|                      113|                        9|       0|       1|       0|       0|              4|            90000|              4|              0|                   0|           3.0|              8|            196.86|           24.6075|     0|[1.0,0.0,0.0,3.0,...|         [200.0,0.0]|           [1.0,0.0]|       0.0|          [1.0, 0.0]|                 1.0|                 0.0|\n",
      "|0020c2b971eb4e918...|ae264e3637204a6fb...|               2|                 1|               0|       0.0|                      113|                        9|       0|       1|       0|       0|              4|            90000|              4|             10|                  10|           7.0|              8|            196.86|           24.6075|     0|[2.0,10.0,10.0,7....|[15.4928112776326...|[0.07746405638816...|       1.0|[0.07746405638816...| 0.07746405638816299|   0.922535943611837|\n",
      "|0020c2b971eb4e918...|fafdcd668e3743c1b...|               0|                 2|               1|       4.0|                      113|                        9|       0|       1|       0|       0|              4|            90000|              4|             10|                   2|          10.0|              8|            196.86|           24.6075|     1|[0.0,10.0,2.0,10....|[9.19942082818333...|[0.04599710414091...|       1.0|[0.04599710414091...| 0.04599710414091666|  0.9540028958590834|\n",
      "|0020ccbbb6d84e358...|2298d6c36e964ae4a...|               0|                 1|               1|       3.0|                      104|                        8|       0|       1|       0|       0|              1|            60000|              2|              7|                   3|           7.0|             12|154.04999999999998|12.837499999999999|     1|[0.0,7.0,3.0,7.0,...|[10.0677614890994...|[0.05033880744549...|       1.0|[0.05033880744549...|0.050338807445497215|  0.9496611925545028|\n",
      "|0020ccbbb6d84e358...|5a8bc65990b245e5a...|               1|                 1|               1|       0.0|                      104|                        8|       0|       1|       0|       0|              1|            60000|              2|              0|                   0|           3.0|             12|154.04999999999998|12.837499999999999|     0|[1.0,0.0,0.0,3.0,...|         [200.0,0.0]|           [1.0,0.0]|       0.0|          [1.0, 0.0]|                 1.0|                 0.0|\n",
      "|0020ccbbb6d84e358...|9b98b8c7a33c4b65b...|               2|                 1|               1|       5.0|                      104|                        8|       0|       1|       0|       0|              1|            60000|              2|              5|                   5|           7.0|             12|154.04999999999998|12.837499999999999|     1|[2.0,5.0,5.0,7.0,...|[14.9032067405790...|[0.07451603370289...|       1.0|[0.07451603370289...| 0.07451603370289522|  0.9254839662971048|\n",
      "|0020ccbbb6d84e358...|f19421c1d4aa40978...|               2|                 1|               1|       5.0|                      104|                        8|       0|       1|       0|       0|              1|            60000|              2|              5|                   5|           5.0|             12|154.04999999999998|12.837499999999999|     1|[2.0,5.0,5.0,5.0,...|[15.5338403454049...|[0.07766920172702...|       1.0|[0.07766920172702...|  0.0776692017270249|   0.922330798272975|\n",
      "|003d66b6608740288...|0b1e1539f2cc45b7b...|               0|                 1|               0|       5.0|                       97|                        8|       0|       1|       0|       0|              1|            73000|              3|             20|                   5|          10.0|             18| 48.34000000000001| 2.685555555555556|     1|[0.0,20.0,5.0,10....|[130.816308611597...|[0.65408154305798...|       0.0|[0.65408154305798...|  0.6540815430579854|  0.3459184569420146|\n",
      "+--------------------+--------------------+----------------+------------------+----------------+----------+-------------------------+-------------------------+--------+--------+--------+--------+---------------+-----------------+---------------+---------------+--------------------+--------------+---------------+------------------+------------------+------+--------------------+--------------------+--------------------+----------+--------------------+--------------------+--------------------+\n",
      "only showing top 20 rows\n"
     ]
    },
    {
     "name": "stderr",
     "output_type": "stream",
     "text": [
      "25/08/10 16:04:29 WARN DAGScheduler: Broadcasting large task binary with size 7.4 MiB\n"
     ]
    }
   ],
   "source": [
    "preds_base.show()"
   ]
  },
  {
   "cell_type": "code",
   "execution_count": 24,
   "id": "a709f494-7fa2-43d9-a1cb-0881191ad0b6",
   "metadata": {},
   "outputs": [
    {
     "name": "stderr",
     "output_type": "stream",
     "text": [
      "25/08/10 16:04:34 WARN DAGScheduler: Broadcasting large task binary with size 7.4 MiB\n",
      "25/08/10 16:04:35 WARN DAGScheduler: Broadcasting large task binary with size 7.4 MiB\n",
      "25/08/10 16:04:35 WARN DAGScheduler: Broadcasting large task binary with size 7.4 MiB\n",
      "25/08/10 16:04:36 WARN DAGScheduler: Broadcasting large task binary with size 7.4 MiB\n",
      "25/08/10 16:04:36 WARN DAGScheduler: Broadcasting large task binary with size 7.4 MiB\n",
      "25/08/10 16:04:38 WARN DAGScheduler: Broadcasting large task binary with size 7.4 MiB\n"
     ]
    },
    {
     "name": "stdout",
     "output_type": "stream",
     "text": [
      "+-----------------+-----+-----+\n",
      "|target_prediction|  0.0|  1.0|\n",
      "+-----------------+-----+-----+\n",
      "|                0|29644| 4648|\n",
      "|                1| 2795|26201|\n",
      "+-----------------+-----+-----+\n",
      "\n"
     ]
    },
    {
     "name": "stderr",
     "output_type": "stream",
     "text": [
      "25/08/10 16:04:38 WARN DAGScheduler: Broadcasting large task binary with size 7.4 MiB\n",
      "                                                                                \r"
     ]
    }
   ],
   "source": [
    "conf_matrix_df = preds_base.select(\"target\", \"prediction\")\\\n",
    "                           .crosstab(\"target\", \"prediction\").fillna(0)\n",
    "conf_matrix_df.show()"
   ]
  },
  {
   "cell_type": "markdown",
   "id": "dfb5413d-57b2-42bf-bb39-8004b669e590",
   "metadata": {},
   "source": [
    "##### Verificando precision, recall e f1 para a base toda com o Tresh padrão"
   ]
  },
  {
   "cell_type": "code",
   "execution_count": 25,
   "id": "8a8d7bd0-d30c-4786-a20d-d31c67040d51",
   "metadata": {},
   "outputs": [
    {
     "name": "stderr",
     "output_type": "stream",
     "text": [
      "25/08/10 16:04:44 WARN DAGScheduler: Broadcasting large task binary with size 7.4 MiB\n",
      "25/08/10 16:04:46 WARN DAGScheduler: Broadcasting large task binary with size 7.4 MiB\n",
      "25/08/10 16:04:47 WARN DAGScheduler: Broadcasting large task binary with size 7.4 MiB\n",
      "25/08/10 16:04:49 WARN DAGScheduler: Broadcasting large task binary with size 7.4 MiB\n",
      "[Stage 1206:>                                                       (0 + 1) / 1]\r"
     ]
    },
    {
     "name": "stdout",
     "output_type": "stream",
     "text": [
      "29644 4648 2795 26201\n",
      "precision: 0.84933\n",
      "recall: 0.90361\n",
      "f1: 0.87563\n"
     ]
    },
    {
     "name": "stderr",
     "output_type": "stream",
     "text": [
      "                                                                                \r"
     ]
    }
   ],
   "source": [
    "pred_probs = preds_base.select('y_proba_class1', 'target')\n",
    "precision, recall, f1, TP, FP, TN, FN = metrics_at(pred_probs, 0.5)\n",
    "\n",
    "print(TN, FP, FN, TP)\n",
    "print(f\"precision: {precision:.5f}\")\n",
    "print(f\"recall: {recall:.5f}\")\n",
    "print(f\"f1: {f1:.5f}\")"
   ]
  },
  {
   "cell_type": "markdown",
   "id": "0e53508e-fa18-41b6-adaa-8a265be10778",
   "metadata": {},
   "source": [
    "##### Verificando precision, recall e f1 para a base toda com o melhor Tresh da base de Teste"
   ]
  },
  {
   "cell_type": "code",
   "execution_count": 26,
   "id": "92d34bf6-26df-4135-b54c-fb82a819a8c1",
   "metadata": {},
   "outputs": [
    {
     "name": "stderr",
     "output_type": "stream",
     "text": [
      "25/08/10 16:04:54 WARN DAGScheduler: Broadcasting large task binary with size 7.4 MiB\n",
      "25/08/10 16:04:56 WARN DAGScheduler: Broadcasting large task binary with size 7.4 MiB\n",
      "25/08/10 16:04:58 WARN DAGScheduler: Broadcasting large task binary with size 7.4 MiB\n",
      "25/08/10 16:04:59 WARN DAGScheduler: Broadcasting large task binary with size 7.4 MiB\n",
      "[Stage 1218:>                                                       (0 + 1) / 1]\r"
     ]
    },
    {
     "name": "stdout",
     "output_type": "stream",
     "text": [
      "28815 5477 2102 26894\n",
      "precision: 0.83081\n",
      "recall: 0.92751\n",
      "f1: 0.87650\n"
     ]
    },
    {
     "name": "stderr",
     "output_type": "stream",
     "text": [
      "                                                                                \r"
     ]
    }
   ],
   "source": [
    "pred_probs = preds_base.select('y_proba_class1', 'target')\n",
    "precision, recall, f1, TP, FP, TN, FN = metrics_at(pred_probs, test_best_tresh)\n",
    "\n",
    "print(TN, FP, FN, TP)\n",
    "print(f\"precision: {precision:.5f}\")\n",
    "print(f\"recall: {recall:.5f}\")\n",
    "print(f\"f1: {f1:.5f}\")"
   ]
  },
  {
   "cell_type": "markdown",
   "id": "bf0d1f14-28f8-4904-ab2e-3fe52c040623",
   "metadata": {},
   "source": [
    "##### Procurando melhor Tresh quando considerado toda a base"
   ]
  },
  {
   "cell_type": "code",
   "execution_count": 27,
   "id": "19e8ad3f-df07-42ed-ab67-c069e011c9f2",
   "metadata": {
    "scrolled": true
   },
   "outputs": [
    {
     "name": "stderr",
     "output_type": "stream",
     "text": [
      "25/08/10 16:05:09 WARN DAGScheduler: Broadcasting large task binary with size 7.4 MiB\n",
      "25/08/10 16:05:10 WARN DAGScheduler: Broadcasting large task binary with size 7.4 MiB\n",
      "25/08/10 16:05:12 WARN DAGScheduler: Broadcasting large task binary with size 7.4 MiB\n",
      "25/08/10 16:05:14 WARN DAGScheduler: Broadcasting large task binary with size 7.4 MiB\n",
      "25/08/10 16:05:15 WARN DAGScheduler: Broadcasting large task binary with size 7.4 MiB\n",
      "25/08/10 16:05:17 WARN DAGScheduler: Broadcasting large task binary with size 7.4 MiB\n",
      "25/08/10 16:05:19 WARN DAGScheduler: Broadcasting large task binary with size 7.4 MiB\n",
      "25/08/10 16:05:20 WARN DAGScheduler: Broadcasting large task binary with size 7.4 MiB\n",
      "25/08/10 16:05:22 WARN DAGScheduler: Broadcasting large task binary with size 7.4 MiB\n",
      "25/08/10 16:05:24 WARN DAGScheduler: Broadcasting large task binary with size 7.4 MiB\n",
      "25/08/10 16:05:25 WARN DAGScheduler: Broadcasting large task binary with size 7.4 MiB\n",
      "25/08/10 16:05:27 WARN DAGScheduler: Broadcasting large task binary with size 7.4 MiB\n",
      "25/08/10 16:05:28 WARN DAGScheduler: Broadcasting large task binary with size 7.4 MiB\n",
      "25/08/10 16:05:30 WARN DAGScheduler: Broadcasting large task binary with size 7.4 MiB\n",
      "25/08/10 16:05:31 WARN DAGScheduler: Broadcasting large task binary with size 7.4 MiB\n",
      "25/08/10 16:05:33 WARN DAGScheduler: Broadcasting large task binary with size 7.4 MiB\n",
      "25/08/10 16:05:34 WARN DAGScheduler: Broadcasting large task binary with size 7.4 MiB\n",
      "25/08/10 16:05:36 WARN DAGScheduler: Broadcasting large task binary with size 7.4 MiB\n",
      "25/08/10 16:05:38 WARN DAGScheduler: Broadcasting large task binary with size 7.4 MiB\n",
      "25/08/10 16:05:39 WARN DAGScheduler: Broadcasting large task binary with size 7.4 MiB\n",
      "25/08/10 16:05:41 WARN DAGScheduler: Broadcasting large task binary with size 7.4 MiB\n",
      "25/08/10 16:05:42 WARN DAGScheduler: Broadcasting large task binary with size 7.4 MiB\n",
      "25/08/10 16:05:44 WARN DAGScheduler: Broadcasting large task binary with size 7.4 MiB\n",
      "25/08/10 16:05:45 WARN DAGScheduler: Broadcasting large task binary with size 7.4 MiB\n",
      "25/08/10 16:05:47 WARN DAGScheduler: Broadcasting large task binary with size 7.4 MiB\n",
      "25/08/10 16:05:48 WARN DAGScheduler: Broadcasting large task binary with size 7.4 MiB\n",
      "25/08/10 16:05:50 WARN DAGScheduler: Broadcasting large task binary with size 7.4 MiB\n",
      "25/08/10 16:05:52 WARN DAGScheduler: Broadcasting large task binary with size 7.4 MiB\n",
      "25/08/10 16:05:53 WARN DAGScheduler: Broadcasting large task binary with size 7.4 MiB\n",
      "25/08/10 16:05:55 WARN DAGScheduler: Broadcasting large task binary with size 7.4 MiB\n",
      "25/08/10 16:05:56 WARN DAGScheduler: Broadcasting large task binary with size 7.4 MiB\n",
      "25/08/10 16:05:58 WARN DAGScheduler: Broadcasting large task binary with size 7.4 MiB\n",
      "25/08/10 16:05:59 WARN DAGScheduler: Broadcasting large task binary with size 7.4 MiB\n",
      "25/08/10 16:06:01 WARN DAGScheduler: Broadcasting large task binary with size 7.4 MiB\n",
      "25/08/10 16:06:02 WARN DAGScheduler: Broadcasting large task binary with size 7.4 MiB\n",
      "25/08/10 16:06:04 WARN DAGScheduler: Broadcasting large task binary with size 7.4 MiB\n",
      "25/08/10 16:06:06 WARN DAGScheduler: Broadcasting large task binary with size 7.4 MiB\n",
      "25/08/10 16:06:07 WARN DAGScheduler: Broadcasting large task binary with size 7.4 MiB\n",
      "25/08/10 16:06:09 WARN DAGScheduler: Broadcasting large task binary with size 7.4 MiB\n",
      "25/08/10 16:06:11 WARN DAGScheduler: Broadcasting large task binary with size 7.4 MiB\n",
      "25/08/10 16:06:12 WARN DAGScheduler: Broadcasting large task binary with size 7.4 MiB\n",
      "25/08/10 16:06:14 WARN DAGScheduler: Broadcasting large task binary with size 7.4 MiB\n",
      "25/08/10 16:06:15 WARN DAGScheduler: Broadcasting large task binary with size 7.4 MiB\n",
      "25/08/10 16:06:17 WARN DAGScheduler: Broadcasting large task binary with size 7.4 MiB\n",
      "25/08/10 16:06:19 WARN DAGScheduler: Broadcasting large task binary with size 7.4 MiB\n",
      "25/08/10 16:06:20 WARN DAGScheduler: Broadcasting large task binary with size 7.4 MiB\n",
      "25/08/10 16:06:22 WARN DAGScheduler: Broadcasting large task binary with size 7.4 MiB\n",
      "25/08/10 16:06:24 WARN DAGScheduler: Broadcasting large task binary with size 7.4 MiB\n",
      "25/08/10 16:06:25 WARN DAGScheduler: Broadcasting large task binary with size 7.4 MiB\n",
      "25/08/10 16:06:27 WARN DAGScheduler: Broadcasting large task binary with size 7.4 MiB\n",
      "25/08/10 16:06:29 WARN DAGScheduler: Broadcasting large task binary with size 7.4 MiB\n",
      "25/08/10 16:06:30 WARN DAGScheduler: Broadcasting large task binary with size 7.4 MiB\n",
      "25/08/10 16:06:32 WARN DAGScheduler: Broadcasting large task binary with size 7.4 MiB\n",
      "25/08/10 16:06:34 WARN DAGScheduler: Broadcasting large task binary with size 7.4 MiB\n",
      "25/08/10 16:06:35 WARN DAGScheduler: Broadcasting large task binary with size 7.4 MiB\n",
      "25/08/10 16:06:37 WARN DAGScheduler: Broadcasting large task binary with size 7.4 MiB\n",
      "25/08/10 16:06:38 WARN DAGScheduler: Broadcasting large task binary with size 7.4 MiB\n",
      "25/08/10 16:06:40 WARN DAGScheduler: Broadcasting large task binary with size 7.4 MiB\n",
      "25/08/10 16:06:42 WARN DAGScheduler: Broadcasting large task binary with size 7.4 MiB\n",
      "25/08/10 16:06:43 WARN DAGScheduler: Broadcasting large task binary with size 7.4 MiB\n",
      "25/08/10 16:06:45 WARN DAGScheduler: Broadcasting large task binary with size 7.4 MiB\n",
      "25/08/10 16:06:47 WARN DAGScheduler: Broadcasting large task binary with size 7.4 MiB\n",
      "25/08/10 16:06:48 WARN DAGScheduler: Broadcasting large task binary with size 7.4 MiB\n",
      "25/08/10 16:06:50 WARN DAGScheduler: Broadcasting large task binary with size 7.4 MiB\n",
      "25/08/10 16:06:52 WARN DAGScheduler: Broadcasting large task binary with size 7.4 MiB\n",
      "25/08/10 16:06:53 WARN DAGScheduler: Broadcasting large task binary with size 7.4 MiB\n",
      "25/08/10 16:06:55 WARN DAGScheduler: Broadcasting large task binary with size 7.4 MiB\n",
      "25/08/10 16:06:57 WARN DAGScheduler: Broadcasting large task binary with size 7.4 MiB\n",
      "25/08/10 16:06:58 WARN DAGScheduler: Broadcasting large task binary with size 7.4 MiB\n",
      "25/08/10 16:07:00 WARN DAGScheduler: Broadcasting large task binary with size 7.4 MiB\n",
      "25/08/10 16:07:02 WARN DAGScheduler: Broadcasting large task binary with size 7.4 MiB\n",
      "25/08/10 16:07:03 WARN DAGScheduler: Broadcasting large task binary with size 7.4 MiB\n",
      "25/08/10 16:07:05 WARN DAGScheduler: Broadcasting large task binary with size 7.4 MiB\n",
      "25/08/10 16:07:07 WARN DAGScheduler: Broadcasting large task binary with size 7.4 MiB\n",
      "25/08/10 16:07:09 WARN DAGScheduler: Broadcasting large task binary with size 7.4 MiB\n",
      "25/08/10 16:07:11 WARN DAGScheduler: Broadcasting large task binary with size 7.4 MiB\n",
      "25/08/10 16:07:12 WARN DAGScheduler: Broadcasting large task binary with size 7.4 MiB\n",
      "25/08/10 16:07:14 WARN DAGScheduler: Broadcasting large task binary with size 7.4 MiB\n",
      "25/08/10 16:07:16 WARN DAGScheduler: Broadcasting large task binary with size 7.4 MiB\n",
      "25/08/10 16:07:17 WARN DAGScheduler: Broadcasting large task binary with size 7.4 MiB\n",
      "25/08/10 16:07:19 WARN DAGScheduler: Broadcasting large task binary with size 7.4 MiB\n",
      "25/08/10 16:07:21 WARN DAGScheduler: Broadcasting large task binary with size 7.4 MiB\n",
      "25/08/10 16:07:22 WARN DAGScheduler: Broadcasting large task binary with size 7.4 MiB\n",
      "25/08/10 16:07:24 WARN DAGScheduler: Broadcasting large task binary with size 7.4 MiB\n",
      "25/08/10 16:07:26 WARN DAGScheduler: Broadcasting large task binary with size 7.4 MiB\n",
      "25/08/10 16:07:27 WARN DAGScheduler: Broadcasting large task binary with size 7.4 MiB\n",
      "25/08/10 16:07:29 WARN DAGScheduler: Broadcasting large task binary with size 7.4 MiB\n",
      "25/08/10 16:07:30 WARN DAGScheduler: Broadcasting large task binary with size 7.4 MiB\n",
      "25/08/10 16:07:32 WARN DAGScheduler: Broadcasting large task binary with size 7.4 MiB\n",
      "25/08/10 16:07:34 WARN DAGScheduler: Broadcasting large task binary with size 7.4 MiB\n",
      "25/08/10 16:07:35 WARN DAGScheduler: Broadcasting large task binary with size 7.4 MiB\n",
      "25/08/10 16:07:37 WARN DAGScheduler: Broadcasting large task binary with size 7.4 MiB\n",
      "25/08/10 16:07:39 WARN DAGScheduler: Broadcasting large task binary with size 7.4 MiB\n",
      "25/08/10 16:07:40 WARN DAGScheduler: Broadcasting large task binary with size 7.4 MiB\n",
      "25/08/10 16:07:42 WARN DAGScheduler: Broadcasting large task binary with size 7.4 MiB\n",
      "25/08/10 16:07:44 WARN DAGScheduler: Broadcasting large task binary with size 7.4 MiB\n",
      "25/08/10 16:07:45 WARN DAGScheduler: Broadcasting large task binary with size 7.4 MiB\n",
      "25/08/10 16:07:47 WARN DAGScheduler: Broadcasting large task binary with size 7.4 MiB\n",
      "25/08/10 16:07:49 WARN DAGScheduler: Broadcasting large task binary with size 7.4 MiB\n",
      "25/08/10 16:07:50 WARN DAGScheduler: Broadcasting large task binary with size 7.4 MiB\n",
      "25/08/10 16:07:52 WARN DAGScheduler: Broadcasting large task binary with size 7.4 MiB\n",
      "25/08/10 16:07:53 WARN DAGScheduler: Broadcasting large task binary with size 7.4 MiB\n",
      "25/08/10 16:07:55 WARN DAGScheduler: Broadcasting large task binary with size 7.4 MiB\n",
      "25/08/10 16:07:57 WARN DAGScheduler: Broadcasting large task binary with size 7.4 MiB\n",
      "25/08/10 16:07:58 WARN DAGScheduler: Broadcasting large task binary with size 7.4 MiB\n",
      "25/08/10 16:08:00 WARN DAGScheduler: Broadcasting large task binary with size 7.4 MiB\n",
      "25/08/10 16:08:02 WARN DAGScheduler: Broadcasting large task binary with size 7.4 MiB\n",
      "25/08/10 16:08:03 WARN DAGScheduler: Broadcasting large task binary with size 7.4 MiB\n",
      "25/08/10 16:08:05 WARN DAGScheduler: Broadcasting large task binary with size 7.4 MiB\n",
      "25/08/10 16:08:07 WARN DAGScheduler: Broadcasting large task binary with size 7.4 MiB\n",
      "25/08/10 16:08:08 WARN DAGScheduler: Broadcasting large task binary with size 7.4 MiB\n",
      "25/08/10 16:08:10 WARN DAGScheduler: Broadcasting large task binary with size 7.4 MiB\n",
      "25/08/10 16:08:12 WARN DAGScheduler: Broadcasting large task binary with size 7.4 MiB\n",
      "25/08/10 16:08:13 WARN DAGScheduler: Broadcasting large task binary with size 7.4 MiB\n",
      "25/08/10 16:08:15 WARN DAGScheduler: Broadcasting large task binary with size 7.4 MiB\n",
      "25/08/10 16:08:17 WARN DAGScheduler: Broadcasting large task binary with size 7.4 MiB\n",
      "25/08/10 16:08:18 WARN DAGScheduler: Broadcasting large task binary with size 7.4 MiB\n",
      "25/08/10 16:08:20 WARN DAGScheduler: Broadcasting large task binary with size 7.4 MiB\n",
      "25/08/10 16:08:22 WARN DAGScheduler: Broadcasting large task binary with size 7.4 MiB\n",
      "25/08/10 16:08:23 WARN DAGScheduler: Broadcasting large task binary with size 7.4 MiB\n",
      "25/08/10 16:08:25 WARN DAGScheduler: Broadcasting large task binary with size 7.4 MiB\n",
      "25/08/10 16:08:26 WARN DAGScheduler: Broadcasting large task binary with size 7.4 MiB\n",
      "25/08/10 16:08:28 WARN DAGScheduler: Broadcasting large task binary with size 7.4 MiB\n",
      "25/08/10 16:08:30 WARN DAGScheduler: Broadcasting large task binary with size 7.4 MiB\n",
      "25/08/10 16:08:31 WARN DAGScheduler: Broadcasting large task binary with size 7.4 MiB\n",
      "25/08/10 16:08:33 WARN DAGScheduler: Broadcasting large task binary with size 7.4 MiB\n",
      "25/08/10 16:08:34 WARN DAGScheduler: Broadcasting large task binary with size 7.4 MiB\n",
      "25/08/10 16:08:36 WARN DAGScheduler: Broadcasting large task binary with size 7.4 MiB\n",
      "25/08/10 16:08:38 WARN DAGScheduler: Broadcasting large task binary with size 7.4 MiB\n",
      "25/08/10 16:08:39 WARN DAGScheduler: Broadcasting large task binary with size 7.4 MiB\n",
      "25/08/10 16:08:41 WARN DAGScheduler: Broadcasting large task binary with size 7.4 MiB\n",
      "25/08/10 16:08:43 WARN DAGScheduler: Broadcasting large task binary with size 7.4 MiB\n",
      "25/08/10 16:08:44 WARN DAGScheduler: Broadcasting large task binary with size 7.4 MiB\n",
      "25/08/10 16:08:46 WARN DAGScheduler: Broadcasting large task binary with size 7.4 MiB\n",
      "25/08/10 16:08:47 WARN DAGScheduler: Broadcasting large task binary with size 7.4 MiB\n",
      "25/08/10 16:08:49 WARN DAGScheduler: Broadcasting large task binary with size 7.4 MiB\n",
      "25/08/10 16:08:51 WARN DAGScheduler: Broadcasting large task binary with size 7.4 MiB\n",
      "25/08/10 16:08:52 WARN DAGScheduler: Broadcasting large task binary with size 7.4 MiB\n",
      "25/08/10 16:08:54 WARN DAGScheduler: Broadcasting large task binary with size 7.4 MiB\n",
      "25/08/10 16:08:56 WARN DAGScheduler: Broadcasting large task binary with size 7.4 MiB\n",
      "25/08/10 16:08:57 WARN DAGScheduler: Broadcasting large task binary with size 7.4 MiB\n",
      "25/08/10 16:08:59 WARN DAGScheduler: Broadcasting large task binary with size 7.4 MiB\n",
      "25/08/10 16:09:01 WARN DAGScheduler: Broadcasting large task binary with size 7.4 MiB\n",
      "25/08/10 16:09:02 WARN DAGScheduler: Broadcasting large task binary with size 7.4 MiB\n",
      "25/08/10 16:09:04 WARN DAGScheduler: Broadcasting large task binary with size 7.4 MiB\n",
      "25/08/10 16:09:05 WARN DAGScheduler: Broadcasting large task binary with size 7.4 MiB\n",
      "25/08/10 16:09:07 WARN DAGScheduler: Broadcasting large task binary with size 7.4 MiB\n",
      "25/08/10 16:09:09 WARN DAGScheduler: Broadcasting large task binary with size 7.4 MiB\n",
      "25/08/10 16:09:10 WARN DAGScheduler: Broadcasting large task binary with size 7.4 MiB\n",
      "25/08/10 16:09:12 WARN DAGScheduler: Broadcasting large task binary with size 7.4 MiB\n",
      "25/08/10 16:09:14 WARN DAGScheduler: Broadcasting large task binary with size 7.4 MiB\n",
      "25/08/10 16:09:15 WARN DAGScheduler: Broadcasting large task binary with size 7.4 MiB\n",
      "25/08/10 16:09:17 WARN DAGScheduler: Broadcasting large task binary with size 7.4 MiB\n",
      "25/08/10 16:09:19 WARN DAGScheduler: Broadcasting large task binary with size 7.4 MiB\n",
      "25/08/10 16:09:20 WARN DAGScheduler: Broadcasting large task binary with size 7.4 MiB\n",
      "25/08/10 16:09:22 WARN DAGScheduler: Broadcasting large task binary with size 7.4 MiB\n",
      "25/08/10 16:09:24 WARN DAGScheduler: Broadcasting large task binary with size 7.4 MiB\n",
      "25/08/10 16:09:25 WARN DAGScheduler: Broadcasting large task binary with size 7.4 MiB\n",
      "25/08/10 16:09:27 WARN DAGScheduler: Broadcasting large task binary with size 7.4 MiB\n",
      "25/08/10 16:09:29 WARN DAGScheduler: Broadcasting large task binary with size 7.4 MiB\n",
      "25/08/10 16:09:30 WARN DAGScheduler: Broadcasting large task binary with size 7.4 MiB\n",
      "25/08/10 16:09:32 WARN DAGScheduler: Broadcasting large task binary with size 7.4 MiB\n",
      "25/08/10 16:09:34 WARN DAGScheduler: Broadcasting large task binary with size 7.4 MiB\n",
      "25/08/10 16:09:35 WARN DAGScheduler: Broadcasting large task binary with size 7.4 MiB\n",
      "25/08/10 16:09:37 WARN DAGScheduler: Broadcasting large task binary with size 7.4 MiB\n",
      "25/08/10 16:09:39 WARN DAGScheduler: Broadcasting large task binary with size 7.4 MiB\n",
      "25/08/10 16:09:40 WARN DAGScheduler: Broadcasting large task binary with size 7.4 MiB\n",
      "25/08/10 16:09:42 WARN DAGScheduler: Broadcasting large task binary with size 7.4 MiB\n",
      "25/08/10 16:09:43 WARN DAGScheduler: Broadcasting large task binary with size 7.4 MiB\n",
      "25/08/10 16:09:45 WARN DAGScheduler: Broadcasting large task binary with size 7.4 MiB\n",
      "25/08/10 16:09:47 WARN DAGScheduler: Broadcasting large task binary with size 7.4 MiB\n",
      "25/08/10 16:09:48 WARN DAGScheduler: Broadcasting large task binary with size 7.4 MiB\n",
      "25/08/10 16:09:50 WARN DAGScheduler: Broadcasting large task binary with size 7.4 MiB\n",
      "25/08/10 16:09:52 WARN DAGScheduler: Broadcasting large task binary with size 7.4 MiB\n",
      "25/08/10 16:09:54 WARN DAGScheduler: Broadcasting large task binary with size 7.4 MiB\n",
      "25/08/10 16:09:55 WARN DAGScheduler: Broadcasting large task binary with size 7.4 MiB\n",
      "25/08/10 16:09:57 WARN DAGScheduler: Broadcasting large task binary with size 7.4 MiB\n",
      "25/08/10 16:09:59 WARN DAGScheduler: Broadcasting large task binary with size 7.4 MiB\n",
      "25/08/10 16:10:00 WARN DAGScheduler: Broadcasting large task binary with size 7.4 MiB\n",
      "25/08/10 16:10:02 WARN DAGScheduler: Broadcasting large task binary with size 7.4 MiB\n",
      "25/08/10 16:10:04 WARN DAGScheduler: Broadcasting large task binary with size 7.4 MiB\n",
      "25/08/10 16:10:06 WARN DAGScheduler: Broadcasting large task binary with size 7.4 MiB\n",
      "25/08/10 16:10:07 WARN DAGScheduler: Broadcasting large task binary with size 7.4 MiB\n",
      "25/08/10 16:10:09 WARN DAGScheduler: Broadcasting large task binary with size 7.4 MiB\n",
      "25/08/10 16:10:11 WARN DAGScheduler: Broadcasting large task binary with size 7.4 MiB\n",
      "25/08/10 16:10:13 WARN DAGScheduler: Broadcasting large task binary with size 7.4 MiB\n",
      "25/08/10 16:10:14 WARN DAGScheduler: Broadcasting large task binary with size 7.4 MiB\n",
      "25/08/10 16:10:16 WARN DAGScheduler: Broadcasting large task binary with size 7.4 MiB\n",
      "25/08/10 16:10:18 WARN DAGScheduler: Broadcasting large task binary with size 7.4 MiB\n",
      "25/08/10 16:10:20 WARN DAGScheduler: Broadcasting large task binary with size 7.4 MiB\n",
      "25/08/10 16:10:21 WARN DAGScheduler: Broadcasting large task binary with size 7.4 MiB\n",
      "25/08/10 16:10:23 WARN DAGScheduler: Broadcasting large task binary with size 7.4 MiB\n",
      "25/08/10 16:10:25 WARN DAGScheduler: Broadcasting large task binary with size 7.4 MiB\n",
      "25/08/10 16:10:26 WARN DAGScheduler: Broadcasting large task binary with size 7.4 MiB\n",
      "25/08/10 16:10:28 WARN DAGScheduler: Broadcasting large task binary with size 7.4 MiB\n",
      "25/08/10 16:10:30 WARN DAGScheduler: Broadcasting large task binary with size 7.4 MiB\n",
      "25/08/10 16:10:31 WARN DAGScheduler: Broadcasting large task binary with size 7.4 MiB\n",
      "25/08/10 16:10:33 WARN DAGScheduler: Broadcasting large task binary with size 7.4 MiB\n",
      "25/08/10 16:10:35 WARN DAGScheduler: Broadcasting large task binary with size 7.4 MiB\n",
      "25/08/10 16:10:37 WARN DAGScheduler: Broadcasting large task binary with size 7.4 MiB\n",
      "25/08/10 16:10:39 WARN DAGScheduler: Broadcasting large task binary with size 7.4 MiB\n",
      "25/08/10 16:10:40 WARN DAGScheduler: Broadcasting large task binary with size 7.4 MiB\n",
      "25/08/10 16:10:42 WARN DAGScheduler: Broadcasting large task binary with size 7.4 MiB\n",
      "25/08/10 16:10:44 WARN DAGScheduler: Broadcasting large task binary with size 7.4 MiB\n",
      "25/08/10 16:10:45 WARN DAGScheduler: Broadcasting large task binary with size 7.4 MiB\n",
      "25/08/10 16:10:47 WARN DAGScheduler: Broadcasting large task binary with size 7.4 MiB\n",
      "25/08/10 16:10:49 WARN DAGScheduler: Broadcasting large task binary with size 7.4 MiB\n",
      "25/08/10 16:10:51 WARN DAGScheduler: Broadcasting large task binary with size 7.4 MiB\n",
      "25/08/10 16:10:53 WARN DAGScheduler: Broadcasting large task binary with size 7.4 MiB\n",
      "25/08/10 16:10:54 WARN DAGScheduler: Broadcasting large task binary with size 7.4 MiB\n",
      "25/08/10 16:10:56 WARN DAGScheduler: Broadcasting large task binary with size 7.4 MiB\n",
      "25/08/10 16:10:58 WARN DAGScheduler: Broadcasting large task binary with size 7.4 MiB\n",
      "25/08/10 16:10:59 WARN DAGScheduler: Broadcasting large task binary with size 7.4 MiB\n",
      "25/08/10 16:11:01 WARN DAGScheduler: Broadcasting large task binary with size 7.4 MiB\n",
      "25/08/10 16:11:03 WARN DAGScheduler: Broadcasting large task binary with size 7.4 MiB\n",
      "25/08/10 16:11:04 WARN DAGScheduler: Broadcasting large task binary with size 7.4 MiB\n",
      "25/08/10 16:11:06 WARN DAGScheduler: Broadcasting large task binary with size 7.4 MiB\n",
      "25/08/10 16:11:08 WARN DAGScheduler: Broadcasting large task binary with size 7.4 MiB\n",
      "25/08/10 16:11:09 WARN DAGScheduler: Broadcasting large task binary with size 7.4 MiB\n",
      "25/08/10 16:11:11 WARN DAGScheduler: Broadcasting large task binary with size 7.4 MiB\n",
      "25/08/10 16:11:13 WARN DAGScheduler: Broadcasting large task binary with size 7.4 MiB\n",
      "25/08/10 16:11:14 WARN DAGScheduler: Broadcasting large task binary with size 7.4 MiB\n",
      "25/08/10 16:11:16 WARN DAGScheduler: Broadcasting large task binary with size 7.4 MiB\n",
      "25/08/10 16:11:17 WARN DAGScheduler: Broadcasting large task binary with size 7.4 MiB\n",
      "25/08/10 16:11:19 WARN DAGScheduler: Broadcasting large task binary with size 7.4 MiB\n",
      "25/08/10 16:11:21 WARN DAGScheduler: Broadcasting large task binary with size 7.4 MiB\n",
      "25/08/10 16:11:22 WARN DAGScheduler: Broadcasting large task binary with size 7.4 MiB\n",
      "25/08/10 16:11:24 WARN DAGScheduler: Broadcasting large task binary with size 7.4 MiB\n",
      "25/08/10 16:11:26 WARN DAGScheduler: Broadcasting large task binary with size 7.4 MiB\n",
      "25/08/10 16:11:27 WARN DAGScheduler: Broadcasting large task binary with size 7.4 MiB\n",
      "25/08/10 16:11:29 WARN DAGScheduler: Broadcasting large task binary with size 7.4 MiB\n",
      "25/08/10 16:11:31 WARN DAGScheduler: Broadcasting large task binary with size 7.4 MiB\n",
      "25/08/10 16:11:32 WARN DAGScheduler: Broadcasting large task binary with size 7.4 MiB\n",
      "25/08/10 16:11:34 WARN DAGScheduler: Broadcasting large task binary with size 7.4 MiB\n",
      "25/08/10 16:11:36 WARN DAGScheduler: Broadcasting large task binary with size 7.4 MiB\n",
      "25/08/10 16:11:38 WARN DAGScheduler: Broadcasting large task binary with size 7.4 MiB\n",
      "25/08/10 16:11:39 WARN DAGScheduler: Broadcasting large task binary with size 7.4 MiB\n",
      "25/08/10 16:11:41 WARN DAGScheduler: Broadcasting large task binary with size 7.4 MiB\n",
      "25/08/10 16:11:43 WARN DAGScheduler: Broadcasting large task binary with size 7.4 MiB\n",
      "25/08/10 16:11:44 WARN DAGScheduler: Broadcasting large task binary with size 7.4 MiB\n",
      "25/08/10 16:11:46 WARN DAGScheduler: Broadcasting large task binary with size 7.4 MiB\n",
      "25/08/10 16:11:48 WARN DAGScheduler: Broadcasting large task binary with size 7.4 MiB\n",
      "25/08/10 16:11:49 WARN DAGScheduler: Broadcasting large task binary with size 7.4 MiB\n",
      "25/08/10 16:11:51 WARN DAGScheduler: Broadcasting large task binary with size 7.4 MiB\n",
      "25/08/10 16:11:53 WARN DAGScheduler: Broadcasting large task binary with size 7.4 MiB\n",
      "25/08/10 16:11:54 WARN DAGScheduler: Broadcasting large task binary with size 7.4 MiB\n",
      "25/08/10 16:11:56 WARN DAGScheduler: Broadcasting large task binary with size 7.4 MiB\n",
      "25/08/10 16:11:58 WARN DAGScheduler: Broadcasting large task binary with size 7.4 MiB\n",
      "25/08/10 16:11:59 WARN DAGScheduler: Broadcasting large task binary with size 7.4 MiB\n",
      "25/08/10 16:12:01 WARN DAGScheduler: Broadcasting large task binary with size 7.4 MiB\n",
      "25/08/10 16:12:03 WARN DAGScheduler: Broadcasting large task binary with size 7.4 MiB\n",
      "25/08/10 16:12:04 WARN DAGScheduler: Broadcasting large task binary with size 7.4 MiB\n",
      "25/08/10 16:12:06 WARN DAGScheduler: Broadcasting large task binary with size 7.4 MiB\n",
      "25/08/10 16:12:08 WARN DAGScheduler: Broadcasting large task binary with size 7.4 MiB\n",
      "25/08/10 16:12:09 WARN DAGScheduler: Broadcasting large task binary with size 7.4 MiB\n",
      "25/08/10 16:12:11 WARN DAGScheduler: Broadcasting large task binary with size 7.4 MiB\n",
      "25/08/10 16:12:13 WARN DAGScheduler: Broadcasting large task binary with size 7.4 MiB\n",
      "25/08/10 16:12:14 WARN DAGScheduler: Broadcasting large task binary with size 7.4 MiB\n",
      "25/08/10 16:12:16 WARN DAGScheduler: Broadcasting large task binary with size 7.4 MiB\n",
      "25/08/10 16:12:18 WARN DAGScheduler: Broadcasting large task binary with size 7.4 MiB\n",
      "25/08/10 16:12:20 WARN DAGScheduler: Broadcasting large task binary with size 7.4 MiB\n",
      "25/08/10 16:12:21 WARN DAGScheduler: Broadcasting large task binary with size 7.4 MiB\n",
      "25/08/10 16:12:23 WARN DAGScheduler: Broadcasting large task binary with size 7.4 MiB\n",
      "25/08/10 16:12:24 WARN DAGScheduler: Broadcasting large task binary with size 7.4 MiB\n",
      "25/08/10 16:12:26 WARN DAGScheduler: Broadcasting large task binary with size 7.4 MiB\n",
      "25/08/10 16:12:28 WARN DAGScheduler: Broadcasting large task binary with size 7.4 MiB\n",
      "25/08/10 16:12:30 WARN DAGScheduler: Broadcasting large task binary with size 7.4 MiB\n",
      "25/08/10 16:12:31 WARN DAGScheduler: Broadcasting large task binary with size 7.4 MiB\n",
      "25/08/10 16:12:33 WARN DAGScheduler: Broadcasting large task binary with size 7.4 MiB\n",
      "25/08/10 16:12:34 WARN DAGScheduler: Broadcasting large task binary with size 7.4 MiB\n",
      "25/08/10 16:12:36 WARN DAGScheduler: Broadcasting large task binary with size 7.4 MiB\n",
      "25/08/10 16:12:38 WARN DAGScheduler: Broadcasting large task binary with size 7.4 MiB\n",
      "25/08/10 16:12:39 WARN DAGScheduler: Broadcasting large task binary with size 7.4 MiB\n",
      "25/08/10 16:12:41 WARN DAGScheduler: Broadcasting large task binary with size 7.4 MiB\n",
      "25/08/10 16:12:43 WARN DAGScheduler: Broadcasting large task binary with size 7.4 MiB\n",
      "25/08/10 16:12:44 WARN DAGScheduler: Broadcasting large task binary with size 7.4 MiB\n",
      "25/08/10 16:12:46 WARN DAGScheduler: Broadcasting large task binary with size 7.4 MiB\n",
      "25/08/10 16:12:48 WARN DAGScheduler: Broadcasting large task binary with size 7.4 MiB\n",
      "25/08/10 16:12:49 WARN DAGScheduler: Broadcasting large task binary with size 7.4 MiB\n",
      "25/08/10 16:12:51 WARN DAGScheduler: Broadcasting large task binary with size 7.4 MiB\n",
      "25/08/10 16:12:53 WARN DAGScheduler: Broadcasting large task binary with size 7.4 MiB\n",
      "25/08/10 16:12:54 WARN DAGScheduler: Broadcasting large task binary with size 7.4 MiB\n",
      "25/08/10 16:12:56 WARN DAGScheduler: Broadcasting large task binary with size 7.4 MiB\n",
      "25/08/10 16:12:58 WARN DAGScheduler: Broadcasting large task binary with size 7.4 MiB\n",
      "25/08/10 16:12:59 WARN DAGScheduler: Broadcasting large task binary with size 7.4 MiB\n",
      "25/08/10 16:13:01 WARN DAGScheduler: Broadcasting large task binary with size 7.4 MiB\n",
      "25/08/10 16:13:02 WARN DAGScheduler: Broadcasting large task binary with size 7.4 MiB\n",
      "25/08/10 16:13:04 WARN DAGScheduler: Broadcasting large task binary with size 7.4 MiB\n",
      "25/08/10 16:13:06 WARN DAGScheduler: Broadcasting large task binary with size 7.4 MiB\n",
      "25/08/10 16:13:08 WARN DAGScheduler: Broadcasting large task binary with size 7.4 MiB\n",
      "25/08/10 16:13:09 WARN DAGScheduler: Broadcasting large task binary with size 7.4 MiB\n",
      "25/08/10 16:13:11 WARN DAGScheduler: Broadcasting large task binary with size 7.4 MiB\n",
      "25/08/10 16:13:13 WARN DAGScheduler: Broadcasting large task binary with size 7.4 MiB\n",
      "25/08/10 16:13:14 WARN DAGScheduler: Broadcasting large task binary with size 7.4 MiB\n",
      "25/08/10 16:13:16 WARN DAGScheduler: Broadcasting large task binary with size 7.4 MiB\n",
      "25/08/10 16:13:17 WARN DAGScheduler: Broadcasting large task binary with size 7.4 MiB\n",
      "25/08/10 16:13:19 WARN DAGScheduler: Broadcasting large task binary with size 7.4 MiB\n",
      "25/08/10 16:13:21 WARN DAGScheduler: Broadcasting large task binary with size 7.4 MiB\n",
      "25/08/10 16:13:22 WARN DAGScheduler: Broadcasting large task binary with size 7.4 MiB\n",
      "25/08/10 16:13:24 WARN DAGScheduler: Broadcasting large task binary with size 7.4 MiB\n",
      "25/08/10 16:13:26 WARN DAGScheduler: Broadcasting large task binary with size 7.4 MiB\n",
      "25/08/10 16:13:27 WARN DAGScheduler: Broadcasting large task binary with size 7.4 MiB\n",
      "25/08/10 16:13:29 WARN DAGScheduler: Broadcasting large task binary with size 7.4 MiB\n",
      "25/08/10 16:13:31 WARN DAGScheduler: Broadcasting large task binary with size 7.4 MiB\n",
      "25/08/10 16:13:32 WARN DAGScheduler: Broadcasting large task binary with size 7.4 MiB\n",
      "25/08/10 16:13:34 WARN DAGScheduler: Broadcasting large task binary with size 7.4 MiB\n",
      "25/08/10 16:13:36 WARN DAGScheduler: Broadcasting large task binary with size 7.4 MiB\n",
      "25/08/10 16:13:37 WARN DAGScheduler: Broadcasting large task binary with size 7.4 MiB\n",
      "25/08/10 16:13:39 WARN DAGScheduler: Broadcasting large task binary with size 7.4 MiB\n",
      "25/08/10 16:13:41 WARN DAGScheduler: Broadcasting large task binary with size 7.4 MiB\n",
      "25/08/10 16:13:43 WARN DAGScheduler: Broadcasting large task binary with size 7.4 MiB\n",
      "25/08/10 16:13:44 WARN DAGScheduler: Broadcasting large task binary with size 7.4 MiB\n",
      "25/08/10 16:13:46 WARN DAGScheduler: Broadcasting large task binary with size 7.4 MiB\n",
      "25/08/10 16:13:48 WARN DAGScheduler: Broadcasting large task binary with size 7.4 MiB\n",
      "25/08/10 16:13:49 WARN DAGScheduler: Broadcasting large task binary with size 7.4 MiB\n",
      "25/08/10 16:13:51 WARN DAGScheduler: Broadcasting large task binary with size 7.4 MiB\n",
      "25/08/10 16:13:52 WARN DAGScheduler: Broadcasting large task binary with size 7.4 MiB\n",
      "25/08/10 16:13:54 WARN DAGScheduler: Broadcasting large task binary with size 7.4 MiB\n",
      "25/08/10 16:13:56 WARN DAGScheduler: Broadcasting large task binary with size 7.4 MiB\n",
      "25/08/10 16:13:57 WARN DAGScheduler: Broadcasting large task binary with size 7.4 MiB\n",
      "25/08/10 16:13:59 WARN DAGScheduler: Broadcasting large task binary with size 7.4 MiB\n",
      "25/08/10 16:14:01 WARN DAGScheduler: Broadcasting large task binary with size 7.4 MiB\n",
      "25/08/10 16:14:02 WARN DAGScheduler: Broadcasting large task binary with size 7.4 MiB\n",
      "25/08/10 16:14:04 WARN DAGScheduler: Broadcasting large task binary with size 7.4 MiB\n",
      "25/08/10 16:14:06 WARN DAGScheduler: Broadcasting large task binary with size 7.4 MiB\n",
      "25/08/10 16:14:07 WARN DAGScheduler: Broadcasting large task binary with size 7.4 MiB\n",
      "25/08/10 16:14:09 WARN DAGScheduler: Broadcasting large task binary with size 7.4 MiB\n",
      "25/08/10 16:14:11 WARN DAGScheduler: Broadcasting large task binary with size 7.4 MiB\n",
      "25/08/10 16:14:12 WARN DAGScheduler: Broadcasting large task binary with size 7.4 MiB\n",
      "25/08/10 16:14:14 WARN DAGScheduler: Broadcasting large task binary with size 7.4 MiB\n",
      "25/08/10 16:14:16 WARN DAGScheduler: Broadcasting large task binary with size 7.4 MiB\n",
      "25/08/10 16:14:17 WARN DAGScheduler: Broadcasting large task binary with size 7.4 MiB\n",
      "25/08/10 16:14:19 WARN DAGScheduler: Broadcasting large task binary with size 7.4 MiB\n",
      "25/08/10 16:14:21 WARN DAGScheduler: Broadcasting large task binary with size 7.4 MiB\n",
      "25/08/10 16:14:22 WARN DAGScheduler: Broadcasting large task binary with size 7.4 MiB\n",
      "25/08/10 16:14:24 WARN DAGScheduler: Broadcasting large task binary with size 7.4 MiB\n",
      "25/08/10 16:14:25 WARN DAGScheduler: Broadcasting large task binary with size 7.4 MiB\n",
      "25/08/10 16:14:27 WARN DAGScheduler: Broadcasting large task binary with size 7.4 MiB\n",
      "25/08/10 16:14:29 WARN DAGScheduler: Broadcasting large task binary with size 7.4 MiB\n",
      "25/08/10 16:14:31 WARN DAGScheduler: Broadcasting large task binary with size 7.4 MiB\n",
      "25/08/10 16:14:32 WARN DAGScheduler: Broadcasting large task binary with size 7.4 MiB\n",
      "25/08/10 16:14:34 WARN DAGScheduler: Broadcasting large task binary with size 7.4 MiB\n",
      "25/08/10 16:14:35 WARN DAGScheduler: Broadcasting large task binary with size 7.4 MiB\n",
      "25/08/10 16:14:37 WARN DAGScheduler: Broadcasting large task binary with size 7.4 MiB\n",
      "25/08/10 16:14:39 WARN DAGScheduler: Broadcasting large task binary with size 7.4 MiB\n",
      "25/08/10 16:14:40 WARN DAGScheduler: Broadcasting large task binary with size 7.4 MiB\n",
      "25/08/10 16:14:42 WARN DAGScheduler: Broadcasting large task binary with size 7.4 MiB\n",
      "25/08/10 16:14:44 WARN DAGScheduler: Broadcasting large task binary with size 7.4 MiB\n",
      "25/08/10 16:14:45 WARN DAGScheduler: Broadcasting large task binary with size 7.4 MiB\n",
      "25/08/10 16:14:47 WARN DAGScheduler: Broadcasting large task binary with size 7.4 MiB\n",
      "25/08/10 16:14:49 WARN DAGScheduler: Broadcasting large task binary with size 7.4 MiB\n",
      "25/08/10 16:14:50 WARN DAGScheduler: Broadcasting large task binary with size 7.4 MiB\n",
      "25/08/10 16:14:52 WARN DAGScheduler: Broadcasting large task binary with size 7.4 MiB\n",
      "25/08/10 16:14:53 WARN DAGScheduler: Broadcasting large task binary with size 7.4 MiB\n",
      "25/08/10 16:14:55 WARN DAGScheduler: Broadcasting large task binary with size 7.4 MiB\n",
      "25/08/10 16:14:57 WARN DAGScheduler: Broadcasting large task binary with size 7.4 MiB\n",
      "25/08/10 16:14:58 WARN DAGScheduler: Broadcasting large task binary with size 7.4 MiB\n",
      "25/08/10 16:15:00 WARN DAGScheduler: Broadcasting large task binary with size 7.4 MiB\n",
      "25/08/10 16:15:02 WARN DAGScheduler: Broadcasting large task binary with size 7.4 MiB\n",
      "25/08/10 16:15:03 WARN DAGScheduler: Broadcasting large task binary with size 7.4 MiB\n",
      "25/08/10 16:15:05 WARN DAGScheduler: Broadcasting large task binary with size 7.4 MiB\n",
      "25/08/10 16:15:07 WARN DAGScheduler: Broadcasting large task binary with size 7.4 MiB\n",
      "25/08/10 16:15:08 WARN DAGScheduler: Broadcasting large task binary with size 7.4 MiB\n",
      "25/08/10 16:15:10 WARN DAGScheduler: Broadcasting large task binary with size 7.4 MiB\n",
      "25/08/10 16:15:12 WARN DAGScheduler: Broadcasting large task binary with size 7.4 MiB\n",
      "[Stage 2311:>                                                       (0 + 1) / 1]\r"
     ]
    },
    {
     "name": "stdout",
     "output_type": "stream",
     "text": [
      "Melhor threshold por F1: 0.436\n"
     ]
    },
    {
     "name": "stderr",
     "output_type": "stream",
     "text": [
      "                                                                                \r"
     ]
    }
   ],
   "source": [
    "pred_probs = preds_base.select('y_proba_class1', 'target')\n",
    "dataset_best_tresh = optimize_threshold(pred_probs)\n",
    "\n",
    "print(f\"Melhor threshold por F1: {dataset_best_tresh:.3f}\")"
   ]
  },
  {
   "cell_type": "code",
   "execution_count": 28,
   "id": "d994d1d8-e89d-4af6-b7a1-658478518eed",
   "metadata": {},
   "outputs": [
    {
     "name": "stderr",
     "output_type": "stream",
     "text": [
      "25/08/10 16:15:13 WARN DAGScheduler: Broadcasting large task binary with size 7.4 MiB\n",
      "25/08/10 16:15:15 WARN DAGScheduler: Broadcasting large task binary with size 7.4 MiB\n",
      "25/08/10 16:15:17 WARN DAGScheduler: Broadcasting large task binary with size 7.4 MiB\n",
      "25/08/10 16:15:18 WARN DAGScheduler: Broadcasting large task binary with size 7.4 MiB\n",
      "[Stage 2323:>                                                       (0 + 1) / 1]\r"
     ]
    },
    {
     "name": "stdout",
     "output_type": "stream",
     "text": [
      "28855 5437 2139 26857\n",
      "precision: 0.83164\n",
      "recall: 0.92623\n",
      "f1: 0.87639\n"
     ]
    },
    {
     "name": "stderr",
     "output_type": "stream",
     "text": [
      "                                                                                \r"
     ]
    }
   ],
   "source": [
    "pred_probs = preds_base.select('y_proba_class1', 'target')\n",
    "precision, recall, f1, TP, FP, TN, FN = metrics_at(pred_probs, dataset_best_tresh)\n",
    "\n",
    "print(TN, FP, FN, TP)\n",
    "print(f\"precision: {precision:.5f}\")\n",
    "print(f\"recall: {recall:.5f}\")\n",
    "print(f\"f1: {f1:.5f}\")"
   ]
  },
  {
   "cell_type": "code",
   "execution_count": 31,
   "id": "468fc2cf-733e-4b56-8439-9fa8012bafe1",
   "metadata": {
    "scrolled": true
   },
   "outputs": [
    {
     "data": {
      "text/plain": [
       "(63288, 63288)"
      ]
     },
     "execution_count": 31,
     "metadata": {},
     "output_type": "execute_result"
    }
   ],
   "source": [
    "preds_base.count(), df_features.count()"
   ]
  },
  {
   "cell_type": "code",
   "execution_count": 32,
   "id": "7f5db681-89b4-46f3-b0dc-ca46823557ff",
   "metadata": {},
   "outputs": [
    {
     "name": "stdout",
     "output_type": "stream",
     "text": [
      "+--------------------+--------------------+----------------+------------------+----------------+----------+-------------------------+-------------------------+--------+--------+--------+--------+---------------+-----------------+---------------+---------------+--------------------+--------------+---------------+------------+----------+------+--------------------+--------------------+--------------------+----------+--------------------+-------------------+------------------+\n",
      "|           client_id|            offer_id|offer_type_index|qtd_offer_received|qtd_offer_viewed|sum_reward|registered_duration_month|registered_duration_years|gender_M|gender_F|gender_O|gender_U|age_group_index|credit_card_limit|category_limite|offer_min_value|offer_discount_value|offer_duration|qtd_transaction|total_amount|avg_amount|target|            features|       rawPrediction|         probability|prediction|            prob_vec|     y_proba_class0|    y_proba_class1|\n",
      "+--------------------+--------------------+----------------+------------------+----------------+----------+-------------------------+-------------------------+--------+--------+--------+--------+---------------+-----------------+---------------+---------------+--------------------+--------------+---------------+------------+----------+------+--------------------+--------------------+--------------------+----------+--------------------+-------------------+------------------+\n",
      "|0009655768c64bdeb...|2906b810c7d441179...|               0|                 1|               0|       2.0|                       99|                        8|       1|       0|       0|       0|              2|            72000|              3|             10|                   2|           7.0|              8|       127.6|     15.95|     1|[0.0,10.0,2.0,7.0...|[15.4687115066128...|[0.07734355753306...|       1.0|[0.07734355753306...|0.07734355753306414|0.9226564424669358|\n",
      "|0009655768c64bdeb...|3f207df678b143eea...|               1|                 1|               1|       0.0|                       99|                        8|       1|       0|       0|       0|              2|            72000|              3|              0|                   0|           4.0|              8|       127.6|     15.95|     0|[1.0,0.0,0.0,4.0,...|         [200.0,0.0]|           [1.0,0.0]|       0.0|          [1.0, 0.0]|                1.0|               0.0|\n",
      "|0009655768c64bdeb...|5a8bc65990b245e5a...|               1|                 1|               1|       0.0|                       99|                        8|       1|       0|       0|       0|              2|            72000|              3|              0|                   0|           3.0|              8|       127.6|     15.95|     0|[1.0,0.0,0.0,3.0,...|         [200.0,0.0]|           [1.0,0.0]|       0.0|          [1.0, 0.0]|                1.0|               0.0|\n",
      "|0009655768c64bdeb...|f19421c1d4aa40978...|               2|                 1|               1|       5.0|                       99|                        8|       1|       0|       0|       0|              2|            72000|              3|              5|                   5|           5.0|              8|       127.6|     15.95|     1|[2.0,5.0,5.0,5.0,...|[20.0006598544183...|[0.10000329927209...|       1.0|[0.10000329927209...|0.10000329927209153|0.8999967007279085|\n",
      "|0009655768c64bdeb...|fafdcd668e3743c1b...|               0|                 1|               1|       2.0|                       99|                        8|       1|       0|       0|       0|              2|            72000|              3|             10|                   2|          10.0|              8|       127.6|     15.95|     1|[0.0,10.0,2.0,10....|[12.8100351775834...|[0.06405017588791...|       1.0|[0.06405017588791...| 0.0640501758879172|0.9359498241120827|\n",
      "+--------------------+--------------------+----------------+------------------+----------------+----------+-------------------------+-------------------------+--------+--------+--------+--------+---------------+-----------------+---------------+---------------+--------------------+--------------+---------------+------------+----------+------+--------------------+--------------------+--------------------+----------+--------------------+-------------------+------------------+\n",
      "only showing top 5 rows\n"
     ]
    },
    {
     "name": "stderr",
     "output_type": "stream",
     "text": [
      "25/08/10 16:37:56 WARN DAGScheduler: Broadcasting large task binary with size 7.4 MiB\n"
     ]
    }
   ],
   "source": [
    "preds_base.show(5)"
   ]
  },
  {
   "cell_type": "code",
   "execution_count": 31,
   "id": "fba8db5c-7599-4e12-8e1d-6b4e1cfa58c5",
   "metadata": {},
   "outputs": [],
   "source": [
    "preds_base.write.format(\"parquet\").mode(\"overwrite\").save('../data/trusted/rf_output_model')"
   ]
  },
  {
   "cell_type": "markdown",
   "id": "7b44ab15-7cbb-4bc7-8ae1-de06ff794202",
   "metadata": {},
   "source": [
    "## Create KMeansModel"
   ]
  },
  {
   "cell_type": "code",
   "execution_count": 33,
   "id": "70a072ad-6e19-4c2c-8df7-16fc35b52d3f",
   "metadata": {},
   "outputs": [],
   "source": [
    "from pyspark.ml.feature import VectorAssembler, StandardScaler\n",
    "from pyspark.ml.clustering import KMeans"
   ]
  },
  {
   "cell_type": "code",
   "execution_count": 34,
   "id": "b84a6dfe-ea53-44c6-bbee-29c21d4b961e",
   "metadata": {},
   "outputs": [],
   "source": [
    "features = ['registered_duration_month', 'registered_duration_years', 'gender_M', 'gender_F', 'gender_O','gender_U', 'age_group_index', \n",
    "            'credit_card_limit', 'category_limite', 'qtd_transaction', 'total_amount', 'avg_amount']"
   ]
  },
  {
   "cell_type": "code",
   "execution_count": 35,
   "id": "0fc2f3e7-3621-4c26-b9f1-6c10ec277c65",
   "metadata": {},
   "outputs": [
    {
     "data": {
      "application/vnd.plotly.v1+json": {
       "config": {
        "plotlyServerURL": "https://plot.ly"
       },
       "data": [
        {
         "coloraxis": "coloraxis",
         "hovertemplate": "x: %{x}<br>y: %{y}<br>color: %{z}<extra></extra>",
         "name": "0",
         "texttemplate": "%{z:.2f}",
         "type": "heatmap",
         "x": [
          "registered_duration_month",
          "registered_duration_years",
          "gender_M",
          "gender_F",
          "gender_O",
          "gender_U",
          "age_group_index",
          "credit_card_limit",
          "category_limite",
          "qtd_transaction",
          "total_amount",
          "avg_amount",
          "target"
         ],
         "xaxis": "x",
         "y": [
          "registered_duration_month",
          "registered_duration_years",
          "gender_M",
          "gender_F",
          "gender_O",
          "gender_U",
          "age_group_index",
          "credit_card_limit",
          "category_limite",
          "qtd_transaction",
          "total_amount",
          "avg_amount",
          "target"
         ],
         "yaxis": "y",
         "z": {
          "_inputArray": [
           {
            "0": 1,
            "1": 0.966779682519843,
            "10": 0.16948900833049726,
            "11": 0.044474558970135226,
            "12": 0.159058424959805,
            "2": 0.02974395594162091,
            "3": -0.008604180047203959,
            "4": -0.01087461714525014,
            "5": -0.0286365863920124,
            "6": 0.0006663857766219865,
            "7": 0.015866017253955315,
            "8": 0.018573516903354584,
            "9": 0.4326717250700591
           },
           {
            "0": 0.966779682519843,
            "1": 1,
            "10": 0.16525275480460186,
            "11": 0.04267084964454378,
            "12": 0.15431171777314837,
            "2": 0.03285125358088514,
            "3": -0.009869855784223778,
            "4": -0.01075798018558227,
            "5": -0.03151164535646995,
            "6": -0.001278167219506217,
            "7": 0.016283089903754967,
            "8": 0.019588765226777577,
            "9": 0.4274465763845559
           },
           {
            "0": 0.02974395594162091,
            "1": 0.03285125358088514,
            "10": -0.040098228754508344,
            "11": -0.0621364586447272,
            "12": -0.015504903961739586,
            "2": 1,
            "3": -0.7506492838853922,
            "4": -0.11091004535363859,
            "5": -0.38219655435460104,
            "6": -0.14678187868272777,
            "7": -0.23867288362486597,
            "8": -0.2304865938642565,
            "9": 0.07511287714441936
           },
           {
            "0": -0.008604180047203959,
            "1": -0.009869855784223778,
            "10": 0.21895985192032497,
            "11": 0.24207008143658684,
            "12": 0.18556232544714893,
            "2": -0.7506492838853922,
            "3": 1,
            "4": -0.08324928433837894,
            "5": -0.2868774377033509,
            "6": 0.09973852331826806,
            "7": 0.15407985182097758,
            "8": 0.15419388742632667,
            "9": -0.015425391526468395
           },
           {
            "0": -0.01087461714525014,
            "1": -0.01075798018558227,
            "10": 0.01891074454202493,
            "11": 0.009577117223780053,
            "12": 0.02219434667545779,
            "2": -0.11091004535363859,
            "3": -0.08324928433837894,
            "4": 1,
            "5": -0.04238675811682117,
            "6": 0.0003953555470858031,
            "7": -0.01839475118212138,
            "8": -0.01326954311986073,
            "9": 0.006749439094377922
           },
           {
            "0": -0.0286365863920124,
            "1": -0.03151164535646995,
            "10": -0.2613324999638474,
            "11": -0.25849510712028223,
            "12": -0.2512023974755115,
            "2": -0.38219655435460104,
            "3": -0.2868774377033509,
            "4": -0.04238675811682117,
            "5": 1,
            "6": 0.07635337193490072,
            "7": 0.14206798631271936,
            "8": 0.12794578399325457,
            "9": -0.09263047773694719
           },
           {
            "0": 0.0006663857766219865,
            "1": -0.001278167219506217,
            "10": 0.0656479113230071,
            "11": 0.14341003959044693,
            "12": 0.04565565433988815,
            "2": -0.14678187868272777,
            "3": 0.09973852331826806,
            "4": 0.0003953555470858031,
            "5": 0.07635337193490072,
            "6": 1,
            "7": 0.25647238834753094,
            "8": 0.253267015521616,
            "9": -0.1457357940283283
           },
           {
            "0": 0.015866017253955315,
            "1": 0.016283089903754967,
            "10": 0.2361935986423838,
            "11": 0.37942864669051757,
            "12": 0.11954374650501821,
            "2": -0.23867288362486597,
            "3": 0.15407985182097758,
            "4": -0.01839475118212138,
            "5": 0.14206798631271936,
            "6": 0.25647238834753094,
            "7": 1,
            "8": 0.9684747379712444,
            "9": -0.23937975754134957
           },
           {
            "0": 0.018573516903354584,
            "1": 0.019588765226777577,
            "10": 0.23693216839223963,
            "11": 0.37741529862628154,
            "12": 0.12398452528672527,
            "2": -0.2304865938642565,
            "3": 0.15419388742632667,
            "4": -0.01326954311986073,
            "5": 0.12794578399325457,
            "6": 0.253267015521616,
            "7": 0.9684747379712444,
            "8": 1,
            "9": -0.23540137543310954
           },
           {
            "0": 0.4326717250700591,
            "1": 0.4274465763845559,
            "10": 0.3507623148250343,
            "11": -0.05801178872976411,
            "12": 0.25831636166930977,
            "2": 0.07511287714441936,
            "3": -0.015425391526468395,
            "4": 0.006749439094377922,
            "5": -0.09263047773694719,
            "6": -0.1457357940283283,
            "7": -0.23937975754134957,
            "8": -0.23540137543310954,
            "9": 1
           },
           {
            "0": 0.16948900833049726,
            "1": 0.16525275480460186,
            "10": 1,
            "11": 0.7778496404789398,
            "12": 0.3763791675056898,
            "2": -0.040098228754508344,
            "3": 0.21895985192032497,
            "4": 0.01891074454202493,
            "5": -0.2613324999638474,
            "6": 0.0656479113230071,
            "7": 0.2361935986423838,
            "8": 0.23693216839223963,
            "9": 0.3507623148250343
           },
           {
            "0": 0.044474558970135226,
            "1": 0.04267084964454378,
            "10": 0.7778496404789398,
            "11": 1,
            "12": 0.27754945094677475,
            "2": -0.0621364586447272,
            "3": 0.24207008143658684,
            "4": 0.009577117223780053,
            "5": -0.25849510712028223,
            "6": 0.14341003959044693,
            "7": 0.37942864669051757,
            "8": 0.37741529862628154,
            "9": -0.05801178872976411
           },
           {
            "0": 0.159058424959805,
            "1": 0.15431171777314837,
            "10": 0.3763791675056898,
            "11": 0.27754945094677475,
            "12": 1,
            "2": -0.015504903961739586,
            "3": 0.18556232544714893,
            "4": 0.02219434667545779,
            "5": -0.2512023974755115,
            "6": 0.04565565433988815,
            "7": 0.11954374650501821,
            "8": 0.12398452528672527,
            "9": 0.25831636166930977
           }
          ],
          "bdata": "AAAAAAAA8D8Hhdvx2+/uPxh6FxgzdZ4/NAhLfxGfgb+rhPZnbkWGv4RRF8joUp2/N379jgzWRT/B3+RkLj+QP9S6r57vBJM/jxtFv+Sw2z9zzefZ0LHFPwW/j5BexaY/XoWtxgZcxD8Hhdvx2+/uPwAAAAAAAPA/AGeGJ+HRoD9fz3mepTaEv79zi6hHCIa/qZV/XEsioL+HtQWaBfFUv8ozdaqDrJA/6HYSyBMPlD8h95biSFvbP4fWupQAJ8U/u4NuH/TYpT8h1ZyCfMDDPxh6FxgzdZ4/AGeGJ+HRoD8AAAAAAADwP+y2oaVRBei/OX2XyZlkvL+TM2aJ6HXYv5E7S6S/ycK/IS/OQtWMzr8DHmivlYDNv87/1/aYOrM/lptBSsGHpL91ZomTWdCvv93ci/sIwY+/NAhLfxGfgb9fz3mepTaEv+y2oaVRBei/AAAAAAAA8D/+E6Y500+1v9daOS8zXNK/uaTNv3aIuT9/lUV647jDP2id3hOgvMM/icsSAVmXj78UQZFd4AbMP/EajgUn/M4/tSWVm4HAxz+rhPZnbkWGv79zi6hHCIa/OX2XyZlkvL/+E6Y500+1vwAAAAAAAPA/5VjKl7ezpb+0ZyAl9+g5P7Yn+9oS1pK/wn7c7Q8ti79EwNPCTKV7P4duZ5VWXZM/tPUg6iqdgz/UOoJkHbqWP4RRF8joUp2/qZV/XEsioL+TM2aJ6HXYv9daOS8zXNK/5VjKl7ezpb8AAAAAAADwPzxUZgPli7M/PceCpUgvwj/6v/QGh2DAPyY4foihtre/XYEu86u50L/+fNAPL4vQvyNidTizE9C/N379jgzWRT+HtQWaBfFUv5E7S6S/ycK/uaTNv3aIuT+0ZyAl9+g5PzxUZgPli7M/AAAAAAAA8D/m5REqC2rQPw6JNNuGNdA/Vqiacninwr+i2i4wTc6wP6fB+ppCW8I/jtuIjC1gpz/B3+RkLj+QP8ozdaqDrJA/IS/OQtWMzr9/lUV647jDP7Yn+9oS1pK/PceCpUgvwj/m5REqC2rQPwAAAAAAAPA/VtbSu7797j/tdPvy/qPOv4HH2IKXO84/SuIsF49I2D+RLK5Ba5q+P9S6r57vBJM/6HYSyBMPlD8DHmivlYDNv2id3hOgvMM/wn7c7Q8ti7/6v/QGh2DAPw6JNNuGNdA/VtbSu7797j8AAAAAAADwP3OVddyhIc6/cLlOFctTzj94CSd/kifYP7wKUSlzvb8/jxtFv+Sw2z8h95biSFvbP87/1/aYOrM/icsSAVmXj79EwNPCTKV7PyY4foihtre/Vqiacninwr/tdPvy/qPOv3OVddyhIc6/AAAAAAAA8D8U8LXH43LWP7PrwJ64s62/lwxZWUGI0D9zzefZ0LHFP4fWupQAJ8U/lptBSsGHpL8UQZFd4AbMP4duZ5VWXZM/XYEu86u50L+i2i4wTc6wP4HH2IKXO84/cLlOFctTzj8U8LXH43LWPwAAAAAAAPA/N//h7STk6D8IStWlmBbYPwW/j5BexaY/u4NuH/TYpT91ZomTWdCvv/EajgUn/M4/tPUg6iqdgz/+fNAPL4vQv6fB+ppCW8I/SuIsF49I2D94CSd/kifYP7PrwJ64s62/N//h7STk6D8AAAAAAADwP7K0tcVew9E/XoWtxgZcxD8h1ZyCfMDDP93ci/sIwY+/tSWVm4HAxz/UOoJkHbqWPyNidTizE9C/jtuIjC1gpz+RLK5Ba5q+P7wKUSlzvb8/lwxZWUGI0D8IStWlmBbYP7K0tcVew9E/AAAAAAAA8D8=",
          "dtype": "f8",
          "shape": "13, 13"
         }
        }
       ],
       "layout": {
        "coloraxis": {
         "colorbar": {
          "title": {
           "text": "Correlação"
          }
         },
         "colorscale": [
          [
           0,
           "rgb(103,0,31)"
          ],
          [
           0.1,
           "rgb(178,24,43)"
          ],
          [
           0.2,
           "rgb(214,96,77)"
          ],
          [
           0.3,
           "rgb(244,165,130)"
          ],
          [
           0.4,
           "rgb(253,219,199)"
          ],
          [
           0.5,
           "rgb(247,247,247)"
          ],
          [
           0.6,
           "rgb(209,229,240)"
          ],
          [
           0.7,
           "rgb(146,197,222)"
          ],
          [
           0.8,
           "rgb(67,147,195)"
          ],
          [
           0.9,
           "rgb(33,102,172)"
          ],
          [
           1,
           "rgb(5,48,97)"
          ]
         ]
        },
        "height": 1000,
        "template": {
         "data": {
          "bar": [
           {
            "error_x": {
             "color": "#2a3f5f"
            },
            "error_y": {
             "color": "#2a3f5f"
            },
            "marker": {
             "line": {
              "color": "#E5ECF6",
              "width": 0.5
             },
             "pattern": {
              "fillmode": "overlay",
              "size": 10,
              "solidity": 0.2
             }
            },
            "type": "bar"
           }
          ],
          "barpolar": [
           {
            "marker": {
             "line": {
              "color": "#E5ECF6",
              "width": 0.5
             },
             "pattern": {
              "fillmode": "overlay",
              "size": 10,
              "solidity": 0.2
             }
            },
            "type": "barpolar"
           }
          ],
          "carpet": [
           {
            "aaxis": {
             "endlinecolor": "#2a3f5f",
             "gridcolor": "white",
             "linecolor": "white",
             "minorgridcolor": "white",
             "startlinecolor": "#2a3f5f"
            },
            "baxis": {
             "endlinecolor": "#2a3f5f",
             "gridcolor": "white",
             "linecolor": "white",
             "minorgridcolor": "white",
             "startlinecolor": "#2a3f5f"
            },
            "type": "carpet"
           }
          ],
          "choropleth": [
           {
            "colorbar": {
             "outlinewidth": 0,
             "ticks": ""
            },
            "type": "choropleth"
           }
          ],
          "contour": [
           {
            "colorbar": {
             "outlinewidth": 0,
             "ticks": ""
            },
            "colorscale": [
             [
              0,
              "#0d0887"
             ],
             [
              0.1111111111111111,
              "#46039f"
             ],
             [
              0.2222222222222222,
              "#7201a8"
             ],
             [
              0.3333333333333333,
              "#9c179e"
             ],
             [
              0.4444444444444444,
              "#bd3786"
             ],
             [
              0.5555555555555556,
              "#d8576b"
             ],
             [
              0.6666666666666666,
              "#ed7953"
             ],
             [
              0.7777777777777778,
              "#fb9f3a"
             ],
             [
              0.8888888888888888,
              "#fdca26"
             ],
             [
              1,
              "#f0f921"
             ]
            ],
            "type": "contour"
           }
          ],
          "contourcarpet": [
           {
            "colorbar": {
             "outlinewidth": 0,
             "ticks": ""
            },
            "type": "contourcarpet"
           }
          ],
          "heatmap": [
           {
            "colorbar": {
             "outlinewidth": 0,
             "ticks": ""
            },
            "colorscale": [
             [
              0,
              "#0d0887"
             ],
             [
              0.1111111111111111,
              "#46039f"
             ],
             [
              0.2222222222222222,
              "#7201a8"
             ],
             [
              0.3333333333333333,
              "#9c179e"
             ],
             [
              0.4444444444444444,
              "#bd3786"
             ],
             [
              0.5555555555555556,
              "#d8576b"
             ],
             [
              0.6666666666666666,
              "#ed7953"
             ],
             [
              0.7777777777777778,
              "#fb9f3a"
             ],
             [
              0.8888888888888888,
              "#fdca26"
             ],
             [
              1,
              "#f0f921"
             ]
            ],
            "type": "heatmap"
           }
          ],
          "histogram": [
           {
            "marker": {
             "pattern": {
              "fillmode": "overlay",
              "size": 10,
              "solidity": 0.2
             }
            },
            "type": "histogram"
           }
          ],
          "histogram2d": [
           {
            "colorbar": {
             "outlinewidth": 0,
             "ticks": ""
            },
            "colorscale": [
             [
              0,
              "#0d0887"
             ],
             [
              0.1111111111111111,
              "#46039f"
             ],
             [
              0.2222222222222222,
              "#7201a8"
             ],
             [
              0.3333333333333333,
              "#9c179e"
             ],
             [
              0.4444444444444444,
              "#bd3786"
             ],
             [
              0.5555555555555556,
              "#d8576b"
             ],
             [
              0.6666666666666666,
              "#ed7953"
             ],
             [
              0.7777777777777778,
              "#fb9f3a"
             ],
             [
              0.8888888888888888,
              "#fdca26"
             ],
             [
              1,
              "#f0f921"
             ]
            ],
            "type": "histogram2d"
           }
          ],
          "histogram2dcontour": [
           {
            "colorbar": {
             "outlinewidth": 0,
             "ticks": ""
            },
            "colorscale": [
             [
              0,
              "#0d0887"
             ],
             [
              0.1111111111111111,
              "#46039f"
             ],
             [
              0.2222222222222222,
              "#7201a8"
             ],
             [
              0.3333333333333333,
              "#9c179e"
             ],
             [
              0.4444444444444444,
              "#bd3786"
             ],
             [
              0.5555555555555556,
              "#d8576b"
             ],
             [
              0.6666666666666666,
              "#ed7953"
             ],
             [
              0.7777777777777778,
              "#fb9f3a"
             ],
             [
              0.8888888888888888,
              "#fdca26"
             ],
             [
              1,
              "#f0f921"
             ]
            ],
            "type": "histogram2dcontour"
           }
          ],
          "mesh3d": [
           {
            "colorbar": {
             "outlinewidth": 0,
             "ticks": ""
            },
            "type": "mesh3d"
           }
          ],
          "parcoords": [
           {
            "line": {
             "colorbar": {
              "outlinewidth": 0,
              "ticks": ""
             }
            },
            "type": "parcoords"
           }
          ],
          "pie": [
           {
            "automargin": true,
            "type": "pie"
           }
          ],
          "scatter": [
           {
            "fillpattern": {
             "fillmode": "overlay",
             "size": 10,
             "solidity": 0.2
            },
            "type": "scatter"
           }
          ],
          "scatter3d": [
           {
            "line": {
             "colorbar": {
              "outlinewidth": 0,
              "ticks": ""
             }
            },
            "marker": {
             "colorbar": {
              "outlinewidth": 0,
              "ticks": ""
             }
            },
            "type": "scatter3d"
           }
          ],
          "scattercarpet": [
           {
            "marker": {
             "colorbar": {
              "outlinewidth": 0,
              "ticks": ""
             }
            },
            "type": "scattercarpet"
           }
          ],
          "scattergeo": [
           {
            "marker": {
             "colorbar": {
              "outlinewidth": 0,
              "ticks": ""
             }
            },
            "type": "scattergeo"
           }
          ],
          "scattergl": [
           {
            "marker": {
             "colorbar": {
              "outlinewidth": 0,
              "ticks": ""
             }
            },
            "type": "scattergl"
           }
          ],
          "scattermap": [
           {
            "marker": {
             "colorbar": {
              "outlinewidth": 0,
              "ticks": ""
             }
            },
            "type": "scattermap"
           }
          ],
          "scattermapbox": [
           {
            "marker": {
             "colorbar": {
              "outlinewidth": 0,
              "ticks": ""
             }
            },
            "type": "scattermapbox"
           }
          ],
          "scatterpolar": [
           {
            "marker": {
             "colorbar": {
              "outlinewidth": 0,
              "ticks": ""
             }
            },
            "type": "scatterpolar"
           }
          ],
          "scatterpolargl": [
           {
            "marker": {
             "colorbar": {
              "outlinewidth": 0,
              "ticks": ""
             }
            },
            "type": "scatterpolargl"
           }
          ],
          "scatterternary": [
           {
            "marker": {
             "colorbar": {
              "outlinewidth": 0,
              "ticks": ""
             }
            },
            "type": "scatterternary"
           }
          ],
          "surface": [
           {
            "colorbar": {
             "outlinewidth": 0,
             "ticks": ""
            },
            "colorscale": [
             [
              0,
              "#0d0887"
             ],
             [
              0.1111111111111111,
              "#46039f"
             ],
             [
              0.2222222222222222,
              "#7201a8"
             ],
             [
              0.3333333333333333,
              "#9c179e"
             ],
             [
              0.4444444444444444,
              "#bd3786"
             ],
             [
              0.5555555555555556,
              "#d8576b"
             ],
             [
              0.6666666666666666,
              "#ed7953"
             ],
             [
              0.7777777777777778,
              "#fb9f3a"
             ],
             [
              0.8888888888888888,
              "#fdca26"
             ],
             [
              1,
              "#f0f921"
             ]
            ],
            "type": "surface"
           }
          ],
          "table": [
           {
            "cells": {
             "fill": {
              "color": "#EBF0F8"
             },
             "line": {
              "color": "white"
             }
            },
            "header": {
             "fill": {
              "color": "#C8D4E3"
             },
             "line": {
              "color": "white"
             }
            },
            "type": "table"
           }
          ]
         },
         "layout": {
          "annotationdefaults": {
           "arrowcolor": "#2a3f5f",
           "arrowhead": 0,
           "arrowwidth": 1
          },
          "autotypenumbers": "strict",
          "coloraxis": {
           "colorbar": {
            "outlinewidth": 0,
            "ticks": ""
           }
          },
          "colorscale": {
           "diverging": [
            [
             0,
             "#8e0152"
            ],
            [
             0.1,
             "#c51b7d"
            ],
            [
             0.2,
             "#de77ae"
            ],
            [
             0.3,
             "#f1b6da"
            ],
            [
             0.4,
             "#fde0ef"
            ],
            [
             0.5,
             "#f7f7f7"
            ],
            [
             0.6,
             "#e6f5d0"
            ],
            [
             0.7,
             "#b8e186"
            ],
            [
             0.8,
             "#7fbc41"
            ],
            [
             0.9,
             "#4d9221"
            ],
            [
             1,
             "#276419"
            ]
           ],
           "sequential": [
            [
             0,
             "#0d0887"
            ],
            [
             0.1111111111111111,
             "#46039f"
            ],
            [
             0.2222222222222222,
             "#7201a8"
            ],
            [
             0.3333333333333333,
             "#9c179e"
            ],
            [
             0.4444444444444444,
             "#bd3786"
            ],
            [
             0.5555555555555556,
             "#d8576b"
            ],
            [
             0.6666666666666666,
             "#ed7953"
            ],
            [
             0.7777777777777778,
             "#fb9f3a"
            ],
            [
             0.8888888888888888,
             "#fdca26"
            ],
            [
             1,
             "#f0f921"
            ]
           ],
           "sequentialminus": [
            [
             0,
             "#0d0887"
            ],
            [
             0.1111111111111111,
             "#46039f"
            ],
            [
             0.2222222222222222,
             "#7201a8"
            ],
            [
             0.3333333333333333,
             "#9c179e"
            ],
            [
             0.4444444444444444,
             "#bd3786"
            ],
            [
             0.5555555555555556,
             "#d8576b"
            ],
            [
             0.6666666666666666,
             "#ed7953"
            ],
            [
             0.7777777777777778,
             "#fb9f3a"
            ],
            [
             0.8888888888888888,
             "#fdca26"
            ],
            [
             1,
             "#f0f921"
            ]
           ]
          },
          "colorway": [
           "#636efa",
           "#EF553B",
           "#00cc96",
           "#ab63fa",
           "#FFA15A",
           "#19d3f3",
           "#FF6692",
           "#B6E880",
           "#FF97FF",
           "#FECB52"
          ],
          "font": {
           "color": "#2a3f5f"
          },
          "geo": {
           "bgcolor": "white",
           "lakecolor": "white",
           "landcolor": "#E5ECF6",
           "showlakes": true,
           "showland": true,
           "subunitcolor": "white"
          },
          "hoverlabel": {
           "align": "left"
          },
          "hovermode": "closest",
          "mapbox": {
           "style": "light"
          },
          "paper_bgcolor": "white",
          "plot_bgcolor": "#E5ECF6",
          "polar": {
           "angularaxis": {
            "gridcolor": "white",
            "linecolor": "white",
            "ticks": ""
           },
           "bgcolor": "#E5ECF6",
           "radialaxis": {
            "gridcolor": "white",
            "linecolor": "white",
            "ticks": ""
           }
          },
          "scene": {
           "xaxis": {
            "backgroundcolor": "#E5ECF6",
            "gridcolor": "white",
            "gridwidth": 2,
            "linecolor": "white",
            "showbackground": true,
            "ticks": "",
            "zerolinecolor": "white"
           },
           "yaxis": {
            "backgroundcolor": "#E5ECF6",
            "gridcolor": "white",
            "gridwidth": 2,
            "linecolor": "white",
            "showbackground": true,
            "ticks": "",
            "zerolinecolor": "white"
           },
           "zaxis": {
            "backgroundcolor": "#E5ECF6",
            "gridcolor": "white",
            "gridwidth": 2,
            "linecolor": "white",
            "showbackground": true,
            "ticks": "",
            "zerolinecolor": "white"
           }
          },
          "shapedefaults": {
           "line": {
            "color": "#2a3f5f"
           }
          },
          "ternary": {
           "aaxis": {
            "gridcolor": "white",
            "linecolor": "white",
            "ticks": ""
           },
           "baxis": {
            "gridcolor": "white",
            "linecolor": "white",
            "ticks": ""
           },
           "bgcolor": "#E5ECF6",
           "caxis": {
            "gridcolor": "white",
            "linecolor": "white",
            "ticks": ""
           }
          },
          "title": {
           "x": 0.05
          },
          "xaxis": {
           "automargin": true,
           "gridcolor": "white",
           "linecolor": "white",
           "ticks": "",
           "title": {
            "standoff": 15
           },
           "zerolinecolor": "white",
           "zerolinewidth": 2
          },
          "yaxis": {
           "automargin": true,
           "gridcolor": "white",
           "linecolor": "white",
           "ticks": "",
           "title": {
            "standoff": 15
           },
           "zerolinecolor": "white",
           "zerolinewidth": 2
          }
         }
        },
        "title": {
         "text": "Correlação entre features e target",
         "x": 0.5,
         "xanchor": "center"
        },
        "width": 1500,
        "xaxis": {
         "anchor": "y",
         "autorange": true,
         "constrain": "domain",
         "domain": [
          0.19049459041731065,
          0.8095054095826894
         ],
         "range": [
          -0.5,
          12.5
         ],
         "scaleanchor": "y",
         "type": "category"
        },
        "yaxis": {
         "anchor": "x",
         "autorange": true,
         "constrain": "domain",
         "domain": [
          0,
          1
         ],
         "range": [
          -0.5,
          12.5
         ],
         "type": "category"
        }
       }
      },
      "image/png": "[encoded data removed]"
     },
     "metadata": {},
     "output_type": "display_data"
    }
   ],
   "source": [
    "correlation_matrix = df_features[features + ['target']].toPandas().corr()\n",
    "\n",
    "fig = px.imshow(\n",
    "    correlation_matrix,\n",
    "    text_auto=\".2f\",           \n",
    "    color_continuous_scale=\"RdBu\",  \n",
    "    origin=\"lower\",\n",
    "    title=\"Correlação entre features e target\"\n",
    ")\n",
    "\n",
    "fig.update_layout(\n",
    "    width=1500,\n",
    "    height=1000,\n",
    "    title=dict(x=0.5, xanchor=\"center\"), \n",
    "    coloraxis_colorbar=dict(title=\"Correlação\")\n",
    ")\n",
    "\n",
    "fig.show()"
   ]
  },
  {
   "cell_type": "code",
   "execution_count": 36,
   "id": "57797f97-de10-46ef-905c-b30084a1826d",
   "metadata": {},
   "outputs": [],
   "source": [
    "assembler = VectorAssembler(inputCols=features, outputCol=\"features\")\n",
    "df_features_kmeans = assembler.transform(df_features.drop('features'))"
   ]
  },
  {
   "cell_type": "code",
   "execution_count": 37,
   "id": "da535a96-e11a-478f-a697-2cbd6abed6c2",
   "metadata": {},
   "outputs": [],
   "source": [
    "scaler = StandardScaler(inputCol=\"features\", outputCol=\"features_scaled\", withStd=True, withMean=True)\n",
    "df_features_kmeans = scaler.fit(df_features_kmeans).transform(df_features_kmeans)"
   ]
  },
  {
   "cell_type": "code",
   "execution_count": 38,
   "id": "7b0d2af1-0c74-40d6-91a1-8d90d6bf4d01",
   "metadata": {},
   "outputs": [
    {
     "name": "stdout",
     "output_type": "stream",
     "text": [
      "+--------------------+--------------------+----------------+------------------+----------------+----------+-------------------------+-------------------------+--------+--------+--------+--------+---------------+-----------------+---------------+---------------+--------------------+--------------+---------------+------------+----------+------+--------------------+--------------------+\n",
      "|           client_id|            offer_id|offer_type_index|qtd_offer_received|qtd_offer_viewed|sum_reward|registered_duration_month|registered_duration_years|gender_M|gender_F|gender_O|gender_U|age_group_index|credit_card_limit|category_limite|offer_min_value|offer_discount_value|offer_duration|qtd_transaction|total_amount|avg_amount|target|            features|     features_scaled|\n",
      "+--------------------+--------------------+----------------+------------------+----------------+----------+-------------------------+-------------------------+--------+--------+--------+--------+---------------+-----------------+---------------+---------------+--------------------+--------------+---------------+------------+----------+------+--------------------+--------------------+\n",
      "|0009655768c64bdeb...|2906b810c7d441179...|               0|                 1|               0|       2.0|                       99|                        8|       1|       0|       0|       0|              2|            72000|              3|             10|                   2|           7.0|              8|       127.6|     15.95|     1|[99.0,8.0,1.0,0.0...|[-0.1424618558083...|\n",
      "|0009655768c64bdeb...|3f207df678b143eea...|               1|                 1|               1|       0.0|                       99|                        8|       1|       0|       0|       0|              2|            72000|              3|              0|                   0|           4.0|              8|       127.6|     15.95|     0|[99.0,8.0,1.0,0.0...|[-0.1424618558083...|\n",
      "|0009655768c64bdeb...|5a8bc65990b245e5a...|               1|                 1|               1|       0.0|                       99|                        8|       1|       0|       0|       0|              2|            72000|              3|              0|                   0|           3.0|              8|       127.6|     15.95|     0|[99.0,8.0,1.0,0.0...|[-0.1424618558083...|\n",
      "|0009655768c64bdeb...|f19421c1d4aa40978...|               2|                 1|               1|       5.0|                       99|                        8|       1|       0|       0|       0|              2|            72000|              3|              5|                   5|           5.0|              8|       127.6|     15.95|     1|[99.0,8.0,1.0,0.0...|[-0.1424618558083...|\n",
      "|0009655768c64bdeb...|fafdcd668e3743c1b...|               0|                 1|               1|       2.0|                       99|                        8|       1|       0|       0|       0|              2|            72000|              3|             10|                   2|          10.0|              8|       127.6|     15.95|     1|[99.0,8.0,1.0,0.0...|[-0.1424618558083...|\n",
      "+--------------------+--------------------+----------------+------------------+----------------+----------+-------------------------+-------------------------+--------+--------+--------+--------+---------------+-----------------+---------------+---------------+--------------------+--------------+---------------+------------+----------+------+--------------------+--------------------+\n",
      "only showing top 5 rows\n"
     ]
    }
   ],
   "source": [
    "df_features_kmeans.show(5)"
   ]
  },
  {
   "cell_type": "code",
   "execution_count": 39,
   "id": "eaf470af-d978-45dc-87a4-f480c27fb520",
   "metadata": {},
   "outputs": [],
   "source": [
    "kmeans = KMeans(featuresCol=\"features_scaled\", predictionCol=\"cluster\", k=5, seed=42)\n",
    "model_kmeans = kmeans.fit(df_features_kmeans)"
   ]
  },
  {
   "cell_type": "code",
   "execution_count": 40,
   "id": "02640d29-2555-46fc-81e6-9812052c96c6",
   "metadata": {},
   "outputs": [],
   "source": [
    "df_clusters = model_kmeans.transform(df_features_kmeans)"
   ]
  },
  {
   "cell_type": "code",
   "execution_count": 41,
   "id": "f415481c-ce1e-4379-8a1a-86280977c07a",
   "metadata": {},
   "outputs": [
    {
     "name": "stdout",
     "output_type": "stream",
     "text": [
      "+--------------------+--------------------+----------------+------------------+----------------+----------+-------------------------+-------------------------+--------+--------+--------+--------+---------------+-----------------+---------------+---------------+--------------------+--------------+---------------+------------------+------------------+------+--------------------+--------------------+-------+\n",
      "|           client_id|            offer_id|offer_type_index|qtd_offer_received|qtd_offer_viewed|sum_reward|registered_duration_month|registered_duration_years|gender_M|gender_F|gender_O|gender_U|age_group_index|credit_card_limit|category_limite|offer_min_value|offer_discount_value|offer_duration|qtd_transaction|      total_amount|        avg_amount|target|            features|     features_scaled|cluster|\n",
      "+--------------------+--------------------+----------------+------------------+----------------+----------+-------------------------+-------------------------+--------+--------+--------+--------+---------------+-----------------+---------------+---------------+--------------------+--------------+---------------+------------------+------------------+------+--------------------+--------------------+-------+\n",
      "|0009655768c64bdeb...|2906b810c7d441179...|               0|                 1|               0|       2.0|                       99|                        8|       1|       0|       0|       0|              2|            72000|              3|             10|                   2|           7.0|              8|             127.6|             15.95|     1|[99.0,8.0,1.0,0.0...|[-0.1424618558083...|      2|\n",
      "|0009655768c64bdeb...|3f207df678b143eea...|               1|                 1|               1|       0.0|                       99|                        8|       1|       0|       0|       0|              2|            72000|              3|              0|                   0|           4.0|              8|             127.6|             15.95|     0|[99.0,8.0,1.0,0.0...|[-0.1424618558083...|      2|\n",
      "|0009655768c64bdeb...|5a8bc65990b245e5a...|               1|                 1|               1|       0.0|                       99|                        8|       1|       0|       0|       0|              2|            72000|              3|              0|                   0|           3.0|              8|             127.6|             15.95|     0|[99.0,8.0,1.0,0.0...|[-0.1424618558083...|      2|\n",
      "|0009655768c64bdeb...|f19421c1d4aa40978...|               2|                 1|               1|       5.0|                       99|                        8|       1|       0|       0|       0|              2|            72000|              3|              5|                   5|           5.0|              8|             127.6|             15.95|     1|[99.0,8.0,1.0,0.0...|[-0.1424618558083...|      2|\n",
      "|0009655768c64bdeb...|fafdcd668e3743c1b...|               0|                 1|               1|       2.0|                       99|                        8|       1|       0|       0|       0|              2|            72000|              3|             10|                   2|          10.0|              8|             127.6|             15.95|     1|[99.0,8.0,1.0,0.0...|[-0.1424618558083...|      2|\n",
      "|00116118485d4dfda...|f19421c1d4aa40978...|               2|                 2|               2|       0.0|                       87|                        7|       0|       0|       0|       1|              4|           102000|              4|              5|                   5|           5.0|              3|              4.09|1.3633333333333333|     0|[87.0,7.0,0.0,0.0...|[-1.0295193143822...|      3|\n",
      "|0011e0d4e6b944f99...|0b1e1539f2cc45b7b...|               0|                 1|               1|       5.0|                       90|                        7|       0|       0|       1|       0|              3|            57000|              2|             20|                   5|          10.0|              5| 79.46000000000001|15.892000000000001|     1|[90.0,7.0,0.0,0.0...|[-0.8077549497388...|      4|\n",
      "|0011e0d4e6b944f99...|2298d6c36e964ae4a...|               0|                 1|               1|       3.0|                       90|                        7|       0|       0|       1|       0|              3|            57000|              2|              7|                   3|           7.0|              5| 79.46000000000001|15.892000000000001|     1|[90.0,7.0,0.0,0.0...|[-0.8077549497388...|      4|\n",
      "|0011e0d4e6b944f99...|3f207df678b143eea...|               1|                 1|               1|       0.0|                       90|                        7|       0|       0|       1|       0|              3|            57000|              2|              0|                   0|           4.0|              5| 79.46000000000001|15.892000000000001|     0|[90.0,7.0,0.0,0.0...|[-0.8077549497388...|      4|\n",
      "|0011e0d4e6b944f99...|5a8bc65990b245e5a...|               1|                 1|               1|       0.0|                       90|                        7|       0|       0|       1|       0|              3|            57000|              2|              0|                   0|           3.0|              5| 79.46000000000001|15.892000000000001|     0|[90.0,7.0,0.0,0.0...|[-0.8077549497388...|      4|\n",
      "|0011e0d4e6b944f99...|9b98b8c7a33c4b65b...|               2|                 1|               1|       5.0|                       90|                        7|       0|       0|       1|       0|              3|            57000|              2|              5|                   5|           7.0|              5| 79.46000000000001|15.892000000000001|     1|[90.0,7.0,0.0,0.0...|[-0.8077549497388...|      4|\n",
      "|0020c2b971eb4e918...|4d5c57ea9a6940dd8...|               2|                 1|               1|      10.0|                      113|                        9|       0|       1|       0|       0|              4|            90000|              4|             10|                  10|           5.0|              8|            196.86|           24.6075|     1|[113.0,9.0,0.0,1....|[0.89243851252786...|      0|\n",
      "|0020c2b971eb4e918...|5a8bc65990b245e5a...|               1|                 1|               1|       0.0|                      113|                        9|       0|       1|       0|       0|              4|            90000|              4|              0|                   0|           3.0|              8|            196.86|           24.6075|     0|[113.0,9.0,0.0,1....|[0.89243851252786...|      0|\n",
      "|0020c2b971eb4e918...|ae264e3637204a6fb...|               2|                 1|               0|       0.0|                      113|                        9|       0|       1|       0|       0|              4|            90000|              4|             10|                  10|           7.0|              8|            196.86|           24.6075|     0|[113.0,9.0,0.0,1....|[0.89243851252786...|      0|\n",
      "|0020c2b971eb4e918...|fafdcd668e3743c1b...|               0|                 2|               1|       4.0|                      113|                        9|       0|       1|       0|       0|              4|            90000|              4|             10|                   2|          10.0|              8|            196.86|           24.6075|     1|[113.0,9.0,0.0,1....|[0.89243851252786...|      0|\n",
      "|0020ccbbb6d84e358...|2298d6c36e964ae4a...|               0|                 1|               1|       3.0|                      104|                        8|       0|       1|       0|       0|              1|            60000|              2|              7|                   3|           7.0|             12|154.04999999999998|12.837499999999999|     1|[104.0,8.0,0.0,1....|[0.22714541859743...|      4|\n",
      "|0020ccbbb6d84e358...|5a8bc65990b245e5a...|               1|                 1|               1|       0.0|                      104|                        8|       0|       1|       0|       0|              1|            60000|              2|              0|                   0|           3.0|             12|154.04999999999998|12.837499999999999|     0|[104.0,8.0,0.0,1....|[0.22714541859743...|      4|\n",
      "|0020ccbbb6d84e358...|9b98b8c7a33c4b65b...|               2|                 1|               1|       5.0|                      104|                        8|       0|       1|       0|       0|              1|            60000|              2|              5|                   5|           7.0|             12|154.04999999999998|12.837499999999999|     1|[104.0,8.0,0.0,1....|[0.22714541859743...|      4|\n",
      "|0020ccbbb6d84e358...|f19421c1d4aa40978...|               2|                 1|               1|       5.0|                      104|                        8|       0|       1|       0|       0|              1|            60000|              2|              5|                   5|           5.0|             12|154.04999999999998|12.837499999999999|     1|[104.0,8.0,0.0,1....|[0.22714541859743...|      4|\n",
      "|003d66b6608740288...|0b1e1539f2cc45b7b...|               0|                 1|               0|       5.0|                       97|                        8|       0|       1|       0|       0|              1|            73000|              3|             20|                   5|          10.0|             18| 48.34000000000001| 2.685555555555556|     1|[97.0,8.0,0.0,1.0...|[-0.2903047655706...|      4|\n",
      "+--------------------+--------------------+----------------+------------------+----------------+----------+-------------------------+-------------------------+--------+--------+--------+--------+---------------+-----------------+---------------+---------------+--------------------+--------------+---------------+------------------+------------------+------+--------------------+--------------------+-------+\n",
      "only showing top 20 rows\n"
     ]
    }
   ],
   "source": [
    "df_clusters.show()"
   ]
  },
  {
   "cell_type": "code",
   "execution_count": 306,
   "id": "65e395c4-e832-47f9-9355-0393c076dc41",
   "metadata": {},
   "outputs": [
    {
     "name": "stderr",
     "output_type": "stream",
     "text": [
      "                                                                                "
     ]
    }
   ],
   "source": [
    "df_clusters.write.format(\"parquet\").mode(\"overwrite\").save('../data/trusted/km_output_model')"
   ]
  }
 ],
 "metadata": {
  "kernelspec": {
   "display_name": "Python 3 (ipykernel)",
   "language": "python",
   "name": "python3"
  },
  "language_info": {
   "codemirror_mode": {
    "name": "ipython",
    "version": 3
   },
   "file_extension": ".py",
   "mimetype": "text/x-python",
   "name": "python",
   "nbconvert_exporter": "python",
   "pygments_lexer": "ipython3",
   "version": "3.12.11"
  }
 },
 "nbformat": 4,
 "nbformat_minor": 5
}
