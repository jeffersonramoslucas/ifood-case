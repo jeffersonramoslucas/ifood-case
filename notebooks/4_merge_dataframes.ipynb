{
 "cells": [
  {
   "cell_type": "markdown",
   "metadata": {},
   "source": [
    "# *Etapa 4: Processamento dos dados*\n",
    "\n",
    "Neste notebook, realizamos a junção das principais bases. São elas:\n",
    "\n",
    "- ``df_offers``: informações das ofertas\n",
    "- ``df_profile``: informações dos clientes\n",
    "- ``df_client_transactions``: informações das transações\n",
    "- ``transactions_received``: informações dos eventos de ofertas recebidas\n",
    "- ``transactions_viewed``: informações dos eventos de ofertas visualizadas\n",
    "- ``transactions_completed``: informações dos eventos de ofertas concluidas\n",
    "\n",
    "Ao término do processamento, devemos ter as seguintes variáveis:\n",
    "\n",
    "## mastertable\n",
    "* ``client_id``: código de identificação do cliente\n",
    "* ``offer_id``:  id da oferta\n",
    "* ``time_received``: tempo desde o começo do teste em dias (t=0)\n",
    "* ``qtd_offer_received``: quantidade de ofertas recebidas\n",
    "* ``time_viewed``: tempo desde o começo do teste em dias (t=0)\n",
    "* ``qtd_offer_viewed``: quantidade de ofertas visualizadas\n",
    "* ``time_completed``: tempo desde o começo do teste em dias (t=0)\n",
    "* ``qtd_offer_completed``: quantidade de ofertas completadas\n",
    "* ``sum_reward``: desconto\n",
    "* ``registered_on``: data de criação da conta\n",
    "* ``registered_duration_days``: tempo de relacionamento em dias\n",
    "* ``registered_duration_month``: tempo de relacionamento em meses\n",
    "* ``registered_duration_years``: tempo de relacionamento em anos\n",
    "* ``gender``: gênero do cliente\n",
    "* ``gender_M``: variável dummy para indicar o gênero masculino 'M'\n",
    "* ``gender_F``: variável dummy para indicar o gênero feminino 'F'\n",
    "* ``gender_O``: variável dummy para indicar o gênero outros 'O'\n",
    "* ``gender_U``: variável dummy para indicar o gênero desconhecido 'U'\n",
    "* ``age``: idade do cliente na criação da conta\n",
    "* ``age_group``: grupo de idades de 10 em 10 anos\n",
    "* ``age_group_index``: identificador para o grupo de idade\n",
    "* ``credit_card_limit``: limite do cartão registrado\n",
    "* ``category_limite``: indicador de renda do cliente (1=renda menor, 5=renda maior)\n",
    "* ``offer_type``: o tipo da oferta (BOGO, discount, informational)\n",
    "* ``offer_min_value``: valor mínimo para ativação da oferta\n",
    "* ``offer_discount_value``: valor do desconto da oferta\n",
    "* ``offer_duration``: duração da oferta\n",
    "* ``channel_mobile``: variável dummy para indicar a veiculação da oferta em 'mobile'\n",
    "* ``channel_email``: variável dummy para indicar a veiculação da oferta em 'email'\n",
    "* ``channel_social``: variável dummy para indicar a veiculação da oferta em 'social'\n",
    "* ``channel_web``: variável dummy para indicar a veiculação da oferta em 'web'\n",
    "* ``offer_type_index``: um código para o tipo de oferta\n",
    "* ``time_transaction``: tempo desde o começo do teste em dias (t=0)\n",
    "* ``qtd_transaction``: quantidade de transações\n",
    "* ``total_amount``: valor da transação\n",
    "* ``avg_amount``: valor médio do valor da transação"
   ]
  },
  {
   "cell_type": "code",
   "execution_count": 1,
   "metadata": {},
   "outputs": [
    {
     "name": "stderr",
     "output_type": "stream",
     "text": [
      "WARNING: Using incubator modules: jdk.incubator.vector\n",
      "Using Spark's default log4j profile: org/apache/spark/log4j2-defaults.properties\n",
      "25/08/12 11:20:33 WARN Utils: Your hostname, N0L144853, resolves to a loopback address: 127.0.1.1; using 192.168.68.112 instead (on interface enp0s31f6)\n",
      "25/08/12 11:20:33 WARN Utils: Set SPARK_LOCAL_IP if you need to bind to another address\n",
      "Using Spark's default log4j profile: org/apache/spark/log4j2-defaults.properties\n",
      "Setting default log level to \"WARN\".\n",
      "To adjust logging level use sc.setLogLevel(newLevel). For SparkR, use setLogLevel(newLevel).\n",
      "25/08/12 11:20:34 WARN NativeCodeLoader: Unable to load native-hadoop library for your platform... using builtin-java classes where applicable\n"
     ]
    },
    {
     "data": {
      "text/html": [
       "<style>.jp-Cell-outputArea { text-align: center; }</style>"
      ],
      "text/plain": [
       "<IPython.core.display.HTML object>"
      ]
     },
     "metadata": {},
     "output_type": "display_data"
    }
   ],
   "source": [
    "from pyspark.sql import SparkSession\n",
    "spark = SparkSession.builder.appName('PySparkTest').getOrCreate()\n",
    "\n",
    "from IPython.display import display, HTML\n",
    "display(HTML(\"<style>.jp-Cell-outputArea { text-align: center; }</style>\"))"
   ]
  },
  {
   "cell_type": "code",
   "execution_count": 2,
   "metadata": {
    "application/vnd.databricks.v1+cell": {
     "cellMetadata": {
      "byteLimit": 2048000,
      "rowLimit": 10000
     },
     "inputWidgets": {},
     "nuid": "bfecfa68-ce33-4f2f-8a30-5fcd79563aa6",
     "showTitle": false,
     "tableResultSettingsMap": {},
     "title": ""
    }
   },
   "outputs": [],
   "source": [
    "import plotly.express as px\n",
    "from pyspark.sql import types as T\n",
    "from pyspark.sql.window import Window\n",
    "from pyspark.sql import functions as F"
   ]
  },
  {
   "cell_type": "markdown",
   "metadata": {
    "application/vnd.databricks.v1+cell": {
     "cellMetadata": {},
     "inputWidgets": {},
     "nuid": "613277d1-5dd0-4068-a330-47b4e455182c",
     "showTitle": false,
     "tableResultSettingsMap": {},
     "title": ""
    }
   },
   "source": [
    "# Read Files"
   ]
  },
  {
   "cell_type": "code",
   "execution_count": 3,
   "metadata": {
    "application/vnd.databricks.v1+cell": {
     "cellMetadata": {
      "byteLimit": 2048000,
      "rowLimit": 10000
     },
     "inputWidgets": {},
     "nuid": "b617b1dd-e4bf-4c58-84fc-7081fb2fb7ef",
     "showTitle": false,
     "tableResultSettingsMap": {},
     "title": ""
    }
   },
   "outputs": [],
   "source": [
    "path_output_mastertable = '../data/trusted/mastertable'\n",
    "\n",
    "path_table_offers = \"../data/trusted/offers\"\n",
    "path_table_profile = \"../data/trusted/profile\"\n",
    "\n",
    "path_client_transactions = \"../data/trusted/client_transactions\"\n",
    "path_transactions_received = \"../data/trusted/transactions_received\"\n",
    "path_transactions_viewed = \"../data/trusted/transactions_viewed\"\n",
    "path_transactions_completed = \"../data/trusted/transactions_completed\"\n",
    "\n",
    "\n",
    "df_offers = spark.read.format(\"parquet\").option(\"header\", \"true\").option(\"inferSchema\", \"true\").load(path_table_offers)\n",
    "df_profile = spark.read.format(\"parquet\").option(\"header\", \"true\").option(\"inferSchema\", \"true\").load(path_table_profile)\n",
    "\n",
    "df_client_transactions = spark.read.format(\"parquet\").option(\"header\", \"true\").option(\"inferSchema\", \"true\").load(path_client_transactions)\n",
    "transactions_received = spark.read.format(\"parquet\").option(\"header\", \"true\").option(\"inferSchema\", \"true\").load(path_transactions_received)\n",
    "transactions_viewed = spark.read.format(\"parquet\").option(\"header\", \"true\").option(\"inferSchema\", \"true\").load(path_transactions_viewed)\n",
    "transactions_completed = spark.read.format(\"parquet\").option(\"header\", \"true\").option(\"inferSchema\", \"true\").load(path_transactions_completed)"
   ]
  },
  {
   "cell_type": "markdown",
   "metadata": {
    "application/vnd.databricks.v1+cell": {
     "cellMetadata": {},
     "inputWidgets": {},
     "nuid": "34a00e41-e459-497e-a27e-af6b7b85146b",
     "showTitle": false,
     "tableResultSettingsMap": {},
     "title": ""
    }
   },
   "source": [
    "# Data Merge"
   ]
  },
  {
   "cell_type": "markdown",
   "metadata": {
    "application/vnd.databricks.v1+cell": {
     "cellMetadata": {},
     "inputWidgets": {},
     "nuid": "40d0a216-e2ad-440f-9ea6-81b24aef78b2",
     "showTitle": false,
     "tableResultSettingsMap": {},
     "title": ""
    }
   },
   "source": [
    "##### Juntando tabela de eventos"
   ]
  },
  {
   "cell_type": "code",
   "execution_count": 4,
   "metadata": {
    "application/vnd.databricks.v1+cell": {
     "cellMetadata": {
      "byteLimit": 2048000,
      "rowLimit": 10000
     },
     "inputWidgets": {},
     "nuid": "6babdacf-f9fe-43f4-898a-89748ae01ff0",
     "showTitle": false,
     "tableResultSettingsMap": {},
     "title": ""
    }
   },
   "outputs": [
    {
     "name": "stdout",
     "output_type": "stream",
     "text": [
      "+--------------------------------+--------------------------------+-------------+------------------+-----------+----------------+--------------+-------------------+----------+\n",
      "|client_id                       |offer_id                        |time_received|qtd_offer_received|time_viewed|qtd_offer_viewed|time_completed|qtd_offer_completed|sum_reward|\n",
      "+--------------------------------+--------------------------------+-------------+------------------+-----------+----------------+--------------+-------------------+----------+\n",
      "|0009655768c64bdeb2e877511632db8f|2906b810c7d4411798c6938adc9daaa5|[24.0]       |1                 |[]         |0               |[24.0]        |1                  |2.0       |\n",
      "|0009655768c64bdeb2e877511632db8f|3f207df678b143eea3cee63160fa8bed|[14.0]       |1                 |[15.5]     |1               |[]            |0                  |0.0       |\n",
      "|0009655768c64bdeb2e877511632db8f|5a8bc65990b245e5a138643cd4eb9837|[7.0]        |1                 |[8.0]      |1               |[]            |0                  |0.0       |\n",
      "|0009655768c64bdeb2e877511632db8f|f19421c1d4aa40978ebb69ca19b0e20d|[17.0]       |1                 |[19.0]     |1               |[17.25]       |1                  |5.0       |\n",
      "|0009655768c64bdeb2e877511632db8f|fafdcd668e3743c1bb461111dcafc2a4|[21.0]       |1                 |[22.5]     |1               |[22.0]        |1                  |2.0       |\n",
      "+--------------------------------+--------------------------------+-------------+------------------+-----------+----------------+--------------+-------------------+----------+\n",
      "only showing top 5 rows\n"
     ]
    }
   ],
   "source": [
    "df = transactions_received.join(transactions_viewed, on=['client_id','offer_id'], how='left')\\\n",
    "                          .join(transactions_completed, on=['client_id','offer_id'], how='left')\\\n",
    "                          .fillna({'qtd_offer_completed': 0, 'qtd_offer_viewed': 0, 'sum_reward': 0})\\\n",
    "                          .withColumn(\"time_viewed\", F.coalesce(F.col(\"time_viewed\"), F.array().cast(T.ArrayType(T.DoubleType()))))\\\n",
    "                          .withColumn(\"time_completed\", F.coalesce(F.col(\"time_completed\"), F.array().cast(T.ArrayType(T.DoubleType()))))\\\n",
    "                          .orderBy('client_id','offer_id')\n",
    "\n",
    "df.show(5, truncate=False)"
   ]
  },
  {
   "cell_type": "code",
   "execution_count": 5,
   "metadata": {
    "application/vnd.databricks.v1+cell": {
     "cellMetadata": {
      "byteLimit": 2048000,
      "rowLimit": 10000
     },
     "inputWidgets": {},
     "nuid": "a156fff4-94ee-43ba-a586-d63288a4e26f",
     "showTitle": false,
     "tableResultSettingsMap": {},
     "title": ""
    }
   },
   "outputs": [
    {
     "name": "stdout",
     "output_type": "stream",
     "text": [
      "+---------+--------+-------------+------------------+-----------+----------------+--------------+-------------------+----------+\n",
      "|client_id|offer_id|time_received|qtd_offer_received|time_viewed|qtd_offer_viewed|time_completed|qtd_offer_completed|sum_reward|\n",
      "+---------+--------+-------------+------------------+-----------+----------------+--------------+-------------------+----------+\n",
      "|        0|       0|            0|                 0|          0|               0|             0|                  0|         0|\n",
      "+---------+--------+-------------+------------------+-----------+----------------+--------------+-------------------+----------+\n",
      "\n"
     ]
    }
   ],
   "source": [
    "df.select([F.count(F.when(F.col(c).isNull(), c)).alias(c) for c in df.columns]).show()"
   ]
  },
  {
   "cell_type": "code",
   "execution_count": 6,
   "metadata": {},
   "outputs": [
    {
     "name": "stdout",
     "output_type": "stream",
     "text": [
      "+-------------------+-----+\n",
      "|qtd_offer_completed|count|\n",
      "+-------------------+-----+\n",
      "|                  0|34292|\n",
      "|                  1|24793|\n",
      "|                  3|  342|\n",
      "|                  2| 3842|\n",
      "|                  4|   19|\n",
      "+-------------------+-----+\n",
      "\n"
     ]
    }
   ],
   "source": [
    "df.groupBy(\"qtd_offer_completed\").count().show()"
   ]
  },
  {
   "cell_type": "markdown",
   "metadata": {
    "application/vnd.databricks.v1+cell": {
     "cellMetadata": {},
     "inputWidgets": {},
     "nuid": "14d12d05-b010-4b17-b5b4-7f56165bef49",
     "showTitle": false,
     "tableResultSettingsMap": {},
     "title": ""
    }
   },
   "source": [
    "##### Juntando com dados das ofertas, dos clientes e transações dos clientes"
   ]
  },
  {
   "cell_type": "code",
   "execution_count": 7,
   "metadata": {
    "application/vnd.databricks.v1+cell": {
     "cellMetadata": {
      "byteLimit": 2048000,
      "rowLimit": 10000
     },
     "inputWidgets": {},
     "nuid": "f5de8bf6-fd71-41a1-847f-ce5829c6f4d3",
     "showTitle": false,
     "tableResultSettingsMap": {},
     "title": ""
    }
   },
   "outputs": [
    {
     "name": "stderr",
     "output_type": "stream",
     "text": [
      "25/08/12 11:20:40 WARN SparkStringUtils: Truncated the string representation of a plan since it was too large. This behavior can be adjusted by setting 'spark.sql.debug.maxToStringFields'.\n"
     ]
    },
    {
     "name": "stdout",
     "output_type": "stream",
     "text": [
      "+--------------------------------+--------------------------------+-------------+------------------+-----------+----------------+--------------+-------------------+----------+-------------+------------------------+-------------------------+-------------------------+------+--------+--------+--------+--------+---+---------+---------------+-----------------+---------------+-------------+---------------+--------------------+--------------+--------------+-------------+--------------+-----------+----------------+-------------------------------------------------+---------------+------------+----------+\n",
      "|client_id                       |offer_id                        |time_received|qtd_offer_received|time_viewed|qtd_offer_viewed|time_completed|qtd_offer_completed|sum_reward|registered_on|registered_duration_days|registered_duration_month|registered_duration_years|gender|gender_M|gender_F|gender_O|gender_U|age|age_group|age_group_index|credit_card_limit|category_limite|offer_type   |offer_min_value|offer_discount_value|offer_duration|channel_mobile|channel_email|channel_social|channel_web|offer_type_index|time_transaction                                 |qtd_transaction|total_amount|avg_amount|\n",
      "+--------------------------------+--------------------------------+-------------+------------------+-----------+----------------+--------------+-------------------+----------+-------------+------------------------+-------------------------+-------------------------+------+--------+--------+--------+--------+---+---------+---------------+-----------------+---------------+-------------+---------------+--------------------+--------------+--------------+-------------+--------------+-----------+----------------+-------------------------------------------------+---------------+------------+----------+\n",
      "|0009655768c64bdeb2e877511632db8f|2906b810c7d4411798c6938adc9daaa5|[24.0]       |1                 |[]         |0               |[24.0]        |1                  |2.0       |2017-04-21   |3035                    |99                       |8                        |M     |1       |0       |0       |0       |33 |30-39    |2              |72000            |3              |discount     |10             |2                   |7.0           |1             |1            |0             |1          |0               |[9.5, 17.25, 22.0, 23.0, 24.0, 27.5, 28.75, 29.0]|8              |127.6       |15.95     |\n",
      "|0009655768c64bdeb2e877511632db8f|3f207df678b143eea3cee63160fa8bed|[14.0]       |1                 |[15.5]     |1               |[]            |0                  |0.0       |2017-04-21   |3035                    |99                       |8                        |M     |1       |0       |0       |0       |33 |30-39    |2              |72000            |3              |informational|0              |0                   |4.0           |1             |1            |0             |1          |1               |[9.5, 17.25, 22.0, 23.0, 24.0, 27.5, 28.75, 29.0]|8              |127.6       |15.95     |\n",
      "|0009655768c64bdeb2e877511632db8f|5a8bc65990b245e5a138643cd4eb9837|[7.0]        |1                 |[8.0]      |1               |[]            |0                  |0.0       |2017-04-21   |3035                    |99                       |8                        |M     |1       |0       |0       |0       |33 |30-39    |2              |72000            |3              |informational|0              |0                   |3.0           |1             |1            |1             |0          |1               |[9.5, 17.25, 22.0, 23.0, 24.0, 27.5, 28.75, 29.0]|8              |127.6       |15.95     |\n",
      "|0009655768c64bdeb2e877511632db8f|f19421c1d4aa40978ebb69ca19b0e20d|[17.0]       |1                 |[19.0]     |1               |[17.25]       |1                  |5.0       |2017-04-21   |3035                    |99                       |8                        |M     |1       |0       |0       |0       |33 |30-39    |2              |72000            |3              |bogo         |5              |5                   |5.0           |1             |1            |1             |1          |2               |[9.5, 17.25, 22.0, 23.0, 24.0, 27.5, 28.75, 29.0]|8              |127.6       |15.95     |\n",
      "|0009655768c64bdeb2e877511632db8f|fafdcd668e3743c1bb461111dcafc2a4|[21.0]       |1                 |[22.5]     |1               |[22.0]        |1                  |2.0       |2017-04-21   |3035                    |99                       |8                        |M     |1       |0       |0       |0       |33 |30-39    |2              |72000            |3              |discount     |10             |2                   |10.0          |1             |1            |1             |1          |0               |[9.5, 17.25, 22.0, 23.0, 24.0, 27.5, 28.75, 29.0]|8              |127.6       |15.95     |\n",
      "+--------------------------------+--------------------------------+-------------+------------------+-----------+----------------+--------------+-------------------+----------+-------------+------------------------+-------------------------+-------------------------+------+--------+--------+--------+--------+---+---------+---------------+-----------------+---------------+-------------+---------------+--------------------+--------------+--------------+-------------+--------------+-----------+----------------+-------------------------------------------------+---------------+------------+----------+\n",
      "only showing top 5 rows\n"
     ]
    }
   ],
   "source": [
    "df_merge = df.join(df_profile, on=\"client_id\", how=\"left\")\\\n",
    "             .join(df_offers, on=\"offer_id\", how=\"left\")\\\n",
    "             .join(df_client_transactions, on=\"client_id\", how=\"left\")\\\n",
    "             .fillna({'qtd_transaction': 0, 'total_amount': 0, 'avg_amount': 0})\\\n",
    "             .withColumn(\"time_transaction\", F.coalesce(F.col(\"time_transaction\"), F.array().cast(T.ArrayType(T.DoubleType()))))\n",
    "\n",
    "df_merge.show(5, truncate=False)"
   ]
  },
  {
   "cell_type": "code",
   "execution_count": 8,
   "metadata": {
    "application/vnd.databricks.v1+cell": {
     "cellMetadata": {
      "byteLimit": 2048000,
      "rowLimit": 10000
     },
     "inputWidgets": {},
     "nuid": "474fef64-093b-4cb4-ab61-98815f51c4bd",
     "showTitle": false,
     "tableResultSettingsMap": {},
     "title": ""
    }
   },
   "outputs": [
    {
     "name": "stdout",
     "output_type": "stream",
     "text": [
      "+---------+--------+-------------+------------------+-----------+----------------+--------------+-------------------+----------+-------------+------------------------+-------------------------+-------------------------+------+--------+--------+--------+--------+---+---------+---------------+-----------------+---------------+----------+---------------+--------------------+--------------+--------------+-------------+--------------+-----------+----------------+----------------+---------------+------------+----------+\n",
      "|client_id|offer_id|time_received|qtd_offer_received|time_viewed|qtd_offer_viewed|time_completed|qtd_offer_completed|sum_reward|registered_on|registered_duration_days|registered_duration_month|registered_duration_years|gender|gender_M|gender_F|gender_O|gender_U|age|age_group|age_group_index|credit_card_limit|category_limite|offer_type|offer_min_value|offer_discount_value|offer_duration|channel_mobile|channel_email|channel_social|channel_web|offer_type_index|time_transaction|qtd_transaction|total_amount|avg_amount|\n",
      "+---------+--------+-------------+------------------+-----------+----------------+--------------+-------------------+----------+-------------+------------------------+-------------------------+-------------------------+------+--------+--------+--------+--------+---+---------+---------------+-----------------+---------------+----------+---------------+--------------------+--------------+--------------+-------------+--------------+-----------+----------------+----------------+---------------+------------+----------+\n",
      "|        0|       0|            0|                 0|          0|               0|             0|                  0|         0|            0|                       0|                        0|                        0|     0|       0|       0|       0|       0|  0|        0|              0|                0|              0|         0|              0|                   0|             0|             0|            0|             0|          0|               0|               0|              0|           0|         0|\n",
      "+---------+--------+-------------+------------------+-----------+----------------+--------------+-------------------+----------+-------------+------------------------+-------------------------+-------------------------+------+--------+--------+--------+--------+---+---------+---------------+-----------------+---------------+----------+---------------+--------------------+--------------+--------------+-------------+--------------+-----------+----------------+----------------+---------------+------------+----------+\n",
      "\n"
     ]
    }
   ],
   "source": [
    "df_merge.select([F.count(F.when(F.col(c).isNull(), c)).alias(c) for c in df_merge.columns]).show()"
   ]
  },
  {
   "cell_type": "code",
   "execution_count": 9,
   "metadata": {},
   "outputs": [
    {
     "name": "stderr",
     "output_type": "stream",
     "text": [
      "                                                                                \r"
     ]
    }
   ],
   "source": [
    "df_merge.write.format(\"parquet\").mode(\"overwrite\").save(path_output_mastertable)"
   ]
  },
  {
   "cell_type": "markdown",
   "metadata": {
    "application/vnd.databricks.v1+cell": {
     "cellMetadata": {},
     "inputWidgets": {},
     "nuid": "7e4dd72f-dda2-49a1-bd8e-e7c206d1056c",
     "showTitle": false,
     "tableResultSettingsMap": {},
     "title": ""
    }
   },
   "source": [
    "# Analysis"
   ]
  },
  {
   "cell_type": "code",
   "execution_count": 10,
   "metadata": {
    "application/vnd.databricks.v1+cell": {
     "cellMetadata": {
      "byteLimit": 2048000,
      "rowLimit": 10000
     },
     "inputWidgets": {},
     "nuid": "a9b0940b-328d-4e2f-a13f-81c927f0e02d",
     "showTitle": false,
     "tableResultSettingsMap": {
      "0": {
       "dataGridStateBlob": "{\"version\":1,\"tableState\":{\"columnPinning\":{\"left\":[\"#row_number#\"],\"right\":[]},\"columnSizing\":{},\"columnVisibility\":{}},\"settings\":{\"columns\":{}},\"syncTimestamp\":1754675585396}",
       "filterBlob": null,
       "queryPlanFiltersBlob": null,
       "tableResultIndex": 0
      }
     },
     "title": ""
    }
   },
   "outputs": [
    {
     "name": "stdout",
     "output_type": "stream",
     "text": [
      "+--------------------------------+--------------------------------+------------------+-------------------+-------------+------+---+---------+---------------+---------------+\n",
      "|client_id                       |offer_id                        |qtd_offer_received|qtd_offer_completed|offer_type   |gender|age|age_group|age_group_index|category_limite|\n",
      "+--------------------------------+--------------------------------+------------------+-------------------+-------------+------+---+---------+---------------+---------------+\n",
      "|0009655768c64bdeb2e877511632db8f|2906b810c7d4411798c6938adc9daaa5|1                 |1                  |discount     |M     |33 |30-39    |2              |3              |\n",
      "|0009655768c64bdeb2e877511632db8f|3f207df678b143eea3cee63160fa8bed|1                 |0                  |informational|M     |33 |30-39    |2              |3              |\n",
      "|0009655768c64bdeb2e877511632db8f|5a8bc65990b245e5a138643cd4eb9837|1                 |0                  |informational|M     |33 |30-39    |2              |3              |\n",
      "|0009655768c64bdeb2e877511632db8f|f19421c1d4aa40978ebb69ca19b0e20d|1                 |1                  |bogo         |M     |33 |30-39    |2              |3              |\n",
      "|0009655768c64bdeb2e877511632db8f|fafdcd668e3743c1bb461111dcafc2a4|1                 |1                  |discount     |M     |33 |30-39    |2              |3              |\n",
      "+--------------------------------+--------------------------------+------------------+-------------------+-------------+------+---+---------+---------------+---------------+\n",
      "only showing top 5 rows\n"
     ]
    }
   ],
   "source": [
    "df_merge_analysis = df_merge.select(\"client_id\", 'offer_id', 'qtd_offer_received', 'qtd_offer_completed', 'offer_type', 'gender', 'age', 'age_group', 'age_group_index', 'category_limite')  \n",
    "df_merge_analysis.show(5, truncate=False)"
   ]
  },
  {
   "cell_type": "markdown",
   "metadata": {
    "application/vnd.databricks.v1+cell": {
     "cellMetadata": {},
     "inputWidgets": {},
     "nuid": "778e96cb-7e2e-4e24-b327-f94e640c8889",
     "showTitle": false,
     "tableResultSettingsMap": {},
     "title": ""
    }
   },
   "source": [
    "##### Analisando Taxa de Conversao de ofertas por Faixa Etaria e Tipo de Oferta"
   ]
  },
  {
   "cell_type": "code",
   "execution_count": 11,
   "metadata": {
    "application/vnd.databricks.v1+cell": {
     "cellMetadata": {
      "byteLimit": 2048000,
      "rowLimit": 10000
     },
     "inputWidgets": {},
     "nuid": "e80a51cd-6ba3-4771-b537-5d6c1aff9f6f",
     "showTitle": false,
     "tableResultSettingsMap": {},
     "title": ""
    }
   },
   "outputs": [
    {
     "data": {
      "application/vnd.plotly.v1+json": {
       "config": {
        "plotlyServerURL": "https://plot.ly"
       },
       "data": [
        {
         "alignmentgroup": "True",
         "hovertemplate": "Tipo de Oferta=discount<br>Faixa Etária=%{x}<br>Taxa de Conversão=%{text}<extra></extra>",
         "legendgroup": "discount",
         "marker": {
          "color": "#636efa",
          "pattern": {
           "shape": ""
          }
         },
         "name": "discount",
         "offsetgroup": "discount",
         "orientation": "v",
         "showlegend": true,
         "text": {
          "_inputArray": {
           "0": 0.006646367416429297,
           "1": 0.045967979569786856,
           "2": 0.05690338211701536,
           "3": 0.08578070261598403,
           "4": 0.14432112104246472,
           "5": 0.12389090790033723,
           "6": 0.07245522705693612,
           "7": 0.03706250204629539,
           "8": 0.012146809416232852,
           "9": 0.0012114068690043545,
           "bdata": "Y14Nqzg5ez9Vs9RxHYmnP+rgcqpwIq0/0BFdYLn1tT/D7X9PHXnCP3MltIVQt78/Y0Ci/myMsj9Fv2Q02/miP1o3jClt4Ig/SAicOALZUz8=",
           "dtype": "f8",
           "shape": "10"
          },
          "bdata": "Y14Nqzg5ez9Vs9RxHYmnP+rgcqpwIq0/0BFdYLn1tT/D7X9PHXnCP3MltIVQt78/Y0Ci/myMsj9Fv2Q02/miP1o3jClt4Ig/SAicOALZUz8=",
          "dtype": "f8"
         },
         "textposition": "outside",
         "texttemplate": "%{text:.2%}",
         "type": "bar",
         "x": [
          "10-19",
          "20-29",
          "30-39",
          "40-49",
          "50-59",
          "60-69",
          "70-79",
          "80-89",
          "90-99",
          "100-109"
         ],
         "xaxis": "x",
         "y": {
          "_inputArray": {
           "0": 0.006646367416429297,
           "1": 0.045967979569786856,
           "2": 0.05690338211701536,
           "3": 0.08578070261598403,
           "4": 0.14432112104246472,
           "5": 0.12389090790033723,
           "6": 0.07245522705693612,
           "7": 0.03706250204629539,
           "8": 0.012146809416232852,
           "9": 0.0012114068690043545,
           "bdata": "Y14Nqzg5ez9Vs9RxHYmnP+rgcqpwIq0/0BFdYLn1tT/D7X9PHXnCP3MltIVQt78/Y0Ci/myMsj9Fv2Q02/miP1o3jClt4Ig/SAicOALZUz8=",
           "dtype": "f8",
           "shape": "10"
          },
          "bdata": "Y14Nqzg5ez9Vs9RxHYmnP+rgcqpwIq0/0BFdYLn1tT/D7X9PHXnCP3MltIVQt78/Y0Ci/myMsj9Fv2Q02/miP1o3jClt4Ig/SAicOALZUz8=",
          "dtype": "f8"
         },
         "yaxis": "y"
        },
        {
         "alignmentgroup": "True",
         "hovertemplate": "Tipo de Oferta=informational<br>Faixa Etária=%{x}<br>Taxa de Conversão=%{text}<extra></extra>",
         "legendgroup": "informational",
         "marker": {
          "color": "#EF553B",
          "pattern": {
           "shape": ""
          }
         },
         "name": "informational",
         "offsetgroup": "informational",
         "orientation": "v",
         "showlegend": true,
         "text": {
          "_inputArray": {
           "0": 0,
           "1": 0,
           "2": 0,
           "3": 0,
           "4": 0,
           "5": 0,
           "6": 0,
           "7": 0,
           "8": 0,
           "9": 0,
           "bdata": "AAAAAAAAAAAAAAAAAAAAAAAAAAAAAAAAAAAAAAAAAAAAAAAAAAAAAAAAAAAAAAAAAAAAAAAAAAAAAAAAAAAAAAAAAAAAAAAAAAAAAAAAAAA=",
           "dtype": "f8",
           "shape": "10"
          },
          "bdata": "AAAAAAAAAAAAAAAAAAAAAAAAAAAAAAAAAAAAAAAAAAAAAAAAAAAAAAAAAAAAAAAAAAAAAAAAAAAAAAAAAAAAAAAAAAAAAAAAAAAAAAAAAAA=",
          "dtype": "f8"
         },
         "textposition": "outside",
         "texttemplate": "%{text:.2%}",
         "type": "bar",
         "x": [
          "10-19",
          "20-29",
          "30-39",
          "40-49",
          "50-59",
          "60-69",
          "70-79",
          "80-89",
          "90-99",
          "100-109"
         ],
         "xaxis": "x",
         "y": {
          "_inputArray": {
           "0": 0,
           "1": 0,
           "2": 0,
           "3": 0,
           "4": 0,
           "5": 0,
           "6": 0,
           "7": 0,
           "8": 0,
           "9": 0,
           "bdata": "AAAAAAAAAAAAAAAAAAAAAAAAAAAAAAAAAAAAAAAAAAAAAAAAAAAAAAAAAAAAAAAAAAAAAAAAAAAAAAAAAAAAAAAAAAAAAAAAAAAAAAAAAAA=",
           "dtype": "f8",
           "shape": "10"
          },
          "bdata": "AAAAAAAAAAAAAAAAAAAAAAAAAAAAAAAAAAAAAAAAAAAAAAAAAAAAAAAAAAAAAAAAAAAAAAAAAAAAAAAAAAAAAAAAAAAAAAAAAAAAAAAAAAA=",
          "dtype": "f8"
         },
         "yaxis": "y"
        },
        {
         "alignmentgroup": "True",
         "hovertemplate": "Tipo de Oferta=bogo<br>Faixa Etária=%{x}<br>Taxa de Conversão=%{text}<extra></extra>",
         "legendgroup": "bogo",
         "marker": {
          "color": "#00cc96",
          "pattern": {
           "shape": ""
          }
         },
         "name": "bogo",
         "offsetgroup": "bogo",
         "orientation": "v",
         "showlegend": true,
         "text": {
          "_inputArray": {
           "0": 0.004983769959670809,
           "1": 0.03603396832683039,
           "2": 0.046165448047476965,
           "3": 0.07777304173907341,
           "4": 0.13193875209023245,
           "5": 0.10636414308665858,
           "6": 0.06544476868094036,
           "7": 0.03246008065838224,
           "8": 0.01150857405160825,
           "9": 0.0010820026886127414,
           "bdata": "uhnNj9xpdD8zhgRXC3OiPyhhI2P/oqc/kZ7HHu/osz+Zu6Z4XuPAPxs2BjSuOrs/9c0tBf3AsD9Q4LSRm56gP1bqZqnOkYc/3ohaij+6UT8=",
           "dtype": "f8",
           "shape": "10"
          },
          "bdata": "uhnNj9xpdD8zhgRXC3OiPyhhI2P/oqc/kZ7HHu/osz+Zu6Z4XuPAPxs2BjSuOrs/9c0tBf3AsD9Q4LSRm56gP1bqZqnOkYc/3ohaij+6UT8=",
          "dtype": "f8"
         },
         "textposition": "outside",
         "texttemplate": "%{text:.2%}",
         "type": "bar",
         "x": [
          "10-19",
          "20-29",
          "30-39",
          "40-49",
          "50-59",
          "60-69",
          "70-79",
          "80-89",
          "90-99",
          "100-109"
         ],
         "xaxis": "x",
         "y": {
          "_inputArray": {
           "0": 0.004983769959670809,
           "1": 0.03603396832683039,
           "2": 0.046165448047476965,
           "3": 0.07777304173907341,
           "4": 0.13193875209023245,
           "5": 0.10636414308665858,
           "6": 0.06544476868094036,
           "7": 0.03246008065838224,
           "8": 0.01150857405160825,
           "9": 0.0010820026886127414,
           "bdata": "uhnNj9xpdD8zhgRXC3OiPyhhI2P/oqc/kZ7HHu/osz+Zu6Z4XuPAPxs2BjSuOrs/9c0tBf3AsD9Q4LSRm56gP1bqZqnOkYc/3ohaij+6UT8=",
           "dtype": "f8",
           "shape": "10"
          },
          "bdata": "uhnNj9xpdD8zhgRXC3OiPyhhI2P/oqc/kZ7HHu/osz+Zu6Z4XuPAPxs2BjSuOrs/9c0tBf3AsD9Q4LSRm56gP1bqZqnOkYc/3ohaij+6UT8=",
          "dtype": "f8"
         },
         "yaxis": "y"
        }
       ],
       "layout": {
        "barmode": "group",
        "height": 600,
        "legend": {
         "title": {
          "text": "Tipo de Oferta"
         },
         "tracegroupgap": 0
        },
        "paper_bgcolor": "#f2ede6",
        "plot_bgcolor": "#f2ede6",
        "template": {
         "data": {
          "bar": [
           {
            "error_x": {
             "color": "#2a3f5f"
            },
            "error_y": {
             "color": "#2a3f5f"
            },
            "marker": {
             "line": {
              "color": "#E5ECF6",
              "width": 0.5
             },
             "pattern": {
              "fillmode": "overlay",
              "size": 10,
              "solidity": 0.2
             }
            },
            "type": "bar"
           }
          ],
          "barpolar": [
           {
            "marker": {
             "line": {
              "color": "#E5ECF6",
              "width": 0.5
             },
             "pattern": {
              "fillmode": "overlay",
              "size": 10,
              "solidity": 0.2
             }
            },
            "type": "barpolar"
           }
          ],
          "carpet": [
           {
            "aaxis": {
             "endlinecolor": "#2a3f5f",
             "gridcolor": "white",
             "linecolor": "white",
             "minorgridcolor": "white",
             "startlinecolor": "#2a3f5f"
            },
            "baxis": {
             "endlinecolor": "#2a3f5f",
             "gridcolor": "white",
             "linecolor": "white",
             "minorgridcolor": "white",
             "startlinecolor": "#2a3f5f"
            },
            "type": "carpet"
           }
          ],
          "choropleth": [
           {
            "colorbar": {
             "outlinewidth": 0,
             "ticks": ""
            },
            "type": "choropleth"
           }
          ],
          "contour": [
           {
            "colorbar": {
             "outlinewidth": 0,
             "ticks": ""
            },
            "colorscale": [
             [
              0,
              "#0d0887"
             ],
             [
              0.1111111111111111,
              "#46039f"
             ],
             [
              0.2222222222222222,
              "#7201a8"
             ],
             [
              0.3333333333333333,
              "#9c179e"
             ],
             [
              0.4444444444444444,
              "#bd3786"
             ],
             [
              0.5555555555555556,
              "#d8576b"
             ],
             [
              0.6666666666666666,
              "#ed7953"
             ],
             [
              0.7777777777777778,
              "#fb9f3a"
             ],
             [
              0.8888888888888888,
              "#fdca26"
             ],
             [
              1,
              "#f0f921"
             ]
            ],
            "type": "contour"
           }
          ],
          "contourcarpet": [
           {
            "colorbar": {
             "outlinewidth": 0,
             "ticks": ""
            },
            "type": "contourcarpet"
           }
          ],
          "heatmap": [
           {
            "colorbar": {
             "outlinewidth": 0,
             "ticks": ""
            },
            "colorscale": [
             [
              0,
              "#0d0887"
             ],
             [
              0.1111111111111111,
              "#46039f"
             ],
             [
              0.2222222222222222,
              "#7201a8"
             ],
             [
              0.3333333333333333,
              "#9c179e"
             ],
             [
              0.4444444444444444,
              "#bd3786"
             ],
             [
              0.5555555555555556,
              "#d8576b"
             ],
             [
              0.6666666666666666,
              "#ed7953"
             ],
             [
              0.7777777777777778,
              "#fb9f3a"
             ],
             [
              0.8888888888888888,
              "#fdca26"
             ],
             [
              1,
              "#f0f921"
             ]
            ],
            "type": "heatmap"
           }
          ],
          "histogram": [
           {
            "marker": {
             "pattern": {
              "fillmode": "overlay",
              "size": 10,
              "solidity": 0.2
             }
            },
            "type": "histogram"
           }
          ],
          "histogram2d": [
           {
            "colorbar": {
             "outlinewidth": 0,
             "ticks": ""
            },
            "colorscale": [
             [
              0,
              "#0d0887"
             ],
             [
              0.1111111111111111,
              "#46039f"
             ],
             [
              0.2222222222222222,
              "#7201a8"
             ],
             [
              0.3333333333333333,
              "#9c179e"
             ],
             [
              0.4444444444444444,
              "#bd3786"
             ],
             [
              0.5555555555555556,
              "#d8576b"
             ],
             [
              0.6666666666666666,
              "#ed7953"
             ],
             [
              0.7777777777777778,
              "#fb9f3a"
             ],
             [
              0.8888888888888888,
              "#fdca26"
             ],
             [
              1,
              "#f0f921"
             ]
            ],
            "type": "histogram2d"
           }
          ],
          "histogram2dcontour": [
           {
            "colorbar": {
             "outlinewidth": 0,
             "ticks": ""
            },
            "colorscale": [
             [
              0,
              "#0d0887"
             ],
             [
              0.1111111111111111,
              "#46039f"
             ],
             [
              0.2222222222222222,
              "#7201a8"
             ],
             [
              0.3333333333333333,
              "#9c179e"
             ],
             [
              0.4444444444444444,
              "#bd3786"
             ],
             [
              0.5555555555555556,
              "#d8576b"
             ],
             [
              0.6666666666666666,
              "#ed7953"
             ],
             [
              0.7777777777777778,
              "#fb9f3a"
             ],
             [
              0.8888888888888888,
              "#fdca26"
             ],
             [
              1,
              "#f0f921"
             ]
            ],
            "type": "histogram2dcontour"
           }
          ],
          "mesh3d": [
           {
            "colorbar": {
             "outlinewidth": 0,
             "ticks": ""
            },
            "type": "mesh3d"
           }
          ],
          "parcoords": [
           {
            "line": {
             "colorbar": {
              "outlinewidth": 0,
              "ticks": ""
             }
            },
            "type": "parcoords"
           }
          ],
          "pie": [
           {
            "automargin": true,
            "type": "pie"
           }
          ],
          "scatter": [
           {
            "fillpattern": {
             "fillmode": "overlay",
             "size": 10,
             "solidity": 0.2
            },
            "type": "scatter"
           }
          ],
          "scatter3d": [
           {
            "line": {
             "colorbar": {
              "outlinewidth": 0,
              "ticks": ""
             }
            },
            "marker": {
             "colorbar": {
              "outlinewidth": 0,
              "ticks": ""
             }
            },
            "type": "scatter3d"
           }
          ],
          "scattercarpet": [
           {
            "marker": {
             "colorbar": {
              "outlinewidth": 0,
              "ticks": ""
             }
            },
            "type": "scattercarpet"
           }
          ],
          "scattergeo": [
           {
            "marker": {
             "colorbar": {
              "outlinewidth": 0,
              "ticks": ""
             }
            },
            "type": "scattergeo"
           }
          ],
          "scattergl": [
           {
            "marker": {
             "colorbar": {
              "outlinewidth": 0,
              "ticks": ""
             }
            },
            "type": "scattergl"
           }
          ],
          "scattermap": [
           {
            "marker": {
             "colorbar": {
              "outlinewidth": 0,
              "ticks": ""
             }
            },
            "type": "scattermap"
           }
          ],
          "scattermapbox": [
           {
            "marker": {
             "colorbar": {
              "outlinewidth": 0,
              "ticks": ""
             }
            },
            "type": "scattermapbox"
           }
          ],
          "scatterpolar": [
           {
            "marker": {
             "colorbar": {
              "outlinewidth": 0,
              "ticks": ""
             }
            },
            "type": "scatterpolar"
           }
          ],
          "scatterpolargl": [
           {
            "marker": {
             "colorbar": {
              "outlinewidth": 0,
              "ticks": ""
             }
            },
            "type": "scatterpolargl"
           }
          ],
          "scatterternary": [
           {
            "marker": {
             "colorbar": {
              "outlinewidth": 0,
              "ticks": ""
             }
            },
            "type": "scatterternary"
           }
          ],
          "surface": [
           {
            "colorbar": {
             "outlinewidth": 0,
             "ticks": ""
            },
            "colorscale": [
             [
              0,
              "#0d0887"
             ],
             [
              0.1111111111111111,
              "#46039f"
             ],
             [
              0.2222222222222222,
              "#7201a8"
             ],
             [
              0.3333333333333333,
              "#9c179e"
             ],
             [
              0.4444444444444444,
              "#bd3786"
             ],
             [
              0.5555555555555556,
              "#d8576b"
             ],
             [
              0.6666666666666666,
              "#ed7953"
             ],
             [
              0.7777777777777778,
              "#fb9f3a"
             ],
             [
              0.8888888888888888,
              "#fdca26"
             ],
             [
              1,
              "#f0f921"
             ]
            ],
            "type": "surface"
           }
          ],
          "table": [
           {
            "cells": {
             "fill": {
              "color": "#EBF0F8"
             },
             "line": {
              "color": "white"
             }
            },
            "header": {
             "fill": {
              "color": "#C8D4E3"
             },
             "line": {
              "color": "white"
             }
            },
            "type": "table"
           }
          ]
         },
         "layout": {
          "annotationdefaults": {
           "arrowcolor": "#2a3f5f",
           "arrowhead": 0,
           "arrowwidth": 1
          },
          "autotypenumbers": "strict",
          "coloraxis": {
           "colorbar": {
            "outlinewidth": 0,
            "ticks": ""
           }
          },
          "colorscale": {
           "diverging": [
            [
             0,
             "#8e0152"
            ],
            [
             0.1,
             "#c51b7d"
            ],
            [
             0.2,
             "#de77ae"
            ],
            [
             0.3,
             "#f1b6da"
            ],
            [
             0.4,
             "#fde0ef"
            ],
            [
             0.5,
             "#f7f7f7"
            ],
            [
             0.6,
             "#e6f5d0"
            ],
            [
             0.7,
             "#b8e186"
            ],
            [
             0.8,
             "#7fbc41"
            ],
            [
             0.9,
             "#4d9221"
            ],
            [
             1,
             "#276419"
            ]
           ],
           "sequential": [
            [
             0,
             "#0d0887"
            ],
            [
             0.1111111111111111,
             "#46039f"
            ],
            [
             0.2222222222222222,
             "#7201a8"
            ],
            [
             0.3333333333333333,
             "#9c179e"
            ],
            [
             0.4444444444444444,
             "#bd3786"
            ],
            [
             0.5555555555555556,
             "#d8576b"
            ],
            [
             0.6666666666666666,
             "#ed7953"
            ],
            [
             0.7777777777777778,
             "#fb9f3a"
            ],
            [
             0.8888888888888888,
             "#fdca26"
            ],
            [
             1,
             "#f0f921"
            ]
           ],
           "sequentialminus": [
            [
             0,
             "#0d0887"
            ],
            [
             0.1111111111111111,
             "#46039f"
            ],
            [
             0.2222222222222222,
             "#7201a8"
            ],
            [
             0.3333333333333333,
             "#9c179e"
            ],
            [
             0.4444444444444444,
             "#bd3786"
            ],
            [
             0.5555555555555556,
             "#d8576b"
            ],
            [
             0.6666666666666666,
             "#ed7953"
            ],
            [
             0.7777777777777778,
             "#fb9f3a"
            ],
            [
             0.8888888888888888,
             "#fdca26"
            ],
            [
             1,
             "#f0f921"
            ]
           ]
          },
          "colorway": [
           "#636efa",
           "#EF553B",
           "#00cc96",
           "#ab63fa",
           "#FFA15A",
           "#19d3f3",
           "#FF6692",
           "#B6E880",
           "#FF97FF",
           "#FECB52"
          ],
          "font": {
           "color": "#2a3f5f"
          },
          "geo": {
           "bgcolor": "white",
           "lakecolor": "white",
           "landcolor": "#E5ECF6",
           "showlakes": true,
           "showland": true,
           "subunitcolor": "white"
          },
          "hoverlabel": {
           "align": "left"
          },
          "hovermode": "closest",
          "mapbox": {
           "style": "light"
          },
          "paper_bgcolor": "white",
          "plot_bgcolor": "#E5ECF6",
          "polar": {
           "angularaxis": {
            "gridcolor": "white",
            "linecolor": "white",
            "ticks": ""
           },
           "bgcolor": "#E5ECF6",
           "radialaxis": {
            "gridcolor": "white",
            "linecolor": "white",
            "ticks": ""
           }
          },
          "scene": {
           "xaxis": {
            "backgroundcolor": "#E5ECF6",
            "gridcolor": "white",
            "gridwidth": 2,
            "linecolor": "white",
            "showbackground": true,
            "ticks": "",
            "zerolinecolor": "white"
           },
           "yaxis": {
            "backgroundcolor": "#E5ECF6",
            "gridcolor": "white",
            "gridwidth": 2,
            "linecolor": "white",
            "showbackground": true,
            "ticks": "",
            "zerolinecolor": "white"
           },
           "zaxis": {
            "backgroundcolor": "#E5ECF6",
            "gridcolor": "white",
            "gridwidth": 2,
            "linecolor": "white",
            "showbackground": true,
            "ticks": "",
            "zerolinecolor": "white"
           }
          },
          "shapedefaults": {
           "line": {
            "color": "#2a3f5f"
           }
          },
          "ternary": {
           "aaxis": {
            "gridcolor": "white",
            "linecolor": "white",
            "ticks": ""
           },
           "baxis": {
            "gridcolor": "white",
            "linecolor": "white",
            "ticks": ""
           },
           "bgcolor": "#E5ECF6",
           "caxis": {
            "gridcolor": "white",
            "linecolor": "white",
            "ticks": ""
           }
          },
          "title": {
           "x": 0.05
          },
          "xaxis": {
           "automargin": true,
           "gridcolor": "white",
           "linecolor": "white",
           "ticks": "",
           "title": {
            "standoff": 15
           },
           "zerolinecolor": "white",
           "zerolinewidth": 2
          },
          "yaxis": {
           "automargin": true,
           "gridcolor": "white",
           "linecolor": "white",
           "ticks": "",
           "title": {
            "standoff": 15
           },
           "zerolinecolor": "white",
           "zerolinewidth": 2
          }
         }
        },
        "title": {
         "text": "Taxa de Conversão de Ofertas por Faixa Etária e Tipo de Oferta",
         "x": 0.5,
         "xanchor": "center"
        },
        "width": 1600,
        "xaxis": {
         "anchor": "y",
         "autorange": true,
         "domain": [
          0,
          1
         ],
         "range": [
          -0.5,
          9.5
         ],
         "title": {
          "text": "Faixa Etária"
         },
         "type": "category"
        },
        "yaxis": {
         "anchor": "x",
         "autorange": true,
         "domain": [
          0,
          1
         ],
         "range": [
          0,
          0.15191696951838393
         ],
         "tickformat": ".0%",
         "title": {
          "text": "Taxa de Conversão"
         },
         "type": "linear"
        }
       }
      },
      "image/png": "[encoded data removed]"
     },
     "metadata": {},
     "output_type": "display_data"
    }
   ],
   "source": [
    "fig = px.bar(\n",
    "    df_merge_analysis.groupBy('age_group', 'age_group_index', 'offer_type').agg(F.sum('qtd_offer_completed').alias('qtd_offer_completed'))\\\n",
    "                     .join(df_merge_analysis.groupBy('offer_type').agg(F.sum('qtd_offer_received').alias('total_ofertas')), on='offer_type', how='inner')\\\n",
    "                     .withColumn('rate_convertion', F.col('qtd_offer_completed')/F.col('total_ofertas'))\\\n",
    "                     .orderBy('age_group_index').toPandas(),\n",
    "    x=\"age_group\",\n",
    "    y=\"rate_convertion\",\n",
    "    color=\"offer_type\",\n",
    "    barmode=\"group\",\n",
    "    text=\"rate_convertion\",\n",
    "    labels={\n",
    "        \"age_group\": \"Faixa Etária\",\n",
    "        \"rate_convertion\": \"Taxa de Conversão\",\n",
    "        \"offer_type\": \"Tipo de Oferta\"\n",
    "    },\n",
    "    title=\"Taxa de Conversão de Ofertas por Faixa Etária e Tipo de Oferta\"\n",
    ")\n",
    "fig.update_traces(texttemplate='%{text:.2%}', textposition='outside')\n",
    "\n",
    "fig.update_layout(\n",
    "    title=dict(x=0.5, xanchor=\"center\"),\n",
    "    height=600,\n",
    "    width=1600,\n",
    "    plot_bgcolor=\"#f2ede6\",  \n",
    "    paper_bgcolor=\"#f2ede6\",\n",
    "    yaxis_tickformat=\".0%\"\n",
    ")\n",
    "\n",
    "fig.show()"
   ]
  },
  {
   "cell_type": "markdown",
   "metadata": {
    "application/vnd.databricks.v1+cell": {
     "cellMetadata": {},
     "inputWidgets": {},
     "nuid": "8db7b4dc-f946-4088-bec9-0543b3ae7e54",
     "showTitle": false,
     "tableResultSettingsMap": {},
     "title": ""
    }
   },
   "source": [
    "##### Analisando Ofertas completadaspor Tipo de Oferta"
   ]
  },
  {
   "cell_type": "code",
   "execution_count": 12,
   "metadata": {
    "application/vnd.databricks.v1+cell": {
     "cellMetadata": {
      "byteLimit": 2048000,
      "rowLimit": 10000
     },
     "inputWidgets": {},
     "nuid": "a4dd61b4-d9d9-49af-bf94-70deba7f73bc",
     "showTitle": false,
     "tableResultSettingsMap": {},
     "title": ""
    }
   },
   "outputs": [
    {
     "data": {
      "application/vnd.plotly.v1+json": {
       "config": {
        "plotlyServerURL": "https://plot.ly"
       },
       "data": [
        {
         "hovertemplate": "Tipo de Oferta=%{x}<br>Quantidade Completada=%{text}<extra></extra>",
         "legendgroup": "",
         "marker": {
          "color": "#636efa",
          "pattern": {
           "shape": ""
          }
         },
         "name": "",
         "orientation": "v",
         "showlegend": false,
         "text": {
          "_inputArray": {
           "0": 17910,
           "1": 0,
           "2": 15669,
           "bdata": "AAAAAIB90UAAAAAAAAAAAAAAAACAms5A",
           "dtype": "f8",
           "shape": "3"
          },
          "bdata": "AAAAAIB90UAAAAAAAAAAAAAAAACAms5A",
          "dtype": "f8"
         },
         "textposition": "outside",
         "type": "bar",
         "x": [
          "discount",
          "informational",
          "bogo"
         ],
         "xaxis": "x",
         "y": {
          "_inputArray": {
           "0": 17910,
           "1": 0,
           "2": 15669,
           "bdata": "9kUAADU9",
           "dtype": "i2",
           "shape": "3"
          },
          "bdata": "9kUAADU9",
          "dtype": "i2"
         },
         "yaxis": "y"
        }
       ],
       "layout": {
        "barmode": "relative",
        "height": 600,
        "legend": {
         "tracegroupgap": 0
        },
        "paper_bgcolor": "#f2ede6",
        "plot_bgcolor": "#f2ede6",
        "template": {
         "data": {
          "bar": [
           {
            "error_x": {
             "color": "#2a3f5f"
            },
            "error_y": {
             "color": "#2a3f5f"
            },
            "marker": {
             "line": {
              "color": "#E5ECF6",
              "width": 0.5
             },
             "pattern": {
              "fillmode": "overlay",
              "size": 10,
              "solidity": 0.2
             }
            },
            "type": "bar"
           }
          ],
          "barpolar": [
           {
            "marker": {
             "line": {
              "color": "#E5ECF6",
              "width": 0.5
             },
             "pattern": {
              "fillmode": "overlay",
              "size": 10,
              "solidity": 0.2
             }
            },
            "type": "barpolar"
           }
          ],
          "carpet": [
           {
            "aaxis": {
             "endlinecolor": "#2a3f5f",
             "gridcolor": "white",
             "linecolor": "white",
             "minorgridcolor": "white",
             "startlinecolor": "#2a3f5f"
            },
            "baxis": {
             "endlinecolor": "#2a3f5f",
             "gridcolor": "white",
             "linecolor": "white",
             "minorgridcolor": "white",
             "startlinecolor": "#2a3f5f"
            },
            "type": "carpet"
           }
          ],
          "choropleth": [
           {
            "colorbar": {
             "outlinewidth": 0,
             "ticks": ""
            },
            "type": "choropleth"
           }
          ],
          "contour": [
           {
            "colorbar": {
             "outlinewidth": 0,
             "ticks": ""
            },
            "colorscale": [
             [
              0,
              "#0d0887"
             ],
             [
              0.1111111111111111,
              "#46039f"
             ],
             [
              0.2222222222222222,
              "#7201a8"
             ],
             [
              0.3333333333333333,
              "#9c179e"
             ],
             [
              0.4444444444444444,
              "#bd3786"
             ],
             [
              0.5555555555555556,
              "#d8576b"
             ],
             [
              0.6666666666666666,
              "#ed7953"
             ],
             [
              0.7777777777777778,
              "#fb9f3a"
             ],
             [
              0.8888888888888888,
              "#fdca26"
             ],
             [
              1,
              "#f0f921"
             ]
            ],
            "type": "contour"
           }
          ],
          "contourcarpet": [
           {
            "colorbar": {
             "outlinewidth": 0,
             "ticks": ""
            },
            "type": "contourcarpet"
           }
          ],
          "heatmap": [
           {
            "colorbar": {
             "outlinewidth": 0,
             "ticks": ""
            },
            "colorscale": [
             [
              0,
              "#0d0887"
             ],
             [
              0.1111111111111111,
              "#46039f"
             ],
             [
              0.2222222222222222,
              "#7201a8"
             ],
             [
              0.3333333333333333,
              "#9c179e"
             ],
             [
              0.4444444444444444,
              "#bd3786"
             ],
             [
              0.5555555555555556,
              "#d8576b"
             ],
             [
              0.6666666666666666,
              "#ed7953"
             ],
             [
              0.7777777777777778,
              "#fb9f3a"
             ],
             [
              0.8888888888888888,
              "#fdca26"
             ],
             [
              1,
              "#f0f921"
             ]
            ],
            "type": "heatmap"
           }
          ],
          "histogram": [
           {
            "marker": {
             "pattern": {
              "fillmode": "overlay",
              "size": 10,
              "solidity": 0.2
             }
            },
            "type": "histogram"
           }
          ],
          "histogram2d": [
           {
            "colorbar": {
             "outlinewidth": 0,
             "ticks": ""
            },
            "colorscale": [
             [
              0,
              "#0d0887"
             ],
             [
              0.1111111111111111,
              "#46039f"
             ],
             [
              0.2222222222222222,
              "#7201a8"
             ],
             [
              0.3333333333333333,
              "#9c179e"
             ],
             [
              0.4444444444444444,
              "#bd3786"
             ],
             [
              0.5555555555555556,
              "#d8576b"
             ],
             [
              0.6666666666666666,
              "#ed7953"
             ],
             [
              0.7777777777777778,
              "#fb9f3a"
             ],
             [
              0.8888888888888888,
              "#fdca26"
             ],
             [
              1,
              "#f0f921"
             ]
            ],
            "type": "histogram2d"
           }
          ],
          "histogram2dcontour": [
           {
            "colorbar": {
             "outlinewidth": 0,
             "ticks": ""
            },
            "colorscale": [
             [
              0,
              "#0d0887"
             ],
             [
              0.1111111111111111,
              "#46039f"
             ],
             [
              0.2222222222222222,
              "#7201a8"
             ],
             [
              0.3333333333333333,
              "#9c179e"
             ],
             [
              0.4444444444444444,
              "#bd3786"
             ],
             [
              0.5555555555555556,
              "#d8576b"
             ],
             [
              0.6666666666666666,
              "#ed7953"
             ],
             [
              0.7777777777777778,
              "#fb9f3a"
             ],
             [
              0.8888888888888888,
              "#fdca26"
             ],
             [
              1,
              "#f0f921"
             ]
            ],
            "type": "histogram2dcontour"
           }
          ],
          "mesh3d": [
           {
            "colorbar": {
             "outlinewidth": 0,
             "ticks": ""
            },
            "type": "mesh3d"
           }
          ],
          "parcoords": [
           {
            "line": {
             "colorbar": {
              "outlinewidth": 0,
              "ticks": ""
             }
            },
            "type": "parcoords"
           }
          ],
          "pie": [
           {
            "automargin": true,
            "type": "pie"
           }
          ],
          "scatter": [
           {
            "fillpattern": {
             "fillmode": "overlay",
             "size": 10,
             "solidity": 0.2
            },
            "type": "scatter"
           }
          ],
          "scatter3d": [
           {
            "line": {
             "colorbar": {
              "outlinewidth": 0,
              "ticks": ""
             }
            },
            "marker": {
             "colorbar": {
              "outlinewidth": 0,
              "ticks": ""
             }
            },
            "type": "scatter3d"
           }
          ],
          "scattercarpet": [
           {
            "marker": {
             "colorbar": {
              "outlinewidth": 0,
              "ticks": ""
             }
            },
            "type": "scattercarpet"
           }
          ],
          "scattergeo": [
           {
            "marker": {
             "colorbar": {
              "outlinewidth": 0,
              "ticks": ""
             }
            },
            "type": "scattergeo"
           }
          ],
          "scattergl": [
           {
            "marker": {
             "colorbar": {
              "outlinewidth": 0,
              "ticks": ""
             }
            },
            "type": "scattergl"
           }
          ],
          "scattermap": [
           {
            "marker": {
             "colorbar": {
              "outlinewidth": 0,
              "ticks": ""
             }
            },
            "type": "scattermap"
           }
          ],
          "scattermapbox": [
           {
            "marker": {
             "colorbar": {
              "outlinewidth": 0,
              "ticks": ""
             }
            },
            "type": "scattermapbox"
           }
          ],
          "scatterpolar": [
           {
            "marker": {
             "colorbar": {
              "outlinewidth": 0,
              "ticks": ""
             }
            },
            "type": "scatterpolar"
           }
          ],
          "scatterpolargl": [
           {
            "marker": {
             "colorbar": {
              "outlinewidth": 0,
              "ticks": ""
             }
            },
            "type": "scatterpolargl"
           }
          ],
          "scatterternary": [
           {
            "marker": {
             "colorbar": {
              "outlinewidth": 0,
              "ticks": ""
             }
            },
            "type": "scatterternary"
           }
          ],
          "surface": [
           {
            "colorbar": {
             "outlinewidth": 0,
             "ticks": ""
            },
            "colorscale": [
             [
              0,
              "#0d0887"
             ],
             [
              0.1111111111111111,
              "#46039f"
             ],
             [
              0.2222222222222222,
              "#7201a8"
             ],
             [
              0.3333333333333333,
              "#9c179e"
             ],
             [
              0.4444444444444444,
              "#bd3786"
             ],
             [
              0.5555555555555556,
              "#d8576b"
             ],
             [
              0.6666666666666666,
              "#ed7953"
             ],
             [
              0.7777777777777778,
              "#fb9f3a"
             ],
             [
              0.8888888888888888,
              "#fdca26"
             ],
             [
              1,
              "#f0f921"
             ]
            ],
            "type": "surface"
           }
          ],
          "table": [
           {
            "cells": {
             "fill": {
              "color": "#EBF0F8"
             },
             "line": {
              "color": "white"
             }
            },
            "header": {
             "fill": {
              "color": "#C8D4E3"
             },
             "line": {
              "color": "white"
             }
            },
            "type": "table"
           }
          ]
         },
         "layout": {
          "annotationdefaults": {
           "arrowcolor": "#2a3f5f",
           "arrowhead": 0,
           "arrowwidth": 1
          },
          "autotypenumbers": "strict",
          "coloraxis": {
           "colorbar": {
            "outlinewidth": 0,
            "ticks": ""
           }
          },
          "colorscale": {
           "diverging": [
            [
             0,
             "#8e0152"
            ],
            [
             0.1,
             "#c51b7d"
            ],
            [
             0.2,
             "#de77ae"
            ],
            [
             0.3,
             "#f1b6da"
            ],
            [
             0.4,
             "#fde0ef"
            ],
            [
             0.5,
             "#f7f7f7"
            ],
            [
             0.6,
             "#e6f5d0"
            ],
            [
             0.7,
             "#b8e186"
            ],
            [
             0.8,
             "#7fbc41"
            ],
            [
             0.9,
             "#4d9221"
            ],
            [
             1,
             "#276419"
            ]
           ],
           "sequential": [
            [
             0,
             "#0d0887"
            ],
            [
             0.1111111111111111,
             "#46039f"
            ],
            [
             0.2222222222222222,
             "#7201a8"
            ],
            [
             0.3333333333333333,
             "#9c179e"
            ],
            [
             0.4444444444444444,
             "#bd3786"
            ],
            [
             0.5555555555555556,
             "#d8576b"
            ],
            [
             0.6666666666666666,
             "#ed7953"
            ],
            [
             0.7777777777777778,
             "#fb9f3a"
            ],
            [
             0.8888888888888888,
             "#fdca26"
            ],
            [
             1,
             "#f0f921"
            ]
           ],
           "sequentialminus": [
            [
             0,
             "#0d0887"
            ],
            [
             0.1111111111111111,
             "#46039f"
            ],
            [
             0.2222222222222222,
             "#7201a8"
            ],
            [
             0.3333333333333333,
             "#9c179e"
            ],
            [
             0.4444444444444444,
             "#bd3786"
            ],
            [
             0.5555555555555556,
             "#d8576b"
            ],
            [
             0.6666666666666666,
             "#ed7953"
            ],
            [
             0.7777777777777778,
             "#fb9f3a"
            ],
            [
             0.8888888888888888,
             "#fdca26"
            ],
            [
             1,
             "#f0f921"
            ]
           ]
          },
          "colorway": [
           "#636efa",
           "#EF553B",
           "#00cc96",
           "#ab63fa",
           "#FFA15A",
           "#19d3f3",
           "#FF6692",
           "#B6E880",
           "#FF97FF",
           "#FECB52"
          ],
          "font": {
           "color": "#2a3f5f"
          },
          "geo": {
           "bgcolor": "white",
           "lakecolor": "white",
           "landcolor": "#E5ECF6",
           "showlakes": true,
           "showland": true,
           "subunitcolor": "white"
          },
          "hoverlabel": {
           "align": "left"
          },
          "hovermode": "closest",
          "mapbox": {
           "style": "light"
          },
          "paper_bgcolor": "white",
          "plot_bgcolor": "#E5ECF6",
          "polar": {
           "angularaxis": {
            "gridcolor": "white",
            "linecolor": "white",
            "ticks": ""
           },
           "bgcolor": "#E5ECF6",
           "radialaxis": {
            "gridcolor": "white",
            "linecolor": "white",
            "ticks": ""
           }
          },
          "scene": {
           "xaxis": {
            "backgroundcolor": "#E5ECF6",
            "gridcolor": "white",
            "gridwidth": 2,
            "linecolor": "white",
            "showbackground": true,
            "ticks": "",
            "zerolinecolor": "white"
           },
           "yaxis": {
            "backgroundcolor": "#E5ECF6",
            "gridcolor": "white",
            "gridwidth": 2,
            "linecolor": "white",
            "showbackground": true,
            "ticks": "",
            "zerolinecolor": "white"
           },
           "zaxis": {
            "backgroundcolor": "#E5ECF6",
            "gridcolor": "white",
            "gridwidth": 2,
            "linecolor": "white",
            "showbackground": true,
            "ticks": "",
            "zerolinecolor": "white"
           }
          },
          "shapedefaults": {
           "line": {
            "color": "#2a3f5f"
           }
          },
          "ternary": {
           "aaxis": {
            "gridcolor": "white",
            "linecolor": "white",
            "ticks": ""
           },
           "baxis": {
            "gridcolor": "white",
            "linecolor": "white",
            "ticks": ""
           },
           "bgcolor": "#E5ECF6",
           "caxis": {
            "gridcolor": "white",
            "linecolor": "white",
            "ticks": ""
           }
          },
          "title": {
           "x": 0.05
          },
          "xaxis": {
           "automargin": true,
           "gridcolor": "white",
           "linecolor": "white",
           "ticks": "",
           "title": {
            "standoff": 15
           },
           "zerolinecolor": "white",
           "zerolinewidth": 2
          },
          "yaxis": {
           "automargin": true,
           "gridcolor": "white",
           "linecolor": "white",
           "ticks": "",
           "title": {
            "standoff": 15
           },
           "zerolinecolor": "white",
           "zerolinewidth": 2
          }
         }
        },
        "title": {
         "text": "Ofertas Completadas por Tipo de Oferta",
         "x": 0.5,
         "xanchor": "center"
        },
        "width": 800,
        "xaxis": {
         "anchor": "y",
         "autorange": true,
         "domain": [
          0,
          1
         ],
         "range": [
          -0.5,
          2.5
         ],
         "title": {
          "text": "Tipo de Oferta"
         },
         "type": "category"
        },
        "yaxis": {
         "anchor": "x",
         "autorange": true,
         "domain": [
          0,
          1
         ],
         "range": [
          0,
          18852.63157894737
         ],
         "title": {
          "text": "Quantidade Completada"
         },
         "type": "linear"
        }
       }
      },
      "image/png": "[encoded data removed]"
     },
     "metadata": {},
     "output_type": "display_data"
    }
   ],
   "source": [
    "fig = px.bar(\n",
    "    df_merge_analysis.groupBy('offer_type').agg(F.sum('qtd_offer_completed').alias('qtd_offer_completed')).toPandas(),\n",
    "    x=\"offer_type\",\n",
    "    y=\"qtd_offer_completed\",\n",
    "    text=\"qtd_offer_completed\",\n",
    "    title=\"Ofertas Completadas por Tipo de Oferta\",\n",
    "    labels={\"offer_type\": \"Tipo de Oferta\", \"qtd_offer_completed\": \"Quantidade Completada\"},\n",
    ")\n",
    "\n",
    "fig.update_traces(textposition='outside')\n",
    "\n",
    "fig.update_layout(\n",
    "    title=dict(x=0.5, xanchor=\"center\"),\n",
    "    height=600,\n",
    "    width=800,\n",
    "    plot_bgcolor=\"#f2ede6\",  \n",
    "    paper_bgcolor=\"#f2ede6\",\n",
    ")\n",
    "fig.show()"
   ]
  },
  {
   "cell_type": "markdown",
   "metadata": {
    "application/vnd.databricks.v1+cell": {
     "cellMetadata": {},
     "inputWidgets": {},
     "nuid": "151b3b3e-b178-4b2f-877a-6cc901cd1666",
     "showTitle": false,
     "tableResultSettingsMap": {},
     "title": ""
    }
   },
   "source": [
    "##### Analisando Ofertas completadas por Faixa Etaroa e Renda"
   ]
  },
  {
   "cell_type": "code",
   "execution_count": 13,
   "metadata": {
    "application/vnd.databricks.v1+cell": {
     "cellMetadata": {
      "byteLimit": 2048000,
      "rowLimit": 10000
     },
     "inputWidgets": {},
     "nuid": "a0024580-1511-475b-a22d-2a508a3f4c18",
     "showTitle": false,
     "tableResultSettingsMap": {},
     "title": ""
    }
   },
   "outputs": [
    {
     "data": {
      "application/vnd.plotly.v1+json": {
       "config": {
        "plotlyServerURL": "https://plot.ly"
       },
       "data": [
        {
         "hovertemplate": "Faixa etária=%{x}<br>Quantidade Completada=%{text}<br>Renda=%{marker.color}<extra></extra>",
         "legendgroup": "",
         "marker": {
          "color": {
           "_inputArray": {
            "0": 1,
            "1": 4,
            "10": 5,
            "11": 1,
            "12": 2,
            "13": 3,
            "14": 4,
            "15": 1,
            "16": 3,
            "17": 4,
            "18": 5,
            "19": 2,
            "2": 3,
            "20": 4,
            "21": 1,
            "22": 3,
            "23": 2,
            "24": 5,
            "25": 5,
            "26": 2,
            "27": 4,
            "28": 1,
            "29": 3,
            "3": 2,
            "30": 3,
            "31": 4,
            "32": 2,
            "33": 1,
            "34": 5,
            "35": 2,
            "36": 1,
            "37": 3,
            "38": 4,
            "39": 5,
            "4": 5,
            "40": 2,
            "41": 3,
            "42": 1,
            "43": 4,
            "44": 5,
            "45": 5,
            "46": 2,
            "47": 4,
            "48": 3,
            "49": 1,
            "5": 4,
            "6": 1,
            "7": 3,
            "8": 2,
            "9": 5,
            "bdata": "AQAAAAQAAAADAAAAAgAAAAUAAAAEAAAAAQAAAAMAAAACAAAABQAAAAUAAAABAAAAAgAAAAMAAAAEAAAAAQAAAAMAAAAEAAAABQAAAAIAAAAEAAAAAQAAAAMAAAACAAAABQAAAAUAAAACAAAABAAAAAEAAAADAAAAAwAAAAQAAAACAAAAAQAAAAUAAAACAAAAAQAAAAMAAAAEAAAABQAAAAIAAAADAAAAAQAAAAQAAAAFAAAABQAAAAIAAAAEAAAAAwAAAAEAAAA=",
            "dtype": "i4",
            "shape": "50"
           },
           "bdata": "AQAAAAQAAAADAAAAAgAAAAUAAAAEAAAAAQAAAAMAAAACAAAABQAAAAUAAAABAAAAAgAAAAMAAAAEAAAAAQAAAAMAAAAEAAAABQAAAAIAAAAEAAAAAQAAAAMAAAACAAAABQAAAAUAAAACAAAABAAAAAEAAAADAAAAAwAAAAQAAAACAAAAAQAAAAUAAAACAAAAAQAAAAMAAAAEAAAABQAAAAIAAAADAAAAAQAAAAQAAAAFAAAABQAAAAIAAAAEAAAAAwAAAAEAAAA=",
           "dtype": "i4"
          },
          "coloraxis": "coloraxis",
          "pattern": {
           "shape": ""
          }
         },
         "name": "",
         "orientation": "v",
         "showlegend": false,
         "text": {
          "_inputArray": {
           "0": 148,
           "1": 16,
           "10": 29,
           "11": 1144,
           "12": 1059,
           "13": 691,
           "14": 223,
           "15": 988,
           "16": 1404,
           "17": 927,
           "18": 86,
           "19": 1587,
           "2": 72,
           "20": 2535,
           "21": 1032,
           "22": 2498,
           "23": 1720,
           "24": 647,
           "25": 546,
           "26": 1474,
           "27": 2025,
           "28": 922,
           "29": 2061,
           "3": 118,
           "30": 1061,
           "31": 1318,
           "32": 894,
           "33": 584,
           "34": 352,
           "35": 426,
           "36": 279,
           "37": 596,
           "38": 634,
           "39": 187,
           "4": 1,
           "40": 132,
           "41": 185,
           "42": 108,
           "43": 225,
           "44": 72,
           "45": 8,
           "46": 14,
           "47": 22,
           "48": 10,
           "49": 16,
           "5": 25,
           "6": 1072,
           "7": 571,
           "8": 820,
           "9": 15,
           "bdata": "AAAAAACAYkAAAAAAAAAwQAAAAAAAAFJAAAAAAACAXUAAAAAAAADwPwAAAAAAADlAAAAAAADAkEAAAAAAANiBQAAAAAAAoIlAAAAAAAAALkAAAAAAAAA9QAAAAAAA4JFAAAAAAACMkEAAAAAAAJiFQAAAAAAA4GtAAAAAAADgjkAAAAAAAPCVQAAAAAAA+IxAAAAAAACAVUAAAAAAAMyYQAAAAAAAzqNAAAAAAAAgkEAAAAAAAISjQAAAAAAA4JpAAAAAAAA4hEAAAAAAABCBQAAAAAAACJdAAAAAAACkn0AAAAAAANCMQAAAAAAAGqBAAAAAAACUkEAAAAAAAJiUQAAAAAAA8ItAAAAAAABAgkAAAAAAAAB2QAAAAAAAoHpAAAAAAABwcUAAAAAAAKCCQAAAAAAA0INAAAAAAABgZ0AAAAAAAIBgQAAAAAAAIGdAAAAAAAAAW0AAAAAAACBsQAAAAAAAAFJAAAAAAAAAIEAAAAAAAAAsQAAAAAAAADZAAAAAAAAAJEAAAAAAAAAwQA==",
           "dtype": "f8",
           "shape": "50"
          },
          "bdata": "AAAAAACAYkAAAAAAAAAwQAAAAAAAAFJAAAAAAACAXUAAAAAAAADwPwAAAAAAADlAAAAAAADAkEAAAAAAANiBQAAAAAAAoIlAAAAAAAAALkAAAAAAAAA9QAAAAAAA4JFAAAAAAACMkEAAAAAAAJiFQAAAAAAA4GtAAAAAAADgjkAAAAAAAPCVQAAAAAAA+IxAAAAAAACAVUAAAAAAAMyYQAAAAAAAzqNAAAAAAAAgkEAAAAAAAISjQAAAAAAA4JpAAAAAAAA4hEAAAAAAABCBQAAAAAAACJdAAAAAAACkn0AAAAAAANCMQAAAAAAAGqBAAAAAAACUkEAAAAAAAJiUQAAAAAAA8ItAAAAAAABAgkAAAAAAAAB2QAAAAAAAoHpAAAAAAABwcUAAAAAAAKCCQAAAAAAA0INAAAAAAABgZ0AAAAAAAIBgQAAAAAAAIGdAAAAAAAAAW0AAAAAAACBsQAAAAAAAAFJAAAAAAAAAIEAAAAAAAAAsQAAAAAAAADZAAAAAAAAAJEAAAAAAAAAwQA==",
          "dtype": "f8"
         },
         "textposition": "outside",
         "type": "bar",
         "x": [
          "10-19",
          "10-19",
          "10-19",
          "10-19",
          "10-19",
          "20-29",
          "20-29",
          "20-29",
          "20-29",
          "20-29",
          "30-39",
          "30-39",
          "30-39",
          "30-39",
          "30-39",
          "40-49",
          "40-49",
          "40-49",
          "40-49",
          "40-49",
          "50-59",
          "50-59",
          "50-59",
          "50-59",
          "50-59",
          "60-69",
          "60-69",
          "60-69",
          "60-69",
          "60-69",
          "70-79",
          "70-79",
          "70-79",
          "70-79",
          "70-79",
          "80-89",
          "80-89",
          "80-89",
          "80-89",
          "80-89",
          "90-99",
          "90-99",
          "90-99",
          "90-99",
          "90-99",
          "100-109",
          "100-109",
          "100-109",
          "100-109",
          "100-109"
         ],
         "xaxis": "x",
         "y": {
          "_inputArray": {
           "0": 148,
           "1": 16,
           "10": 29,
           "11": 1144,
           "12": 1059,
           "13": 691,
           "14": 223,
           "15": 988,
           "16": 1404,
           "17": 927,
           "18": 86,
           "19": 1587,
           "2": 72,
           "20": 2535,
           "21": 1032,
           "22": 2498,
           "23": 1720,
           "24": 647,
           "25": 546,
           "26": 1474,
           "27": 2025,
           "28": 922,
           "29": 2061,
           "3": 118,
           "30": 1061,
           "31": 1318,
           "32": 894,
           "33": 584,
           "34": 352,
           "35": 426,
           "36": 279,
           "37": 596,
           "38": 634,
           "39": 187,
           "4": 1,
           "40": 132,
           "41": 185,
           "42": 108,
           "43": 225,
           "44": 72,
           "45": 8,
           "46": 14,
           "47": 22,
           "48": 10,
           "49": 16,
           "5": 25,
           "6": 1072,
           "7": 571,
           "8": 820,
           "9": 15,
           "bdata": "lAAQAEgAdgABABkAMAQ7AjQDDwAdAHgEIwSzAt8A3AN8BZ8DVgAzBucJCATCCbgGhwIiAsIF6QeaAw0IJQQmBX4DSAJgAaoBFwFUAnoCuwCEALkAbADhAEgACAAOABYACgAQAA==",
           "dtype": "i2",
           "shape": "50"
          },
          "bdata": "lAAQAEgAdgABABkAMAQ7AjQDDwAdAHgEIwSzAt8A3AN8BZ8DVgAzBucJCATCCbgGhwIiAsIF6QeaAw0IJQQmBX4DSAJgAaoBFwFUAnoCuwCEALkAbADhAEgACAAOABYACgAQAA==",
          "dtype": "i2"
         },
         "yaxis": "y"
        }
       ],
       "layout": {
        "barmode": "relative",
        "coloraxis": {
         "colorbar": {
          "title": {
           "text": "Renda"
          }
         },
         "colorscale": [
          [
           0,
           "#0d0887"
          ],
          [
           0.1111111111111111,
           "#46039f"
          ],
          [
           0.2222222222222222,
           "#7201a8"
          ],
          [
           0.3333333333333333,
           "#9c179e"
          ],
          [
           0.4444444444444444,
           "#bd3786"
          ],
          [
           0.5555555555555556,
           "#d8576b"
          ],
          [
           0.6666666666666666,
           "#ed7953"
          ],
          [
           0.7777777777777778,
           "#fb9f3a"
          ],
          [
           0.8888888888888888,
           "#fdca26"
          ],
          [
           1,
           "#f0f921"
          ]
         ]
        },
        "height": 700,
        "legend": {
         "tracegroupgap": 0
        },
        "paper_bgcolor": "#f2ede6",
        "plot_bgcolor": "#f2ede6",
        "template": {
         "data": {
          "bar": [
           {
            "error_x": {
             "color": "#2a3f5f"
            },
            "error_y": {
             "color": "#2a3f5f"
            },
            "marker": {
             "line": {
              "color": "#E5ECF6",
              "width": 0.5
             },
             "pattern": {
              "fillmode": "overlay",
              "size": 10,
              "solidity": 0.2
             }
            },
            "type": "bar"
           }
          ],
          "barpolar": [
           {
            "marker": {
             "line": {
              "color": "#E5ECF6",
              "width": 0.5
             },
             "pattern": {
              "fillmode": "overlay",
              "size": 10,
              "solidity": 0.2
             }
            },
            "type": "barpolar"
           }
          ],
          "carpet": [
           {
            "aaxis": {
             "endlinecolor": "#2a3f5f",
             "gridcolor": "white",
             "linecolor": "white",
             "minorgridcolor": "white",
             "startlinecolor": "#2a3f5f"
            },
            "baxis": {
             "endlinecolor": "#2a3f5f",
             "gridcolor": "white",
             "linecolor": "white",
             "minorgridcolor": "white",
             "startlinecolor": "#2a3f5f"
            },
            "type": "carpet"
           }
          ],
          "choropleth": [
           {
            "colorbar": {
             "outlinewidth": 0,
             "ticks": ""
            },
            "type": "choropleth"
           }
          ],
          "contour": [
           {
            "colorbar": {
             "outlinewidth": 0,
             "ticks": ""
            },
            "colorscale": [
             [
              0,
              "#0d0887"
             ],
             [
              0.1111111111111111,
              "#46039f"
             ],
             [
              0.2222222222222222,
              "#7201a8"
             ],
             [
              0.3333333333333333,
              "#9c179e"
             ],
             [
              0.4444444444444444,
              "#bd3786"
             ],
             [
              0.5555555555555556,
              "#d8576b"
             ],
             [
              0.6666666666666666,
              "#ed7953"
             ],
             [
              0.7777777777777778,
              "#fb9f3a"
             ],
             [
              0.8888888888888888,
              "#fdca26"
             ],
             [
              1,
              "#f0f921"
             ]
            ],
            "type": "contour"
           }
          ],
          "contourcarpet": [
           {
            "colorbar": {
             "outlinewidth": 0,
             "ticks": ""
            },
            "type": "contourcarpet"
           }
          ],
          "heatmap": [
           {
            "colorbar": {
             "outlinewidth": 0,
             "ticks": ""
            },
            "colorscale": [
             [
              0,
              "#0d0887"
             ],
             [
              0.1111111111111111,
              "#46039f"
             ],
             [
              0.2222222222222222,
              "#7201a8"
             ],
             [
              0.3333333333333333,
              "#9c179e"
             ],
             [
              0.4444444444444444,
              "#bd3786"
             ],
             [
              0.5555555555555556,
              "#d8576b"
             ],
             [
              0.6666666666666666,
              "#ed7953"
             ],
             [
              0.7777777777777778,
              "#fb9f3a"
             ],
             [
              0.8888888888888888,
              "#fdca26"
             ],
             [
              1,
              "#f0f921"
             ]
            ],
            "type": "heatmap"
           }
          ],
          "histogram": [
           {
            "marker": {
             "pattern": {
              "fillmode": "overlay",
              "size": 10,
              "solidity": 0.2
             }
            },
            "type": "histogram"
           }
          ],
          "histogram2d": [
           {
            "colorbar": {
             "outlinewidth": 0,
             "ticks": ""
            },
            "colorscale": [
             [
              0,
              "#0d0887"
             ],
             [
              0.1111111111111111,
              "#46039f"
             ],
             [
              0.2222222222222222,
              "#7201a8"
             ],
             [
              0.3333333333333333,
              "#9c179e"
             ],
             [
              0.4444444444444444,
              "#bd3786"
             ],
             [
              0.5555555555555556,
              "#d8576b"
             ],
             [
              0.6666666666666666,
              "#ed7953"
             ],
             [
              0.7777777777777778,
              "#fb9f3a"
             ],
             [
              0.8888888888888888,
              "#fdca26"
             ],
             [
              1,
              "#f0f921"
             ]
            ],
            "type": "histogram2d"
           }
          ],
          "histogram2dcontour": [
           {
            "colorbar": {
             "outlinewidth": 0,
             "ticks": ""
            },
            "colorscale": [
             [
              0,
              "#0d0887"
             ],
             [
              0.1111111111111111,
              "#46039f"
             ],
             [
              0.2222222222222222,
              "#7201a8"
             ],
             [
              0.3333333333333333,
              "#9c179e"
             ],
             [
              0.4444444444444444,
              "#bd3786"
             ],
             [
              0.5555555555555556,
              "#d8576b"
             ],
             [
              0.6666666666666666,
              "#ed7953"
             ],
             [
              0.7777777777777778,
              "#fb9f3a"
             ],
             [
              0.8888888888888888,
              "#fdca26"
             ],
             [
              1,
              "#f0f921"
             ]
            ],
            "type": "histogram2dcontour"
           }
          ],
          "mesh3d": [
           {
            "colorbar": {
             "outlinewidth": 0,
             "ticks": ""
            },
            "type": "mesh3d"
           }
          ],
          "parcoords": [
           {
            "line": {
             "colorbar": {
              "outlinewidth": 0,
              "ticks": ""
             }
            },
            "type": "parcoords"
           }
          ],
          "pie": [
           {
            "automargin": true,
            "type": "pie"
           }
          ],
          "scatter": [
           {
            "fillpattern": {
             "fillmode": "overlay",
             "size": 10,
             "solidity": 0.2
            },
            "type": "scatter"
           }
          ],
          "scatter3d": [
           {
            "line": {
             "colorbar": {
              "outlinewidth": 0,
              "ticks": ""
             }
            },
            "marker": {
             "colorbar": {
              "outlinewidth": 0,
              "ticks": ""
             }
            },
            "type": "scatter3d"
           }
          ],
          "scattercarpet": [
           {
            "marker": {
             "colorbar": {
              "outlinewidth": 0,
              "ticks": ""
             }
            },
            "type": "scattercarpet"
           }
          ],
          "scattergeo": [
           {
            "marker": {
             "colorbar": {
              "outlinewidth": 0,
              "ticks": ""
             }
            },
            "type": "scattergeo"
           }
          ],
          "scattergl": [
           {
            "marker": {
             "colorbar": {
              "outlinewidth": 0,
              "ticks": ""
             }
            },
            "type": "scattergl"
           }
          ],
          "scattermap": [
           {
            "marker": {
             "colorbar": {
              "outlinewidth": 0,
              "ticks": ""
             }
            },
            "type": "scattermap"
           }
          ],
          "scattermapbox": [
           {
            "marker": {
             "colorbar": {
              "outlinewidth": 0,
              "ticks": ""
             }
            },
            "type": "scattermapbox"
           }
          ],
          "scatterpolar": [
           {
            "marker": {
             "colorbar": {
              "outlinewidth": 0,
              "ticks": ""
             }
            },
            "type": "scatterpolar"
           }
          ],
          "scatterpolargl": [
           {
            "marker": {
             "colorbar": {
              "outlinewidth": 0,
              "ticks": ""
             }
            },
            "type": "scatterpolargl"
           }
          ],
          "scatterternary": [
           {
            "marker": {
             "colorbar": {
              "outlinewidth": 0,
              "ticks": ""
             }
            },
            "type": "scatterternary"
           }
          ],
          "surface": [
           {
            "colorbar": {
             "outlinewidth": 0,
             "ticks": ""
            },
            "colorscale": [
             [
              0,
              "#0d0887"
             ],
             [
              0.1111111111111111,
              "#46039f"
             ],
             [
              0.2222222222222222,
              "#7201a8"
             ],
             [
              0.3333333333333333,
              "#9c179e"
             ],
             [
              0.4444444444444444,
              "#bd3786"
             ],
             [
              0.5555555555555556,
              "#d8576b"
             ],
             [
              0.6666666666666666,
              "#ed7953"
             ],
             [
              0.7777777777777778,
              "#fb9f3a"
             ],
             [
              0.8888888888888888,
              "#fdca26"
             ],
             [
              1,
              "#f0f921"
             ]
            ],
            "type": "surface"
           }
          ],
          "table": [
           {
            "cells": {
             "fill": {
              "color": "#EBF0F8"
             },
             "line": {
              "color": "white"
             }
            },
            "header": {
             "fill": {
              "color": "#C8D4E3"
             },
             "line": {
              "color": "white"
             }
            },
            "type": "table"
           }
          ]
         },
         "layout": {
          "annotationdefaults": {
           "arrowcolor": "#2a3f5f",
           "arrowhead": 0,
           "arrowwidth": 1
          },
          "autotypenumbers": "strict",
          "coloraxis": {
           "colorbar": {
            "outlinewidth": 0,
            "ticks": ""
           }
          },
          "colorscale": {
           "diverging": [
            [
             0,
             "#8e0152"
            ],
            [
             0.1,
             "#c51b7d"
            ],
            [
             0.2,
             "#de77ae"
            ],
            [
             0.3,
             "#f1b6da"
            ],
            [
             0.4,
             "#fde0ef"
            ],
            [
             0.5,
             "#f7f7f7"
            ],
            [
             0.6,
             "#e6f5d0"
            ],
            [
             0.7,
             "#b8e186"
            ],
            [
             0.8,
             "#7fbc41"
            ],
            [
             0.9,
             "#4d9221"
            ],
            [
             1,
             "#276419"
            ]
           ],
           "sequential": [
            [
             0,
             "#0d0887"
            ],
            [
             0.1111111111111111,
             "#46039f"
            ],
            [
             0.2222222222222222,
             "#7201a8"
            ],
            [
             0.3333333333333333,
             "#9c179e"
            ],
            [
             0.4444444444444444,
             "#bd3786"
            ],
            [
             0.5555555555555556,
             "#d8576b"
            ],
            [
             0.6666666666666666,
             "#ed7953"
            ],
            [
             0.7777777777777778,
             "#fb9f3a"
            ],
            [
             0.8888888888888888,
             "#fdca26"
            ],
            [
             1,
             "#f0f921"
            ]
           ],
           "sequentialminus": [
            [
             0,
             "#0d0887"
            ],
            [
             0.1111111111111111,
             "#46039f"
            ],
            [
             0.2222222222222222,
             "#7201a8"
            ],
            [
             0.3333333333333333,
             "#9c179e"
            ],
            [
             0.4444444444444444,
             "#bd3786"
            ],
            [
             0.5555555555555556,
             "#d8576b"
            ],
            [
             0.6666666666666666,
             "#ed7953"
            ],
            [
             0.7777777777777778,
             "#fb9f3a"
            ],
            [
             0.8888888888888888,
             "#fdca26"
            ],
            [
             1,
             "#f0f921"
            ]
           ]
          },
          "colorway": [
           "#636efa",
           "#EF553B",
           "#00cc96",
           "#ab63fa",
           "#FFA15A",
           "#19d3f3",
           "#FF6692",
           "#B6E880",
           "#FF97FF",
           "#FECB52"
          ],
          "font": {
           "color": "#2a3f5f"
          },
          "geo": {
           "bgcolor": "white",
           "lakecolor": "white",
           "landcolor": "#E5ECF6",
           "showlakes": true,
           "showland": true,
           "subunitcolor": "white"
          },
          "hoverlabel": {
           "align": "left"
          },
          "hovermode": "closest",
          "mapbox": {
           "style": "light"
          },
          "paper_bgcolor": "white",
          "plot_bgcolor": "#E5ECF6",
          "polar": {
           "angularaxis": {
            "gridcolor": "white",
            "linecolor": "white",
            "ticks": ""
           },
           "bgcolor": "#E5ECF6",
           "radialaxis": {
            "gridcolor": "white",
            "linecolor": "white",
            "ticks": ""
           }
          },
          "scene": {
           "xaxis": {
            "backgroundcolor": "#E5ECF6",
            "gridcolor": "white",
            "gridwidth": 2,
            "linecolor": "white",
            "showbackground": true,
            "ticks": "",
            "zerolinecolor": "white"
           },
           "yaxis": {
            "backgroundcolor": "#E5ECF6",
            "gridcolor": "white",
            "gridwidth": 2,
            "linecolor": "white",
            "showbackground": true,
            "ticks": "",
            "zerolinecolor": "white"
           },
           "zaxis": {
            "backgroundcolor": "#E5ECF6",
            "gridcolor": "white",
            "gridwidth": 2,
            "linecolor": "white",
            "showbackground": true,
            "ticks": "",
            "zerolinecolor": "white"
           }
          },
          "shapedefaults": {
           "line": {
            "color": "#2a3f5f"
           }
          },
          "ternary": {
           "aaxis": {
            "gridcolor": "white",
            "linecolor": "white",
            "ticks": ""
           },
           "baxis": {
            "gridcolor": "white",
            "linecolor": "white",
            "ticks": ""
           },
           "bgcolor": "#E5ECF6",
           "caxis": {
            "gridcolor": "white",
            "linecolor": "white",
            "ticks": ""
           }
          },
          "title": {
           "x": 0.05
          },
          "xaxis": {
           "automargin": true,
           "gridcolor": "white",
           "linecolor": "white",
           "ticks": "",
           "title": {
            "standoff": 15
           },
           "zerolinecolor": "white",
           "zerolinewidth": 2
          },
          "yaxis": {
           "automargin": true,
           "gridcolor": "white",
           "linecolor": "white",
           "ticks": "",
           "title": {
            "standoff": 15
           },
           "zerolinecolor": "white",
           "zerolinewidth": 2
          }
         }
        },
        "title": {
         "text": "Ofertas Completadas por Faixa etária",
         "x": 0.5,
         "xanchor": "center"
        },
        "width": 1800,
        "xaxis": {
         "anchor": "y",
         "autorange": true,
         "domain": [
          0,
          1
         ],
         "range": [
          -0.5,
          9.5
         ],
         "title": {
          "text": "Faixa etária"
         },
         "type": "category"
        },
        "yaxis": {
         "anchor": "x",
         "autorange": true,
         "domain": [
          0,
          1
         ],
         "range": [
          0,
          8875.78947368421
         ],
         "title": {
          "text": "Quantidade Completada"
         },
         "type": "linear"
        }
       }
      },
      "image/png": "[encoded data removed]"
     },
     "metadata": {},
     "output_type": "display_data"
    }
   ],
   "source": [
    "fig = px.bar(\n",
    "    df_merge_analysis.groupBy('age_group', 'age_group_index', 'category_limite').agg(F.sum('qtd_offer_completed').alias('qtd_offer_completed'))\\\n",
    "                     .orderBy('age_group_index').toPandas(),\n",
    "    x=\"age_group\",\n",
    "    y=\"qtd_offer_completed\",\n",
    "    color=\"category_limite\",\n",
    "    text=\"qtd_offer_completed\",\n",
    "    title=\"Ofertas Completadas por Faixa etária\",\n",
    "    labels={\"age_group\": \"Faixa etária\", \"qtd_offer_completed\": \"Quantidade Completada\", 'category_limite': \"Renda\"},\n",
    ")\n",
    "\n",
    "fig.update_traces(textposition='outside')\n",
    "\n",
    "fig.update_layout(\n",
    "    title=dict(x=0.5, xanchor=\"center\"),\n",
    "    height=700,\n",
    "    width=1800,\n",
    "    plot_bgcolor=\"#f2ede6\",  \n",
    "    paper_bgcolor=\"#f2ede6\",\n",
    ")\n",
    "\n",
    "\n",
    "fig.show()\n"
   ]
  },
  {
   "cell_type": "markdown",
   "metadata": {
    "application/vnd.databricks.v1+cell": {
     "cellMetadata": {},
     "inputWidgets": {},
     "nuid": "248d0e39-d8ef-43b0-8854-ae053175dd7a",
     "showTitle": false,
     "tableResultSettingsMap": {},
     "title": ""
    }
   },
   "source": [
    "##### Analisando Ofertas completadas por Genero"
   ]
  },
  {
   "cell_type": "code",
   "execution_count": 14,
   "metadata": {
    "application/vnd.databricks.v1+cell": {
     "cellMetadata": {
      "byteLimit": 2048000,
      "rowLimit": 10000
     },
     "inputWidgets": {},
     "nuid": "606bad2c-aacb-4785-beca-e487b92e94cc",
     "showTitle": false,
     "tableResultSettingsMap": {},
     "title": ""
    }
   },
   "outputs": [
    {
     "data": {
      "application/vnd.plotly.v1+json": {
       "config": {
        "plotlyServerURL": "https://plot.ly"
       },
       "data": [
        {
         "domain": {
          "x": [
           0,
           1
          ],
          "y": [
           0,
           1
          ]
         },
         "hole": 0.4,
         "hovertemplate": "gender=%{label}<br>qtd_offer_completed=%{value}<extra></extra>",
         "labels": [
          "F",
          "M",
          "O",
          "U"
         ],
         "legendgroup": "",
         "name": "",
         "showlegend": true,
         "textinfo": "percent+label",
         "type": "pie",
         "values": {
          "_inputArray": {
           "0": 15477,
           "1": 16466,
           "2": 501,
           "3": 1135,
           "bdata": "dTxSQPUBbwQ=",
           "dtype": "i2",
           "shape": "4"
          },
          "bdata": "dTxSQPUBbwQ=",
          "dtype": "i2"
         }
        }
       ],
       "layout": {
        "height": 500,
        "legend": {
         "tracegroupgap": 0
        },
        "paper_bgcolor": "#f2ede6",
        "plot_bgcolor": "#f2ede6",
        "template": {
         "data": {
          "bar": [
           {
            "error_x": {
             "color": "#2a3f5f"
            },
            "error_y": {
             "color": "#2a3f5f"
            },
            "marker": {
             "line": {
              "color": "#E5ECF6",
              "width": 0.5
             },
             "pattern": {
              "fillmode": "overlay",
              "size": 10,
              "solidity": 0.2
             }
            },
            "type": "bar"
           }
          ],
          "barpolar": [
           {
            "marker": {
             "line": {
              "color": "#E5ECF6",
              "width": 0.5
             },
             "pattern": {
              "fillmode": "overlay",
              "size": 10,
              "solidity": 0.2
             }
            },
            "type": "barpolar"
           }
          ],
          "carpet": [
           {
            "aaxis": {
             "endlinecolor": "#2a3f5f",
             "gridcolor": "white",
             "linecolor": "white",
             "minorgridcolor": "white",
             "startlinecolor": "#2a3f5f"
            },
            "baxis": {
             "endlinecolor": "#2a3f5f",
             "gridcolor": "white",
             "linecolor": "white",
             "minorgridcolor": "white",
             "startlinecolor": "#2a3f5f"
            },
            "type": "carpet"
           }
          ],
          "choropleth": [
           {
            "colorbar": {
             "outlinewidth": 0,
             "ticks": ""
            },
            "type": "choropleth"
           }
          ],
          "contour": [
           {
            "colorbar": {
             "outlinewidth": 0,
             "ticks": ""
            },
            "colorscale": [
             [
              0,
              "#0d0887"
             ],
             [
              0.1111111111111111,
              "#46039f"
             ],
             [
              0.2222222222222222,
              "#7201a8"
             ],
             [
              0.3333333333333333,
              "#9c179e"
             ],
             [
              0.4444444444444444,
              "#bd3786"
             ],
             [
              0.5555555555555556,
              "#d8576b"
             ],
             [
              0.6666666666666666,
              "#ed7953"
             ],
             [
              0.7777777777777778,
              "#fb9f3a"
             ],
             [
              0.8888888888888888,
              "#fdca26"
             ],
             [
              1,
              "#f0f921"
             ]
            ],
            "type": "contour"
           }
          ],
          "contourcarpet": [
           {
            "colorbar": {
             "outlinewidth": 0,
             "ticks": ""
            },
            "type": "contourcarpet"
           }
          ],
          "heatmap": [
           {
            "colorbar": {
             "outlinewidth": 0,
             "ticks": ""
            },
            "colorscale": [
             [
              0,
              "#0d0887"
             ],
             [
              0.1111111111111111,
              "#46039f"
             ],
             [
              0.2222222222222222,
              "#7201a8"
             ],
             [
              0.3333333333333333,
              "#9c179e"
             ],
             [
              0.4444444444444444,
              "#bd3786"
             ],
             [
              0.5555555555555556,
              "#d8576b"
             ],
             [
              0.6666666666666666,
              "#ed7953"
             ],
             [
              0.7777777777777778,
              "#fb9f3a"
             ],
             [
              0.8888888888888888,
              "#fdca26"
             ],
             [
              1,
              "#f0f921"
             ]
            ],
            "type": "heatmap"
           }
          ],
          "histogram": [
           {
            "marker": {
             "pattern": {
              "fillmode": "overlay",
              "size": 10,
              "solidity": 0.2
             }
            },
            "type": "histogram"
           }
          ],
          "histogram2d": [
           {
            "colorbar": {
             "outlinewidth": 0,
             "ticks": ""
            },
            "colorscale": [
             [
              0,
              "#0d0887"
             ],
             [
              0.1111111111111111,
              "#46039f"
             ],
             [
              0.2222222222222222,
              "#7201a8"
             ],
             [
              0.3333333333333333,
              "#9c179e"
             ],
             [
              0.4444444444444444,
              "#bd3786"
             ],
             [
              0.5555555555555556,
              "#d8576b"
             ],
             [
              0.6666666666666666,
              "#ed7953"
             ],
             [
              0.7777777777777778,
              "#fb9f3a"
             ],
             [
              0.8888888888888888,
              "#fdca26"
             ],
             [
              1,
              "#f0f921"
             ]
            ],
            "type": "histogram2d"
           }
          ],
          "histogram2dcontour": [
           {
            "colorbar": {
             "outlinewidth": 0,
             "ticks": ""
            },
            "colorscale": [
             [
              0,
              "#0d0887"
             ],
             [
              0.1111111111111111,
              "#46039f"
             ],
             [
              0.2222222222222222,
              "#7201a8"
             ],
             [
              0.3333333333333333,
              "#9c179e"
             ],
             [
              0.4444444444444444,
              "#bd3786"
             ],
             [
              0.5555555555555556,
              "#d8576b"
             ],
             [
              0.6666666666666666,
              "#ed7953"
             ],
             [
              0.7777777777777778,
              "#fb9f3a"
             ],
             [
              0.8888888888888888,
              "#fdca26"
             ],
             [
              1,
              "#f0f921"
             ]
            ],
            "type": "histogram2dcontour"
           }
          ],
          "mesh3d": [
           {
            "colorbar": {
             "outlinewidth": 0,
             "ticks": ""
            },
            "type": "mesh3d"
           }
          ],
          "parcoords": [
           {
            "line": {
             "colorbar": {
              "outlinewidth": 0,
              "ticks": ""
             }
            },
            "type": "parcoords"
           }
          ],
          "pie": [
           {
            "automargin": true,
            "type": "pie"
           }
          ],
          "scatter": [
           {
            "fillpattern": {
             "fillmode": "overlay",
             "size": 10,
             "solidity": 0.2
            },
            "type": "scatter"
           }
          ],
          "scatter3d": [
           {
            "line": {
             "colorbar": {
              "outlinewidth": 0,
              "ticks": ""
             }
            },
            "marker": {
             "colorbar": {
              "outlinewidth": 0,
              "ticks": ""
             }
            },
            "type": "scatter3d"
           }
          ],
          "scattercarpet": [
           {
            "marker": {
             "colorbar": {
              "outlinewidth": 0,
              "ticks": ""
             }
            },
            "type": "scattercarpet"
           }
          ],
          "scattergeo": [
           {
            "marker": {
             "colorbar": {
              "outlinewidth": 0,
              "ticks": ""
             }
            },
            "type": "scattergeo"
           }
          ],
          "scattergl": [
           {
            "marker": {
             "colorbar": {
              "outlinewidth": 0,
              "ticks": ""
             }
            },
            "type": "scattergl"
           }
          ],
          "scattermap": [
           {
            "marker": {
             "colorbar": {
              "outlinewidth": 0,
              "ticks": ""
             }
            },
            "type": "scattermap"
           }
          ],
          "scattermapbox": [
           {
            "marker": {
             "colorbar": {
              "outlinewidth": 0,
              "ticks": ""
             }
            },
            "type": "scattermapbox"
           }
          ],
          "scatterpolar": [
           {
            "marker": {
             "colorbar": {
              "outlinewidth": 0,
              "ticks": ""
             }
            },
            "type": "scatterpolar"
           }
          ],
          "scatterpolargl": [
           {
            "marker": {
             "colorbar": {
              "outlinewidth": 0,
              "ticks": ""
             }
            },
            "type": "scatterpolargl"
           }
          ],
          "scatterternary": [
           {
            "marker": {
             "colorbar": {
              "outlinewidth": 0,
              "ticks": ""
             }
            },
            "type": "scatterternary"
           }
          ],
          "surface": [
           {
            "colorbar": {
             "outlinewidth": 0,
             "ticks": ""
            },
            "colorscale": [
             [
              0,
              "#0d0887"
             ],
             [
              0.1111111111111111,
              "#46039f"
             ],
             [
              0.2222222222222222,
              "#7201a8"
             ],
             [
              0.3333333333333333,
              "#9c179e"
             ],
             [
              0.4444444444444444,
              "#bd3786"
             ],
             [
              0.5555555555555556,
              "#d8576b"
             ],
             [
              0.6666666666666666,
              "#ed7953"
             ],
             [
              0.7777777777777778,
              "#fb9f3a"
             ],
             [
              0.8888888888888888,
              "#fdca26"
             ],
             [
              1,
              "#f0f921"
             ]
            ],
            "type": "surface"
           }
          ],
          "table": [
           {
            "cells": {
             "fill": {
              "color": "#EBF0F8"
             },
             "line": {
              "color": "white"
             }
            },
            "header": {
             "fill": {
              "color": "#C8D4E3"
             },
             "line": {
              "color": "white"
             }
            },
            "type": "table"
           }
          ]
         },
         "layout": {
          "annotationdefaults": {
           "arrowcolor": "#2a3f5f",
           "arrowhead": 0,
           "arrowwidth": 1
          },
          "autotypenumbers": "strict",
          "coloraxis": {
           "colorbar": {
            "outlinewidth": 0,
            "ticks": ""
           }
          },
          "colorscale": {
           "diverging": [
            [
             0,
             "#8e0152"
            ],
            [
             0.1,
             "#c51b7d"
            ],
            [
             0.2,
             "#de77ae"
            ],
            [
             0.3,
             "#f1b6da"
            ],
            [
             0.4,
             "#fde0ef"
            ],
            [
             0.5,
             "#f7f7f7"
            ],
            [
             0.6,
             "#e6f5d0"
            ],
            [
             0.7,
             "#b8e186"
            ],
            [
             0.8,
             "#7fbc41"
            ],
            [
             0.9,
             "#4d9221"
            ],
            [
             1,
             "#276419"
            ]
           ],
           "sequential": [
            [
             0,
             "#0d0887"
            ],
            [
             0.1111111111111111,
             "#46039f"
            ],
            [
             0.2222222222222222,
             "#7201a8"
            ],
            [
             0.3333333333333333,
             "#9c179e"
            ],
            [
             0.4444444444444444,
             "#bd3786"
            ],
            [
             0.5555555555555556,
             "#d8576b"
            ],
            [
             0.6666666666666666,
             "#ed7953"
            ],
            [
             0.7777777777777778,
             "#fb9f3a"
            ],
            [
             0.8888888888888888,
             "#fdca26"
            ],
            [
             1,
             "#f0f921"
            ]
           ],
           "sequentialminus": [
            [
             0,
             "#0d0887"
            ],
            [
             0.1111111111111111,
             "#46039f"
            ],
            [
             0.2222222222222222,
             "#7201a8"
            ],
            [
             0.3333333333333333,
             "#9c179e"
            ],
            [
             0.4444444444444444,
             "#bd3786"
            ],
            [
             0.5555555555555556,
             "#d8576b"
            ],
            [
             0.6666666666666666,
             "#ed7953"
            ],
            [
             0.7777777777777778,
             "#fb9f3a"
            ],
            [
             0.8888888888888888,
             "#fdca26"
            ],
            [
             1,
             "#f0f921"
            ]
           ]
          },
          "colorway": [
           "#636efa",
           "#EF553B",
           "#00cc96",
           "#ab63fa",
           "#FFA15A",
           "#19d3f3",
           "#FF6692",
           "#B6E880",
           "#FF97FF",
           "#FECB52"
          ],
          "font": {
           "color": "#2a3f5f"
          },
          "geo": {
           "bgcolor": "white",
           "lakecolor": "white",
           "landcolor": "#E5ECF6",
           "showlakes": true,
           "showland": true,
           "subunitcolor": "white"
          },
          "hoverlabel": {
           "align": "left"
          },
          "hovermode": "closest",
          "mapbox": {
           "style": "light"
          },
          "paper_bgcolor": "white",
          "plot_bgcolor": "#E5ECF6",
          "polar": {
           "angularaxis": {
            "gridcolor": "white",
            "linecolor": "white",
            "ticks": ""
           },
           "bgcolor": "#E5ECF6",
           "radialaxis": {
            "gridcolor": "white",
            "linecolor": "white",
            "ticks": ""
           }
          },
          "scene": {
           "xaxis": {
            "backgroundcolor": "#E5ECF6",
            "gridcolor": "white",
            "gridwidth": 2,
            "linecolor": "white",
            "showbackground": true,
            "ticks": "",
            "zerolinecolor": "white"
           },
           "yaxis": {
            "backgroundcolor": "#E5ECF6",
            "gridcolor": "white",
            "gridwidth": 2,
            "linecolor": "white",
            "showbackground": true,
            "ticks": "",
            "zerolinecolor": "white"
           },
           "zaxis": {
            "backgroundcolor": "#E5ECF6",
            "gridcolor": "white",
            "gridwidth": 2,
            "linecolor": "white",
            "showbackground": true,
            "ticks": "",
            "zerolinecolor": "white"
           }
          },
          "shapedefaults": {
           "line": {
            "color": "#2a3f5f"
           }
          },
          "ternary": {
           "aaxis": {
            "gridcolor": "white",
            "linecolor": "white",
            "ticks": ""
           },
           "baxis": {
            "gridcolor": "white",
            "linecolor": "white",
            "ticks": ""
           },
           "bgcolor": "#E5ECF6",
           "caxis": {
            "gridcolor": "white",
            "linecolor": "white",
            "ticks": ""
           }
          },
          "title": {
           "x": 0.05
          },
          "xaxis": {
           "automargin": true,
           "gridcolor": "white",
           "linecolor": "white",
           "ticks": "",
           "title": {
            "standoff": 15
           },
           "zerolinecolor": "white",
           "zerolinewidth": 2
          },
          "yaxis": {
           "automargin": true,
           "gridcolor": "white",
           "linecolor": "white",
           "ticks": "",
           "title": {
            "standoff": 15
           },
           "zerolinecolor": "white",
           "zerolinewidth": 2
          }
         }
        },
        "title": {
         "text": "Percentual de Ofertas Completadas por Gênero",
         "x": 0.5,
         "xanchor": "center"
        },
        "width": 800
       }
      },
      "image/png": "[encoded data removed]"
     },
     "metadata": {},
     "output_type": "display_data"
    }
   ],
   "source": [
    "fig = px.pie(\n",
    "    df_merge_analysis.groupBy('gender').agg(F.sum('qtd_offer_completed').alias('qtd_offer_completed')).orderBy('gender').toPandas(),\n",
    "    names=\"gender\",\n",
    "    values=\"qtd_offer_completed\",\n",
    "    title=\"Percentual de Ofertas Completadas por Gênero\",\n",
    "    hole=0.4  \n",
    ")\n",
    "\n",
    "fig.update_traces(textinfo='percent+label')\n",
    "\n",
    "fig.update_layout(\n",
    "    title=dict(x=0.5, xanchor=\"center\"),\n",
    "    height=500,\n",
    "    width=800,\n",
    "    plot_bgcolor=\"#f2ede6\",  \n",
    "    paper_bgcolor=\"#f2ede6\",\n",
    ")\n",
    "fig.show()"
   ]
  },
  {
   "cell_type": "markdown",
   "metadata": {
    "application/vnd.databricks.v1+cell": {
     "cellMetadata": {},
     "inputWidgets": {},
     "nuid": "7ecffa57-1667-4bf4-9290-5ddbe6d90ae7",
     "showTitle": false,
     "tableResultSettingsMap": {},
     "title": ""
    }
   },
   "source": [
    "##### Analisando Ofertas completadas por Renda"
   ]
  },
  {
   "cell_type": "code",
   "execution_count": 15,
   "metadata": {
    "application/vnd.databricks.v1+cell": {
     "cellMetadata": {
      "byteLimit": 2048000,
      "rowLimit": 10000
     },
     "inputWidgets": {},
     "nuid": "b5faf406-c8b1-42d7-ae2a-34dc56be3e1c",
     "showTitle": false,
     "tableResultSettingsMap": {},
     "title": ""
    }
   },
   "outputs": [
    {
     "data": {
      "application/vnd.plotly.v1+json": {
       "config": {
        "plotlyServerURL": "https://plot.ly"
       },
       "data": [
        {
         "hovertemplate": "Renda=%{x}<br>Taxa de Conversão=%{text}<extra></extra>",
         "legendgroup": "",
         "marker": {
          "color": "#636efa",
          "pattern": {
           "shape": ""
          }
         },
         "name": "",
         "orientation": "v",
         "showlegend": false,
         "text": {
          "_inputArray": {
           "0": 0.3308100720180834,
           "1": 0.43499366821443647,
           "2": 0.4879987198634521,
           "3": 0.520799213887979,
           "4": 0.4530193518302635,
           "bdata": "HVMgAv4r1T9Vrbyu79bbP8hqk/teO98/283tHGOq4D/5OiThRP7cPw==",
           "dtype": "f8",
           "shape": "5"
          },
          "bdata": "HVMgAv4r1T9Vrbyu79bbP8hqk/teO98/283tHGOq4D/5OiThRP7cPw==",
          "dtype": "f8"
         },
         "textposition": "outside",
         "texttemplate": "%{text:.2%}",
         "type": "bar",
         "x": {
          "_inputArray": {
           "0": 1,
           "1": 2,
           "2": 3,
           "3": 4,
           "4": 5,
           "bdata": "AQAAAAIAAAADAAAABAAAAAUAAAA=",
           "dtype": "i4",
           "shape": "5"
          },
          "bdata": "AQAAAAIAAAADAAAABAAAAAUAAAA=",
          "dtype": "i4"
         },
         "xaxis": "x",
         "y": {
          "_inputArray": {
           "0": 0.3308100720180834,
           "1": 0.43499366821443647,
           "2": 0.4879987198634521,
           "3": 0.520799213887979,
           "4": 0.4530193518302635,
           "bdata": "HVMgAv4r1T9Vrbyu79bbP8hqk/teO98/283tHGOq4D/5OiThRP7cPw==",
           "dtype": "f8",
           "shape": "5"
          },
          "bdata": "HVMgAv4r1T9Vrbyu79bbP8hqk/teO98/283tHGOq4D/5OiThRP7cPw==",
          "dtype": "f8"
         },
         "yaxis": "y"
        }
       ],
       "layout": {
        "barmode": "relative",
        "height": 500,
        "legend": {
         "tracegroupgap": 0
        },
        "paper_bgcolor": "#f2ede6",
        "plot_bgcolor": "#f2ede6",
        "template": {
         "data": {
          "bar": [
           {
            "error_x": {
             "color": "#2a3f5f"
            },
            "error_y": {
             "color": "#2a3f5f"
            },
            "marker": {
             "line": {
              "color": "#E5ECF6",
              "width": 0.5
             },
             "pattern": {
              "fillmode": "overlay",
              "size": 10,
              "solidity": 0.2
             }
            },
            "type": "bar"
           }
          ],
          "barpolar": [
           {
            "marker": {
             "line": {
              "color": "#E5ECF6",
              "width": 0.5
             },
             "pattern": {
              "fillmode": "overlay",
              "size": 10,
              "solidity": 0.2
             }
            },
            "type": "barpolar"
           }
          ],
          "carpet": [
           {
            "aaxis": {
             "endlinecolor": "#2a3f5f",
             "gridcolor": "white",
             "linecolor": "white",
             "minorgridcolor": "white",
             "startlinecolor": "#2a3f5f"
            },
            "baxis": {
             "endlinecolor": "#2a3f5f",
             "gridcolor": "white",
             "linecolor": "white",
             "minorgridcolor": "white",
             "startlinecolor": "#2a3f5f"
            },
            "type": "carpet"
           }
          ],
          "choropleth": [
           {
            "colorbar": {
             "outlinewidth": 0,
             "ticks": ""
            },
            "type": "choropleth"
           }
          ],
          "contour": [
           {
            "colorbar": {
             "outlinewidth": 0,
             "ticks": ""
            },
            "colorscale": [
             [
              0,
              "#0d0887"
             ],
             [
              0.1111111111111111,
              "#46039f"
             ],
             [
              0.2222222222222222,
              "#7201a8"
             ],
             [
              0.3333333333333333,
              "#9c179e"
             ],
             [
              0.4444444444444444,
              "#bd3786"
             ],
             [
              0.5555555555555556,
              "#d8576b"
             ],
             [
              0.6666666666666666,
              "#ed7953"
             ],
             [
              0.7777777777777778,
              "#fb9f3a"
             ],
             [
              0.8888888888888888,
              "#fdca26"
             ],
             [
              1,
              "#f0f921"
             ]
            ],
            "type": "contour"
           }
          ],
          "contourcarpet": [
           {
            "colorbar": {
             "outlinewidth": 0,
             "ticks": ""
            },
            "type": "contourcarpet"
           }
          ],
          "heatmap": [
           {
            "colorbar": {
             "outlinewidth": 0,
             "ticks": ""
            },
            "colorscale": [
             [
              0,
              "#0d0887"
             ],
             [
              0.1111111111111111,
              "#46039f"
             ],
             [
              0.2222222222222222,
              "#7201a8"
             ],
             [
              0.3333333333333333,
              "#9c179e"
             ],
             [
              0.4444444444444444,
              "#bd3786"
             ],
             [
              0.5555555555555556,
              "#d8576b"
             ],
             [
              0.6666666666666666,
              "#ed7953"
             ],
             [
              0.7777777777777778,
              "#fb9f3a"
             ],
             [
              0.8888888888888888,
              "#fdca26"
             ],
             [
              1,
              "#f0f921"
             ]
            ],
            "type": "heatmap"
           }
          ],
          "histogram": [
           {
            "marker": {
             "pattern": {
              "fillmode": "overlay",
              "size": 10,
              "solidity": 0.2
             }
            },
            "type": "histogram"
           }
          ],
          "histogram2d": [
           {
            "colorbar": {
             "outlinewidth": 0,
             "ticks": ""
            },
            "colorscale": [
             [
              0,
              "#0d0887"
             ],
             [
              0.1111111111111111,
              "#46039f"
             ],
             [
              0.2222222222222222,
              "#7201a8"
             ],
             [
              0.3333333333333333,
              "#9c179e"
             ],
             [
              0.4444444444444444,
              "#bd3786"
             ],
             [
              0.5555555555555556,
              "#d8576b"
             ],
             [
              0.6666666666666666,
              "#ed7953"
             ],
             [
              0.7777777777777778,
              "#fb9f3a"
             ],
             [
              0.8888888888888888,
              "#fdca26"
             ],
             [
              1,
              "#f0f921"
             ]
            ],
            "type": "histogram2d"
           }
          ],
          "histogram2dcontour": [
           {
            "colorbar": {
             "outlinewidth": 0,
             "ticks": ""
            },
            "colorscale": [
             [
              0,
              "#0d0887"
             ],
             [
              0.1111111111111111,
              "#46039f"
             ],
             [
              0.2222222222222222,
              "#7201a8"
             ],
             [
              0.3333333333333333,
              "#9c179e"
             ],
             [
              0.4444444444444444,
              "#bd3786"
             ],
             [
              0.5555555555555556,
              "#d8576b"
             ],
             [
              0.6666666666666666,
              "#ed7953"
             ],
             [
              0.7777777777777778,
              "#fb9f3a"
             ],
             [
              0.8888888888888888,
              "#fdca26"
             ],
             [
              1,
              "#f0f921"
             ]
            ],
            "type": "histogram2dcontour"
           }
          ],
          "mesh3d": [
           {
            "colorbar": {
             "outlinewidth": 0,
             "ticks": ""
            },
            "type": "mesh3d"
           }
          ],
          "parcoords": [
           {
            "line": {
             "colorbar": {
              "outlinewidth": 0,
              "ticks": ""
             }
            },
            "type": "parcoords"
           }
          ],
          "pie": [
           {
            "automargin": true,
            "type": "pie"
           }
          ],
          "scatter": [
           {
            "fillpattern": {
             "fillmode": "overlay",
             "size": 10,
             "solidity": 0.2
            },
            "type": "scatter"
           }
          ],
          "scatter3d": [
           {
            "line": {
             "colorbar": {
              "outlinewidth": 0,
              "ticks": ""
             }
            },
            "marker": {
             "colorbar": {
              "outlinewidth": 0,
              "ticks": ""
             }
            },
            "type": "scatter3d"
           }
          ],
          "scattercarpet": [
           {
            "marker": {
             "colorbar": {
              "outlinewidth": 0,
              "ticks": ""
             }
            },
            "type": "scattercarpet"
           }
          ],
          "scattergeo": [
           {
            "marker": {
             "colorbar": {
              "outlinewidth": 0,
              "ticks": ""
             }
            },
            "type": "scattergeo"
           }
          ],
          "scattergl": [
           {
            "marker": {
             "colorbar": {
              "outlinewidth": 0,
              "ticks": ""
             }
            },
            "type": "scattergl"
           }
          ],
          "scattermap": [
           {
            "marker": {
             "colorbar": {
              "outlinewidth": 0,
              "ticks": ""
             }
            },
            "type": "scattermap"
           }
          ],
          "scattermapbox": [
           {
            "marker": {
             "colorbar": {
              "outlinewidth": 0,
              "ticks": ""
             }
            },
            "type": "scattermapbox"
           }
          ],
          "scatterpolar": [
           {
            "marker": {
             "colorbar": {
              "outlinewidth": 0,
              "ticks": ""
             }
            },
            "type": "scatterpolar"
           }
          ],
          "scatterpolargl": [
           {
            "marker": {
             "colorbar": {
              "outlinewidth": 0,
              "ticks": ""
             }
            },
            "type": "scatterpolargl"
           }
          ],
          "scatterternary": [
           {
            "marker": {
             "colorbar": {
              "outlinewidth": 0,
              "ticks": ""
             }
            },
            "type": "scatterternary"
           }
          ],
          "surface": [
           {
            "colorbar": {
             "outlinewidth": 0,
             "ticks": ""
            },
            "colorscale": [
             [
              0,
              "#0d0887"
             ],
             [
              0.1111111111111111,
              "#46039f"
             ],
             [
              0.2222222222222222,
              "#7201a8"
             ],
             [
              0.3333333333333333,
              "#9c179e"
             ],
             [
              0.4444444444444444,
              "#bd3786"
             ],
             [
              0.5555555555555556,
              "#d8576b"
             ],
             [
              0.6666666666666666,
              "#ed7953"
             ],
             [
              0.7777777777777778,
              "#fb9f3a"
             ],
             [
              0.8888888888888888,
              "#fdca26"
             ],
             [
              1,
              "#f0f921"
             ]
            ],
            "type": "surface"
           }
          ],
          "table": [
           {
            "cells": {
             "fill": {
              "color": "#EBF0F8"
             },
             "line": {
              "color": "white"
             }
            },
            "header": {
             "fill": {
              "color": "#C8D4E3"
             },
             "line": {
              "color": "white"
             }
            },
            "type": "table"
           }
          ]
         },
         "layout": {
          "annotationdefaults": {
           "arrowcolor": "#2a3f5f",
           "arrowhead": 0,
           "arrowwidth": 1
          },
          "autotypenumbers": "strict",
          "coloraxis": {
           "colorbar": {
            "outlinewidth": 0,
            "ticks": ""
           }
          },
          "colorscale": {
           "diverging": [
            [
             0,
             "#8e0152"
            ],
            [
             0.1,
             "#c51b7d"
            ],
            [
             0.2,
             "#de77ae"
            ],
            [
             0.3,
             "#f1b6da"
            ],
            [
             0.4,
             "#fde0ef"
            ],
            [
             0.5,
             "#f7f7f7"
            ],
            [
             0.6,
             "#e6f5d0"
            ],
            [
             0.7,
             "#b8e186"
            ],
            [
             0.8,
             "#7fbc41"
            ],
            [
             0.9,
             "#4d9221"
            ],
            [
             1,
             "#276419"
            ]
           ],
           "sequential": [
            [
             0,
             "#0d0887"
            ],
            [
             0.1111111111111111,
             "#46039f"
            ],
            [
             0.2222222222222222,
             "#7201a8"
            ],
            [
             0.3333333333333333,
             "#9c179e"
            ],
            [
             0.4444444444444444,
             "#bd3786"
            ],
            [
             0.5555555555555556,
             "#d8576b"
            ],
            [
             0.6666666666666666,
             "#ed7953"
            ],
            [
             0.7777777777777778,
             "#fb9f3a"
            ],
            [
             0.8888888888888888,
             "#fdca26"
            ],
            [
             1,
             "#f0f921"
            ]
           ],
           "sequentialminus": [
            [
             0,
             "#0d0887"
            ],
            [
             0.1111111111111111,
             "#46039f"
            ],
            [
             0.2222222222222222,
             "#7201a8"
            ],
            [
             0.3333333333333333,
             "#9c179e"
            ],
            [
             0.4444444444444444,
             "#bd3786"
            ],
            [
             0.5555555555555556,
             "#d8576b"
            ],
            [
             0.6666666666666666,
             "#ed7953"
            ],
            [
             0.7777777777777778,
             "#fb9f3a"
            ],
            [
             0.8888888888888888,
             "#fdca26"
            ],
            [
             1,
             "#f0f921"
            ]
           ]
          },
          "colorway": [
           "#636efa",
           "#EF553B",
           "#00cc96",
           "#ab63fa",
           "#FFA15A",
           "#19d3f3",
           "#FF6692",
           "#B6E880",
           "#FF97FF",
           "#FECB52"
          ],
          "font": {
           "color": "#2a3f5f"
          },
          "geo": {
           "bgcolor": "white",
           "lakecolor": "white",
           "landcolor": "#E5ECF6",
           "showlakes": true,
           "showland": true,
           "subunitcolor": "white"
          },
          "hoverlabel": {
           "align": "left"
          },
          "hovermode": "closest",
          "mapbox": {
           "style": "light"
          },
          "paper_bgcolor": "white",
          "plot_bgcolor": "#E5ECF6",
          "polar": {
           "angularaxis": {
            "gridcolor": "white",
            "linecolor": "white",
            "ticks": ""
           },
           "bgcolor": "#E5ECF6",
           "radialaxis": {
            "gridcolor": "white",
            "linecolor": "white",
            "ticks": ""
           }
          },
          "scene": {
           "xaxis": {
            "backgroundcolor": "#E5ECF6",
            "gridcolor": "white",
            "gridwidth": 2,
            "linecolor": "white",
            "showbackground": true,
            "ticks": "",
            "zerolinecolor": "white"
           },
           "yaxis": {
            "backgroundcolor": "#E5ECF6",
            "gridcolor": "white",
            "gridwidth": 2,
            "linecolor": "white",
            "showbackground": true,
            "ticks": "",
            "zerolinecolor": "white"
           },
           "zaxis": {
            "backgroundcolor": "#E5ECF6",
            "gridcolor": "white",
            "gridwidth": 2,
            "linecolor": "white",
            "showbackground": true,
            "ticks": "",
            "zerolinecolor": "white"
           }
          },
          "shapedefaults": {
           "line": {
            "color": "#2a3f5f"
           }
          },
          "ternary": {
           "aaxis": {
            "gridcolor": "white",
            "linecolor": "white",
            "ticks": ""
           },
           "baxis": {
            "gridcolor": "white",
            "linecolor": "white",
            "ticks": ""
           },
           "bgcolor": "#E5ECF6",
           "caxis": {
            "gridcolor": "white",
            "linecolor": "white",
            "ticks": ""
           }
          },
          "title": {
           "x": 0.05
          },
          "xaxis": {
           "automargin": true,
           "gridcolor": "white",
           "linecolor": "white",
           "ticks": "",
           "title": {
            "standoff": 15
           },
           "zerolinecolor": "white",
           "zerolinewidth": 2
          },
          "yaxis": {
           "automargin": true,
           "gridcolor": "white",
           "linecolor": "white",
           "ticks": "",
           "title": {
            "standoff": 15
           },
           "zerolinecolor": "white",
           "zerolinewidth": 2
          }
         }
        },
        "title": {
         "text": "Taxa de Conversão de Ofertas por Renda",
         "x": 0.5,
         "xanchor": "center"
        },
        "width": 1500,
        "xaxis": {
         "anchor": "y",
         "autorange": true,
         "domain": [
          0,
          1
         ],
         "range": [
          0.5,
          5.5
         ],
         "title": {
          "text": "Renda"
         },
         "type": "linear"
        },
        "yaxis": {
         "anchor": "x",
         "autorange": true,
         "domain": [
          0,
          1
         ],
         "range": [
          0,
          0.5482096988294516
         ],
         "tickformat": ".0%",
         "title": {
          "text": "Taxa de Conversão"
         },
         "type": "linear"
        }
       }
      },
      "image/png": "[encoded data removed]"
     },
     "metadata": {},
     "output_type": "display_data"
    }
   ],
   "source": [
    "fig = px.bar(\n",
    "    df_merge_analysis.groupBy('category_limite').agg(F.sum('qtd_offer_completed').alias('qtd_offer_completed'), \n",
    "                                                     F.sum('qtd_offer_received').alias('total_ofertas'))\\\n",
    "        .withColumn('rate_convertion', F.col('qtd_offer_completed')/F.col('total_ofertas'))\\\n",
    "        .orderBy('category_limite').toPandas(),\n",
    "    x=\"category_limite\",\n",
    "    y=\"rate_convertion\",\n",
    "    text=\"rate_convertion\",\n",
    "    title=\"Taxa de Conversão de Ofertas por Renda\",\n",
    "    labels={\"category_limite\": \"Renda\", \"rate_convertion\": \"Taxa de Conversão\"},\n",
    ")\n",
    "\n",
    "fig.update_traces(texttemplate='%{text:.2%}', textposition='outside')\n",
    "\n",
    "fig.update_layout(\n",
    "    title=dict(x=0.5, xanchor=\"center\"),\n",
    "    height=500,\n",
    "    width=1500,\n",
    "    plot_bgcolor=\"#f2ede6\",  \n",
    "    paper_bgcolor=\"#f2ede6\",\n",
    "    yaxis_tickformat=\".0%\"\n",
    ")\n",
    "\n",
    "fig.show()"
   ]
  },
  {
   "cell_type": "markdown",
   "metadata": {
    "application/vnd.databricks.v1+cell": {
     "cellMetadata": {},
     "inputWidgets": {},
     "nuid": "6107e315-2732-4adf-b897-0eecfaf2e447",
     "showTitle": false,
     "tableResultSettingsMap": {},
     "title": ""
    }
   },
   "source": [
    "### Considerações"
   ]
  },
  {
   "cell_type": "markdown",
   "metadata": {
    "application/vnd.databricks.v1+cell": {
     "cellMetadata": {},
     "inputWidgets": {},
     "nuid": "cef2cc3d-6cff-4b2b-931a-cb646d3267ee",
     "showTitle": false,
     "tableResultSettingsMap": {},
     "title": ""
    }
   },
   "source": [
    " - Descontos são mais procurados que ofertas rápidas\n",
    "    - Descontos são eficazes em clientes entre 40 e 60 anos\n",
    " - Ofertas informativas não tiveram nenhuma conclusão\n",
    "    - Os dados nos mostram que não vale a pena manter do jeito que está\n",
    " - Clientes mais velhos e mais ricos procuram mais ofertas que pessoas mais novas\n",
    " - Sugestão: Melhorar Ofertas para pessoas mais Jovens e de Baixa Renda\n",
    " - Interessante: Todos os Grupos de Idades têm representação de renda.\n",
    " - Features que fazem total mudança: Faixa Etária, Renda, Tipo da Oferta\n"
   ]
  }
 ],
 "metadata": {
  "application/vnd.databricks.v1+notebook": {
   "computePreferences": {
    "hardware": {
     "accelerator": null,
     "gpuPoolId": null,
     "memory": null
    }
   },
   "dashboards": [],
   "environmentMetadata": {
    "base_environment": "",
    "environment_version": "2"
   },
   "inputWidgetPreferences": null,
   "language": "python",
   "notebookMetadata": {
    "pythonIndentUnit": 4
   },
   "notebookName": "4_merge_dataframes",
   "widgets": {}
  },
  "kernelspec": {
   "display_name": "Python 3 (ipykernel)",
   "language": "python",
   "name": "python3"
  },
  "language_info": {
   "codemirror_mode": {
    "name": "ipython",
    "version": 3
   },
   "file_extension": ".py",
   "mimetype": "text/x-python",
   "name": "python",
   "nbconvert_exporter": "python",
   "pygments_lexer": "ipython3",
   "version": "3.12.11"
  }
 },
 "nbformat": 4,
 "nbformat_minor": 4
}
