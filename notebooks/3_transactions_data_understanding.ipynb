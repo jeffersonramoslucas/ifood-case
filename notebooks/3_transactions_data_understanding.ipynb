{
 "cells": [
  {
   "cell_type": "markdown",
   "metadata": {},
   "source": [
    "# *Etapa 3: Engenharia de Features (transactions.json)*\n",
    "\n",
    "Ao término do processamento, devemos ter as seguintes variáveis:\n",
    "\n",
    "## transactions_received:\n",
    "* ``client_id``: id do cliente  \n",
    "* ``offer_id``:  id da oferta\n",
    "* ``time_received``: tempo desde o começo do teste em dias (t=0)\n",
    "* ``qtd_offer_received``: quantidade de ofertas recebidas\n",
    "\n",
    "## transactions_viewed:\n",
    "* ``client_id``: id do cliente  \n",
    "* ``offer_id``:  id da oferta\n",
    "* ``time_viewed``: tempo desde o começo do teste em dias (t=0)\n",
    "* ``qtd_offer_viewed``: quantidade de ofertas visualizadas\n",
    "\n",
    "\n",
    "## transactions_completed:\n",
    "* ``client_id``: id do cliente  \n",
    "* ``offer_id``:  id da oferta\n",
    "* ``time_completed``: tempo desde o começo do teste em dias (t=0)\n",
    "* ``qtd_offer_completed``: quantidade de ofertas completadas\n",
    "* ``sum_reward``: desconto\n",
    "\n",
    "## client_transactions:\n",
    "* ``client_id``: id do cliente  \n",
    "* ``time_transaction``: tempo desde o começo do teste em dias (t=0)\n",
    "* ``qtd_transaction``: quantidade de transações\n",
    "* ``total_amount``: valor da transação\n",
    "* ``avg_amount``: valor médio do valor da transação"
   ]
  },
  {
   "cell_type": "code",
   "execution_count": 1,
   "metadata": {
    "tags": []
   },
   "outputs": [
    {
     "name": "stderr",
     "output_type": "stream",
     "text": [
      "WARNING: Using incubator modules: jdk.incubator.vector\n",
      "Using Spark's default log4j profile: org/apache/spark/log4j2-defaults.properties\n",
      "25/08/11 00:22:49 WARN Utils: Your hostname, N0L144853, resolves to a loopback address: 127.0.1.1; using 192.168.68.107 instead (on interface wlp0s20f3)\n",
      "25/08/11 00:22:49 WARN Utils: Set SPARK_LOCAL_IP if you need to bind to another address\n",
      "Using Spark's default log4j profile: org/apache/spark/log4j2-defaults.properties\n",
      "Setting default log level to \"WARN\".\n",
      "To adjust logging level use sc.setLogLevel(newLevel). For SparkR, use setLogLevel(newLevel).\n",
      "25/08/11 00:22:49 WARN NativeCodeLoader: Unable to load native-hadoop library for your platform... using builtin-java classes where applicable\n",
      "25/08/11 00:22:49 WARN Utils: Service 'SparkUI' could not bind on port 4040. Attempting port 4041.\n",
      "25/08/11 00:22:49 WARN Utils: Service 'SparkUI' could not bind on port 4041. Attempting port 4042.\n",
      "25/08/11 00:22:49 WARN Utils: Service 'SparkUI' could not bind on port 4042. Attempting port 4043.\n"
     ]
    }
   ],
   "source": [
    "from pyspark.sql import SparkSession\n",
    "spark = SparkSession.builder.appName('PySparkTest').getOrCreate()"
   ]
  },
  {
   "cell_type": "code",
   "execution_count": 2,
   "metadata": {
    "application/vnd.databricks.v1+cell": {
     "cellMetadata": {
      "byteLimit": 2048000,
      "rowLimit": 10000
     },
     "inputWidgets": {},
     "nuid": "ae2e1408-61af-4401-a7ab-d180a0c18621",
     "showTitle": false,
     "tableResultSettingsMap": {},
     "title": ""
    },
    "tags": []
   },
   "outputs": [],
   "source": [
    "from pyspark.sql import functions as F\n",
    "from pyspark.sql import types as T"
   ]
  },
  {
   "cell_type": "markdown",
   "metadata": {
    "application/vnd.databricks.v1+cell": {
     "cellMetadata": {
      "byteLimit": 2048000,
      "rowLimit": 10000
     },
     "inputWidgets": {},
     "nuid": "25c9c328-e0a4-4916-92ac-1890cf2a8a98",
     "showTitle": false,
     "tableResultSettingsMap": {},
     "title": ""
    }
   },
   "source": [
    "# Read Files"
   ]
  },
  {
   "cell_type": "code",
   "execution_count": 3,
   "metadata": {
    "application/vnd.databricks.v1+cell": {
     "cellMetadata": {
      "byteLimit": 2048000,
      "rowLimit": 10000
     },
     "inputWidgets": {},
     "nuid": "b56117f6-3142-4525-a24e-ed209f49fc14",
     "showTitle": false,
     "tableResultSettingsMap": {},
     "title": ""
    },
    "tags": []
   },
   "outputs": [
    {
     "name": "stderr",
     "output_type": "stream",
     "text": [
      "[Stage 0:>                                                          (0 + 1) / 1]\r"
     ]
    },
    {
     "name": "stdout",
     "output_type": "stream",
     "text": [
      "+--------------+--------------------------------+---------------------+--------------------------------+--------+------+------+\n",
      "|event         |account_id                      |time_since_test_start|offer id                        |offer_id|reward|amount|\n",
      "+--------------+--------------------------------+---------------------+--------------------------------+--------+------+------+\n",
      "|offer received|78afa995795e4d85b5d9ceeca43f5fef|0.0                  |9b98b8c7a33c4b65b9aebfe6a799e6d9|NULL    |NULL  |NULL  |\n",
      "|offer received|a03223e636434f42ac4c3df47e8bac43|0.0                  |0b1e1539f2cc45b7b9fa7c272da2e1d7|NULL    |NULL  |NULL  |\n",
      "|offer received|e2127556f4f64592b11af22de27a7932|0.0                  |2906b810c7d4411798c6938adc9daaa5|NULL    |NULL  |NULL  |\n",
      "|offer received|8ec6ce2a7e7949b1bf142def7d0e0586|0.0                  |fafdcd668e3743c1bb461111dcafc2a4|NULL    |NULL  |NULL  |\n",
      "|offer received|68617ca6246f4fbc85e91a2a49552598|0.0                  |4d5c57ea9a6940dd891ad53e9dbe8da0|NULL    |NULL  |NULL  |\n",
      "+--------------+--------------------------------+---------------------+--------------------------------+--------+------+------+\n",
      "only showing top 5 rows\n"
     ]
    },
    {
     "name": "stderr",
     "output_type": "stream",
     "text": [
      "                                                                                \r"
     ]
    }
   ],
   "source": [
    "path_json = \"../data/raw/transactions.json\"\n",
    "output_path_client_transactions = \"../data/trusted/client_transactions\"\n",
    "output_path_transactions_received = \"../data/trusted/transactions_received\"\n",
    "output_path_transactions_viewed = \"../data/trusted/transactions_viewed\"\n",
    "output_path_transactions_completed = \"../data/trusted/transactions_completed\"\n",
    "\n",
    "\n",
    "schema = T.StructType([\n",
    "    T.StructField(\"event\", T.StringType(), True),\n",
    "    T.StructField(\"account_id\", T.StringType(), True),\n",
    "    T.StructField(\"time_since_test_start\", T.DoubleType(), True),\n",
    "    T.StructField(\"value\", T.MapType(T.StringType(), T.StringType()), True) \n",
    "])\n",
    "\n",
    "df_transactions = spark.read.schema(schema).json(path_json)\n",
    "\n",
    "df_transactions = df_transactions.withColumn(\"offer id\", F.col(\"value\").getItem(\"offer id\")) \\\n",
    "                                 .withColumn(\"offer_id\", F.col(\"value\").getItem(\"offer_id\")) \\\n",
    "                                 .withColumn(\"reward\", F.col(\"value\").getItem(\"reward\").cast(T.DoubleType())) \\\n",
    "                                 .withColumn(\"amount\", F.col(\"value\").getItem(\"amount\").cast(T.DoubleType())) \\\n",
    "                                 .select(F.col('event'), F.col('account_id'), F.col('time_since_test_start'), F.col('offer id'), F.col('offer_id'), F.col('reward'), F.col('amount'))\n",
    "\n",
    "df_transactions.show(5, truncate=False)"
   ]
  },
  {
   "cell_type": "code",
   "execution_count": 4,
   "metadata": {
    "application/vnd.databricks.v1+cell": {
     "cellMetadata": {
      "byteLimit": 2048000,
      "rowLimit": 10000
     },
     "inputWidgets": {},
     "nuid": "657ca24c-f78c-42e2-b565-e24d554d4c64",
     "showTitle": false,
     "tableResultSettingsMap": {},
     "title": ""
    },
    "tags": []
   },
   "outputs": [
    {
     "name": "stderr",
     "output_type": "stream",
     "text": [
      "25/08/11 00:22:53 WARN SparkStringUtils: Truncated the string representation of a plan since it was too large. This behavior can be adjusted by setting 'spark.sql.debug.maxToStringFields'.\n",
      "[Stage 1:====================================================>    (11 + 1) / 12]\r"
     ]
    },
    {
     "name": "stdout",
     "output_type": "stream",
     "text": [
      "+-------+---------------+--------------------+---------------------+--------------------+--------------------+------------------+------------------+\n",
      "|summary|          event|          account_id|time_since_test_start|            offer id|            offer_id|            reward|            amount|\n",
      "+-------+---------------+--------------------+---------------------+--------------------+--------------------+------------------+------------------+\n",
      "|  count|         306534|              306534|               306534|              134002|               33579|             33579|            138953|\n",
      "|   mean|           NULL|2.565638242424101E31|   15.265955815668082|                NULL|                NULL| 4.904136513892611| 12.77735615639814|\n",
      "| stddev|           NULL|                 0.0|    8.346929730115084|                NULL|                NULL|2.8866468823372804|30.250528632017126|\n",
      "|    min|offer completed|0009655768c64bdeb...|                  0.0|0b1e1539f2cc45b7b...|0b1e1539f2cc45b7b...|               2.0|              0.05|\n",
      "|    max|    transaction|ffff82501cea40309...|                29.75|fafdcd668e3743c1b...|fafdcd668e3743c1b...|              10.0|           1062.28|\n",
      "+-------+---------------+--------------------+---------------------+--------------------+--------------------+------------------+------------------+\n",
      "\n"
     ]
    },
    {
     "name": "stderr",
     "output_type": "stream",
     "text": [
      "                                                                                \r"
     ]
    }
   ],
   "source": [
    "df_transactions.describe().show()"
   ]
  },
  {
   "cell_type": "code",
   "execution_count": 5,
   "metadata": {
    "application/vnd.databricks.v1+cell": {
     "cellMetadata": {
      "byteLimit": 2048000,
      "rowLimit": 10000
     },
     "inputWidgets": {},
     "nuid": "dd4ab4c2-2a4c-43bb-a7b0-d32c8c2ff715",
     "showTitle": false,
     "tableResultSettingsMap": {},
     "title": ""
    },
    "tags": []
   },
   "outputs": [
    {
     "name": "stderr",
     "output_type": "stream",
     "text": [
      "[Stage 4:====================================================>    (11 + 1) / 12]\r"
     ]
    },
    {
     "name": "stdout",
     "output_type": "stream",
     "text": [
      "+-----+----------+---------------------+--------+--------+------+------+\n",
      "|event|account_id|time_since_test_start|offer id|offer_id|reward|amount|\n",
      "+-----+----------+---------------------+--------+--------+------+------+\n",
      "|    0|         0|                    0|  172532|  272955|272955|167581|\n",
      "+-----+----------+---------------------+--------+--------+------+------+\n",
      "\n"
     ]
    },
    {
     "name": "stderr",
     "output_type": "stream",
     "text": [
      "                                                                                \r"
     ]
    }
   ],
   "source": [
    "df_transactions.select([F.count(F.when(F.col(c).isNull(), c)).alias(c) for c in df_transactions.columns]).show()"
   ]
  },
  {
   "cell_type": "markdown",
   "metadata": {
    "application/vnd.databricks.v1+cell": {
     "cellMetadata": {
      "byteLimit": 2048000,
      "rowLimit": 10000
     },
     "inputWidgets": {},
     "nuid": "25400698-625b-408d-b7a5-01d1474df6b2",
     "showTitle": false,
     "tableResultSettingsMap": {},
     "title": ""
    }
   },
   "source": [
    "## Considerações:\n",
    " - Juntar as colunas de offer_id, pois não existem registros onde os dois não são nulos\n",
    " - Verificar tipos de Eventos\n",
    " - Verificar Colunas Nulas\n"
   ]
  },
  {
   "cell_type": "code",
   "execution_count": 6,
   "metadata": {
    "application/vnd.databricks.v1+cell": {
     "cellMetadata": {
      "byteLimit": 2048000,
      "rowLimit": 10000
     },
     "inputWidgets": {},
     "nuid": "b215212e-8604-400f-b1dd-fb3c50eee76e",
     "showTitle": false,
     "tableResultSettingsMap": {},
     "title": ""
    },
    "tags": []
   },
   "outputs": [
    {
     "name": "stdout",
     "output_type": "stream",
     "text": [
      "+---------------+------+\n",
      "|          event| count|\n",
      "+---------------+------+\n",
      "|    transaction|138953|\n",
      "| offer received| 76277|\n",
      "|offer completed| 33579|\n",
      "|   offer viewed| 57725|\n",
      "+---------------+------+\n",
      "\n"
     ]
    }
   ],
   "source": [
    "df_transactions.groupBy(\"event\").count().show()"
   ]
  },
  {
   "cell_type": "markdown",
   "metadata": {
    "application/vnd.databricks.v1+cell": {
     "cellMetadata": {
      "byteLimit": 2048000,
      "rowLimit": 10000
     },
     "inputWidgets": {},
     "nuid": "fe429eb6-3a01-4f0f-a0b7-3589efe8aac5",
     "showTitle": false,
     "tableResultSettingsMap": {},
     "title": ""
    }
   },
   "source": [
    "# Data Clean"
   ]
  },
  {
   "cell_type": "code",
   "execution_count": 7,
   "metadata": {
    "application/vnd.databricks.v1+cell": {
     "cellMetadata": {
      "byteLimit": 2048000,
      "rowLimit": 10000
     },
     "inputWidgets": {},
     "nuid": "353d8279-20ff-465e-a880-3035baf89770",
     "showTitle": false,
     "tableResultSettingsMap": {},
     "title": ""
    },
    "tags": []
   },
   "outputs": [
    {
     "name": "stdout",
     "output_type": "stream",
     "text": [
      "+--------------+--------------------------------+---------------------+--------------------------------+--------+------+------+\n",
      "|event         |account_id                      |time_since_test_start|offer id                        |offer_id|reward|amount|\n",
      "+--------------+--------------------------------+---------------------+--------------------------------+--------+------+------+\n",
      "|offer received|78afa995795e4d85b5d9ceeca43f5fef|0.0                  |9b98b8c7a33c4b65b9aebfe6a799e6d9|NULL    |NULL  |NULL  |\n",
      "|offer received|a03223e636434f42ac4c3df47e8bac43|0.0                  |0b1e1539f2cc45b7b9fa7c272da2e1d7|NULL    |NULL  |NULL  |\n",
      "|offer received|e2127556f4f64592b11af22de27a7932|0.0                  |2906b810c7d4411798c6938adc9daaa5|NULL    |NULL  |NULL  |\n",
      "|offer received|8ec6ce2a7e7949b1bf142def7d0e0586|0.0                  |fafdcd668e3743c1bb461111dcafc2a4|NULL    |NULL  |NULL  |\n",
      "|offer received|68617ca6246f4fbc85e91a2a49552598|0.0                  |4d5c57ea9a6940dd891ad53e9dbe8da0|NULL    |NULL  |NULL  |\n",
      "+--------------+--------------------------------+---------------------+--------------------------------+--------+------+------+\n",
      "only showing top 5 rows\n"
     ]
    }
   ],
   "source": [
    "df_transactions.show(5, truncate=False)"
   ]
  },
  {
   "cell_type": "markdown",
   "metadata": {
    "application/vnd.databricks.v1+cell": {
     "cellMetadata": {},
     "inputWidgets": {},
     "nuid": "36242c0b-c0ad-4dfc-9626-3cafbc76e8b2",
     "showTitle": false,
     "tableResultSettingsMap": {},
     "title": ""
    }
   },
   "source": [
    "##### Unificando offer_id"
   ]
  },
  {
   "cell_type": "code",
   "execution_count": 8,
   "metadata": {
    "application/vnd.databricks.v1+cell": {
     "cellMetadata": {
      "byteLimit": 2048000,
      "rowLimit": 10000
     },
     "inputWidgets": {},
     "nuid": "36e16497-c166-4434-9b43-af586e43bcbd",
     "showTitle": false,
     "tableResultSettingsMap": {},
     "title": ""
    },
    "tags": []
   },
   "outputs": [
    {
     "name": "stdout",
     "output_type": "stream",
     "text": [
      "+--------------+--------------------------------+---------------------+--------------------------------+--------+------+------+--------------------------------+\n",
      "|event         |account_id                      |time_since_test_start|offer id                        |offer_id|reward|amount|offer_id_final                  |\n",
      "+--------------+--------------------------------+---------------------+--------------------------------+--------+------+------+--------------------------------+\n",
      "|offer received|78afa995795e4d85b5d9ceeca43f5fef|0.0                  |9b98b8c7a33c4b65b9aebfe6a799e6d9|NULL    |NULL  |NULL  |9b98b8c7a33c4b65b9aebfe6a799e6d9|\n",
      "|offer received|a03223e636434f42ac4c3df47e8bac43|0.0                  |0b1e1539f2cc45b7b9fa7c272da2e1d7|NULL    |NULL  |NULL  |0b1e1539f2cc45b7b9fa7c272da2e1d7|\n",
      "|offer received|e2127556f4f64592b11af22de27a7932|0.0                  |2906b810c7d4411798c6938adc9daaa5|NULL    |NULL  |NULL  |2906b810c7d4411798c6938adc9daaa5|\n",
      "|offer received|8ec6ce2a7e7949b1bf142def7d0e0586|0.0                  |fafdcd668e3743c1bb461111dcafc2a4|NULL    |NULL  |NULL  |fafdcd668e3743c1bb461111dcafc2a4|\n",
      "|offer received|68617ca6246f4fbc85e91a2a49552598|0.0                  |4d5c57ea9a6940dd891ad53e9dbe8da0|NULL    |NULL  |NULL  |4d5c57ea9a6940dd891ad53e9dbe8da0|\n",
      "+--------------+--------------------------------+---------------------+--------------------------------+--------+------+------+--------------------------------+\n",
      "only showing top 5 rows\n"
     ]
    }
   ],
   "source": [
    "df_transactions = df_transactions.withColumn(\"offer_id_final\",F.coalesce(F.col(\"offer_id\"), F.col(\"offer id\")))\n",
    "df_transactions.show(5, truncate=False)"
   ]
  },
  {
   "cell_type": "code",
   "execution_count": 9,
   "metadata": {
    "application/vnd.databricks.v1+cell": {
     "cellMetadata": {
      "byteLimit": 2048000,
      "rowLimit": 10000
     },
     "inputWidgets": {},
     "nuid": "727909fd-a843-4ef2-bb03-2ecd16265956",
     "showTitle": false,
     "tableResultSettingsMap": {},
     "title": ""
    },
    "tags": []
   },
   "outputs": [
    {
     "name": "stdout",
     "output_type": "stream",
     "text": [
      "+--------------+--------------------------------+---------------------+------+------+--------------------------------+\n",
      "|event         |client_id                       |time_since_test_start|reward|amount|offer_id                        |\n",
      "+--------------+--------------------------------+---------------------+------+------+--------------------------------+\n",
      "|offer received|78afa995795e4d85b5d9ceeca43f5fef|0.0                  |NULL  |NULL  |9b98b8c7a33c4b65b9aebfe6a799e6d9|\n",
      "|offer received|a03223e636434f42ac4c3df47e8bac43|0.0                  |NULL  |NULL  |0b1e1539f2cc45b7b9fa7c272da2e1d7|\n",
      "|offer received|e2127556f4f64592b11af22de27a7932|0.0                  |NULL  |NULL  |2906b810c7d4411798c6938adc9daaa5|\n",
      "|offer received|8ec6ce2a7e7949b1bf142def7d0e0586|0.0                  |NULL  |NULL  |fafdcd668e3743c1bb461111dcafc2a4|\n",
      "|offer received|68617ca6246f4fbc85e91a2a49552598|0.0                  |NULL  |NULL  |4d5c57ea9a6940dd891ad53e9dbe8da0|\n",
      "+--------------+--------------------------------+---------------------+------+------+--------------------------------+\n",
      "only showing top 5 rows\n"
     ]
    },
    {
     "name": "stderr",
     "output_type": "stream",
     "text": [
      "                                                                                \r"
     ]
    }
   ],
   "source": [
    "df_transactions = df_transactions.drop(\"offer id\", \"offer_id\")\\\n",
    "                                 .withColumnRenamed(\"offer_id_final\", \"offer_id\")\\\n",
    "                                 .withColumnRenamed(\"account_id\", \"client_id\")\n",
    "df_transactions.show(5, truncate=False)"
   ]
  },
  {
   "cell_type": "markdown",
   "metadata": {
    "application/vnd.databricks.v1+cell": {
     "cellMetadata": {},
     "inputWidgets": {},
     "nuid": "df8f3880-edda-4789-a7ab-4d239be302be",
     "showTitle": false,
     "tableResultSettingsMap": {},
     "title": ""
    }
   },
   "source": [
    "##### Transformando colunas"
   ]
  },
  {
   "cell_type": "code",
   "execution_count": 10,
   "metadata": {
    "application/vnd.databricks.v1+cell": {
     "cellMetadata": {
      "byteLimit": 2048000,
      "rowLimit": 10000
     },
     "inputWidgets": {},
     "nuid": "aaab09cd-4eb6-488d-b4e3-c60de2da44a5",
     "showTitle": false,
     "tableResultSettingsMap": {},
     "title": ""
    },
    "tags": []
   },
   "outputs": [
    {
     "name": "stdout",
     "output_type": "stream",
     "text": [
      "+--------------+--------------------------------+---------------------+------+------+--------------------------------+\n",
      "|event         |client_id                       |time_since_test_start|reward|amount|offer_id                        |\n",
      "+--------------+--------------------------------+---------------------+------+------+--------------------------------+\n",
      "|offer received|78afa995795e4d85b5d9ceeca43f5fef|0.0                  |0.0   |0.0   |9b98b8c7a33c4b65b9aebfe6a799e6d9|\n",
      "|offer received|a03223e636434f42ac4c3df47e8bac43|0.0                  |0.0   |0.0   |0b1e1539f2cc45b7b9fa7c272da2e1d7|\n",
      "|offer received|e2127556f4f64592b11af22de27a7932|0.0                  |0.0   |0.0   |2906b810c7d4411798c6938adc9daaa5|\n",
      "|offer received|8ec6ce2a7e7949b1bf142def7d0e0586|0.0                  |0.0   |0.0   |fafdcd668e3743c1bb461111dcafc2a4|\n",
      "|offer received|68617ca6246f4fbc85e91a2a49552598|0.0                  |0.0   |0.0   |4d5c57ea9a6940dd891ad53e9dbe8da0|\n",
      "+--------------+--------------------------------+---------------------+------+------+--------------------------------+\n",
      "only showing top 5 rows\n"
     ]
    }
   ],
   "source": [
    "df_transactions = df_transactions.fillna({\"amount\": 0})\\\n",
    "                                 .fillna({\"reward\": 0})\n",
    "df_transactions.show(5, truncate=False)"
   ]
  },
  {
   "cell_type": "code",
   "execution_count": 11,
   "metadata": {
    "application/vnd.databricks.v1+cell": {
     "cellMetadata": {
      "byteLimit": 2048000,
      "rowLimit": 10000
     },
     "inputWidgets": {},
     "nuid": "a0092d05-ca78-4fb8-ab96-d4510bfb5960",
     "showTitle": false,
     "tableResultSettingsMap": {},
     "title": ""
    },
    "tags": []
   },
   "outputs": [
    {
     "data": {
      "text/plain": [
       "['transaction', 'offer received', 'offer completed', 'offer viewed']"
      ]
     },
     "execution_count": 11,
     "metadata": {},
     "output_type": "execute_result"
    }
   ],
   "source": [
    "distinct_events = [ev.event for ev in df_transactions.select('event').distinct().collect()]\n",
    "distinct_events"
   ]
  },
  {
   "cell_type": "code",
   "execution_count": 12,
   "metadata": {
    "application/vnd.databricks.v1+cell": {
     "cellMetadata": {
      "byteLimit": 2048000,
      "rowLimit": 10000
     },
     "inputWidgets": {},
     "nuid": "3ad33afd-0265-4cc3-9da5-912887fdb423",
     "showTitle": false,
     "tableResultSettingsMap": {},
     "title": ""
    },
    "tags": []
   },
   "outputs": [
    {
     "name": "stdout",
     "output_type": "stream",
     "text": [
      "+--------------+--------------------------------+---------------------+------+------+--------------------------------+-----------+--------------+---------------+------------+\n",
      "|event         |client_id                       |time_since_test_start|reward|amount|offer_id                        |transaction|offer_received|offer_completed|offer_viewed|\n",
      "+--------------+--------------------------------+---------------------+------+------+--------------------------------+-----------+--------------+---------------+------------+\n",
      "|offer received|78afa995795e4d85b5d9ceeca43f5fef|0.0                  |0.0   |0.0   |9b98b8c7a33c4b65b9aebfe6a799e6d9|0          |1             |0              |0           |\n",
      "|offer received|a03223e636434f42ac4c3df47e8bac43|0.0                  |0.0   |0.0   |0b1e1539f2cc45b7b9fa7c272da2e1d7|0          |1             |0              |0           |\n",
      "|offer received|e2127556f4f64592b11af22de27a7932|0.0                  |0.0   |0.0   |2906b810c7d4411798c6938adc9daaa5|0          |1             |0              |0           |\n",
      "|offer received|8ec6ce2a7e7949b1bf142def7d0e0586|0.0                  |0.0   |0.0   |fafdcd668e3743c1bb461111dcafc2a4|0          |1             |0              |0           |\n",
      "|offer received|68617ca6246f4fbc85e91a2a49552598|0.0                  |0.0   |0.0   |4d5c57ea9a6940dd891ad53e9dbe8da0|0          |1             |0              |0           |\n",
      "+--------------+--------------------------------+---------------------+------+------+--------------------------------+-----------+--------------+---------------+------------+\n",
      "only showing top 5 rows\n"
     ]
    }
   ],
   "source": [
    "for event in distinct_events:\n",
    "    df_transactions = df_transactions.withColumn(event.replace(\" \", \"_\"), F.when(F.col(\"event\") == event, 1).otherwise(0))\n",
    "df_transactions.show(5, truncate=False)"
   ]
  },
  {
   "cell_type": "markdown",
   "metadata": {
    "application/vnd.databricks.v1+cell": {
     "cellMetadata": {},
     "inputWidgets": {},
     "nuid": "0a5bbf17-ada3-4dff-bbe1-793e06ddd615",
     "showTitle": false,
     "tableResultSettingsMap": {},
     "title": ""
    }
   },
   "source": [
    "##### Gerando tabelas limpas para cada tipo de evento"
   ]
  },
  {
   "cell_type": "code",
   "execution_count": 13,
   "metadata": {
    "application/vnd.databricks.v1+cell": {
     "cellMetadata": {
      "byteLimit": 2048000,
      "rowLimit": 10000
     },
     "inputWidgets": {},
     "nuid": "59afe579-959d-4dea-a368-5a9cf03ef9e7",
     "showTitle": false,
     "tableResultSettingsMap": {},
     "title": ""
    },
    "tags": []
   },
   "outputs": [
    {
     "name": "stdout",
     "output_type": "stream",
     "text": [
      "+--------------------------------+--------------------------------+---------------------+------+------+--------------+------------+---------------+-----------+\n",
      "|client_id                       |offer_id                        |time_since_test_start|reward|amount|offer_received|offer_viewed|offer_completed|transaction|\n",
      "+--------------------------------+--------------------------------+---------------------+------+------+--------------+------------+---------------+-----------+\n",
      "|78afa995795e4d85b5d9ceeca43f5fef|9b98b8c7a33c4b65b9aebfe6a799e6d9|0.0                  |0.0   |0.0   |1             |0           |0              |0          |\n",
      "|a03223e636434f42ac4c3df47e8bac43|0b1e1539f2cc45b7b9fa7c272da2e1d7|0.0                  |0.0   |0.0   |1             |0           |0              |0          |\n",
      "|e2127556f4f64592b11af22de27a7932|2906b810c7d4411798c6938adc9daaa5|0.0                  |0.0   |0.0   |1             |0           |0              |0          |\n",
      "|8ec6ce2a7e7949b1bf142def7d0e0586|fafdcd668e3743c1bb461111dcafc2a4|0.0                  |0.0   |0.0   |1             |0           |0              |0          |\n",
      "|68617ca6246f4fbc85e91a2a49552598|4d5c57ea9a6940dd891ad53e9dbe8da0|0.0                  |0.0   |0.0   |1             |0           |0              |0          |\n",
      "+--------------------------------+--------------------------------+---------------------+------+------+--------------+------------+---------------+-----------+\n",
      "only showing top 5 rows\n"
     ]
    },
    {
     "name": "stderr",
     "output_type": "stream",
     "text": [
      "                                                                                \r"
     ]
    }
   ],
   "source": [
    "df_transactions = df_transactions.select(\"client_id\", 'offer_id', 'time_since_test_start', \"reward\", \"amount\", 'offer_received', 'offer_viewed', 'offer_completed', 'transaction')\n",
    "df_transactions.show(5, truncate=False)"
   ]
  },
  {
   "cell_type": "code",
   "execution_count": 14,
   "metadata": {
    "application/vnd.databricks.v1+cell": {
     "cellMetadata": {
      "byteLimit": 2048000,
      "rowLimit": 10000
     },
     "inputWidgets": {},
     "nuid": "67a1e437-b37e-4ac7-93d9-6d433392180d",
     "showTitle": false,
     "tableResultSettingsMap": {},
     "title": ""
    },
    "tags": []
   },
   "outputs": [],
   "source": [
    "df_offer_received = df_transactions.filter(\"offer_received=1\")\\\n",
    "                                   .select('client_id', 'offer_id', F.col('time_since_test_start').alias('time_received'), 'offer_received')\\\n",
    "                                   .groupBy(\"client_id\", \"offer_id\").agg(\n",
    "                                                                        F.array_sort(F.collect_list(\"time_received\")).alias(\"time_received\"), \n",
    "                                                                        F.count(F.col('offer_received')).alias(\"qtd_offer_received\"))\\\n",
    "                                   .orderBy(\"client_id\", \"offer_id\")\n",
    "\n",
    "df_offer_viewed = df_transactions.filter(\"offer_viewed=1\")\\\n",
    "                                 .select('client_id', 'offer_id', F.col('time_since_test_start').alias('time_viewed'), 'offer_viewed') \\\n",
    "                                 .groupBy(\"client_id\", \"offer_id\").agg(\n",
    "                                                                        F.array_sort(F.collect_list(\"time_viewed\")).alias(\"time_viewed\"), \n",
    "                                                                        F.count(F.col('offer_viewed')).alias(\"qtd_offer_viewed\"))\\\n",
    "                                  .orderBy(\"client_id\", \"offer_id\")\n",
    "\n",
    "df_offer_completed = df_transactions.filter(\"offer_completed=1\")\\\n",
    "                                    .select('client_id', 'offer_id', F.col('time_since_test_start').alias('time_completed'), 'reward', 'offer_completed')\\\n",
    "                                    .groupBy(\"client_id\", \"offer_id\").agg(\n",
    "                                                                        F.array_sort(F.collect_list(\"time_completed\")).alias(\"time_completed\"), \n",
    "                                                                        F.count(F.col('offer_completed')).alias(\"qtd_offer_completed\"), \n",
    "                                                                        F.sum(F.col('reward')).alias(\"sum_reward\"))\\\n",
    "                                    .orderBy(\"client_id\", \"offer_id\")\n",
    "\n",
    "df_client_transactions = df_transactions.filter(\"transaction=1\")\\\n",
    "                                        .select('client_id', 'amount', F.col('time_since_test_start').alias('time_transaction'), 'transaction')\\\n",
    "                                        .groupBy(\"client_id\").agg(\n",
    "                                                                F.array_sort(F.collect_list(\"time_transaction\")).alias(\"time_transaction\"), \n",
    "                                                                F.count(F.col('transaction')).alias(\"qtd_transaction\"),\n",
    "                                                                F.sum(F.col('amount')).alias('total_amount'),\n",
    "                                                                F.avg(F.col('amount')).alias('avg_amount'))\\\n",
    "                                        .orderBy(\"client_id\")"
   ]
  },
  {
   "cell_type": "code",
   "execution_count": 15,
   "metadata": {
    "application/vnd.databricks.v1+cell": {
     "cellMetadata": {
      "byteLimit": 2048000,
      "rowLimit": 10000
     },
     "inputWidgets": {},
     "nuid": "7647d8dd-e413-4d62-ae4a-2eaa52e6e045",
     "showTitle": false,
     "tableResultSettingsMap": {},
     "title": ""
    }
   },
   "outputs": [
    {
     "name": "stderr",
     "output_type": "stream",
     "text": [
      "                                                                                \r"
     ]
    }
   ],
   "source": [
    "df_client_transactions.write.format(\"parquet\").mode(\"overwrite\").save(output_path_client_transactions)\n",
    "df_offer_received.write.format(\"parquet\").mode(\"overwrite\").save(output_path_transactions_received)\n",
    "df_offer_viewed.write.format(\"parquet\").mode(\"overwrite\").save(output_path_transactions_viewed)\n",
    "df_offer_completed.write.format(\"parquet\").mode(\"overwrite\").save(output_path_transactions_completed)"
   ]
  }
 ],
 "metadata": {
  "application/vnd.databricks.v1+notebook": {
   "computePreferences": {
    "hardware": {
     "accelerator": null,
     "gpuPoolId": null,
     "memory": null
    }
   },
   "dashboards": [],
   "environmentMetadata": {
    "base_environment": "",
    "environment_version": "2"
   },
   "inputWidgetPreferences": null,
   "language": "python",
   "notebookMetadata": {
    "mostRecentlyExecutedCommandWithImplicitDF": {
     "commandId": 7987648312088314,
     "dataframes": [
      "_sqldf"
     ]
    },
    "pythonIndentUnit": 4
   },
   "notebookName": "3_transactions_data_understanding",
   "widgets": {}
  },
  "kernelspec": {
   "display_name": "Python 3 (ipykernel)",
   "language": "python",
   "name": "python3"
  },
  "language_info": {
   "codemirror_mode": {
    "name": "ipython",
    "version": 3
   },
   "file_extension": ".py",
   "mimetype": "text/x-python",
   "name": "python",
   "nbconvert_exporter": "python",
   "pygments_lexer": "ipython3",
   "version": "3.12.11"
  }
 },
 "nbformat": 4,
 "nbformat_minor": 4
}
