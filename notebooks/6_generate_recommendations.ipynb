{
 "cells": [
  {
   "cell_type": "code",
   "execution_count": 1,
   "id": "804a6c78-a893-4e53-b9f4-fad51d7e3160",
   "metadata": {},
   "outputs": [
    {
     "name": "stderr",
     "output_type": "stream",
     "text": [
      "WARNING: Using incubator modules: jdk.incubator.vector\n",
      "Using Spark's default log4j profile: org/apache/spark/log4j2-defaults.properties\n",
      "25/08/10 16:38:21 WARN Utils: Your hostname, N0L144853, resolves to a loopback address: 127.0.1.1; using 192.168.3.112 instead (on interface wlp0s20f3)\n",
      "25/08/10 16:38:21 WARN Utils: Set SPARK_LOCAL_IP if you need to bind to another address\n",
      "Using Spark's default log4j profile: org/apache/spark/log4j2-defaults.properties\n",
      "Setting default log level to \"WARN\".\n",
      "To adjust logging level use sc.setLogLevel(newLevel). For SparkR, use setLogLevel(newLevel).\n",
      "25/08/10 16:38:21 WARN NativeCodeLoader: Unable to load native-hadoop library for your platform... using builtin-java classes where applicable\n",
      "25/08/10 16:38:21 WARN Utils: Service 'SparkUI' could not bind on port 4040. Attempting port 4041.\n",
      "25/08/10 16:38:21 WARN Utils: Service 'SparkUI' could not bind on port 4041. Attempting port 4042.\n",
      "25/08/10 16:38:21 WARN Utils: Service 'SparkUI' could not bind on port 4042. Attempting port 4043.\n",
      "25/08/10 16:38:21 WARN Utils: Service 'SparkUI' could not bind on port 4043. Attempting port 4044.\n",
      "25/08/10 16:38:21 WARN Utils: Service 'SparkUI' could not bind on port 4044. Attempting port 4045.\n",
      "25/08/10 16:38:21 WARN Utils: Service 'SparkUI' could not bind on port 4045. Attempting port 4046.\n",
      "25/08/10 16:38:21 WARN Utils: Service 'SparkUI' could not bind on port 4046. Attempting port 4047.\n",
      "25/08/10 16:38:21 WARN Utils: Service 'SparkUI' could not bind on port 4047. Attempting port 4048.\n"
     ]
    },
    {
     "data": {
      "text/html": [
       "<style>.jp-Cell-outputArea { text-align: center; }</style>"
      ],
      "text/plain": [
       "<IPython.core.display.HTML object>"
      ]
     },
     "metadata": {},
     "output_type": "display_data"
    }
   ],
   "source": [
    "from pyspark.sql import SparkSession\n",
    "spark = SparkSession.builder.appName('PySparkTest').getOrCreate()\n",
    "\n",
    "from IPython.display import display, HTML\n",
    "display(HTML(\"<style>.jp-Cell-outputArea { text-align: center; }</style>\"))"
   ]
  },
  {
   "cell_type": "code",
   "execution_count": 2,
   "id": "68700941-3521-4ede-93cc-4597ca72fd6c",
   "metadata": {},
   "outputs": [],
   "source": [
    "import plotly.express as px\n",
    "from pyspark.sql import types as T\n",
    "from pyspark.sql.window import Window\n",
    "from pyspark.sql import functions as F\n",
    "\n",
    "TOP_N_RECOMMENDATIONS = 3\n",
    "TOP_N_CLUSTER_RECOMMENDATIONS = 3\n",
    "TOP_N_OFFERS = 2\n",
    "THRESH = 0.9"
   ]
  },
  {
   "cell_type": "markdown",
   "id": "14d054bc-548c-4baf-9087-0af99a670a7f",
   "metadata": {},
   "source": [
    "# Read Files"
   ]
  },
  {
   "cell_type": "code",
   "execution_count": 3,
   "id": "32609c18-e8ee-4f9c-a977-de668695a8a7",
   "metadata": {},
   "outputs": [],
   "source": [
    "path_rf_predictions = '../data/trusted/rf_output_model'\n",
    "path_km_predictions = '../data/trusted/km_output_model'\n",
    "path_freq_bayes = '../data/trusted/freq_bayes'\n",
    "\n",
    "df_rf_predictions = spark.read.format(\"parquet\").option(\"header\", \"true\").option(\"inferSchema\", \"true\").load(path_rf_predictions)\n",
    "df_km_predictions = spark.read.format(\"parquet\").option(\"header\", \"true\").option(\"inferSchema\", \"true\").load(path_km_predictions)\n",
    "df_freq_bayes = spark.read.format(\"parquet\").option(\"header\", \"true\").option(\"inferSchema\", \"true\").load(path_freq_bayes)"
   ]
  },
  {
   "cell_type": "code",
   "execution_count": 4,
   "id": "a0180041-75e4-4c00-9fe4-41bb8ad50537",
   "metadata": {},
   "outputs": [
    {
     "name": "stdout",
     "output_type": "stream",
     "text": [
      "+--------------------+-------------+--------------------+-------------------+----------------+----------+\n",
      "|           client_id|   offer_type|            offer_id|qtd_offer_completed|offer_type_count|freq_bayes|\n",
      "+--------------------+-------------+--------------------+-------------------+----------------+----------+\n",
      "|0009655768c64bdeb...|     discount|2906b810c7d441179...|                  1|               2|       0.5|\n",
      "|0009655768c64bdeb...|informational|3f207df678b143eea...|                  0|               2|       0.0|\n",
      "|0009655768c64bdeb...|informational|5a8bc65990b245e5a...|                  0|               2|       0.0|\n",
      "|0009655768c64bdeb...|         bogo|f19421c1d4aa40978...|                  1|               1|       1.0|\n",
      "|0009655768c64bdeb...|     discount|fafdcd668e3743c1b...|                  1|               2|       0.5|\n",
      "+--------------------+-------------+--------------------+-------------------+----------------+----------+\n",
      "only showing top 5 rows\n"
     ]
    }
   ],
   "source": [
    "df_freq_bayes.show(5)"
   ]
  },
  {
   "cell_type": "code",
   "execution_count": 5,
   "id": "817e4616-fbe5-44bb-a69d-ad0818be8081",
   "metadata": {},
   "outputs": [
    {
     "data": {
      "text/plain": [
       "(63288, 63288)"
      ]
     },
     "execution_count": 5,
     "metadata": {},
     "output_type": "execute_result"
    }
   ],
   "source": [
    "df_rf_predictions.select('client_id', 'offer_id').distinct().count(), df_freq_bayes.select('client_id', 'offer_id').distinct().count()"
   ]
  },
  {
   "cell_type": "markdown",
   "id": "e274e924-9c78-482d-90ea-97e61ad47b84",
   "metadata": {},
   "source": [
    "### Gerando Score de Propensão e Recomendações"
   ]
  },
  {
   "cell_type": "code",
   "execution_count": 6,
   "id": "798142af-70a1-4fe6-8ba6-5ab6b167b54f",
   "metadata": {},
   "outputs": [
    {
     "name": "stdout",
     "output_type": "stream",
     "text": [
      "+--------------------------------+--------------------------------+-------------+------------------+--------------------+-------------------+-------+\n",
      "|client_id                       |offer_id                        |offer_type   |freq_bayes        |y_proba_class1      |offer_score        |ranking|\n",
      "+--------------------------------+--------------------------------+-------------+------------------+--------------------+-------------------+-------+\n",
      "|0009655768c64bdeb2e877511632db8f|f19421c1d4aa40978ebb69ca19b0e20d|bogo         |1.0               |0.9036308894898399  |0.9036308894898399 |1      |\n",
      "|0009655768c64bdeb2e877511632db8f|fafdcd668e3743c1bb461111dcafc2a4|discount     |0.5               |0.9306488095685482  |0.4653244047842741 |2      |\n",
      "|0009655768c64bdeb2e877511632db8f|2906b810c7d4411798c6938adc9daaa5|discount     |0.5               |0.9215585153808372  |0.4607792576904186 |3      |\n",
      "|0009655768c64bdeb2e877511632db8f|3f207df678b143eea3cee63160fa8bed|informational|0.0               |0.0                 |0.0                |4      |\n",
      "|0009655768c64bdeb2e877511632db8f|5a8bc65990b245e5a138643cd4eb9837|informational|0.0               |0.0                 |0.0                |5      |\n",
      "|00116118485d4dfda04fdbaba9a87b5c|f19421c1d4aa40978ebb69ca19b0e20d|bogo         |0.0               |0.018991910597002833|0.0                |1      |\n",
      "|0011e0d4e6b944f998e987f904e8c1e5|9b98b8c7a33c4b65b9aebfe6a799e6d9|bogo         |1.0               |0.7481411302380517  |0.7481411302380517 |1      |\n",
      "|0011e0d4e6b944f998e987f904e8c1e5|2298d6c36e964ae4a3e7e9706d1fb8c2|discount     |0.5               |0.7928416583073156  |0.3964208291536578 |2      |\n",
      "|0011e0d4e6b944f998e987f904e8c1e5|0b1e1539f2cc45b7b9fa7c272da2e1d7|discount     |0.5               |0.6942139684960548  |0.3471069842480274 |3      |\n",
      "|0011e0d4e6b944f998e987f904e8c1e5|3f207df678b143eea3cee63160fa8bed|informational|0.0               |0.0                 |0.0                |4      |\n",
      "|0011e0d4e6b944f998e987f904e8c1e5|5a8bc65990b245e5a138643cd4eb9837|informational|0.0               |0.0                 |0.0                |5      |\n",
      "|0020c2b971eb4e9188eac86d93036a77|fafdcd668e3743c1bb461111dcafc2a4|discount     |1.0               |0.9511484462449558  |0.9511484462449558 |1      |\n",
      "|0020c2b971eb4e9188eac86d93036a77|4d5c57ea9a6940dd891ad53e9dbe8da0|bogo         |0.5               |0.9177643759749905  |0.45888218798749525|2      |\n",
      "|0020c2b971eb4e9188eac86d93036a77|ae264e3637204a6fb9bb56bc8210ddfd|bogo         |0.0               |0.9211084801514464  |0.0                |3      |\n",
      "|0020c2b971eb4e9188eac86d93036a77|5a8bc65990b245e5a138643cd4eb9837|informational|0.0               |0.0                 |0.0                |4      |\n",
      "|0020ccbbb6d84e358d3414a3ff76cffd|2298d6c36e964ae4a3e7e9706d1fb8c2|discount     |1.0               |0.950120128883982   |0.950120128883982  |1      |\n",
      "|0020ccbbb6d84e358d3414a3ff76cffd|9b98b8c7a33c4b65b9aebfe6a799e6d9|bogo         |0.5               |0.9200667693446282  |0.4600333846723141 |2      |\n",
      "|0020ccbbb6d84e358d3414a3ff76cffd|f19421c1d4aa40978ebb69ca19b0e20d|bogo         |0.5               |0.9136065197864087  |0.45680325989320436|3      |\n",
      "|0020ccbbb6d84e358d3414a3ff76cffd|5a8bc65990b245e5a138643cd4eb9837|informational|0.0               |0.0                 |0.0                |4      |\n",
      "|003d66b6608740288d6cc97a6903f4f0|fafdcd668e3743c1bb461111dcafc2a4|discount     |0.6666666666666666|0.8058262185648154  |0.5372174790432103 |1      |\n",
      "|003d66b6608740288d6cc97a6903f4f0|0b1e1539f2cc45b7b9fa7c272da2e1d7|discount     |0.3333333333333333|0.27431626501391576 |0.09143875500463858|2      |\n",
      "|003d66b6608740288d6cc97a6903f4f0|3f207df678b143eea3cee63160fa8bed|informational|0.0               |0.0                 |0.0                |3      |\n",
      "|003d66b6608740288d6cc97a6903f4f0|5a8bc65990b245e5a138643cd4eb9837|informational|0.0               |0.0                 |0.0                |4      |\n",
      "|00426fe3ffde4c6b9cb9ad6d077a13ea|fafdcd668e3743c1bb461111dcafc2a4|discount     |0.25              |0.8536700125610838  |0.21341750314027094|1      |\n",
      "|00426fe3ffde4c6b9cb9ad6d077a13ea|2906b810c7d4411798c6938adc9daaa5|discount     |0.0               |0.7809833501896563  |0.0                |2      |\n",
      "+--------------------------------+--------------------------------+-------------+------------------+--------------------+-------------------+-------+\n",
      "only showing top 25 rows\n"
     ]
    }
   ],
   "source": [
    "df_offer_score = df_rf_predictions.join(df_freq_bayes, on=['client_id', 'offer_id'], how='inner')\\\n",
    "                           .withColumn(\"offer_score\", F.col(\"freq_bayes\")*F.col(\"y_proba_class1\"))\\\n",
    "                           .withColumn(\"ranking\", F.row_number().over(Window.partitionBy(\"client_id\")\\\n",
    "                                                                            .orderBy(F.col(\"offer_score\").desc(), \n",
    "                                                                                     F.col(\"y_proba_class1\").desc(),\n",
    "                                                                                     F.col(\"freq_bayes\").desc())))\\\n",
    "                           .select('client_id', 'offer_id', 'offer_type', 'freq_bayes', 'y_proba_class1', 'offer_score', 'ranking')\\\n",
    "                           .orderBy('client_id', 'ranking')\n",
    "df_offer_score.show(25, truncate=False)"
   ]
  },
  {
   "cell_type": "code",
   "execution_count": 7,
   "id": "98321cbf-83f2-48cc-a500-693dd15da10b",
   "metadata": {},
   "outputs": [
    {
     "name": "stdout",
     "output_type": "stream",
     "text": [
      "+--------------------------------+------------------------------------------------------------------------------------------------------+\n",
      "|client_id                       |recommended_offers                                                                                    |\n",
      "+--------------------------------+------------------------------------------------------------------------------------------------------+\n",
      "|0009655768c64bdeb2e877511632db8f|[f19421c1d4aa40978ebb69ca19b0e20d, fafdcd668e3743c1bb461111dcafc2a4, 2906b810c7d4411798c6938adc9daaa5]|\n",
      "|00116118485d4dfda04fdbaba9a87b5c|[f19421c1d4aa40978ebb69ca19b0e20d]                                                                    |\n",
      "|0011e0d4e6b944f998e987f904e8c1e5|[9b98b8c7a33c4b65b9aebfe6a799e6d9, 2298d6c36e964ae4a3e7e9706d1fb8c2, 0b1e1539f2cc45b7b9fa7c272da2e1d7]|\n",
      "|0020c2b971eb4e9188eac86d93036a77|[fafdcd668e3743c1bb461111dcafc2a4, 4d5c57ea9a6940dd891ad53e9dbe8da0, ae264e3637204a6fb9bb56bc8210ddfd]|\n",
      "|0020ccbbb6d84e358d3414a3ff76cffd|[2298d6c36e964ae4a3e7e9706d1fb8c2, 9b98b8c7a33c4b65b9aebfe6a799e6d9, f19421c1d4aa40978ebb69ca19b0e20d]|\n",
      "|003d66b6608740288d6cc97a6903f4f0|[fafdcd668e3743c1bb461111dcafc2a4, 0b1e1539f2cc45b7b9fa7c272da2e1d7, 3f207df678b143eea3cee63160fa8bed]|\n",
      "|00426fe3ffde4c6b9cb9ad6d077a13ea|[fafdcd668e3743c1bb461111dcafc2a4, 2906b810c7d4411798c6938adc9daaa5, 0b1e1539f2cc45b7b9fa7c272da2e1d7]|\n",
      "|004b041fbfe44859945daa2c7f79ee64|[fafdcd668e3743c1bb461111dcafc2a4, f19421c1d4aa40978ebb69ca19b0e20d, 3f207df678b143eea3cee63160fa8bed]|\n",
      "|004c5799adbf42868b9cff0396190900|[fafdcd668e3743c1bb461111dcafc2a4, f19421c1d4aa40978ebb69ca19b0e20d, ae264e3637204a6fb9bb56bc8210ddfd]|\n",
      "|005500a7188546ff8a767329a2f7c76a|[9b98b8c7a33c4b65b9aebfe6a799e6d9, 2906b810c7d4411798c6938adc9daaa5, ae264e3637204a6fb9bb56bc8210ddfd]|\n",
      "|0056df74b63b4298809f0b375a304cf4|[9b98b8c7a33c4b65b9aebfe6a799e6d9, 2298d6c36e964ae4a3e7e9706d1fb8c2, 0b1e1539f2cc45b7b9fa7c272da2e1d7]|\n",
      "|0063def0f9c14bc4805322a488839b32|[2298d6c36e964ae4a3e7e9706d1fb8c2, 9b98b8c7a33c4b65b9aebfe6a799e6d9, 0b1e1539f2cc45b7b9fa7c272da2e1d7]|\n",
      "|0069a50874d846438e58acff5e594725|[2906b810c7d4411798c6938adc9daaa5, 0b1e1539f2cc45b7b9fa7c272da2e1d7, 3f207df678b143eea3cee63160fa8bed]|\n",
      "|00715b6e55c3431cb56ff7307eb19675|[0b1e1539f2cc45b7b9fa7c272da2e1d7, ae264e3637204a6fb9bb56bc8210ddfd, 4d5c57ea9a6940dd891ad53e9dbe8da0]|\n",
      "|0082fd87c18f45f2be70dbcbb0fb8aad|[9b98b8c7a33c4b65b9aebfe6a799e6d9, 3f207df678b143eea3cee63160fa8bed, 5a8bc65990b245e5a138643cd4eb9837]|\n",
      "|00840a2ca5d2408e982d56544dc14ffd|[9b98b8c7a33c4b65b9aebfe6a799e6d9, fafdcd668e3743c1bb461111dcafc2a4, 2906b810c7d4411798c6938adc9daaa5]|\n",
      "|00857b24b13f4fe0ad17b605f00357f5|[9b98b8c7a33c4b65b9aebfe6a799e6d9, f19421c1d4aa40978ebb69ca19b0e20d, 0b1e1539f2cc45b7b9fa7c272da2e1d7]|\n",
      "|008d7088107b468893889da0ede0df5c|[f19421c1d4aa40978ebb69ca19b0e20d, 2906b810c7d4411798c6938adc9daaa5, ae264e3637204a6fb9bb56bc8210ddfd]|\n",
      "|0091d2b6a5ea4defaa8393e4e816db60|[0b1e1539f2cc45b7b9fa7c272da2e1d7, f19421c1d4aa40978ebb69ca19b0e20d, 4d5c57ea9a6940dd891ad53e9dbe8da0]|\n",
      "|0092a132ead946ceb30d11a1ed513d20|[2298d6c36e964ae4a3e7e9706d1fb8c2, 9b98b8c7a33c4b65b9aebfe6a799e6d9, f19421c1d4aa40978ebb69ca19b0e20d]|\n",
      "+--------------------------------+------------------------------------------------------------------------------------------------------+\n",
      "only showing top 20 rows\n"
     ]
    }
   ],
   "source": [
    "df_recommended_offers = df_offer_score.filter(F.col(\"ranking\") <= TOP_N_RECOMMENDATIONS)\\\n",
    "                                       .groupBy(\"client_id\").agg(F.array_sort(F.collect_list(F.struct(\"ranking\",\"offer_id\",\"offer_type\",\"offer_score\"))).alias(\"items_sorted\"))\\\n",
    "                                       .withColumn(\"recommended_offers\", F.expr(\"transform(items_sorted, x -> x.offer_id)\"))\\\n",
    "                                       .drop(\"items_sorted\")\\\n",
    "                                       .orderBy('client_id')\n",
    "df_recommended_offers.show(truncate=False)"
   ]
  },
  {
   "cell_type": "code",
   "execution_count": 128,
   "id": "c888f160-5e33-4946-a6d3-ec81914ad43a",
   "metadata": {},
   "outputs": [],
   "source": [
    "# df_ranking = df_top.groupBy(\"client_id\").agg(F.array_sort(F.collect_list(F.struct(\"ranking\",\"offer_id\",\"offer_type\",\"offer_score\"))).alias(\"items_sorted\"))\\\n",
    "#                    .withColumn(\"recommended_offers\", F.expr(\"transform(items_sorted, x -> x.offer_id)\"))\\\n",
    "#                    .drop(\"items_sorted\")\\\n",
    "#                    .orderBy('client_id')\n",
    "# df_ranking.show(truncate=False)"
   ]
  },
  {
   "cell_type": "markdown",
   "id": "6ca1df4f-4fc9-4858-8a98-5b0c717a8e9c",
   "metadata": {},
   "source": [
    "### Pegando as Top Ofertas mais adiquiridas pelos clientes por tipo de oferta e recomendando para complementar o pacote de recomendações"
   ]
  },
  {
   "cell_type": "code",
   "execution_count": 8,
   "id": "cf3a8255-1adb-411b-abd4-e6a3ea3694be",
   "metadata": {},
   "outputs": [
    {
     "name": "stdout",
     "output_type": "stream",
     "text": [
      "+--------------------+-------------+--------------------+-------------------+----------------+----------+\n",
      "|           client_id|   offer_type|            offer_id|qtd_offer_completed|offer_type_count|freq_bayes|\n",
      "+--------------------+-------------+--------------------+-------------------+----------------+----------+\n",
      "|0009655768c64bdeb...|     discount|2906b810c7d441179...|                  1|               2|       0.5|\n",
      "|0009655768c64bdeb...|informational|3f207df678b143eea...|                  0|               2|       0.0|\n",
      "|0009655768c64bdeb...|informational|5a8bc65990b245e5a...|                  0|               2|       0.0|\n",
      "|0009655768c64bdeb...|         bogo|f19421c1d4aa40978...|                  1|               1|       1.0|\n",
      "|0009655768c64bdeb...|     discount|fafdcd668e3743c1b...|                  1|               2|       0.5|\n",
      "+--------------------+-------------+--------------------+-------------------+----------------+----------+\n",
      "only showing top 5 rows\n"
     ]
    }
   ],
   "source": [
    "df_freq_bayes.show(5)"
   ]
  },
  {
   "cell_type": "code",
   "execution_count": 9,
   "id": "40ed3363-8498-4d45-aff2-14340bef9133",
   "metadata": {},
   "outputs": [
    {
     "name": "stdout",
     "output_type": "stream",
     "text": [
      "+--------------------------------+----------+-------------------+-------+\n",
      "|offer_id                        |offer_type|qtd_offer_completed|ranking|\n",
      "+--------------------------------+----------+-------------------+-------+\n",
      "|9b98b8c7a33c4b65b9aebfe6a799e6d9|bogo      |4354               |1      |\n",
      "|f19421c1d4aa40978ebb69ca19b0e20d|bogo      |4296               |2      |\n",
      "|fafdcd668e3743c1bb461111dcafc2a4|discount  |5317               |1      |\n",
      "|2298d6c36e964ae4a3e7e9706d1fb8c2|discount  |5156               |2      |\n",
      "+--------------------------------+----------+-------------------+-------+\n",
      "\n"
     ]
    }
   ],
   "source": [
    "popular_offers = df_freq_bayes.groupBy(\"offer_id\", \"offer_type\").agg(F.sum(\"qtd_offer_completed\").alias(\"qtd_offer_completed\"))\\\n",
    "                              .filter(\"qtd_offer_completed > 0\")\\\n",
    "                              .withColumn(\"ranking\", F.row_number().over(Window.partitionBy(\"offer_type\")\\\n",
    "                                                                               .orderBy(F.col(\"qtd_offer_completed\").desc())))\\\n",
    "                              .filter(F.col(\"ranking\") <= TOP_N_OFFERS)\n",
    "\n",
    "popular_offers.show(truncate=False)"
   ]
  },
  {
   "cell_type": "code",
   "execution_count": 10,
   "id": "7aa8917d-1f42-4e28-8ab1-505d0a9fe776",
   "metadata": {},
   "outputs": [
    {
     "name": "stdout",
     "output_type": "stream",
     "text": [
      "+----------+--------------------------------+--------------------------------+-------+\n",
      "|offer_type|client_id                       |offer_id                        |ranking|\n",
      "+----------+--------------------------------+--------------------------------+-------+\n",
      "|bogo      |0009655768c64bdeb2e877511632db8f|f19421c1d4aa40978ebb69ca19b0e20d|2      |\n",
      "|bogo      |0009655768c64bdeb2e877511632db8f|9b98b8c7a33c4b65b9aebfe6a799e6d9|1      |\n",
      "|discount  |0009655768c64bdeb2e877511632db8f|fafdcd668e3743c1bb461111dcafc2a4|1      |\n",
      "|discount  |0009655768c64bdeb2e877511632db8f|2298d6c36e964ae4a3e7e9706d1fb8c2|2      |\n",
      "|discount  |0020c2b971eb4e9188eac86d93036a77|fafdcd668e3743c1bb461111dcafc2a4|1      |\n",
      "+----------+--------------------------------+--------------------------------+-------+\n",
      "only showing top 5 rows\n"
     ]
    }
   ],
   "source": [
    "recs_popular_offers = df_offer_score.filter(F.col(\"y_proba_class1\") >= THRESH)\\\n",
    "                                    .select(\"client_id\", \"offer_type\").distinct()\\\n",
    "                                    .join(popular_offers.select(\"offer_id\", \"offer_type\", \"ranking\"), on='offer_type', how=\"inner\")\\\n",
    "                                    .orderBy('client_id')\n",
    "\n",
    "recs_popular_offers.show(5, truncate=False)"
   ]
  },
  {
   "cell_type": "code",
   "execution_count": 11,
   "id": "d07aa439-e3f1-4edf-bcfb-fc672761e088",
   "metadata": {},
   "outputs": [
    {
     "name": "stdout",
     "output_type": "stream",
     "text": [
      "+--------------------------------+----------------------------------------------------------------------------------------------------------------------------------------+\n",
      "|client_id                       |recommended_popular_offers                                                                                                              |\n",
      "+--------------------------------+----------------------------------------------------------------------------------------------------------------------------------------+\n",
      "|0009655768c64bdeb2e877511632db8f|[9b98b8c7a33c4b65b9aebfe6a799e6d9, 2298d6c36e964ae4a3e7e9706d1fb8c2]                                                                    |\n",
      "|0020c2b971eb4e9188eac86d93036a77|[9b98b8c7a33c4b65b9aebfe6a799e6d9, 2298d6c36e964ae4a3e7e9706d1fb8c2, f19421c1d4aa40978ebb69ca19b0e20d]                                  |\n",
      "|0020ccbbb6d84e358d3414a3ff76cffd|[fafdcd668e3743c1bb461111dcafc2a4]                                                                                                      |\n",
      "|004c5799adbf42868b9cff0396190900|[9b98b8c7a33c4b65b9aebfe6a799e6d9, 2298d6c36e964ae4a3e7e9706d1fb8c2]                                                                    |\n",
      "|00715b6e55c3431cb56ff7307eb19675|[9b98b8c7a33c4b65b9aebfe6a799e6d9, fafdcd668e3743c1bb461111dcafc2a4, 2298d6c36e964ae4a3e7e9706d1fb8c2, f19421c1d4aa40978ebb69ca19b0e20d]|\n",
      "|0091d2b6a5ea4defaa8393e4e816db60|[9b98b8c7a33c4b65b9aebfe6a799e6d9, fafdcd668e3743c1bb461111dcafc2a4, 2298d6c36e964ae4a3e7e9706d1fb8c2]                                  |\n",
      "|00a794f62b9a48beb58f8f6c02c2f1a6|[9b98b8c7a33c4b65b9aebfe6a799e6d9]                                                                                                      |\n",
      "|00ae03011f9f49b8a4b3e6d416678b0b|[9b98b8c7a33c4b65b9aebfe6a799e6d9, fafdcd668e3743c1bb461111dcafc2a4, f19421c1d4aa40978ebb69ca19b0e20d]                                  |\n",
      "|00b3400e4ff64ee68ce9ada1d0c222f0|[9b98b8c7a33c4b65b9aebfe6a799e6d9, 2298d6c36e964ae4a3e7e9706d1fb8c2, f19421c1d4aa40978ebb69ca19b0e20d]                                  |\n",
      "|00b3c376db2a4115af3aef34a02f61d6|[9b98b8c7a33c4b65b9aebfe6a799e6d9, fafdcd668e3743c1bb461111dcafc2a4, 2298d6c36e964ae4a3e7e9706d1fb8c2, f19421c1d4aa40978ebb69ca19b0e20d]|\n",
      "|00bc42a62f884b41a13cc595856cf7c3|[9b98b8c7a33c4b65b9aebfe6a799e6d9, f19421c1d4aa40978ebb69ca19b0e20d]                                                                    |\n",
      "|00c20a9202d5475190b31a24de6fb06d|[9b98b8c7a33c4b65b9aebfe6a799e6d9, fafdcd668e3743c1bb461111dcafc2a4]                                                                    |\n",
      "|00c6035df45840038a72766c6d27a0db|[9b98b8c7a33c4b65b9aebfe6a799e6d9, f19421c1d4aa40978ebb69ca19b0e20d]                                                                    |\n",
      "|00d6dc87be4146ceb47fcd4baaaf6477|[2298d6c36e964ae4a3e7e9706d1fb8c2]                                                                                                      |\n",
      "|00d7c95f793a4212af44e632fdc1e431|[2298d6c36e964ae4a3e7e9706d1fb8c2, f19421c1d4aa40978ebb69ca19b0e20d]                                                                    |\n",
      "|00e20b4ca129458aaab0f4727ef3513a|[2298d6c36e964ae4a3e7e9706d1fb8c2]                                                                                                      |\n",
      "|00e9f403afa641889cd034ee7c7ca6e9|[fafdcd668e3743c1bb461111dcafc2a4]                                                                                                      |\n",
      "|00ed7e22b32749cfafbfd88592d401d4|[2298d6c36e964ae4a3e7e9706d1fb8c2, f19421c1d4aa40978ebb69ca19b0e20d]                                                                    |\n",
      "|00fac72fd6ad448e8019b175267023df|[9b98b8c7a33c4b65b9aebfe6a799e6d9, fafdcd668e3743c1bb461111dcafc2a4, 2298d6c36e964ae4a3e7e9706d1fb8c2, f19421c1d4aa40978ebb69ca19b0e20d]|\n",
      "|0103de989e084e0fab400e80678d7591|[9b98b8c7a33c4b65b9aebfe6a799e6d9, 2298d6c36e964ae4a3e7e9706d1fb8c2]                                                                    |\n",
      "+--------------------------------+----------------------------------------------------------------------------------------------------------------------------------------+\n",
      "only showing top 20 rows\n"
     ]
    }
   ],
   "source": [
    "df_recommended_popular_offers = recs_popular_offers.join(df_offer_score.select(\"client_id\", \"offer_id\").distinct(), on=[\"client_id\", \"offer_id\"], how=\"left_anti\")\\\n",
    "                                                   .groupBy(\"client_id\").agg(F.array_sort(F.collect_list(F.struct(\"ranking\",\"offer_id\"))).alias(\"popular_offer_sorted\"))\\\n",
    "                                                   .withColumn(\"recommended_popular_offers\", F.expr(\"transform(popular_offer_sorted, x -> x.offer_id)\"))\\\n",
    "                                                   .drop(\"popular_offer_sorted\")\\\n",
    "                                                   .orderBy('client_id')\n",
    "\n",
    "df_recommended_popular_offers.show(truncate=False)"
   ]
  },
  {
   "cell_type": "markdown",
   "id": "e46c8cd1-ff60-4b01-be61-528ebc1cbabe",
   "metadata": {},
   "source": [
    "### Gerando Recomendações Intra-Cluster"
   ]
  },
  {
   "cell_type": "code",
   "execution_count": 12,
   "id": "0c1db621-674b-4df4-99e1-d216662a84a9",
   "metadata": {},
   "outputs": [
    {
     "name": "stdout",
     "output_type": "stream",
     "text": [
      "+--------------------+--------------------+----------------+------------------+----------------+----------+-------------------------+-------------------------+--------+--------+--------+--------+---------------+-----------------+---------------+---------------+--------------------+--------------+---------------+------------+----------+------+--------------------+--------------------+-------+\n",
      "|           client_id|            offer_id|offer_type_index|qtd_offer_received|qtd_offer_viewed|sum_reward|registered_duration_month|registered_duration_years|gender_M|gender_F|gender_O|gender_U|age_group_index|credit_card_limit|category_limite|offer_min_value|offer_discount_value|offer_duration|qtd_transaction|total_amount|avg_amount|target|            features|     features_scaled|cluster|\n",
      "+--------------------+--------------------+----------------+------------------+----------------+----------+-------------------------+-------------------------+--------+--------+--------+--------+---------------+-----------------+---------------+---------------+--------------------+--------------+---------------+------------+----------+------+--------------------+--------------------+-------+\n",
      "|0009655768c64bdeb...|2906b810c7d441179...|               0|                 1|               0|       2.0|                       99|                        8|       1|       0|       0|       0|              2|            72000|              3|             10|                   2|           7.0|              8|       127.6|     15.95|     1|[99.0,8.0,1.0,0.0...|[-0.1424618558083...|      2|\n",
      "|0009655768c64bdeb...|3f207df678b143eea...|               1|                 1|               1|       0.0|                       99|                        8|       1|       0|       0|       0|              2|            72000|              3|              0|                   0|           4.0|              8|       127.6|     15.95|     0|[99.0,8.0,1.0,0.0...|[-0.1424618558083...|      2|\n",
      "|0009655768c64bdeb...|5a8bc65990b245e5a...|               1|                 1|               1|       0.0|                       99|                        8|       1|       0|       0|       0|              2|            72000|              3|              0|                   0|           3.0|              8|       127.6|     15.95|     0|[99.0,8.0,1.0,0.0...|[-0.1424618558083...|      2|\n",
      "|0009655768c64bdeb...|f19421c1d4aa40978...|               2|                 1|               1|       5.0|                       99|                        8|       1|       0|       0|       0|              2|            72000|              3|              5|                   5|           5.0|              8|       127.6|     15.95|     1|[99.0,8.0,1.0,0.0...|[-0.1424618558083...|      2|\n",
      "|0009655768c64bdeb...|fafdcd668e3743c1b...|               0|                 1|               1|       2.0|                       99|                        8|       1|       0|       0|       0|              2|            72000|              3|             10|                   2|          10.0|              8|       127.6|     15.95|     1|[99.0,8.0,1.0,0.0...|[-0.1424618558083...|      2|\n",
      "+--------------------+--------------------+----------------+------------------+----------------+----------+-------------------------+-------------------------+--------+--------+--------+--------+---------------+-----------------+---------------+---------------+--------------------+--------------+---------------+------------+----------+------+--------------------+--------------------+-------+\n",
      "only showing top 5 rows\n"
     ]
    }
   ],
   "source": [
    "df_km_predictions.show(5)"
   ]
  },
  {
   "cell_type": "code",
   "execution_count": 13,
   "id": "39f8f0df-5c34-4f1a-a58e-143a183909c3",
   "metadata": {},
   "outputs": [
    {
     "name": "stdout",
     "output_type": "stream",
     "text": [
      "+--------------------+-------+\n",
      "|           client_id|cluster|\n",
      "+--------------------+-------+\n",
      "|04e39b3e8fc449cfb...|      4|\n",
      "|0a3e6bcfc66445bab...|      1|\n",
      "|0d24a49bc2ca4b388...|      2|\n",
      "|0d74b166a5e54b269...|      1|\n",
      "|0f457f3ccf254eb0a...|      1|\n",
      "+--------------------+-------+\n",
      "only showing top 5 rows\n"
     ]
    }
   ],
   "source": [
    "df_clusters = df_km_predictions.select(\"client_id\", \"cluster\").distinct()\n",
    "df_clusters.show(5)"
   ]
  },
  {
   "cell_type": "code",
   "execution_count": 14,
   "id": "a19a6ca1-da78-413a-bce7-6822e79960a2",
   "metadata": {},
   "outputs": [
    {
     "name": "stdout",
     "output_type": "stream",
     "text": [
      "+--------------------------------+--------------------------------+-------+\n",
      "|client_id                       |offer_id                        |cluster|\n",
      "+--------------------------------+--------------------------------+-------+\n",
      "|0222d267445f4f078bc325224e471766|2906b810c7d4411798c6938adc9daaa5|2      |\n",
      "|0251876076024444864473545adce065|2298d6c36e964ae4a3e7e9706d1fb8c2|1      |\n",
      "|03575a43a3da4691998de01fff617f99|f19421c1d4aa40978ebb69ca19b0e20d|0      |\n",
      "|036e4bedca2045afad50fda2d3b505ab|0b1e1539f2cc45b7b9fa7c272da2e1d7|2      |\n",
      "|0485b8cb0bfc4d938895bbd6d8cbd7df|2906b810c7d4411798c6938adc9daaa5|3      |\n",
      "+--------------------------------+--------------------------------+-------+\n",
      "only showing top 5 rows\n"
     ]
    }
   ],
   "source": [
    "df_cluster_offers = df_freq_bayes.select(\"client_id\", \"offer_id\").distinct()\\\n",
    "                                 .join(df_clusters, on=\"client_id\", how=\"inner\")\n",
    "df_cluster_offers.show(5, truncate=False)"
   ]
  },
  {
   "cell_type": "code",
   "execution_count": 15,
   "id": "5df13196-c3cd-4bbf-b3fe-680e93e91b98",
   "metadata": {},
   "outputs": [
    {
     "name": "stdout",
     "output_type": "stream",
     "text": [
      "+-------+--------------------------------+------------+\n",
      "|cluster|offer_id                        |qtd_clientes|\n",
      "+-------+--------------------------------+------------+\n",
      "|1      |fafdcd668e3743c1bb461111dcafc2a4|1057        |\n",
      "|3      |fafdcd668e3743c1bb461111dcafc2a4|782         |\n",
      "|0      |2906b810c7d4411798c6938adc9daaa5|1360        |\n",
      "|0      |f19421c1d4aa40978ebb69ca19b0e20d|1315        |\n",
      "|1      |3f207df678b143eea3cee63160fa8bed|971         |\n",
      "+-------+--------------------------------+------------+\n",
      "only showing top 5 rows\n"
     ]
    }
   ],
   "source": [
    "df_cluster_popular = df_cluster_offers.groupBy(\"cluster\", \"offer_id\").count()\\\n",
    "                                      .withColumnRenamed(\"count\", \"qtd_clientes\")\n",
    "df_cluster_popular.show(5, truncate=False)"
   ]
  },
  {
   "cell_type": "code",
   "execution_count": 16,
   "id": "c14e2381-1175-4996-b140-edb34897c96d",
   "metadata": {},
   "outputs": [
    {
     "name": "stdout",
     "output_type": "stream",
     "text": [
      "+--------------------------------+--------------------------------+-------+------------+-------+\n",
      "|client_id                       |offer_id                        |cluster|qtd_clientes|ranking|\n",
      "+--------------------------------+--------------------------------+-------+------------+-------+\n",
      "|0009655768c64bdeb2e877511632db8f|9b98b8c7a33c4b65b9aebfe6a799e6d9|2      |1873        |1      |\n",
      "|0009655768c64bdeb2e877511632db8f|0b1e1539f2cc45b7b9fa7c272da2e1d7|2      |1871        |2      |\n",
      "|0009655768c64bdeb2e877511632db8f|4d5c57ea9a6940dd891ad53e9dbe8da0|2      |1868        |3      |\n",
      "|00116118485d4dfda04fdbaba9a87b5c|4d5c57ea9a6940dd891ad53e9dbe8da0|3      |813         |1      |\n",
      "|00116118485d4dfda04fdbaba9a87b5c|2298d6c36e964ae4a3e7e9706d1fb8c2|3      |810         |2      |\n",
      "|00116118485d4dfda04fdbaba9a87b5c|ae264e3637204a6fb9bb56bc8210ddfd|3      |808         |3      |\n",
      "|0011e0d4e6b944f998e987f904e8c1e5|f19421c1d4aa40978ebb69ca19b0e20d|4      |1284        |1      |\n",
      "|0011e0d4e6b944f998e987f904e8c1e5|2906b810c7d4411798c6938adc9daaa5|4      |1281        |2      |\n",
      "|0011e0d4e6b944f998e987f904e8c1e5|ae264e3637204a6fb9bb56bc8210ddfd|4      |1276        |3      |\n",
      "|0020c2b971eb4e9188eac86d93036a77|0b1e1539f2cc45b7b9fa7c272da2e1d7|0      |1370        |1      |\n",
      "|0020c2b971eb4e9188eac86d93036a77|2906b810c7d4411798c6938adc9daaa5|0      |1360        |2      |\n",
      "|0020c2b971eb4e9188eac86d93036a77|2298d6c36e964ae4a3e7e9706d1fb8c2|0      |1350        |3      |\n",
      "|0020ccbbb6d84e358d3414a3ff76cffd|0b1e1539f2cc45b7b9fa7c272da2e1d7|4      |1360        |1      |\n",
      "|0020ccbbb6d84e358d3414a3ff76cffd|3f207df678b143eea3cee63160fa8bed|4      |1355        |2      |\n",
      "|0020ccbbb6d84e358d3414a3ff76cffd|2906b810c7d4411798c6938adc9daaa5|4      |1281        |3      |\n",
      "|003d66b6608740288d6cc97a6903f4f0|9b98b8c7a33c4b65b9aebfe6a799e6d9|4      |1337        |1      |\n",
      "|003d66b6608740288d6cc97a6903f4f0|2298d6c36e964ae4a3e7e9706d1fb8c2|4      |1300        |2      |\n",
      "|003d66b6608740288d6cc97a6903f4f0|f19421c1d4aa40978ebb69ca19b0e20d|4      |1284        |3      |\n",
      "|00426fe3ffde4c6b9cb9ad6d077a13ea|3f207df678b143eea3cee63160fa8bed|4      |1355        |1      |\n",
      "|00426fe3ffde4c6b9cb9ad6d077a13ea|9b98b8c7a33c4b65b9aebfe6a799e6d9|4      |1337        |2      |\n",
      "+--------------------------------+--------------------------------+-------+------------+-------+\n",
      "only showing top 20 rows\n"
     ]
    }
   ],
   "source": [
    "recs_cluster = df_clusters.join(df_cluster_popular, on=\"cluster\", how=\"inner\")\\\n",
    "                          .join(df_freq_bayes.select(\"client_id\", \"offer_id\").distinct(), on=[\"client_id\", \"offer_id\"], how=\"left_anti\")\\\n",
    "                          .withColumn(\"ranking\", F.row_number().over(Window.partitionBy(\"client_id\")\\\n",
    "                                                                           .orderBy(F.col(\"qtd_clientes\").desc())))\\\n",
    "                          .distinct().orderBy('client_id', \"cluster\", F.desc(\"qtd_clientes\"))\\\n",
    "                          .filter(F.col(\"ranking\") <= TOP_N_CLUSTER_RECOMMENDATIONS)\n",
    "recs_cluster.show(truncate=False)"
   ]
  },
  {
   "cell_type": "code",
   "execution_count": 17,
   "id": "9f2116f0-ed65-42bd-a1ce-aba9a1239368",
   "metadata": {},
   "outputs": [
    {
     "name": "stdout",
     "output_type": "stream",
     "text": [
      "+--------------------------------+------------------------------------------------------------------------------------------------------+\n",
      "|client_id                       |recommended_cluster_offers                                                                            |\n",
      "+--------------------------------+------------------------------------------------------------------------------------------------------+\n",
      "|0009655768c64bdeb2e877511632db8f|[0b1e1539f2cc45b7b9fa7c272da2e1d7, 4d5c57ea9a6940dd891ad53e9dbe8da0]                                  |\n",
      "|00116118485d4dfda04fdbaba9a87b5c|[4d5c57ea9a6940dd891ad53e9dbe8da0, 2298d6c36e964ae4a3e7e9706d1fb8c2, ae264e3637204a6fb9bb56bc8210ddfd]|\n",
      "|0011e0d4e6b944f998e987f904e8c1e5|[f19421c1d4aa40978ebb69ca19b0e20d, 2906b810c7d4411798c6938adc9daaa5, ae264e3637204a6fb9bb56bc8210ddfd]|\n",
      "|0020c2b971eb4e9188eac86d93036a77|[0b1e1539f2cc45b7b9fa7c272da2e1d7, 2906b810c7d4411798c6938adc9daaa5]                                  |\n",
      "|0020ccbbb6d84e358d3414a3ff76cffd|[0b1e1539f2cc45b7b9fa7c272da2e1d7, 3f207df678b143eea3cee63160fa8bed, 2906b810c7d4411798c6938adc9daaa5]|\n",
      "|003d66b6608740288d6cc97a6903f4f0|[9b98b8c7a33c4b65b9aebfe6a799e6d9, 2298d6c36e964ae4a3e7e9706d1fb8c2, f19421c1d4aa40978ebb69ca19b0e20d]|\n",
      "|00426fe3ffde4c6b9cb9ad6d077a13ea|[3f207df678b143eea3cee63160fa8bed, 9b98b8c7a33c4b65b9aebfe6a799e6d9, 2298d6c36e964ae4a3e7e9706d1fb8c2]|\n",
      "|004b041fbfe44859945daa2c7f79ee64|[0b1e1539f2cc45b7b9fa7c272da2e1d7, 9b98b8c7a33c4b65b9aebfe6a799e6d9, 5a8bc65990b245e5a138643cd4eb9837]|\n",
      "|004c5799adbf42868b9cff0396190900|[5a8bc65990b245e5a138643cd4eb9837, 0b1e1539f2cc45b7b9fa7c272da2e1d7, 2906b810c7d4411798c6938adc9daaa5]|\n",
      "|005500a7188546ff8a767329a2f7c76a|[3f207df678b143eea3cee63160fa8bed, fafdcd668e3743c1bb461111dcafc2a4, 0b1e1539f2cc45b7b9fa7c272da2e1d7]|\n",
      "|0056df74b63b4298809f0b375a304cf4|[ae264e3637204a6fb9bb56bc8210ddfd, 5a8bc65990b245e5a138643cd4eb9837, 2906b810c7d4411798c6938adc9daaa5]|\n",
      "|0063def0f9c14bc4805322a488839b32|[4d5c57ea9a6940dd891ad53e9dbe8da0, f19421c1d4aa40978ebb69ca19b0e20d, 3f207df678b143eea3cee63160fa8bed]|\n",
      "|0069a50874d846438e58acff5e594725|[4d5c57ea9a6940dd891ad53e9dbe8da0, f19421c1d4aa40978ebb69ca19b0e20d, 2298d6c36e964ae4a3e7e9706d1fb8c2]|\n",
      "|00715b6e55c3431cb56ff7307eb19675|[5a8bc65990b245e5a138643cd4eb9837]                                                                    |\n",
      "|0082fd87c18f45f2be70dbcbb0fb8aad|[0b1e1539f2cc45b7b9fa7c272da2e1d7, 2298d6c36e964ae4a3e7e9706d1fb8c2, f19421c1d4aa40978ebb69ca19b0e20d]|\n",
      "|00840a2ca5d2408e982d56544dc14ffd|[ae264e3637204a6fb9bb56bc8210ddfd, 4d5c57ea9a6940dd891ad53e9dbe8da0, 2298d6c36e964ae4a3e7e9706d1fb8c2]|\n",
      "|00857b24b13f4fe0ad17b605f00357f5|[3f207df678b143eea3cee63160fa8bed, fafdcd668e3743c1bb461111dcafc2a4, 5a8bc65990b245e5a138643cd4eb9837]|\n",
      "|008d7088107b468893889da0ede0df5c|[3f207df678b143eea3cee63160fa8bed, fafdcd668e3743c1bb461111dcafc2a4, 9b98b8c7a33c4b65b9aebfe6a799e6d9]|\n",
      "|0091d2b6a5ea4defaa8393e4e816db60|[ae264e3637204a6fb9bb56bc8210ddfd, 5a8bc65990b245e5a138643cd4eb9837, 2906b810c7d4411798c6938adc9daaa5]|\n",
      "|0092a132ead946ceb30d11a1ed513d20|[4d5c57ea9a6940dd891ad53e9dbe8da0, 3f207df678b143eea3cee63160fa8bed, fafdcd668e3743c1bb461111dcafc2a4]|\n",
      "+--------------------------------+------------------------------------------------------------------------------------------------------+\n",
      "only showing top 20 rows\n"
     ]
    }
   ],
   "source": [
    "df_recommended_cluster_offers = recs_cluster.join(df_offer_score.select(\"client_id\", \"offer_id\").distinct(), on=[\"client_id\", \"offer_id\"], how=\"left_anti\")\\\n",
    "                                            .join(recs_popular_offers.select(\"client_id\", \"offer_id\").distinct(), on=[\"client_id\", \"offer_id\"], how=\"left_anti\")\\\n",
    "                                            .groupBy(\"client_id\").agg(F.array_sort(F.collect_list(F.struct(\"ranking\",\"offer_id\"))).alias(\"cluster_offer_sorted\"))\\\n",
    "                                            .withColumn(\"recommended_cluster_offers\", F.expr(\"transform(cluster_offer_sorted, x -> x.offer_id)\"))\\\n",
    "                                            .drop(\"cluster_offer_sorted\")\\\n",
    "                                            .orderBy('client_id')\n",
    "df_recommended_cluster_offers.show(truncate=False)"
   ]
  },
  {
   "cell_type": "markdown",
   "id": "b67e9df8-81c3-4bbf-9aea-d39c496f81a5",
   "metadata": {},
   "source": [
    "### Juntando recomendações vindas dos Scores, com recomendações de popularidade e Recomendações IntraCluster"
   ]
  },
  {
   "cell_type": "code",
   "execution_count": 18,
   "id": "0ad62d53-41f9-47f6-ac43-f49840ce2f07",
   "metadata": {},
   "outputs": [
    {
     "name": "stdout",
     "output_type": "stream",
     "text": [
      "+--------------------+--------------------+--------------------------+--------------------------+\n",
      "|           client_id|  recommended_offers|recommended_popular_offers|recommended_cluster_offers|\n",
      "+--------------------+--------------------+--------------------------+--------------------------+\n",
      "|0009655768c64bdeb...|[f19421c1d4aa4097...|      [9b98b8c7a33c4b65...|      [0b1e1539f2cc45b7...|\n",
      "|00116118485d4dfda...|[f19421c1d4aa4097...|                        []|      [4d5c57ea9a6940dd...|\n",
      "|0011e0d4e6b944f99...|[9b98b8c7a33c4b65...|                        []|      [f19421c1d4aa4097...|\n",
      "|0020c2b971eb4e918...|[fafdcd668e3743c1...|      [9b98b8c7a33c4b65...|      [0b1e1539f2cc45b7...|\n",
      "|0020ccbbb6d84e358...|[2298d6c36e964ae4...|      [fafdcd668e3743c1...|      [0b1e1539f2cc45b7...|\n",
      "|003d66b6608740288...|[fafdcd668e3743c1...|                        []|      [9b98b8c7a33c4b65...|\n",
      "|00426fe3ffde4c6b9...|[fafdcd668e3743c1...|                        []|      [3f207df678b143ee...|\n",
      "|004b041fbfe448599...|[fafdcd668e3743c1...|                        []|      [0b1e1539f2cc45b7...|\n",
      "|004c5799adbf42868...|[fafdcd668e3743c1...|      [9b98b8c7a33c4b65...|      [5a8bc65990b245e5...|\n",
      "|005500a7188546ff8...|[9b98b8c7a33c4b65...|                        []|      [3f207df678b143ee...|\n",
      "|0056df74b63b42988...|[9b98b8c7a33c4b65...|                        []|      [ae264e3637204a6f...|\n",
      "|0063def0f9c14bc48...|[2298d6c36e964ae4...|                        []|      [4d5c57ea9a6940dd...|\n",
      "|0069a50874d846438...|[2906b810c7d44117...|                        []|      [4d5c57ea9a6940dd...|\n",
      "|00715b6e55c3431cb...|[0b1e1539f2cc45b7...|      [9b98b8c7a33c4b65...|      [5a8bc65990b245e5...|\n",
      "|0082fd87c18f45f2b...|[9b98b8c7a33c4b65...|                        []|      [0b1e1539f2cc45b7...|\n",
      "|00840a2ca5d2408e9...|[9b98b8c7a33c4b65...|                        []|      [ae264e3637204a6f...|\n",
      "|00857b24b13f4fe0a...|[9b98b8c7a33c4b65...|                        []|      [3f207df678b143ee...|\n",
      "|008d7088107b46889...|[f19421c1d4aa4097...|                        []|      [3f207df678b143ee...|\n",
      "|0091d2b6a5ea4defa...|[0b1e1539f2cc45b7...|      [9b98b8c7a33c4b65...|      [ae264e3637204a6f...|\n",
      "|0092a132ead946ceb...|[2298d6c36e964ae4...|                        []|      [4d5c57ea9a6940dd...|\n",
      "+--------------------+--------------------+--------------------------+--------------------------+\n",
      "only showing top 20 rows\n"
     ]
    }
   ],
   "source": [
    "df_allocation = df_recommended_offers.join(df_recommended_popular_offers, on='client_id', how='left')\\\n",
    "                                     .join(df_recommended_cluster_offers, on='client_id', how='left')\\\n",
    "                                     .withColumn(\"recommended_popular_offers\", F.coalesce(F.col(\"recommended_popular_offers\"), F.array().cast(T.ArrayType(T.StringType()))))\\\n",
    "                                     .withColumn(\"recommended_cluster_offers\", F.coalesce(F.col(\"recommended_cluster_offers\"), F.array().cast(T.ArrayType(T.StringType()))))\\\n",
    "                                     .orderBy('client_id')\n",
    "df_allocation.show()"
   ]
  },
  {
   "cell_type": "code",
   "execution_count": 188,
   "id": "9c1a7ba2-fda7-401d-975c-5b5c02abe295",
   "metadata": {},
   "outputs": [],
   "source": [
    "df_allocation.write.format(\"parquet\").mode(\"overwrite\").save(\"../data/refined/allocation\")"
   ]
  },
  {
   "cell_type": "code",
   "execution_count": null,
   "id": "143921ec-55ff-4c29-bab6-1e5a5db66d16",
   "metadata": {},
   "outputs": [],
   "source": []
  }
 ],
 "metadata": {
  "kernelspec": {
   "display_name": "Python 3 (ipykernel)",
   "language": "python",
   "name": "python3"
  },
  "language_info": {
   "codemirror_mode": {
    "name": "ipython",
    "version": 3
   },
   "file_extension": ".py",
   "mimetype": "text/x-python",
   "name": "python",
   "nbconvert_exporter": "python",
   "pygments_lexer": "ipython3",
   "version": "3.12.11"
  }
 },
 "nbformat": 4,
 "nbformat_minor": 5
}
