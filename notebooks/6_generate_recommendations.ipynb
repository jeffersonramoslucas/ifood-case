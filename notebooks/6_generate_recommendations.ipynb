{
 "cells": [
  {
   "cell_type": "code",
   "execution_count": 1,
   "id": "804a6c78-a893-4e53-b9f4-fad51d7e3160",
   "metadata": {
    "tags": []
   },
   "outputs": [
    {
     "name": "stderr",
     "output_type": "stream",
     "text": [
      "WARNING: Using incubator modules: jdk.incubator.vector\n",
      "Using Spark's default log4j profile: org/apache/spark/log4j2-defaults.properties\n",
      "25/08/11 01:06:08 WARN Utils: Your hostname, N0L144853, resolves to a loopback address: 127.0.1.1; using 192.168.68.107 instead (on interface wlp0s20f3)\n",
      "25/08/11 01:06:08 WARN Utils: Set SPARK_LOCAL_IP if you need to bind to another address\n",
      "Using Spark's default log4j profile: org/apache/spark/log4j2-defaults.properties\n",
      "Setting default log level to \"WARN\".\n",
      "To adjust logging level use sc.setLogLevel(newLevel). For SparkR, use setLogLevel(newLevel).\n",
      "25/08/11 01:06:09 WARN NativeCodeLoader: Unable to load native-hadoop library for your platform... using builtin-java classes where applicable\n",
      "25/08/11 01:06:09 WARN Utils: Service 'SparkUI' could not bind on port 4040. Attempting port 4041.\n",
      "25/08/11 01:06:09 WARN Utils: Service 'SparkUI' could not bind on port 4041. Attempting port 4042.\n",
      "25/08/11 01:06:09 WARN Utils: Service 'SparkUI' could not bind on port 4042. Attempting port 4043.\n",
      "25/08/11 01:06:09 WARN Utils: Service 'SparkUI' could not bind on port 4043. Attempting port 4044.\n",
      "25/08/11 01:06:09 WARN Utils: Service 'SparkUI' could not bind on port 4044. Attempting port 4045.\n",
      "25/08/11 01:06:09 WARN Utils: Service 'SparkUI' could not bind on port 4045. Attempting port 4046.\n",
      "25/08/11 01:06:09 WARN Utils: Service 'SparkUI' could not bind on port 4046. Attempting port 4047.\n",
      "25/08/11 01:06:09 WARN Utils: Service 'SparkUI' could not bind on port 4047. Attempting port 4048.\n",
      "25/08/11 01:06:09 WARN Utils: Service 'SparkUI' could not bind on port 4048. Attempting port 4049.\n"
     ]
    },
    {
     "data": {
      "text/html": [
       "<style>.jp-Cell-outputArea { text-align: center; }</style>"
      ],
      "text/plain": [
       "<IPython.core.display.HTML object>"
      ]
     },
     "metadata": {},
     "output_type": "display_data"
    }
   ],
   "source": [
    "from pyspark.sql import SparkSession\n",
    "spark = SparkSession.builder.appName('PySparkTest').getOrCreate()\n",
    "\n",
    "from IPython.display import display, HTML\n",
    "display(HTML(\"<style>.jp-Cell-outputArea { text-align: center; }</style>\"))"
   ]
  },
  {
   "cell_type": "code",
   "execution_count": 2,
   "id": "68700941-3521-4ede-93cc-4597ca72fd6c",
   "metadata": {
    "tags": []
   },
   "outputs": [],
   "source": [
    "from pyspark.sql import types as T\n",
    "from pyspark.sql.window import Window\n",
    "from pyspark.sql import functions as F\n",
    "\n",
    "TOP_N_RECOMMENDATIONS = 3\n",
    "TOP_N_CLUSTER_RECOMMENDATIONS = 3\n",
    "TOP_N_OFFERS = 2\n",
    "THRESH = 0.9"
   ]
  },
  {
   "cell_type": "markdown",
   "id": "14d054bc-548c-4baf-9087-0af99a670a7f",
   "metadata": {},
   "source": [
    "# Read Files"
   ]
  },
  {
   "cell_type": "code",
   "execution_count": 3,
   "id": "32609c18-e8ee-4f9c-a977-de668695a8a7",
   "metadata": {
    "tags": []
   },
   "outputs": [],
   "source": [
    "path_rf_predictions = '../data/trusted/rf_output_model'\n",
    "path_km_predictions = '../data/trusted/km_output_model'\n",
    "path_freq_bayes = '../data/trusted/freq_bayes'\n",
    "path_output_allocation = \"../data/refined/allocation\"\n",
    "\n",
    "df_rf_predictions = spark.read.format(\"parquet\").option(\"header\", \"true\").option(\"inferSchema\", \"true\").load(path_rf_predictions)\n",
    "df_km_predictions = spark.read.format(\"parquet\").option(\"header\", \"true\").option(\"inferSchema\", \"true\").load(path_km_predictions)\n",
    "df_freq_bayes = spark.read.format(\"parquet\").option(\"header\", \"true\").option(\"inferSchema\", \"true\").load(path_freq_bayes)"
   ]
  },
  {
   "cell_type": "code",
   "execution_count": 4,
   "id": "a0180041-75e4-4c00-9fe4-41bb8ad50537",
   "metadata": {
    "tags": []
   },
   "outputs": [
    {
     "name": "stdout",
     "output_type": "stream",
     "text": [
      "+--------------------+-------------+--------------------+-------------------+----------------+----------+\n",
      "|           client_id|   offer_type|            offer_id|qtd_offer_completed|offer_type_count|freq_bayes|\n",
      "+--------------------+-------------+--------------------+-------------------+----------------+----------+\n",
      "|0009655768c64bdeb...|     discount|2906b810c7d441179...|                  1|               2|       0.5|\n",
      "|0009655768c64bdeb...|informational|3f207df678b143eea...|                  0|               2|       0.0|\n",
      "|0009655768c64bdeb...|informational|5a8bc65990b245e5a...|                  0|               2|       0.0|\n",
      "|0009655768c64bdeb...|         bogo|f19421c1d4aa40978...|                  1|               1|       1.0|\n",
      "|0009655768c64bdeb...|     discount|fafdcd668e3743c1b...|                  1|               2|       0.5|\n",
      "+--------------------+-------------+--------------------+-------------------+----------------+----------+\n",
      "only showing top 5 rows\n"
     ]
    }
   ],
   "source": [
    "df_freq_bayes.show(5)"
   ]
  },
  {
   "cell_type": "code",
   "execution_count": 5,
   "id": "817e4616-fbe5-44bb-a69d-ad0818be8081",
   "metadata": {
    "tags": []
   },
   "outputs": [
    {
     "data": {
      "text/plain": [
       "(63288, 63288)"
      ]
     },
     "execution_count": 5,
     "metadata": {},
     "output_type": "execute_result"
    }
   ],
   "source": [
    "df_rf_predictions.select('client_id', 'offer_id').distinct().count(), df_freq_bayes.select('client_id', 'offer_id').distinct().count()"
   ]
  },
  {
   "cell_type": "markdown",
   "id": "e274e924-9c78-482d-90ea-97e61ad47b84",
   "metadata": {},
   "source": [
    "### Gerando Score de Propensão e Recomendações"
   ]
  },
  {
   "cell_type": "code",
   "execution_count": null,
   "id": "798142af-70a1-4fe6-8ba6-5ab6b167b54f",
   "metadata": {
    "tags": []
   },
   "outputs": [],
   "source": [
    "df_offer_score = df_rf_predictions.join(df_freq_bayes, on=['client_id', 'offer_id'], how='inner')\\\n",
    "                           .withColumn(\"offer_score\", F.col(\"freq_bayes\")*F.col(\"y_proba_class1\"))\\\n",
    "                           .withColumn(\"ranking\", F.row_number().over(Window.partitionBy(\"client_id\")\\\n",
    "                                                                            .orderBy(F.col(\"offer_score\").desc(), \n",
    "                                                                                     F.col(\"y_proba_class1\").desc(),\n",
    "                                                                                     F.col(\"freq_bayes\").desc())))\\\n",
    "                           .select('client_id', 'offer_id', 'offer_type', 'freq_bayes', 'y_proba_class1', 'offer_score', 'ranking')\\\n",
    "                           .orderBy('client_id', 'ranking')\n",
    "df_offer_score.show(25, truncate=False)"
   ]
  },
  {
   "cell_type": "code",
   "execution_count": null,
   "id": "98321cbf-83f2-48cc-a500-693dd15da10b",
   "metadata": {
    "tags": []
   },
   "outputs": [],
   "source": [
    "df_recommended_offers = df_offer_score.filter(F.col(\"ranking\") <= TOP_N_RECOMMENDATIONS)\\\n",
    "                                       .groupBy(\"client_id\").agg(F.array_sort(F.collect_list(F.struct(\"ranking\",\"offer_id\",\"offer_type\",\"offer_score\"))).alias(\"items_sorted\"))\\\n",
    "                                       .withColumn(\"recommended_offers\", F.expr(\"transform(items_sorted, x -> x.offer_id)\"))\\\n",
    "                                       .drop(\"items_sorted\")\\\n",
    "                                       .orderBy('client_id')\n",
    "df_recommended_offers.show(truncate=False)"
   ]
  },
  {
   "cell_type": "code",
   "execution_count": null,
   "id": "c888f160-5e33-4946-a6d3-ec81914ad43a",
   "metadata": {
    "tags": []
   },
   "outputs": [],
   "source": [
    "# df_ranking = df_top.groupBy(\"client_id\").agg(F.array_sort(F.collect_list(F.struct(\"ranking\",\"offer_id\",\"offer_type\",\"offer_score\"))).alias(\"items_sorted\"))\\\n",
    "#                    .withColumn(\"recommended_offers\", F.expr(\"transform(items_sorted, x -> x.offer_id)\"))\\\n",
    "#                    .drop(\"items_sorted\")\\\n",
    "#                    .orderBy('client_id')\n",
    "# df_ranking.show(truncate=False)"
   ]
  },
  {
   "cell_type": "markdown",
   "id": "e46c8cd1-ff60-4b01-be61-528ebc1cbabe",
   "metadata": {},
   "source": [
    "### Gerando Recomendações Intra-Cluster"
   ]
  },
  {
   "cell_type": "code",
   "execution_count": null,
   "id": "0c1db621-674b-4df4-99e1-d216662a84a9",
   "metadata": {
    "tags": []
   },
   "outputs": [],
   "source": [
    "df_km_predictions.show(5)"
   ]
  },
  {
   "cell_type": "code",
   "execution_count": null,
   "id": "39f8f0df-5c34-4f1a-a58e-143a183909c3",
   "metadata": {
    "tags": []
   },
   "outputs": [],
   "source": [
    "df_clusters = df_km_predictions.select(\"client_id\", \"cluster\").distinct()\n",
    "df_clusters.show(5)"
   ]
  },
  {
   "cell_type": "code",
   "execution_count": null,
   "id": "a19a6ca1-da78-413a-bce7-6822e79960a2",
   "metadata": {
    "tags": []
   },
   "outputs": [],
   "source": [
    "df_cluster_offers = df_freq_bayes.select(\"client_id\", \"offer_id\").distinct()\\\n",
    "                                 .join(df_clusters, on=\"client_id\", how=\"inner\")\n",
    "df_cluster_offers.show(5, truncate=False)"
   ]
  },
  {
   "cell_type": "code",
   "execution_count": null,
   "id": "5df13196-c3cd-4bbf-b3fe-680e93e91b98",
   "metadata": {
    "tags": []
   },
   "outputs": [],
   "source": [
    "df_cluster_popular = df_cluster_offers.groupBy(\"cluster\", \"offer_id\").count()\\\n",
    "                                      .withColumnRenamed(\"count\", \"qtd_clientes\")\n",
    "df_cluster_popular.show(5, truncate=False)"
   ]
  },
  {
   "cell_type": "code",
   "execution_count": null,
   "id": "c14e2381-1175-4996-b140-edb34897c96d",
   "metadata": {
    "tags": []
   },
   "outputs": [],
   "source": [
    "recs_cluster = df_clusters.join(df_cluster_popular, on=\"cluster\", how=\"inner\")\\\n",
    "                          .join(df_freq_bayes.select(\"client_id\", \"offer_id\").distinct(), on=[\"client_id\", \"offer_id\"], how=\"left_anti\")\\\n",
    "                          .withColumn(\"ranking\", F.row_number().over(Window.partitionBy(\"client_id\")\\\n",
    "                                                                           .orderBy(F.col(\"qtd_clientes\").desc())))\\\n",
    "                          .distinct().orderBy('client_id', \"cluster\", F.desc(\"qtd_clientes\"))\\\n",
    "                          .filter(F.col(\"ranking\") <= TOP_N_CLUSTER_RECOMMENDATIONS)\n",
    "recs_cluster.show(truncate=False)"
   ]
  },
  {
   "cell_type": "code",
   "execution_count": null,
   "id": "9f2116f0-ed65-42bd-a1ce-aba9a1239368",
   "metadata": {
    "tags": []
   },
   "outputs": [],
   "source": [
    "df_recommended_cluster_offers = recs_cluster.join(df_offer_score.select(\"client_id\", \"offer_id\").distinct(), on=[\"client_id\", \"offer_id\"], how=\"left_anti\")\\\n",
    "                                            .groupBy(\"client_id\").agg(F.array_sort(F.collect_list(F.struct(\"ranking\",\"offer_id\"))).alias(\"cluster_offer_sorted\"))\\\n",
    "                                            .withColumn(\"recommended_cluster_offers\", F.expr(\"transform(cluster_offer_sorted, x -> x.offer_id)\"))\\\n",
    "                                            .drop(\"cluster_offer_sorted\")\\\n",
    "                                            .orderBy('client_id')\n",
    "df_recommended_cluster_offers.show(truncate=False)"
   ]
  },
  {
   "cell_type": "markdown",
   "id": "6ca1df4f-4fc9-4858-8a98-5b0c717a8e9c",
   "metadata": {},
   "source": [
    "### Pegando as Top Ofertas mais adiquiridas pelos clientes por tipo de oferta e recomendando para complementar o pacote de recomendações"
   ]
  },
  {
   "cell_type": "code",
   "execution_count": null,
   "id": "cf3a8255-1adb-411b-abd4-e6a3ea3694be",
   "metadata": {
    "tags": []
   },
   "outputs": [],
   "source": [
    "df_freq_bayes.show(5)"
   ]
  },
  {
   "cell_type": "code",
   "execution_count": null,
   "id": "40ed3363-8498-4d45-aff2-14340bef9133",
   "metadata": {
    "tags": []
   },
   "outputs": [],
   "source": [
    "popular_offers = df_freq_bayes.groupBy(\"offer_id\", \"offer_type\").agg(F.sum(\"qtd_offer_completed\").alias(\"qtd_offer_completed\"))\\\n",
    "                              .filter(\"qtd_offer_completed > 0\")\\\n",
    "                              .withColumn(\"ranking\", F.row_number().over(Window.partitionBy(\"offer_type\")\\\n",
    "                                                                               .orderBy(F.col(\"qtd_offer_completed\").desc())))\\\n",
    "                              .filter(F.col(\"ranking\") <= TOP_N_OFFERS)\n",
    "\n",
    "popular_offers.show(truncate=False)"
   ]
  },
  {
   "cell_type": "code",
   "execution_count": null,
   "id": "7aa8917d-1f42-4e28-8ab1-505d0a9fe776",
   "metadata": {
    "tags": []
   },
   "outputs": [],
   "source": [
    "recs_popular_offers = df_offer_score.filter(F.col(\"y_proba_class1\") >= THRESH)\\\n",
    "                                    .select(\"client_id\", \"offer_type\").distinct()\\\n",
    "                                    .join(popular_offers.select(\"offer_id\", \"offer_type\", \"ranking\"), on='offer_type', how=\"inner\")\\\n",
    "                                    .orderBy('client_id')\n",
    "\n",
    "recs_popular_offers.show(5, truncate=False)"
   ]
  },
  {
   "cell_type": "code",
   "execution_count": null,
   "id": "d07aa439-e3f1-4edf-bcfb-fc672761e088",
   "metadata": {
    "tags": []
   },
   "outputs": [],
   "source": [
    "df_recommended_popular_offers = recs_popular_offers.join(df_offer_score.select(\"client_id\", \"offer_id\").distinct(), on=[\"client_id\", \"offer_id\"], how=\"left_anti\")\\\n",
    "                                                   .join(recs_cluster.select(\"client_id\", \"offer_id\").distinct(), on=[\"client_id\", \"offer_id\"], how=\"left_anti\")\\\n",
    "                                                   .groupBy(\"client_id\").agg(F.array_sort(F.collect_list(F.struct(\"ranking\",\"offer_id\"))).alias(\"popular_offer_sorted\"))\\\n",
    "                                                   .withColumn(\"recommended_popular_offers\", F.expr(\"transform(popular_offer_sorted, x -> x.offer_id)\"))\\\n",
    "                                                   .drop(\"popular_offer_sorted\")\\\n",
    "                                                   .orderBy('client_id')\n",
    "\n",
    "df_recommended_popular_offers.show(truncate=False)"
   ]
  },
  {
   "cell_type": "markdown",
   "id": "b67e9df8-81c3-4bbf-9aea-d39c496f81a5",
   "metadata": {},
   "source": [
    "### Juntando recomendações vindas dos Scores, com recomendações de popularidade e Recomendações IntraCluster"
   ]
  },
  {
   "cell_type": "code",
   "execution_count": null,
   "id": "0ad62d53-41f9-47f6-ac43-f49840ce2f07",
   "metadata": {
    "tags": []
   },
   "outputs": [],
   "source": [
    "df_allocation = df_recommended_offers.join(df_recommended_cluster_offers, on='client_id', how='left')\\\n",
    "                                     .join(df_recommended_popular_offers, on='client_id', how='left')\\\n",
    "                                     .withColumn(\"recommended_popular_offers\", F.coalesce(F.col(\"recommended_popular_offers\"), F.array().cast(T.ArrayType(T.StringType()))))\\\n",
    "                                     .withColumn(\"recommended_cluster_offers\", F.coalesce(F.col(\"recommended_cluster_offers\"), F.array().cast(T.ArrayType(T.StringType()))))\\\n",
    "                                     .orderBy('client_id')\n",
    "df_allocation.show()"
   ]
  },
  {
   "cell_type": "code",
   "execution_count": null,
   "id": "9c1a7ba2-fda7-401d-975c-5b5c02abe295",
   "metadata": {
    "tags": []
   },
   "outputs": [],
   "source": [
    "df_allocation.write.format(\"parquet\").mode(\"overwrite\").save(path_output_allocation)"
   ]
  },
  {
   "cell_type": "code",
   "execution_count": null,
   "id": "5757e545-6187-403f-a1b9-963cfe3fea37",
   "metadata": {},
   "outputs": [],
   "source": []
  }
 ],
 "metadata": {
  "kernelspec": {
   "display_name": "Python 3 (ipykernel)",
   "language": "python",
   "name": "python3"
  },
  "language_info": {
   "codemirror_mode": {
    "name": "ipython",
    "version": 3
   },
   "file_extension": ".py",
   "mimetype": "text/x-python",
   "name": "python",
   "nbconvert_exporter": "python",
   "pygments_lexer": "ipython3",
   "version": "3.12.11"
  }
 },
 "nbformat": 4,
 "nbformat_minor": 5
}
