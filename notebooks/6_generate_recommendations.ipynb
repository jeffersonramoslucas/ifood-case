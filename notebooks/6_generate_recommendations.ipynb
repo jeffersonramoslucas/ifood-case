{
 "cells": [
  {
   "cell_type": "code",
   "execution_count": 22,
   "id": "804a6c78-a893-4e53-b9f4-fad51d7e3160",
   "metadata": {
    "tags": []
   },
   "outputs": [],
   "source": [
    "from pyspark.sql import SparkSession\n",
    "spark = SparkSession.builder.appName('PySparkTest').getOrCreate()\n",
    "\n",
    "from IPython.display import display, HTML\n",
    "display(HTML(\"<style>.jp-Cell-outputArea { text-align: center; }</style>\"))"
   ]
  },
  {
   "cell_type": "code",
   "execution_count": 2,
   "id": "68700941-3521-4ede-93cc-4597ca72fd6c",
   "metadata": {
    "tags": []
   },
   "outputs": [],
   "source": [
    "from pyspark.sql import types as T\n",
    "from pyspark.sql.window import Window\n",
    "from pyspark.sql import functions as F\n",
    "\n",
    "TOP_N_RECOMMENDATIONS = 3\n",
    "TOP_N_CLUSTER_RECOMMENDATIONS = 3\n",
    "TOP_N_OFFERS = 2\n",
    "THRESH = 0.9"
   ]
  },
  {
   "cell_type": "markdown",
   "id": "14d054bc-548c-4baf-9087-0af99a670a7f",
   "metadata": {},
   "source": [
    "# Read Files"
   ]
  },
  {
   "cell_type": "code",
   "execution_count": 3,
   "id": "32609c18-e8ee-4f9c-a977-de668695a8a7",
   "metadata": {
    "tags": []
   },
   "outputs": [],
   "source": [
    "path_rf_predictions = '../data/trusted/rf_output_model'\n",
    "path_km_predictions = '../data/trusted/km_output_model'\n",
    "path_freq_bayes = '../data/trusted/freq_bayes'\n",
    "path_output_allocation = \"../data/refined/allocation\"\n",
    "\n",
    "df_rf_predictions = spark.read.format(\"parquet\").option(\"header\", \"true\").option(\"inferSchema\", \"true\").load(path_rf_predictions)\n",
    "df_km_predictions = spark.read.format(\"parquet\").option(\"header\", \"true\").option(\"inferSchema\", \"true\").load(path_km_predictions)\n",
    "df_freq_bayes = spark.read.format(\"parquet\").option(\"header\", \"true\").option(\"inferSchema\", \"true\").load(path_freq_bayes)"
   ]
  },
  {
   "cell_type": "code",
   "execution_count": 4,
   "id": "a0180041-75e4-4c00-9fe4-41bb8ad50537",
   "metadata": {
    "tags": []
   },
   "outputs": [
    {
     "name": "stdout",
     "output_type": "stream",
     "text": [
      "+--------------------+-------------+--------------------+-------------------+----------------+----------+\n",
      "|           client_id|   offer_type|            offer_id|qtd_offer_completed|offer_type_count|freq_bayes|\n",
      "+--------------------+-------------+--------------------+-------------------+----------------+----------+\n",
      "|0009655768c64bdeb...|     discount|2906b810c7d441179...|                  1|               2|       0.5|\n",
      "|0009655768c64bdeb...|informational|3f207df678b143eea...|                  0|               2|       0.0|\n",
      "|0009655768c64bdeb...|informational|5a8bc65990b245e5a...|                  0|               2|       0.0|\n",
      "|0009655768c64bdeb...|         bogo|f19421c1d4aa40978...|                  1|               1|       1.0|\n",
      "|0009655768c64bdeb...|     discount|fafdcd668e3743c1b...|                  1|               2|       0.5|\n",
      "+--------------------+-------------+--------------------+-------------------+----------------+----------+\n",
      "only showing top 5 rows\n"
     ]
    }
   ],
   "source": [
    "df_freq_bayes.show(5)"
   ]
  },
  {
   "cell_type": "code",
   "execution_count": 5,
   "id": "817e4616-fbe5-44bb-a69d-ad0818be8081",
   "metadata": {
    "tags": []
   },
   "outputs": [
    {
     "data": {
      "text/plain": [
       "(63288, 63288)"
      ]
     },
     "execution_count": 5,
     "metadata": {},
     "output_type": "execute_result"
    }
   ],
   "source": [
    "df_rf_predictions.select('client_id', 'offer_id').distinct().count(), df_freq_bayes.select('client_id', 'offer_id').distinct().count()"
   ]
  },
  {
   "cell_type": "markdown",
   "id": "e274e924-9c78-482d-90ea-97e61ad47b84",
   "metadata": {},
   "source": [
    "### Gerando Score de Propensão e Recomendações"
   ]
  },
  {
   "cell_type": "code",
   "execution_count": 6,
   "id": "798142af-70a1-4fe6-8ba6-5ab6b167b54f",
   "metadata": {
    "tags": []
   },
   "outputs": [
    {
     "name": "stdout",
     "output_type": "stream",
     "text": [
      "+--------------------------------+--------------------------------+-------------+------------------+--------------------+-------------------+-------+\n",
      "|client_id                       |offer_id                        |offer_type   |freq_bayes        |y_proba_class1      |offer_score        |ranking|\n",
      "+--------------------------------+--------------------------------+-------------+------------------+--------------------+-------------------+-------+\n",
      "|0009655768c64bdeb2e877511632db8f|f19421c1d4aa40978ebb69ca19b0e20d|bogo         |1.0               |0.9005633211462845  |0.9005633211462845 |1      |\n",
      "|0009655768c64bdeb2e877511632db8f|fafdcd668e3743c1bb461111dcafc2a4|discount     |0.5               |0.9395614341466783  |0.4697807170733391 |2      |\n",
      "|0009655768c64bdeb2e877511632db8f|2906b810c7d4411798c6938adc9daaa5|discount     |0.5               |0.9232586438727406  |0.4616293219363703 |3      |\n",
      "|0009655768c64bdeb2e877511632db8f|3f207df678b143eea3cee63160fa8bed|informational|0.0               |0.0                 |0.0                |4      |\n",
      "|0009655768c64bdeb2e877511632db8f|5a8bc65990b245e5a138643cd4eb9837|informational|0.0               |0.0                 |0.0                |5      |\n",
      "|00116118485d4dfda04fdbaba9a87b5c|f19421c1d4aa40978ebb69ca19b0e20d|bogo         |0.0               |0.027729447951870035|0.0                |1      |\n",
      "|0011e0d4e6b944f998e987f904e8c1e5|9b98b8c7a33c4b65b9aebfe6a799e6d9|bogo         |1.0               |0.7381863216851454  |0.7381863216851454 |1      |\n",
      "|0011e0d4e6b944f998e987f904e8c1e5|2298d6c36e964ae4a3e7e9706d1fb8c2|discount     |0.5               |0.7998278114377141  |0.39991390571885704|2      |\n",
      "|0011e0d4e6b944f998e987f904e8c1e5|0b1e1539f2cc45b7b9fa7c272da2e1d7|discount     |0.5               |0.706507488684708   |0.353253744342354  |3      |\n",
      "|0011e0d4e6b944f998e987f904e8c1e5|3f207df678b143eea3cee63160fa8bed|informational|0.0               |0.0                 |0.0                |4      |\n",
      "|0011e0d4e6b944f998e987f904e8c1e5|5a8bc65990b245e5a138643cd4eb9837|informational|0.0               |0.0                 |0.0                |5      |\n",
      "|0020c2b971eb4e9188eac86d93036a77|fafdcd668e3743c1bb461111dcafc2a4|discount     |1.0               |0.9565120379929596  |0.9565120379929596 |1      |\n",
      "|0020c2b971eb4e9188eac86d93036a77|4d5c57ea9a6940dd891ad53e9dbe8da0|bogo         |0.5               |0.9211381922988923  |0.46056909614944613|2      |\n",
      "|0020c2b971eb4e9188eac86d93036a77|ae264e3637204a6fb9bb56bc8210ddfd|bogo         |0.0               |0.923482327833452   |0.0                |3      |\n",
      "|0020c2b971eb4e9188eac86d93036a77|5a8bc65990b245e5a138643cd4eb9837|informational|0.0               |0.0                 |0.0                |4      |\n",
      "|0020ccbbb6d84e358d3414a3ff76cffd|2298d6c36e964ae4a3e7e9706d1fb8c2|discount     |1.0               |0.951034363761747   |0.951034363761747  |1      |\n",
      "|0020ccbbb6d84e358d3414a3ff76cffd|9b98b8c7a33c4b65b9aebfe6a799e6d9|bogo         |0.5               |0.9240242123955581  |0.46201210619777905|2      |\n",
      "|0020ccbbb6d84e358d3414a3ff76cffd|f19421c1d4aa40978ebb69ca19b0e20d|bogo         |0.5               |0.9213517287339197  |0.46067586436695984|3      |\n",
      "|0020ccbbb6d84e358d3414a3ff76cffd|5a8bc65990b245e5a138643cd4eb9837|informational|0.0               |0.0                 |0.0                |4      |\n",
      "|003d66b6608740288d6cc97a6903f4f0|fafdcd668e3743c1bb461111dcafc2a4|discount     |0.6666666666666666|0.8176748988951721  |0.545116599263448  |1      |\n",
      "|003d66b6608740288d6cc97a6903f4f0|0b1e1539f2cc45b7b9fa7c272da2e1d7|discount     |0.3333333333333333|0.33477853134591806 |0.11159284378197268|2      |\n",
      "|003d66b6608740288d6cc97a6903f4f0|3f207df678b143eea3cee63160fa8bed|informational|0.0               |0.0                 |0.0                |3      |\n",
      "|003d66b6608740288d6cc97a6903f4f0|5a8bc65990b245e5a138643cd4eb9837|informational|0.0               |0.0                 |0.0                |4      |\n",
      "|00426fe3ffde4c6b9cb9ad6d077a13ea|fafdcd668e3743c1bb461111dcafc2a4|discount     |0.25              |0.8728837984118591  |0.2182209496029648 |1      |\n",
      "|00426fe3ffde4c6b9cb9ad6d077a13ea|2906b810c7d4411798c6938adc9daaa5|discount     |0.0               |0.8052759595115765  |0.0                |2      |\n",
      "+--------------------------------+--------------------------------+-------------+------------------+--------------------+-------------------+-------+\n",
      "only showing top 25 rows\n"
     ]
    }
   ],
   "source": [
    "df_offer_score = df_rf_predictions.join(df_freq_bayes, on=['client_id', 'offer_id'], how='inner')\\\n",
    "                           .withColumn(\"offer_score\", F.col(\"freq_bayes\")*F.col(\"y_proba_class1\"))\\\n",
    "                           .withColumn(\"ranking\", F.row_number().over(Window.partitionBy(\"client_id\")\\\n",
    "                                                                            .orderBy(F.col(\"offer_score\").desc(), \n",
    "                                                                                     F.col(\"y_proba_class1\").desc(),\n",
    "                                                                                     F.col(\"freq_bayes\").desc())))\\\n",
    "                           .select('client_id', 'offer_id', 'offer_type', 'freq_bayes', 'y_proba_class1', 'offer_score', 'ranking')\\\n",
    "                           .orderBy('client_id', 'ranking')\n",
    "df_offer_score.show(25, truncate=False)"
   ]
  },
  {
   "cell_type": "markdown",
   "id": "6be71f0a-072a-4b61-866f-2a68f7a23a2d",
   "metadata": {},
   "source": [
    "##### Verificando como a quantidade de clientes é influenciada pelo aumento do offer_score"
   ]
  },
  {
   "cell_type": "code",
   "execution_count": 7,
   "id": "5ea37cb4-1e9d-453a-b5f8-60b1acd5b4e2",
   "metadata": {
    "tags": []
   },
   "outputs": [
    {
     "data": {
      "application/vnd.plotly.v1+json": {
       "config": {
        "plotlyServerURL": "https://plot.ly"
       },
       "data": [
        {
         "mode": "lines+markers",
         "name": "Total Clientes",
         "type": "scatter",
         "x": {
          "_inputArray": {
           "0": 0,
           "1": 0.1,
           "10": 1,
           "2": 0.2,
           "3": 0.3,
           "4": 0.4,
           "5": 0.5,
           "6": 0.6,
           "7": 0.7,
           "8": 0.8,
           "9": 0.9,
           "bdata": "AAAAAAAAAACamZmZmZm5P5qZmZmZmck/MzMzMzMz0z+amZmZmZnZPwAAAAAAAOA/MzMzMzMz4z9mZmZmZmbmP5qZmZmZmek/zczMzMzM7D8AAAAAAADwPw==",
           "dtype": "f8",
           "shape": "11"
          },
          "bdata": "AAAAAAAAAACamZmZmZm5P5qZmZmZmck/MzMzMzMz0z+amZmZmZnZPwAAAAAAAOA/MzMzMzMz4z9mZmZmZmbmP5qZmZmZmek/zczMzMzM7D8AAAAAAADwPw==",
          "dtype": "f8"
         },
         "y": {
          "_inputArray": {
           "0": 16994,
           "1": 12273,
           "10": 0,
           "2": 11211,
           "3": 9895,
           "4": 8674,
           "5": 6409,
           "6": 5858,
           "7": 4926,
           "8": 4254,
           "9": 2743,
           "bdata": "YkLxL8srpybiIQkZ4hY+E54QtwoAAA==",
           "dtype": "i2",
           "shape": "11"
          },
          "bdata": "YkLxL8srpybiIQkZ4hY+E54QtwoAAA==",
          "dtype": "i2"
         },
         "yaxis": "y"
        },
        {
         "mode": "lines+markers",
         "name": "Total Ofertas",
         "type": "scatter",
         "x": {
          "_inputArray": {
           "0": 0,
           "1": 0.1,
           "10": 1,
           "2": 0.2,
           "3": 0.3,
           "4": 0.4,
           "5": 0.5,
           "6": 0.6,
           "7": 0.7,
           "8": 0.8,
           "9": 0.9,
           "bdata": "AAAAAAAAAACamZmZmZm5P5qZmZmZmck/MzMzMzMz0z+amZmZmZnZPwAAAAAAAOA/MzMzMzMz4z9mZmZmZmbmP5qZmZmZmek/zczMzMzM7D8AAAAAAADwPw==",
           "dtype": "f8",
           "shape": "11"
          },
          "bdata": "AAAAAAAAAACamZmZmZm5P5qZmZmZmck/MzMzMzMz0z+amZmZmZnZPwAAAAAAAOA/MzMzMzMz4z9mZmZmZmbmP5qZmZmZmek/zczMzMzM7D8AAAAAAADwPw==",
          "dtype": "f8"
         },
         "y": {
          "_inputArray": {
           "0": 63288,
           "1": 28234,
           "10": 0,
           "2": 25766,
           "3": 20748,
           "4": 15554,
           "5": 7940,
           "6": 7189,
           "7": 5749,
           "8": 4936,
           "9": 3145,
           "bdata": "OPcAAEpuAACmZAAADFEAAMI8AAAEHwAAFRwAAHUWAABIEwAASQwAAAAAAAA=",
           "dtype": "i4",
           "shape": "11"
          },
          "bdata": "OPcAAEpuAACmZAAADFEAAMI8AAAEHwAAFRwAAHUWAABIEwAASQwAAAAAAAA=",
          "dtype": "i4"
         },
         "yaxis": "y2"
        }
       ],
       "layout": {
        "height": 800,
        "legend": {
         "x": 0.9,
         "y": 0.98
        },
        "template": {
         "data": {
          "bar": [
           {
            "error_x": {
             "color": "#2a3f5f"
            },
            "error_y": {
             "color": "#2a3f5f"
            },
            "marker": {
             "line": {
              "color": "white",
              "width": 0.5
             },
             "pattern": {
              "fillmode": "overlay",
              "size": 10,
              "solidity": 0.2
             }
            },
            "type": "bar"
           }
          ],
          "barpolar": [
           {
            "marker": {
             "line": {
              "color": "white",
              "width": 0.5
             },
             "pattern": {
              "fillmode": "overlay",
              "size": 10,
              "solidity": 0.2
             }
            },
            "type": "barpolar"
           }
          ],
          "carpet": [
           {
            "aaxis": {
             "endlinecolor": "#2a3f5f",
             "gridcolor": "#C8D4E3",
             "linecolor": "#C8D4E3",
             "minorgridcolor": "#C8D4E3",
             "startlinecolor": "#2a3f5f"
            },
            "baxis": {
             "endlinecolor": "#2a3f5f",
             "gridcolor": "#C8D4E3",
             "linecolor": "#C8D4E3",
             "minorgridcolor": "#C8D4E3",
             "startlinecolor": "#2a3f5f"
            },
            "type": "carpet"
           }
          ],
          "choropleth": [
           {
            "colorbar": {
             "outlinewidth": 0,
             "ticks": ""
            },
            "type": "choropleth"
           }
          ],
          "contour": [
           {
            "colorbar": {
             "outlinewidth": 0,
             "ticks": ""
            },
            "colorscale": [
             [
              0,
              "#0d0887"
             ],
             [
              0.1111111111111111,
              "#46039f"
             ],
             [
              0.2222222222222222,
              "#7201a8"
             ],
             [
              0.3333333333333333,
              "#9c179e"
             ],
             [
              0.4444444444444444,
              "#bd3786"
             ],
             [
              0.5555555555555556,
              "#d8576b"
             ],
             [
              0.6666666666666666,
              "#ed7953"
             ],
             [
              0.7777777777777778,
              "#fb9f3a"
             ],
             [
              0.8888888888888888,
              "#fdca26"
             ],
             [
              1,
              "#f0f921"
             ]
            ],
            "type": "contour"
           }
          ],
          "contourcarpet": [
           {
            "colorbar": {
             "outlinewidth": 0,
             "ticks": ""
            },
            "type": "contourcarpet"
           }
          ],
          "heatmap": [
           {
            "colorbar": {
             "outlinewidth": 0,
             "ticks": ""
            },
            "colorscale": [
             [
              0,
              "#0d0887"
             ],
             [
              0.1111111111111111,
              "#46039f"
             ],
             [
              0.2222222222222222,
              "#7201a8"
             ],
             [
              0.3333333333333333,
              "#9c179e"
             ],
             [
              0.4444444444444444,
              "#bd3786"
             ],
             [
              0.5555555555555556,
              "#d8576b"
             ],
             [
              0.6666666666666666,
              "#ed7953"
             ],
             [
              0.7777777777777778,
              "#fb9f3a"
             ],
             [
              0.8888888888888888,
              "#fdca26"
             ],
             [
              1,
              "#f0f921"
             ]
            ],
            "type": "heatmap"
           }
          ],
          "histogram": [
           {
            "marker": {
             "pattern": {
              "fillmode": "overlay",
              "size": 10,
              "solidity": 0.2
             }
            },
            "type": "histogram"
           }
          ],
          "histogram2d": [
           {
            "colorbar": {
             "outlinewidth": 0,
             "ticks": ""
            },
            "colorscale": [
             [
              0,
              "#0d0887"
             ],
             [
              0.1111111111111111,
              "#46039f"
             ],
             [
              0.2222222222222222,
              "#7201a8"
             ],
             [
              0.3333333333333333,
              "#9c179e"
             ],
             [
              0.4444444444444444,
              "#bd3786"
             ],
             [
              0.5555555555555556,
              "#d8576b"
             ],
             [
              0.6666666666666666,
              "#ed7953"
             ],
             [
              0.7777777777777778,
              "#fb9f3a"
             ],
             [
              0.8888888888888888,
              "#fdca26"
             ],
             [
              1,
              "#f0f921"
             ]
            ],
            "type": "histogram2d"
           }
          ],
          "histogram2dcontour": [
           {
            "colorbar": {
             "outlinewidth": 0,
             "ticks": ""
            },
            "colorscale": [
             [
              0,
              "#0d0887"
             ],
             [
              0.1111111111111111,
              "#46039f"
             ],
             [
              0.2222222222222222,
              "#7201a8"
             ],
             [
              0.3333333333333333,
              "#9c179e"
             ],
             [
              0.4444444444444444,
              "#bd3786"
             ],
             [
              0.5555555555555556,
              "#d8576b"
             ],
             [
              0.6666666666666666,
              "#ed7953"
             ],
             [
              0.7777777777777778,
              "#fb9f3a"
             ],
             [
              0.8888888888888888,
              "#fdca26"
             ],
             [
              1,
              "#f0f921"
             ]
            ],
            "type": "histogram2dcontour"
           }
          ],
          "mesh3d": [
           {
            "colorbar": {
             "outlinewidth": 0,
             "ticks": ""
            },
            "type": "mesh3d"
           }
          ],
          "parcoords": [
           {
            "line": {
             "colorbar": {
              "outlinewidth": 0,
              "ticks": ""
             }
            },
            "type": "parcoords"
           }
          ],
          "pie": [
           {
            "automargin": true,
            "type": "pie"
           }
          ],
          "scatter": [
           {
            "fillpattern": {
             "fillmode": "overlay",
             "size": 10,
             "solidity": 0.2
            },
            "type": "scatter"
           }
          ],
          "scatter3d": [
           {
            "line": {
             "colorbar": {
              "outlinewidth": 0,
              "ticks": ""
             }
            },
            "marker": {
             "colorbar": {
              "outlinewidth": 0,
              "ticks": ""
             }
            },
            "type": "scatter3d"
           }
          ],
          "scattercarpet": [
           {
            "marker": {
             "colorbar": {
              "outlinewidth": 0,
              "ticks": ""
             }
            },
            "type": "scattercarpet"
           }
          ],
          "scattergeo": [
           {
            "marker": {
             "colorbar": {
              "outlinewidth": 0,
              "ticks": ""
             }
            },
            "type": "scattergeo"
           }
          ],
          "scattergl": [
           {
            "marker": {
             "colorbar": {
              "outlinewidth": 0,
              "ticks": ""
             }
            },
            "type": "scattergl"
           }
          ],
          "scattermap": [
           {
            "marker": {
             "colorbar": {
              "outlinewidth": 0,
              "ticks": ""
             }
            },
            "type": "scattermap"
           }
          ],
          "scattermapbox": [
           {
            "marker": {
             "colorbar": {
              "outlinewidth": 0,
              "ticks": ""
             }
            },
            "type": "scattermapbox"
           }
          ],
          "scatterpolar": [
           {
            "marker": {
             "colorbar": {
              "outlinewidth": 0,
              "ticks": ""
             }
            },
            "type": "scatterpolar"
           }
          ],
          "scatterpolargl": [
           {
            "marker": {
             "colorbar": {
              "outlinewidth": 0,
              "ticks": ""
             }
            },
            "type": "scatterpolargl"
           }
          ],
          "scatterternary": [
           {
            "marker": {
             "colorbar": {
              "outlinewidth": 0,
              "ticks": ""
             }
            },
            "type": "scatterternary"
           }
          ],
          "surface": [
           {
            "colorbar": {
             "outlinewidth": 0,
             "ticks": ""
            },
            "colorscale": [
             [
              0,
              "#0d0887"
             ],
             [
              0.1111111111111111,
              "#46039f"
             ],
             [
              0.2222222222222222,
              "#7201a8"
             ],
             [
              0.3333333333333333,
              "#9c179e"
             ],
             [
              0.4444444444444444,
              "#bd3786"
             ],
             [
              0.5555555555555556,
              "#d8576b"
             ],
             [
              0.6666666666666666,
              "#ed7953"
             ],
             [
              0.7777777777777778,
              "#fb9f3a"
             ],
             [
              0.8888888888888888,
              "#fdca26"
             ],
             [
              1,
              "#f0f921"
             ]
            ],
            "type": "surface"
           }
          ],
          "table": [
           {
            "cells": {
             "fill": {
              "color": "#EBF0F8"
             },
             "line": {
              "color": "white"
             }
            },
            "header": {
             "fill": {
              "color": "#C8D4E3"
             },
             "line": {
              "color": "white"
             }
            },
            "type": "table"
           }
          ]
         },
         "layout": {
          "annotationdefaults": {
           "arrowcolor": "#2a3f5f",
           "arrowhead": 0,
           "arrowwidth": 1
          },
          "autotypenumbers": "strict",
          "coloraxis": {
           "colorbar": {
            "outlinewidth": 0,
            "ticks": ""
           }
          },
          "colorscale": {
           "diverging": [
            [
             0,
             "#8e0152"
            ],
            [
             0.1,
             "#c51b7d"
            ],
            [
             0.2,
             "#de77ae"
            ],
            [
             0.3,
             "#f1b6da"
            ],
            [
             0.4,
             "#fde0ef"
            ],
            [
             0.5,
             "#f7f7f7"
            ],
            [
             0.6,
             "#e6f5d0"
            ],
            [
             0.7,
             "#b8e186"
            ],
            [
             0.8,
             "#7fbc41"
            ],
            [
             0.9,
             "#4d9221"
            ],
            [
             1,
             "#276419"
            ]
           ],
           "sequential": [
            [
             0,
             "#0d0887"
            ],
            [
             0.1111111111111111,
             "#46039f"
            ],
            [
             0.2222222222222222,
             "#7201a8"
            ],
            [
             0.3333333333333333,
             "#9c179e"
            ],
            [
             0.4444444444444444,
             "#bd3786"
            ],
            [
             0.5555555555555556,
             "#d8576b"
            ],
            [
             0.6666666666666666,
             "#ed7953"
            ],
            [
             0.7777777777777778,
             "#fb9f3a"
            ],
            [
             0.8888888888888888,
             "#fdca26"
            ],
            [
             1,
             "#f0f921"
            ]
           ],
           "sequentialminus": [
            [
             0,
             "#0d0887"
            ],
            [
             0.1111111111111111,
             "#46039f"
            ],
            [
             0.2222222222222222,
             "#7201a8"
            ],
            [
             0.3333333333333333,
             "#9c179e"
            ],
            [
             0.4444444444444444,
             "#bd3786"
            ],
            [
             0.5555555555555556,
             "#d8576b"
            ],
            [
             0.6666666666666666,
             "#ed7953"
            ],
            [
             0.7777777777777778,
             "#fb9f3a"
            ],
            [
             0.8888888888888888,
             "#fdca26"
            ],
            [
             1,
             "#f0f921"
            ]
           ]
          },
          "colorway": [
           "#636efa",
           "#EF553B",
           "#00cc96",
           "#ab63fa",
           "#FFA15A",
           "#19d3f3",
           "#FF6692",
           "#B6E880",
           "#FF97FF",
           "#FECB52"
          ],
          "font": {
           "color": "#2a3f5f"
          },
          "geo": {
           "bgcolor": "white",
           "lakecolor": "white",
           "landcolor": "white",
           "showlakes": true,
           "showland": true,
           "subunitcolor": "#C8D4E3"
          },
          "hoverlabel": {
           "align": "left"
          },
          "hovermode": "closest",
          "mapbox": {
           "style": "light"
          },
          "paper_bgcolor": "white",
          "plot_bgcolor": "white",
          "polar": {
           "angularaxis": {
            "gridcolor": "#EBF0F8",
            "linecolor": "#EBF0F8",
            "ticks": ""
           },
           "bgcolor": "white",
           "radialaxis": {
            "gridcolor": "#EBF0F8",
            "linecolor": "#EBF0F8",
            "ticks": ""
           }
          },
          "scene": {
           "xaxis": {
            "backgroundcolor": "white",
            "gridcolor": "#DFE8F3",
            "gridwidth": 2,
            "linecolor": "#EBF0F8",
            "showbackground": true,
            "ticks": "",
            "zerolinecolor": "#EBF0F8"
           },
           "yaxis": {
            "backgroundcolor": "white",
            "gridcolor": "#DFE8F3",
            "gridwidth": 2,
            "linecolor": "#EBF0F8",
            "showbackground": true,
            "ticks": "",
            "zerolinecolor": "#EBF0F8"
           },
           "zaxis": {
            "backgroundcolor": "white",
            "gridcolor": "#DFE8F3",
            "gridwidth": 2,
            "linecolor": "#EBF0F8",
            "showbackground": true,
            "ticks": "",
            "zerolinecolor": "#EBF0F8"
           }
          },
          "shapedefaults": {
           "line": {
            "color": "#2a3f5f"
           }
          },
          "ternary": {
           "aaxis": {
            "gridcolor": "#DFE8F3",
            "linecolor": "#A2B1C6",
            "ticks": ""
           },
           "baxis": {
            "gridcolor": "#DFE8F3",
            "linecolor": "#A2B1C6",
            "ticks": ""
           },
           "bgcolor": "white",
           "caxis": {
            "gridcolor": "#DFE8F3",
            "linecolor": "#A2B1C6",
            "ticks": ""
           }
          },
          "title": {
           "x": 0.05
          },
          "xaxis": {
           "automargin": true,
           "gridcolor": "#EBF0F8",
           "linecolor": "#EBF0F8",
           "ticks": "",
           "title": {
            "standoff": 15
           },
           "zerolinecolor": "#EBF0F8",
           "zerolinewidth": 2
          },
          "yaxis": {
           "automargin": true,
           "gridcolor": "#EBF0F8",
           "linecolor": "#EBF0F8",
           "ticks": "",
           "title": {
            "standoff": 15
           },
           "zerolinecolor": "#EBF0F8",
           "zerolinewidth": 2
          }
         }
        },
        "title": {
         "text": "Impacto do Threshold no Alcance",
         "x": 0.5,
         "xanchor": "center"
        },
        "width": 1600,
        "xaxis": {
         "autorange": true,
         "range": [
          -0.058789289871944116,
          1.0587892898719442
         ],
         "title": {
          "text": "Threshold"
         },
         "type": "linear"
        },
        "yaxis": {
         "autorange": true,
         "range": [
          -1072.7366030881017,
          18066.736603088102
         ],
         "side": "left",
         "title": {
          "text": "Total Clientes"
         },
         "type": "linear"
        },
        "yaxis2": {
         "autorange": true,
         "overlaying": "y",
         "range": [
          -3995.019073569482,
          67283.01907356948
         ],
         "side": "right",
         "title": {
          "text": "Total Ofertas"
         },
         "type": "linear"
        }
       }
      },
      "image/png": "[encoded data removed]"
     },
     "metadata": {},
     "output_type": "display_data"
    }
   ],
   "source": [
    "import pandas as pd\n",
    "import plotly.graph_objects as go\n",
    "\n",
    "\n",
    "thresholds = [round(x / 10, 1) for x in range(0, 11)] \n",
    "\n",
    "resultados = []\n",
    "for t in thresholds:\n",
    "    df_filt = df_offer_score.filter(F.col(\"offer_score\") >= t)\n",
    "    total_clientes = df_filt.select(\"client_id\").distinct().count()\n",
    "    total_ofertas = df_filt.count()\n",
    "    resultados.append((t, total_clientes, total_ofertas))\n",
    "\n",
    "\n",
    "df_plot = pd.DataFrame(resultados, columns=[\"Threshold\", \"Total Clientes\", \"Total Ofertas\"])\n",
    "\n",
    "\n",
    "fig = go.Figure()\n",
    "\n",
    "fig.add_trace(go.Scatter(\n",
    "    x=df_plot[\"Threshold\"],\n",
    "    y=df_plot[\"Total Clientes\"],\n",
    "    mode=\"lines+markers\",\n",
    "    name=\"Total Clientes\",\n",
    "    yaxis=\"y1\"\n",
    "))\n",
    "\n",
    "fig.add_trace(go.Scatter(\n",
    "    x=df_plot[\"Threshold\"],\n",
    "    y=df_plot[\"Total Ofertas\"],\n",
    "    mode=\"lines+markers\",\n",
    "    name=\"Total Ofertas\",\n",
    "    yaxis=\"y2\"\n",
    "))\n",
    "\n",
    "\n",
    "fig.update_layout(\n",
    "    title=\"Impacto do Threshold no Alcance\",\n",
    "    xaxis=dict(title=\"Threshold\"),\n",
    "    yaxis=dict(title=\"Total Clientes\", side=\"left\"),\n",
    "    yaxis2=dict(title=\"Total Ofertas\", overlaying=\"y\", side=\"right\"),\n",
    "    legend=dict(x=0.9, y=0.98),\n",
    "    template=\"plotly_white\"\n",
    ")\n",
    "\n",
    "fig.update_layout(\n",
    "    title=dict(x=0.5, xanchor=\"center\"),\n",
    "    height=800,\n",
    "    width=1600\n",
    ")\n",
    "\n",
    "fig.show()\n"
   ]
  },
  {
   "cell_type": "markdown",
   "id": "c38bb07d-df12-4fd2-810e-8dcd8fa890cf",
   "metadata": {},
   "source": [
    "##### Escolherei 0.4, pois visualmente me informa que a degradação é maior acima desse limite"
   ]
  },
  {
   "cell_type": "code",
   "execution_count": 8,
   "id": "98321cbf-83f2-48cc-a500-693dd15da10b",
   "metadata": {
    "tags": []
   },
   "outputs": [
    {
     "name": "stdout",
     "output_type": "stream",
     "text": [
      "+--------------------------------+------------------------------------------------------------------------------------------------------+\n",
      "|client_id                       |recommended_offers                                                                                    |\n",
      "+--------------------------------+------------------------------------------------------------------------------------------------------+\n",
      "|0009655768c64bdeb2e877511632db8f|[f19421c1d4aa40978ebb69ca19b0e20d, fafdcd668e3743c1bb461111dcafc2a4, 2906b810c7d4411798c6938adc9daaa5]|\n",
      "|0011e0d4e6b944f998e987f904e8c1e5|[9b98b8c7a33c4b65b9aebfe6a799e6d9]                                                                    |\n",
      "|0020c2b971eb4e9188eac86d93036a77|[fafdcd668e3743c1bb461111dcafc2a4, 4d5c57ea9a6940dd891ad53e9dbe8da0]                                  |\n",
      "|0020ccbbb6d84e358d3414a3ff76cffd|[2298d6c36e964ae4a3e7e9706d1fb8c2, 9b98b8c7a33c4b65b9aebfe6a799e6d9, f19421c1d4aa40978ebb69ca19b0e20d]|\n",
      "|003d66b6608740288d6cc97a6903f4f0|[fafdcd668e3743c1bb461111dcafc2a4]                                                                    |\n",
      "|004b041fbfe44859945daa2c7f79ee64|[fafdcd668e3743c1bb461111dcafc2a4, f19421c1d4aa40978ebb69ca19b0e20d]                                  |\n",
      "|004c5799adbf42868b9cff0396190900|[fafdcd668e3743c1bb461111dcafc2a4, f19421c1d4aa40978ebb69ca19b0e20d]                                  |\n",
      "|0056df74b63b4298809f0b375a304cf4|[9b98b8c7a33c4b65b9aebfe6a799e6d9, 2298d6c36e964ae4a3e7e9706d1fb8c2, 0b1e1539f2cc45b7b9fa7c272da2e1d7]|\n",
      "|00715b6e55c3431cb56ff7307eb19675|[0b1e1539f2cc45b7b9fa7c272da2e1d7, ae264e3637204a6fb9bb56bc8210ddfd, 4d5c57ea9a6940dd891ad53e9dbe8da0]|\n",
      "|0082fd87c18f45f2be70dbcbb0fb8aad|[9b98b8c7a33c4b65b9aebfe6a799e6d9]                                                                    |\n",
      "|00840a2ca5d2408e982d56544dc14ffd|[9b98b8c7a33c4b65b9aebfe6a799e6d9]                                                                    |\n",
      "|0091d2b6a5ea4defaa8393e4e816db60|[0b1e1539f2cc45b7b9fa7c272da2e1d7, f19421c1d4aa40978ebb69ca19b0e20d]                                  |\n",
      "|00a794f62b9a48beb58f8f6c02c2f1a6|[f19421c1d4aa40978ebb69ca19b0e20d]                                                                    |\n",
      "|00ae03011f9f49b8a4b3e6d416678b0b|[ae264e3637204a6fb9bb56bc8210ddfd, 2298d6c36e964ae4a3e7e9706d1fb8c2]                                  |\n",
      "|00b18b535d6d4f779dea4dc9ac451478|[2298d6c36e964ae4a3e7e9706d1fb8c2]                                                                    |\n",
      "|00b3400e4ff64ee68ce9ada1d0c222f0|[ae264e3637204a6fb9bb56bc8210ddfd, fafdcd668e3743c1bb461111dcafc2a4, 0b1e1539f2cc45b7b9fa7c272da2e1d7]|\n",
      "|00b3c376db2a4115af3aef34a02f61d6|[0b1e1539f2cc45b7b9fa7c272da2e1d7, ae264e3637204a6fb9bb56bc8210ddfd, 4d5c57ea9a6940dd891ad53e9dbe8da0]|\n",
      "|00bbce6533f44ddeaf4dd32bcab55441|[9b98b8c7a33c4b65b9aebfe6a799e6d9, fafdcd668e3743c1bb461111dcafc2a4, 2906b810c7d4411798c6938adc9daaa5]|\n",
      "|00bc42a62f884b41a13cc595856cf7c3|[ae264e3637204a6fb9bb56bc8210ddfd, 2906b810c7d4411798c6938adc9daaa5]                                  |\n",
      "|00c20a9202d5475190b31a24de6fb06d|[2298d6c36e964ae4a3e7e9706d1fb8c2, f19421c1d4aa40978ebb69ca19b0e20d, 4d5c57ea9a6940dd891ad53e9dbe8da0]|\n",
      "+--------------------------------+------------------------------------------------------------------------------------------------------+\n",
      "only showing top 20 rows\n"
     ]
    }
   ],
   "source": [
    "CUTOFF_SCORE = 0.4\n",
    "\n",
    "df_recommended_offers = df_offer_score.filter(F.col(\"ranking\") <= TOP_N_RECOMMENDATIONS)\\\n",
    "                                      .filter(F.col(\"offer_score\") >= CUTOFF_SCORE)\\\n",
    "                                      .groupBy(\"client_id\").agg(F.array_sort(F.collect_list(F.struct(\"ranking\",\"offer_id\",\"offer_type\",\"offer_score\"))).alias(\"items_sorted\"))\\\n",
    "                                      .withColumn(\"recommended_offers\", F.expr(\"transform(items_sorted, x -> x.offer_id)\"))\\\n",
    "                                      .drop(\"items_sorted\")\\\n",
    "                                      .orderBy('client_id')\n",
    "df_recommended_offers.show(truncate=False)"
   ]
  },
  {
   "cell_type": "markdown",
   "id": "e46c8cd1-ff60-4b01-be61-528ebc1cbabe",
   "metadata": {},
   "source": [
    "### Gerando Recomendações Intra-Cluster"
   ]
  },
  {
   "cell_type": "code",
   "execution_count": 9,
   "id": "0c1db621-674b-4df4-99e1-d216662a84a9",
   "metadata": {
    "tags": []
   },
   "outputs": [
    {
     "name": "stdout",
     "output_type": "stream",
     "text": [
      "+--------------------+--------------------+----------------+------------------+----------------+----------+-------------------------+-------------------------+--------+--------+--------+--------+---------------+-----------------+---------------+---------------+--------------------+--------------+---------------+------------+----------+------+--------------------+--------------------+-------+\n",
      "|           client_id|            offer_id|offer_type_index|qtd_offer_received|qtd_offer_viewed|sum_reward|registered_duration_month|registered_duration_years|gender_M|gender_F|gender_O|gender_U|age_group_index|credit_card_limit|category_limite|offer_min_value|offer_discount_value|offer_duration|qtd_transaction|total_amount|avg_amount|target|            features|     features_scaled|cluster|\n",
      "+--------------------+--------------------+----------------+------------------+----------------+----------+-------------------------+-------------------------+--------+--------+--------+--------+---------------+-----------------+---------------+---------------+--------------------+--------------+---------------+------------+----------+------+--------------------+--------------------+-------+\n",
      "|0009655768c64bdeb...|2906b810c7d441179...|               0|                 1|               0|       2.0|                       99|                        8|       1|       0|       0|       0|              2|            72000|              3|             10|                   2|           7.0|              8|       127.6|     15.95|     1|[99.0,8.0,1.0,0.0...|[-0.1521442170180...|      0|\n",
      "|0009655768c64bdeb...|3f207df678b143eea...|               1|                 1|               1|       0.0|                       99|                        8|       1|       0|       0|       0|              2|            72000|              3|              0|                   0|           4.0|              8|       127.6|     15.95|     0|[99.0,8.0,1.0,0.0...|[-0.1521442170180...|      0|\n",
      "|0009655768c64bdeb...|5a8bc65990b245e5a...|               1|                 1|               1|       0.0|                       99|                        8|       1|       0|       0|       0|              2|            72000|              3|              0|                   0|           3.0|              8|       127.6|     15.95|     0|[99.0,8.0,1.0,0.0...|[-0.1521442170180...|      0|\n",
      "|0009655768c64bdeb...|f19421c1d4aa40978...|               2|                 1|               1|       5.0|                       99|                        8|       1|       0|       0|       0|              2|            72000|              3|              5|                   5|           5.0|              8|       127.6|     15.95|     1|[99.0,8.0,1.0,0.0...|[-0.1521442170180...|      0|\n",
      "|0009655768c64bdeb...|fafdcd668e3743c1b...|               0|                 1|               1|       2.0|                       99|                        8|       1|       0|       0|       0|              2|            72000|              3|             10|                   2|          10.0|              8|       127.6|     15.95|     1|[99.0,8.0,1.0,0.0...|[-0.1521442170180...|      0|\n",
      "+--------------------+--------------------+----------------+------------------+----------------+----------+-------------------------+-------------------------+--------+--------+--------+--------+---------------+-----------------+---------------+---------------+--------------------+--------------+---------------+------------+----------+------+--------------------+--------------------+-------+\n",
      "only showing top 5 rows\n"
     ]
    }
   ],
   "source": [
    "df_km_predictions.show(5)"
   ]
  },
  {
   "cell_type": "code",
   "execution_count": 10,
   "id": "39f8f0df-5c34-4f1a-a58e-143a183909c3",
   "metadata": {
    "tags": []
   },
   "outputs": [
    {
     "name": "stdout",
     "output_type": "stream",
     "text": [
      "+--------------------+-------+\n",
      "|           client_id|cluster|\n",
      "+--------------------+-------+\n",
      "|01e09d713abe4a36a...|      2|\n",
      "|03deb7cf0ebd4c788...|      4|\n",
      "|0ac73ba2449646378...|      0|\n",
      "|0ae565c6ebc5417db...|      3|\n",
      "|0b5e0b7de9bb42d9b...|      3|\n",
      "+--------------------+-------+\n",
      "only showing top 5 rows\n"
     ]
    }
   ],
   "source": [
    "df_clusters = df_km_predictions.select(\"client_id\", \"cluster\").distinct()\n",
    "df_clusters.show(5)"
   ]
  },
  {
   "cell_type": "code",
   "execution_count": 11,
   "id": "a19a6ca1-da78-413a-bce7-6822e79960a2",
   "metadata": {
    "tags": []
   },
   "outputs": [
    {
     "name": "stdout",
     "output_type": "stream",
     "text": [
      "+--------------------------------+--------------------------------+-------+\n",
      "|client_id                       |offer_id                        |cluster|\n",
      "+--------------------------------+--------------------------------+-------+\n",
      "|0222d267445f4f078bc325224e471766|2906b810c7d4411798c6938adc9daaa5|0      |\n",
      "|0251876076024444864473545adce065|2298d6c36e964ae4a3e7e9706d1fb8c2|4      |\n",
      "|03575a43a3da4691998de01fff617f99|f19421c1d4aa40978ebb69ca19b0e20d|2      |\n",
      "|036e4bedca2045afad50fda2d3b505ab|0b1e1539f2cc45b7b9fa7c272da2e1d7|0      |\n",
      "|0485b8cb0bfc4d938895bbd6d8cbd7df|2906b810c7d4411798c6938adc9daaa5|1      |\n",
      "+--------------------------------+--------------------------------+-------+\n",
      "only showing top 5 rows\n"
     ]
    }
   ],
   "source": [
    "df_cluster_offers = df_freq_bayes.select(\"client_id\", \"offer_id\").distinct()\\\n",
    "                                 .join(df_clusters, on=\"client_id\", how=\"inner\")\n",
    "df_cluster_offers.show(5, truncate=False)"
   ]
  },
  {
   "cell_type": "code",
   "execution_count": 12,
   "id": "5df13196-c3cd-4bbf-b3fe-680e93e91b98",
   "metadata": {
    "tags": []
   },
   "outputs": [
    {
     "name": "stdout",
     "output_type": "stream",
     "text": [
      "+-------+--------------------------------+------------+\n",
      "|cluster|offer_id                        |qtd_clientes|\n",
      "+-------+--------------------------------+------------+\n",
      "|1      |fafdcd668e3743c1bb461111dcafc2a4|780         |\n",
      "|0      |2906b810c7d4411798c6938adc9daaa5|1860        |\n",
      "|3      |fafdcd668e3743c1bb461111dcafc2a4|1292        |\n",
      "|0      |f19421c1d4aa40978ebb69ca19b0e20d|1864        |\n",
      "|1      |3f207df678b143eea3cee63160fa8bed|800         |\n",
      "+-------+--------------------------------+------------+\n",
      "only showing top 5 rows\n"
     ]
    }
   ],
   "source": [
    "df_cluster_popular = df_cluster_offers.groupBy(\"cluster\", \"offer_id\").count()\\\n",
    "                                      .withColumnRenamed(\"count\", \"qtd_clientes\")\n",
    "df_cluster_popular.show(5, truncate=False)"
   ]
  },
  {
   "cell_type": "code",
   "execution_count": 13,
   "id": "c14e2381-1175-4996-b140-edb34897c96d",
   "metadata": {
    "tags": []
   },
   "outputs": [
    {
     "name": "stdout",
     "output_type": "stream",
     "text": [
      "+--------------------------------+--------------------------------+-------+------------+-------+\n",
      "|client_id                       |offer_id                        |cluster|qtd_clientes|ranking|\n",
      "+--------------------------------+--------------------------------+-------+------------+-------+\n",
      "|0009655768c64bdeb2e877511632db8f|9b98b8c7a33c4b65b9aebfe6a799e6d9|0      |1900        |1      |\n",
      "|0009655768c64bdeb2e877511632db8f|0b1e1539f2cc45b7b9fa7c272da2e1d7|0      |1898        |2      |\n",
      "|0009655768c64bdeb2e877511632db8f|4d5c57ea9a6940dd891ad53e9dbe8da0|0      |1885        |3      |\n",
      "|00116118485d4dfda04fdbaba9a87b5c|2298d6c36e964ae4a3e7e9706d1fb8c2|1      |812         |1      |\n",
      "|00116118485d4dfda04fdbaba9a87b5c|4d5c57ea9a6940dd891ad53e9dbe8da0|1      |812         |2      |\n",
      "|00116118485d4dfda04fdbaba9a87b5c|9b98b8c7a33c4b65b9aebfe6a799e6d9|1      |808         |3      |\n",
      "|0011e0d4e6b944f998e987f904e8c1e5|fafdcd668e3743c1bb461111dcafc2a4|0      |1895        |1      |\n",
      "|0011e0d4e6b944f998e987f904e8c1e5|4d5c57ea9a6940dd891ad53e9dbe8da0|0      |1885        |2      |\n",
      "|0011e0d4e6b944f998e987f904e8c1e5|f19421c1d4aa40978ebb69ca19b0e20d|0      |1864        |3      |\n",
      "|0020c2b971eb4e9188eac86d93036a77|0b1e1539f2cc45b7b9fa7c272da2e1d7|2      |1293        |1      |\n",
      "|0020c2b971eb4e9188eac86d93036a77|2298d6c36e964ae4a3e7e9706d1fb8c2|2      |1285        |2      |\n",
      "|0020c2b971eb4e9188eac86d93036a77|2906b810c7d4411798c6938adc9daaa5|2      |1276        |3      |\n",
      "|0020ccbbb6d84e358d3414a3ff76cffd|0b1e1539f2cc45b7b9fa7c272da2e1d7|3      |1400        |1      |\n",
      "|0020ccbbb6d84e358d3414a3ff76cffd|3f207df678b143eea3cee63160fa8bed|3      |1387        |2      |\n",
      "|0020ccbbb6d84e358d3414a3ff76cffd|2906b810c7d4411798c6938adc9daaa5|3      |1333        |3      |\n",
      "|003d66b6608740288d6cc97a6903f4f0|9b98b8c7a33c4b65b9aebfe6a799e6d9|3      |1363        |1      |\n",
      "|003d66b6608740288d6cc97a6903f4f0|2906b810c7d4411798c6938adc9daaa5|3      |1333        |2      |\n",
      "|003d66b6608740288d6cc97a6903f4f0|4d5c57ea9a6940dd891ad53e9dbe8da0|3      |1323        |3      |\n",
      "|00426fe3ffde4c6b9cb9ad6d077a13ea|3f207df678b143eea3cee63160fa8bed|3      |1387        |1      |\n",
      "|00426fe3ffde4c6b9cb9ad6d077a13ea|9b98b8c7a33c4b65b9aebfe6a799e6d9|3      |1363        |2      |\n",
      "+--------------------------------+--------------------------------+-------+------------+-------+\n",
      "only showing top 20 rows\n"
     ]
    }
   ],
   "source": [
    "recs_cluster = df_clusters.join(df_cluster_popular, on=\"cluster\", how=\"inner\")\\\n",
    "                          .join(df_freq_bayes.select(\"client_id\", \"offer_id\").distinct(), on=[\"client_id\", \"offer_id\"], how=\"left_anti\")\\\n",
    "                          .withColumn(\"ranking\", F.row_number().over(Window.partitionBy(\"client_id\")\\\n",
    "                                                                           .orderBy(F.col(\"qtd_clientes\").desc())))\\\n",
    "                          .distinct().orderBy('client_id', \"cluster\", F.desc(\"qtd_clientes\"))\\\n",
    "                          .filter(F.col(\"ranking\") <= TOP_N_CLUSTER_RECOMMENDATIONS)\n",
    "recs_cluster.show(truncate=False)"
   ]
  },
  {
   "cell_type": "code",
   "execution_count": 14,
   "id": "9f2116f0-ed65-42bd-a1ce-aba9a1239368",
   "metadata": {
    "tags": []
   },
   "outputs": [
    {
     "name": "stdout",
     "output_type": "stream",
     "text": [
      "+--------------------------------+------------------------------------------------------------------------------------------------------+\n",
      "|client_id                       |recommended_cluster_offers                                                                            |\n",
      "+--------------------------------+------------------------------------------------------------------------------------------------------+\n",
      "|0009655768c64bdeb2e877511632db8f|[9b98b8c7a33c4b65b9aebfe6a799e6d9, 0b1e1539f2cc45b7b9fa7c272da2e1d7, 4d5c57ea9a6940dd891ad53e9dbe8da0]|\n",
      "|00116118485d4dfda04fdbaba9a87b5c|[2298d6c36e964ae4a3e7e9706d1fb8c2, 4d5c57ea9a6940dd891ad53e9dbe8da0, 9b98b8c7a33c4b65b9aebfe6a799e6d9]|\n",
      "|0011e0d4e6b944f998e987f904e8c1e5|[fafdcd668e3743c1bb461111dcafc2a4, 4d5c57ea9a6940dd891ad53e9dbe8da0, f19421c1d4aa40978ebb69ca19b0e20d]|\n",
      "|0020c2b971eb4e9188eac86d93036a77|[0b1e1539f2cc45b7b9fa7c272da2e1d7, 2298d6c36e964ae4a3e7e9706d1fb8c2, 2906b810c7d4411798c6938adc9daaa5]|\n",
      "|0020ccbbb6d84e358d3414a3ff76cffd|[0b1e1539f2cc45b7b9fa7c272da2e1d7, 3f207df678b143eea3cee63160fa8bed, 2906b810c7d4411798c6938adc9daaa5]|\n",
      "|003d66b6608740288d6cc97a6903f4f0|[9b98b8c7a33c4b65b9aebfe6a799e6d9, 2906b810c7d4411798c6938adc9daaa5, 4d5c57ea9a6940dd891ad53e9dbe8da0]|\n",
      "|00426fe3ffde4c6b9cb9ad6d077a13ea|[3f207df678b143eea3cee63160fa8bed, 9b98b8c7a33c4b65b9aebfe6a799e6d9, 4d5c57ea9a6940dd891ad53e9dbe8da0]|\n",
      "|004b041fbfe44859945daa2c7f79ee64|[0b1e1539f2cc45b7b9fa7c272da2e1d7, 9b98b8c7a33c4b65b9aebfe6a799e6d9, 5a8bc65990b245e5a138643cd4eb9837]|\n",
      "|004c5799adbf42868b9cff0396190900|[5a8bc65990b245e5a138643cd4eb9837, 0b1e1539f2cc45b7b9fa7c272da2e1d7, 2298d6c36e964ae4a3e7e9706d1fb8c2]|\n",
      "|005500a7188546ff8a767329a2f7c76a|[3f207df678b143eea3cee63160fa8bed, 0b1e1539f2cc45b7b9fa7c272da2e1d7, fafdcd668e3743c1bb461111dcafc2a4]|\n",
      "|0056df74b63b4298809f0b375a304cf4|[ae264e3637204a6fb9bb56bc8210ddfd, 5a8bc65990b245e5a138643cd4eb9837, fafdcd668e3743c1bb461111dcafc2a4]|\n",
      "|0063def0f9c14bc4805322a488839b32|[4d5c57ea9a6940dd891ad53e9dbe8da0, f19421c1d4aa40978ebb69ca19b0e20d, 3f207df678b143eea3cee63160fa8bed]|\n",
      "|0069a50874d846438e58acff5e594725|[2298d6c36e964ae4a3e7e9706d1fb8c2, 4d5c57ea9a6940dd891ad53e9dbe8da0, 9b98b8c7a33c4b65b9aebfe6a799e6d9]|\n",
      "|00715b6e55c3431cb56ff7307eb19675|[5a8bc65990b245e5a138643cd4eb9837, fafdcd668e3743c1bb461111dcafc2a4, 2298d6c36e964ae4a3e7e9706d1fb8c2]|\n",
      "|0082fd87c18f45f2be70dbcbb0fb8aad|[0b1e1539f2cc45b7b9fa7c272da2e1d7, 2906b810c7d4411798c6938adc9daaa5, 4d5c57ea9a6940dd891ad53e9dbe8da0]|\n",
      "|00840a2ca5d2408e982d56544dc14ffd|[ae264e3637204a6fb9bb56bc8210ddfd, 4d5c57ea9a6940dd891ad53e9dbe8da0, 2298d6c36e964ae4a3e7e9706d1fb8c2]|\n",
      "|00857b24b13f4fe0ad17b605f00357f5|[3f207df678b143eea3cee63160fa8bed, fafdcd668e3743c1bb461111dcafc2a4, 5a8bc65990b245e5a138643cd4eb9837]|\n",
      "|008d7088107b468893889da0ede0df5c|[3f207df678b143eea3cee63160fa8bed, 9b98b8c7a33c4b65b9aebfe6a799e6d9, 0b1e1539f2cc45b7b9fa7c272da2e1d7]|\n",
      "|0091d2b6a5ea4defaa8393e4e816db60|[ae264e3637204a6fb9bb56bc8210ddfd, 5a8bc65990b245e5a138643cd4eb9837, fafdcd668e3743c1bb461111dcafc2a4]|\n",
      "|0092a132ead946ceb30d11a1ed513d20|[4d5c57ea9a6940dd891ad53e9dbe8da0, 3f207df678b143eea3cee63160fa8bed, fafdcd668e3743c1bb461111dcafc2a4]|\n",
      "+--------------------------------+------------------------------------------------------------------------------------------------------+\n",
      "only showing top 20 rows\n"
     ]
    }
   ],
   "source": [
    "df_recommended_cluster_offers = recs_cluster.join(df_offer_score.select(\"client_id\", \"offer_id\").distinct(), on=[\"client_id\", \"offer_id\"], how=\"left_anti\")\\\n",
    "                                            .groupBy(\"client_id\").agg(F.array_sort(F.collect_list(F.struct(\"ranking\",\"offer_id\"))).alias(\"cluster_offer_sorted\"))\\\n",
    "                                            .withColumn(\"recommended_cluster_offers\", F.expr(\"transform(cluster_offer_sorted, x -> x.offer_id)\"))\\\n",
    "                                            .drop(\"cluster_offer_sorted\")\\\n",
    "                                            .orderBy('client_id')\n",
    "df_recommended_cluster_offers.show(truncate=False)"
   ]
  },
  {
   "cell_type": "markdown",
   "id": "6ca1df4f-4fc9-4858-8a98-5b0c717a8e9c",
   "metadata": {},
   "source": [
    "### Pegando as Top Ofertas mais adiquiridas pelos clientes por tipo de oferta e recomendando para complementar o pacote de recomendações"
   ]
  },
  {
   "cell_type": "code",
   "execution_count": 15,
   "id": "cf3a8255-1adb-411b-abd4-e6a3ea3694be",
   "metadata": {
    "tags": []
   },
   "outputs": [
    {
     "name": "stdout",
     "output_type": "stream",
     "text": [
      "+--------------------+-------------+--------------------+-------------------+----------------+----------+\n",
      "|           client_id|   offer_type|            offer_id|qtd_offer_completed|offer_type_count|freq_bayes|\n",
      "+--------------------+-------------+--------------------+-------------------+----------------+----------+\n",
      "|0009655768c64bdeb...|     discount|2906b810c7d441179...|                  1|               2|       0.5|\n",
      "|0009655768c64bdeb...|informational|3f207df678b143eea...|                  0|               2|       0.0|\n",
      "|0009655768c64bdeb...|informational|5a8bc65990b245e5a...|                  0|               2|       0.0|\n",
      "|0009655768c64bdeb...|         bogo|f19421c1d4aa40978...|                  1|               1|       1.0|\n",
      "|0009655768c64bdeb...|     discount|fafdcd668e3743c1b...|                  1|               2|       0.5|\n",
      "+--------------------+-------------+--------------------+-------------------+----------------+----------+\n",
      "only showing top 5 rows\n"
     ]
    }
   ],
   "source": [
    "df_freq_bayes.show(5)"
   ]
  },
  {
   "cell_type": "code",
   "execution_count": 16,
   "id": "40ed3363-8498-4d45-aff2-14340bef9133",
   "metadata": {
    "tags": []
   },
   "outputs": [
    {
     "name": "stdout",
     "output_type": "stream",
     "text": [
      "+--------------------------------+----------+-------------------+-------+\n",
      "|offer_id                        |offer_type|qtd_offer_completed|ranking|\n",
      "+--------------------------------+----------+-------------------+-------+\n",
      "|9b98b8c7a33c4b65b9aebfe6a799e6d9|bogo      |4354               |1      |\n",
      "|f19421c1d4aa40978ebb69ca19b0e20d|bogo      |4296               |2      |\n",
      "|fafdcd668e3743c1bb461111dcafc2a4|discount  |5317               |1      |\n",
      "|2298d6c36e964ae4a3e7e9706d1fb8c2|discount  |5156               |2      |\n",
      "+--------------------------------+----------+-------------------+-------+\n",
      "\n"
     ]
    }
   ],
   "source": [
    "popular_offers = df_freq_bayes.groupBy(\"offer_id\", \"offer_type\").agg(F.sum(\"qtd_offer_completed\").alias(\"qtd_offer_completed\"))\\\n",
    "                              .filter(\"qtd_offer_completed > 0\")\\\n",
    "                              .withColumn(\"ranking\", F.row_number().over(Window.partitionBy(\"offer_type\")\\\n",
    "                                                                               .orderBy(F.col(\"qtd_offer_completed\").desc())))\\\n",
    "                              .filter(F.col(\"ranking\") <= TOP_N_OFFERS)\n",
    "\n",
    "popular_offers.show(truncate=False)"
   ]
  },
  {
   "cell_type": "code",
   "execution_count": 17,
   "id": "7aa8917d-1f42-4e28-8ab1-505d0a9fe776",
   "metadata": {
    "tags": []
   },
   "outputs": [
    {
     "name": "stdout",
     "output_type": "stream",
     "text": [
      "+----------+--------------------------------+--------------------------------+-------+\n",
      "|offer_type|client_id                       |offer_id                        |ranking|\n",
      "+----------+--------------------------------+--------------------------------+-------+\n",
      "|bogo      |0009655768c64bdeb2e877511632db8f|f19421c1d4aa40978ebb69ca19b0e20d|2      |\n",
      "|bogo      |0009655768c64bdeb2e877511632db8f|9b98b8c7a33c4b65b9aebfe6a799e6d9|1      |\n",
      "|discount  |0009655768c64bdeb2e877511632db8f|fafdcd668e3743c1bb461111dcafc2a4|1      |\n",
      "|discount  |0009655768c64bdeb2e877511632db8f|2298d6c36e964ae4a3e7e9706d1fb8c2|2      |\n",
      "|discount  |0020c2b971eb4e9188eac86d93036a77|fafdcd668e3743c1bb461111dcafc2a4|1      |\n",
      "+----------+--------------------------------+--------------------------------+-------+\n",
      "only showing top 5 rows\n"
     ]
    }
   ],
   "source": [
    "recs_popular_offers = df_offer_score.filter(F.col(\"y_proba_class1\") >= THRESH)\\\n",
    "                                    .select(\"client_id\", \"offer_type\").distinct()\\\n",
    "                                    .join(popular_offers.select(\"offer_id\", \"offer_type\", \"ranking\"), on='offer_type', how=\"inner\")\\\n",
    "                                    .orderBy('client_id')\n",
    "\n",
    "recs_popular_offers.show(5, truncate=False)"
   ]
  },
  {
   "cell_type": "code",
   "execution_count": 18,
   "id": "d07aa439-e3f1-4edf-bcfb-fc672761e088",
   "metadata": {
    "tags": []
   },
   "outputs": [
    {
     "name": "stdout",
     "output_type": "stream",
     "text": [
      "+--------------------------------+--------------------------------------------------------------------+\n",
      "|client_id                       |recommended_popular_offers                                          |\n",
      "+--------------------------------+--------------------------------------------------------------------+\n",
      "|0009655768c64bdeb2e877511632db8f|[2298d6c36e964ae4a3e7e9706d1fb8c2]                                  |\n",
      "|0020c2b971eb4e9188eac86d93036a77|[9b98b8c7a33c4b65b9aebfe6a799e6d9, f19421c1d4aa40978ebb69ca19b0e20d]|\n",
      "|0020ccbbb6d84e358d3414a3ff76cffd|[fafdcd668e3743c1bb461111dcafc2a4]                                  |\n",
      "|004c5799adbf42868b9cff0396190900|[9b98b8c7a33c4b65b9aebfe6a799e6d9]                                  |\n",
      "|00715b6e55c3431cb56ff7307eb19675|[9b98b8c7a33c4b65b9aebfe6a799e6d9, f19421c1d4aa40978ebb69ca19b0e20d]|\n",
      "|0091d2b6a5ea4defaa8393e4e816db60|[9b98b8c7a33c4b65b9aebfe6a799e6d9, 2298d6c36e964ae4a3e7e9706d1fb8c2]|\n",
      "|00ae03011f9f49b8a4b3e6d416678b0b|[9b98b8c7a33c4b65b9aebfe6a799e6d9, f19421c1d4aa40978ebb69ca19b0e20d]|\n",
      "|00b3400e4ff64ee68ce9ada1d0c222f0|[f19421c1d4aa40978ebb69ca19b0e20d]                                  |\n",
      "|00b3c376db2a4115af3aef34a02f61d6|[9b98b8c7a33c4b65b9aebfe6a799e6d9, f19421c1d4aa40978ebb69ca19b0e20d]|\n",
      "|00c20a9202d5475190b31a24de6fb06d|[9b98b8c7a33c4b65b9aebfe6a799e6d9]                                  |\n",
      "|00c6035df45840038a72766c6d27a0db|[9b98b8c7a33c4b65b9aebfe6a799e6d9, f19421c1d4aa40978ebb69ca19b0e20d]|\n",
      "|00d6dc87be4146ceb47fcd4baaaf6477|[2298d6c36e964ae4a3e7e9706d1fb8c2]                                  |\n",
      "|00d7c95f793a4212af44e632fdc1e431|[2298d6c36e964ae4a3e7e9706d1fb8c2, f19421c1d4aa40978ebb69ca19b0e20d]|\n",
      "|00ed7e22b32749cfafbfd88592d401d4|[f19421c1d4aa40978ebb69ca19b0e20d]                                  |\n",
      "|00fac72fd6ad448e8019b175267023df|[2298d6c36e964ae4a3e7e9706d1fb8c2, f19421c1d4aa40978ebb69ca19b0e20d]|\n",
      "|0103de989e084e0fab400e80678d7591|[9b98b8c7a33c4b65b9aebfe6a799e6d9]                                  |\n",
      "|01162252405b4524a8fa1bf8e6d5f04b|[fafdcd668e3743c1bb461111dcafc2a4]                                  |\n",
      "|013f2c82889f4641a9b847a48861cce0|[2298d6c36e964ae4a3e7e9706d1fb8c2]                                  |\n",
      "|014899c751254a62a96ce676eb11ddc2|[9b98b8c7a33c4b65b9aebfe6a799e6d9, f19421c1d4aa40978ebb69ca19b0e20d]|\n",
      "|0157e63b39c5456393026c6c03f3d84a|[fafdcd668e3743c1bb461111dcafc2a4, 2298d6c36e964ae4a3e7e9706d1fb8c2]|\n",
      "+--------------------------------+--------------------------------------------------------------------+\n",
      "only showing top 20 rows\n"
     ]
    }
   ],
   "source": [
    "df_recommended_popular_offers = recs_popular_offers.join(df_offer_score.select(\"client_id\", \"offer_id\").distinct(), on=[\"client_id\", \"offer_id\"], how=\"left_anti\")\\\n",
    "                                                   .join(recs_cluster.select(\"client_id\", \"offer_id\").distinct(), on=[\"client_id\", \"offer_id\"], how=\"left_anti\")\\\n",
    "                                                   .groupBy(\"client_id\").agg(F.array_sort(F.collect_list(F.struct(\"ranking\",\"offer_id\"))).alias(\"popular_offer_sorted\"))\\\n",
    "                                                   .withColumn(\"recommended_popular_offers\", F.expr(\"transform(popular_offer_sorted, x -> x.offer_id)\"))\\\n",
    "                                                   .drop(\"popular_offer_sorted\")\\\n",
    "                                                   .orderBy('client_id')\n",
    "\n",
    "df_recommended_popular_offers.show(truncate=False)"
   ]
  },
  {
   "cell_type": "markdown",
   "id": "b67e9df8-81c3-4bbf-9aea-d39c496f81a5",
   "metadata": {},
   "source": [
    "### Juntando recomendações vindas dos Scores, com recomendações de popularidade e Recomendações IntraCluster"
   ]
  },
  {
   "cell_type": "code",
   "execution_count": 19,
   "id": "0ad62d53-41f9-47f6-ac43-f49840ce2f07",
   "metadata": {
    "tags": []
   },
   "outputs": [
    {
     "name": "stdout",
     "output_type": "stream",
     "text": [
      "+--------------------+--------------------+--------------------------+--------------------------+\n",
      "|           client_id|  recommended_offers|recommended_cluster_offers|recommended_popular_offers|\n",
      "+--------------------+--------------------+--------------------------+--------------------------+\n",
      "|0009655768c64bdeb...|[f19421c1d4aa4097...|      [9b98b8c7a33c4b65...|      [2298d6c36e964ae4...|\n",
      "|00116118485d4dfda...|                  []|      [2298d6c36e964ae4...|                        []|\n",
      "|0011e0d4e6b944f99...|[9b98b8c7a33c4b65...|      [fafdcd668e3743c1...|                        []|\n",
      "|0020c2b971eb4e918...|[fafdcd668e3743c1...|      [0b1e1539f2cc45b7...|      [9b98b8c7a33c4b65...|\n",
      "|0020ccbbb6d84e358...|[2298d6c36e964ae4...|      [0b1e1539f2cc45b7...|      [fafdcd668e3743c1...|\n",
      "|003d66b6608740288...|[fafdcd668e3743c1...|      [9b98b8c7a33c4b65...|                        []|\n",
      "|00426fe3ffde4c6b9...|                  []|      [3f207df678b143ee...|                        []|\n",
      "|004b041fbfe448599...|[fafdcd668e3743c1...|      [0b1e1539f2cc45b7...|                        []|\n",
      "|004c5799adbf42868...|[fafdcd668e3743c1...|      [5a8bc65990b245e5...|      [9b98b8c7a33c4b65...|\n",
      "|005500a7188546ff8...|                  []|      [3f207df678b143ee...|                        []|\n",
      "|0056df74b63b42988...|[9b98b8c7a33c4b65...|      [ae264e3637204a6f...|                        []|\n",
      "|0063def0f9c14bc48...|                  []|      [4d5c57ea9a6940dd...|                        []|\n",
      "|0069a50874d846438...|                  []|      [2298d6c36e964ae4...|                        []|\n",
      "|00715b6e55c3431cb...|[0b1e1539f2cc45b7...|      [5a8bc65990b245e5...|      [9b98b8c7a33c4b65...|\n",
      "|0082fd87c18f45f2b...|[9b98b8c7a33c4b65...|      [0b1e1539f2cc45b7...|                        []|\n",
      "|00840a2ca5d2408e9...|[9b98b8c7a33c4b65...|      [ae264e3637204a6f...|                        []|\n",
      "|00857b24b13f4fe0a...|                  []|      [3f207df678b143ee...|                        []|\n",
      "|008d7088107b46889...|                  []|      [3f207df678b143ee...|                        []|\n",
      "|0091d2b6a5ea4defa...|[0b1e1539f2cc45b7...|      [ae264e3637204a6f...|      [9b98b8c7a33c4b65...|\n",
      "|0092a132ead946ceb...|                  []|      [4d5c57ea9a6940dd...|                        []|\n",
      "+--------------------+--------------------+--------------------------+--------------------------+\n",
      "only showing top 20 rows\n"
     ]
    }
   ],
   "source": [
    "df_allocation = df_freq_bayes.select('client_id').distinct()\\\n",
    "                             .join(df_recommended_offers, on='client_id', how='left')\\\n",
    "                             .join(df_recommended_cluster_offers, on='client_id', how='left')\\\n",
    "                             .join(df_recommended_popular_offers, on='client_id', how='left')\\\n",
    "                             .withColumn(\"recommended_offers\", F.coalesce(F.col(\"recommended_offers\"), F.array().cast(T.ArrayType(T.StringType()))))\\\n",
    "                             .withColumn(\"recommended_popular_offers\", F.coalesce(F.col(\"recommended_popular_offers\"), F.array().cast(T.ArrayType(T.StringType()))))\\\n",
    "                             .withColumn(\"recommended_cluster_offers\", F.coalesce(F.col(\"recommended_cluster_offers\"), F.array().cast(T.ArrayType(T.StringType()))))\\\n",
    "                             .orderBy('client_id')\n",
    "df_allocation.show()"
   ]
  },
  {
   "cell_type": "code",
   "execution_count": 20,
   "id": "f2c250e1-5397-4fd6-9777-b8888a688402",
   "metadata": {
    "tags": []
   },
   "outputs": [
    {
     "name": "stdout",
     "output_type": "stream",
     "text": [
      "Clientes recebendo recomendação de algum nivel: 16994\n",
      "Clientes recebendo recomendação pelo offer_score: 8674\n",
      "Clientes recebendo recomendação pelo Cluster: 16994\n",
      "Clientes recebendo recomendação pela Popularidade da Oferta: 3496\n"
     ]
    }
   ],
   "source": [
    "print(f\"Clientes recebendo recomendação de algum nivel: {df_allocation.select('client_id').distinct().count()}\")\n",
    "print(f\"Clientes recebendo recomendação pelo offer_score: {df_allocation.filter(F.size(F.col(\"recommended_offers\")) != 0).count()}\")\n",
    "print(f\"Clientes recebendo recomendação pelo Cluster: {df_allocation.filter(F.size(F.col(\"recommended_cluster_offers\")) != 0).count()}\")\n",
    "print(f\"Clientes recebendo recomendação pela Popularidade da Oferta: {df_allocation.filter(F.size(F.col(\"recommended_popular_offers\")) != 0).count()}\")"
   ]
  },
  {
   "cell_type": "code",
   "execution_count": 21,
   "id": "9c1a7ba2-fda7-401d-975c-5b5c02abe295",
   "metadata": {
    "tags": []
   },
   "outputs": [],
   "source": [
    "df_allocation.write.format(\"parquet\").mode(\"overwrite\").save(path_output_allocation)"
   ]
  },
  {
   "cell_type": "code",
   "execution_count": null,
   "id": "5757e545-6187-403f-a1b9-963cfe3fea37",
   "metadata": {},
   "outputs": [],
   "source": []
  }
 ],
 "metadata": {
  "kernelspec": {
   "display_name": "Python 3 (ipykernel)",
   "language": "python",
   "name": "python3"
  },
  "language_info": {
   "codemirror_mode": {
    "name": "ipython",
    "version": 3
   },
   "file_extension": ".py",
   "mimetype": "text/x-python",
   "name": "python",
   "nbconvert_exporter": "python",
   "pygments_lexer": "ipython3",
   "version": "3.12.11"
  }
 },
 "nbformat": 4,
 "nbformat_minor": 5
}
