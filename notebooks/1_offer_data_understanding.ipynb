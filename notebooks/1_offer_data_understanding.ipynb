{
 "cells": [
  {
   "cell_type": "markdown",
   "metadata": {},
   "source": [
    "# *Etapa 1: Engenharia de Features (offers.json)*\n",
    "\n",
    "Ao término do processamento, devemos ter as seguintes variáveis:\n",
    "\n",
    "* ``offer_id``: código de identificação da oferta    \n",
    "* ``offer_type``: o tipo da oferta (BOGO, discount, informational)\n",
    "* ``offer_min_value``: valor mínimo para ativação da oferta\n",
    "* ``offer_discount_value``: valor do desconto da oferta\n",
    "* ``offer_duration``: duração da oferta\n",
    "* ``channel_mobile``: variável dummy para indicar a veiculação da oferta em 'mobile'\n",
    "* ``channel_email``: variável dummy para indicar a veiculação da oferta em 'email'\n",
    "* ``channel_social``: variável dummy para indicar a veiculação da oferta em 'social'\n",
    "* ``channel_web``: variável dummy para indicar a veiculação da oferta em 'web'\n",
    "* ``offer_type_index``: um código para o tipo de oferta"
   ]
  },
  {
   "cell_type": "code",
   "execution_count": 1,
   "metadata": {},
   "outputs": [
    {
     "name": "stderr",
     "output_type": "stream",
     "text": [
      "WARNING: Using incubator modules: jdk.incubator.vector\n",
      "Using Spark's default log4j profile: org/apache/spark/log4j2-defaults.properties\n",
      "25/08/11 00:21:52 WARN Utils: Your hostname, N0L144853, resolves to a loopback address: 127.0.1.1; using 192.168.68.107 instead (on interface wlp0s20f3)\n",
      "25/08/11 00:21:52 WARN Utils: Set SPARK_LOCAL_IP if you need to bind to another address\n",
      "Using Spark's default log4j profile: org/apache/spark/log4j2-defaults.properties\n",
      "Setting default log level to \"WARN\".\n",
      "To adjust logging level use sc.setLogLevel(newLevel). For SparkR, use setLogLevel(newLevel).\n",
      "25/08/11 00:21:52 WARN NativeCodeLoader: Unable to load native-hadoop library for your platform... using builtin-java classes where applicable\n"
     ]
    }
   ],
   "source": [
    "from pyspark.sql import SparkSession\n",
    "spark = SparkSession.builder.appName('PySparkTest').getOrCreate()"
   ]
  },
  {
   "cell_type": "code",
   "execution_count": 2,
   "metadata": {
    "application/vnd.databricks.v1+cell": {
     "cellMetadata": {
      "byteLimit": 2048000,
      "rowLimit": 10000
     },
     "inputWidgets": {},
     "nuid": "ae2e1408-61af-4401-a7ab-d180a0c18621",
     "showTitle": false,
     "tableResultSettingsMap": {},
     "title": ""
    }
   },
   "outputs": [],
   "source": [
    "from pyspark.sql import functions as F\n",
    "from pyspark.sql import types as T"
   ]
  },
  {
   "cell_type": "markdown",
   "metadata": {
    "application/vnd.databricks.v1+cell": {
     "cellMetadata": {
      "byteLimit": 2048000,
      "rowLimit": 10000
     },
     "inputWidgets": {},
     "nuid": "25c9c328-e0a4-4916-92ac-1890cf2a8a98",
     "showTitle": false,
     "tableResultSettingsMap": {},
     "title": ""
    }
   },
   "source": [
    "# Read Files"
   ]
  },
  {
   "cell_type": "code",
   "execution_count": 3,
   "metadata": {
    "application/vnd.databricks.v1+cell": {
     "cellMetadata": {
      "byteLimit": 2048000,
      "rowLimit": 10000
     },
     "inputWidgets": {},
     "nuid": "9edc9f75-957d-4618-a743-aa60e1e154a7",
     "showTitle": false,
     "tableResultSettingsMap": {},
     "title": ""
    }
   },
   "outputs": [
    {
     "name": "stdout",
     "output_type": "stream",
     "text": [
      "+--------------------------------+-------------+---------+--------------+--------+----------------------------+\n",
      "|id                              |offer_type   |min_value|discount_value|duration|channels                    |\n",
      "+--------------------------------+-------------+---------+--------------+--------+----------------------------+\n",
      "|ae264e3637204a6fb9bb56bc8210ddfd|bogo         |10       |10            |7.0     |[email, mobile, social]     |\n",
      "|4d5c57ea9a6940dd891ad53e9dbe8da0|bogo         |10       |10            |5.0     |[web, email, mobile, social]|\n",
      "|3f207df678b143eea3cee63160fa8bed|informational|0        |0             |4.0     |[web, email, mobile]        |\n",
      "|9b98b8c7a33c4b65b9aebfe6a799e6d9|bogo         |5        |5             |7.0     |[web, email, mobile]        |\n",
      "|0b1e1539f2cc45b7b9fa7c272da2e1d7|discount     |20       |5             |10.0    |[web, email]                |\n",
      "+--------------------------------+-------------+---------+--------------+--------+----------------------------+\n",
      "only showing top 5 rows\n"
     ]
    }
   ],
   "source": [
    "path_json = \"../data/raw/offers.json\"\n",
    "output_table = \"../data/trusted/offers\"\n",
    "\n",
    "schema = T.StructType([\n",
    "    T.StructField(\"id\", T.StringType(), True),\n",
    "    T.StructField(\"offer_type\", T.StringType(), True),\n",
    "    T.StructField(\"min_value\", T.IntegerType(), True),\n",
    "    T.StructField(\"discount_value\", T.IntegerType(), True),\n",
    "    T.StructField(\"duration\", T.DoubleType(), True),\n",
    "    T.StructField(\"channels\", T.ArrayType(T.StringType()), True),\n",
    "])\n",
    "\n",
    "df_offers = spark.read.schema(schema).json(path_json)\n",
    "df_offers.show(5, truncate=False)"
   ]
  },
  {
   "cell_type": "code",
   "execution_count": 4,
   "metadata": {
    "application/vnd.databricks.v1+cell": {
     "cellMetadata": {
      "byteLimit": 2048000,
      "rowLimit": 10000
     },
     "inputWidgets": {},
     "nuid": "3faf1685-1fc7-4e2e-9d96-b4cf20e28697",
     "showTitle": false,
     "tableResultSettingsMap": {},
     "title": ""
    }
   },
   "outputs": [
    {
     "name": "stdout",
     "output_type": "stream",
     "text": [
      "+-------+-----------------+-----------------+------------------+\n",
      "|summary|        min_value|   discount_value|          duration|\n",
      "+-------+-----------------+-----------------+------------------+\n",
      "|  count|               10|               10|                10|\n",
      "|   mean|              7.7|              4.2|               6.5|\n",
      "| stddev|5.831904586934796|3.583914681524163|2.3213980461973533|\n",
      "|    min|                0|                0|               3.0|\n",
      "|    max|               20|               10|              10.0|\n",
      "+-------+-----------------+-----------------+------------------+\n",
      "\n"
     ]
    }
   ],
   "source": [
    "df_offers.describe(['min_value', 'discount_value', 'duration']).show()"
   ]
  },
  {
   "cell_type": "code",
   "execution_count": 5,
   "metadata": {
    "application/vnd.databricks.v1+cell": {
     "cellMetadata": {
      "byteLimit": 2048000,
      "rowLimit": 10000
     },
     "inputWidgets": {},
     "nuid": "3e4be1db-ce7b-4719-92e9-8eb465d54b8c",
     "showTitle": false,
     "tableResultSettingsMap": {},
     "title": ""
    }
   },
   "outputs": [
    {
     "name": "stdout",
     "output_type": "stream",
     "text": [
      "+---+----------+---------+--------------+--------+--------+\n",
      "| id|offer_type|min_value|discount_value|duration|channels|\n",
      "+---+----------+---------+--------------+--------+--------+\n",
      "|  0|         0|        0|             0|       0|       0|\n",
      "+---+----------+---------+--------------+--------+--------+\n",
      "\n"
     ]
    }
   ],
   "source": [
    "df_offers.select([F.count(F.when(F.col(c).isNull(), c)).alias(c) for c in df_offers.columns]).show()"
   ]
  },
  {
   "cell_type": "markdown",
   "metadata": {
    "application/vnd.databricks.v1+cell": {
     "cellMetadata": {
      "byteLimit": 2048000,
      "rowLimit": 10000
     },
     "inputWidgets": {},
     "nuid": "fe429eb6-3a01-4f0f-a0b7-3589efe8aac5",
     "showTitle": false,
     "tableResultSettingsMap": {},
     "title": ""
    }
   },
   "source": [
    "# Data Understanding"
   ]
  },
  {
   "cell_type": "code",
   "execution_count": 6,
   "metadata": {
    "application/vnd.databricks.v1+cell": {
     "cellMetadata": {
      "byteLimit": 2048000,
      "rowLimit": 10000
     },
     "inputWidgets": {},
     "nuid": "32f8915c-5b8b-42b0-92e8-153671eb3c2b",
     "showTitle": false,
     "tableResultSettingsMap": {},
     "title": ""
    }
   },
   "outputs": [
    {
     "name": "stdout",
     "output_type": "stream",
     "text": [
      "+-------------+-----+\n",
      "|   offer_type|count|\n",
      "+-------------+-----+\n",
      "|     discount|    4|\n",
      "|informational|    2|\n",
      "|         bogo|    4|\n",
      "+-------------+-----+\n",
      "\n"
     ]
    }
   ],
   "source": [
    "df_offers.groupBy(\"offer_type\").count().show()"
   ]
  },
  {
   "cell_type": "code",
   "execution_count": 7,
   "metadata": {
    "application/vnd.databricks.v1+cell": {
     "cellMetadata": {
      "byteLimit": 2048000,
      "rowLimit": 10000
     },
     "inputWidgets": {},
     "nuid": "04d58f33-31c5-437a-a1cf-9b079c04cf1c",
     "showTitle": false,
     "tableResultSettingsMap": {},
     "title": ""
    }
   },
   "outputs": [
    {
     "name": "stdout",
     "output_type": "stream",
     "text": [
      "+--------------------------------+----------+---------+--------------+--------+----------------------------+\n",
      "|id                              |offer_type|min_value|discount_value|duration|channels                    |\n",
      "+--------------------------------+----------+---------+--------------+--------+----------------------------+\n",
      "|ae264e3637204a6fb9bb56bc8210ddfd|bogo      |10       |10            |7.0     |[email, mobile, social]     |\n",
      "|4d5c57ea9a6940dd891ad53e9dbe8da0|bogo      |10       |10            |5.0     |[web, email, mobile, social]|\n",
      "|9b98b8c7a33c4b65b9aebfe6a799e6d9|bogo      |5        |5             |7.0     |[web, email, mobile]        |\n",
      "|f19421c1d4aa40978ebb69ca19b0e20d|bogo      |5        |5             |5.0     |[web, email, mobile, social]|\n",
      "+--------------------------------+----------+---------+--------------+--------+----------------------------+\n",
      "\n"
     ]
    }
   ],
   "source": [
    "df_offers.filter(\"offer_type='bogo'\").show(truncate=False)"
   ]
  },
  {
   "cell_type": "code",
   "execution_count": 8,
   "metadata": {
    "application/vnd.databricks.v1+cell": {
     "cellMetadata": {
      "byteLimit": 2048000,
      "rowLimit": 10000
     },
     "inputWidgets": {},
     "nuid": "f69d8673-255f-4410-ba2f-0896480fdf7b",
     "showTitle": false,
     "tableResultSettingsMap": {},
     "title": ""
    }
   },
   "outputs": [
    {
     "name": "stdout",
     "output_type": "stream",
     "text": [
      "+--------------------------------+-------------+---------+--------------+--------+-----------------------+\n",
      "|id                              |offer_type   |min_value|discount_value|duration|channels               |\n",
      "+--------------------------------+-------------+---------+--------------+--------+-----------------------+\n",
      "|3f207df678b143eea3cee63160fa8bed|informational|0        |0             |4.0     |[web, email, mobile]   |\n",
      "|5a8bc65990b245e5a138643cd4eb9837|informational|0        |0             |3.0     |[email, mobile, social]|\n",
      "+--------------------------------+-------------+---------+--------------+--------+-----------------------+\n",
      "\n"
     ]
    }
   ],
   "source": [
    "df_offers.filter(\"offer_type='informational'\").show(truncate=False)"
   ]
  },
  {
   "cell_type": "code",
   "execution_count": 9,
   "metadata": {
    "application/vnd.databricks.v1+cell": {
     "cellMetadata": {
      "byteLimit": 2048000,
      "rowLimit": 10000
     },
     "inputWidgets": {},
     "nuid": "dce6e46a-641d-4aec-99da-b73cf2fb03b6",
     "showTitle": false,
     "tableResultSettingsMap": {},
     "title": ""
    }
   },
   "outputs": [
    {
     "name": "stdout",
     "output_type": "stream",
     "text": [
      "+--------------------------------+----------+---------+--------------+--------+----------------------------+\n",
      "|id                              |offer_type|min_value|discount_value|duration|channels                    |\n",
      "+--------------------------------+----------+---------+--------------+--------+----------------------------+\n",
      "|0b1e1539f2cc45b7b9fa7c272da2e1d7|discount  |20       |5             |10.0    |[web, email]                |\n",
      "|2298d6c36e964ae4a3e7e9706d1fb8c2|discount  |7        |3             |7.0     |[web, email, mobile, social]|\n",
      "|fafdcd668e3743c1bb461111dcafc2a4|discount  |10       |2             |10.0    |[web, email, mobile, social]|\n",
      "|2906b810c7d4411798c6938adc9daaa5|discount  |10       |2             |7.0     |[web, email, mobile]        |\n",
      "+--------------------------------+----------+---------+--------------+--------+----------------------------+\n",
      "\n"
     ]
    }
   ],
   "source": [
    "df_offers.filter(\"offer_type='discount'\").show(truncate=False)"
   ]
  },
  {
   "cell_type": "code",
   "execution_count": 10,
   "metadata": {
    "application/vnd.databricks.v1+cell": {
     "cellMetadata": {
      "byteLimit": 2048000,
      "rowLimit": 10000
     },
     "inputWidgets": {},
     "nuid": "5fb9401b-4e81-47ce-9b6d-1b60b4ea5aa6",
     "showTitle": false,
     "tableResultSettingsMap": {},
     "title": ""
    }
   },
   "outputs": [
    {
     "name": "stdout",
     "output_type": "stream",
     "text": [
      "+----------------------------+\n",
      "|channels                    |\n",
      "+----------------------------+\n",
      "|[web, email]                |\n",
      "|[email, mobile, social]     |\n",
      "|[web, email, mobile]        |\n",
      "|[web, email, mobile, social]|\n",
      "+----------------------------+\n",
      "\n"
     ]
    }
   ],
   "source": [
    "df_offers.select(\"channels\").distinct().show(truncate=False)"
   ]
  },
  {
   "cell_type": "markdown",
   "metadata": {
    "application/vnd.databricks.v1+cell": {
     "cellMetadata": {
      "byteLimit": 2048000,
      "rowLimit": 10000
     },
     "inputWidgets": {},
     "nuid": "903445cc-383e-4448-b4fe-c0b88d809777",
     "showTitle": false,
     "tableResultSettingsMap": {},
     "title": ""
    }
   },
   "source": [
    "# Data Clean"
   ]
  },
  {
   "cell_type": "code",
   "execution_count": 11,
   "metadata": {
    "application/vnd.databricks.v1+cell": {
     "cellMetadata": {
      "byteLimit": 2048000,
      "rowLimit": 10000
     },
     "inputWidgets": {},
     "nuid": "87379511-22cb-4803-9a1d-9e2e0877d9d1",
     "showTitle": false,
     "tableResultSettingsMap": {},
     "title": ""
    }
   },
   "outputs": [
    {
     "name": "stdout",
     "output_type": "stream",
     "text": [
      "+--------------------------------+-------------+---------+--------------+--------+----------------------------+\n",
      "|id                              |offer_type   |min_value|discount_value|duration|channels                    |\n",
      "+--------------------------------+-------------+---------+--------------+--------+----------------------------+\n",
      "|ae264e3637204a6fb9bb56bc8210ddfd|bogo         |10       |10            |7.0     |[email, mobile, social]     |\n",
      "|4d5c57ea9a6940dd891ad53e9dbe8da0|bogo         |10       |10            |5.0     |[web, email, mobile, social]|\n",
      "|3f207df678b143eea3cee63160fa8bed|informational|0        |0             |4.0     |[web, email, mobile]        |\n",
      "|9b98b8c7a33c4b65b9aebfe6a799e6d9|bogo         |5        |5             |7.0     |[web, email, mobile]        |\n",
      "|0b1e1539f2cc45b7b9fa7c272da2e1d7|discount     |20       |5             |10.0    |[web, email]                |\n",
      "+--------------------------------+-------------+---------+--------------+--------+----------------------------+\n",
      "only showing top 5 rows\n"
     ]
    }
   ],
   "source": [
    "df_offers.show(5, truncate=False)"
   ]
  },
  {
   "cell_type": "markdown",
   "metadata": {
    "application/vnd.databricks.v1+cell": {
     "cellMetadata": {},
     "inputWidgets": {},
     "nuid": "efbbed87-d3e5-421a-8a40-0d4d8745359f",
     "showTitle": false,
     "tableResultSettingsMap": {},
     "title": ""
    }
   },
   "source": [
    "##### Transformando coluna channels "
   ]
  },
  {
   "cell_type": "code",
   "execution_count": 12,
   "metadata": {
    "application/vnd.databricks.v1+cell": {
     "cellMetadata": {
      "byteLimit": 2048000,
      "rowLimit": 10000
     },
     "inputWidgets": {},
     "nuid": "db65e788-7559-4350-b0fb-e764c605a40f",
     "showTitle": false,
     "tableResultSettingsMap": {},
     "title": ""
    }
   },
   "outputs": [
    {
     "data": {
      "text/plain": [
       "['mobile', 'email', 'social', 'web']"
      ]
     },
     "execution_count": 12,
     "metadata": {},
     "output_type": "execute_result"
    }
   ],
   "source": [
    "channels_df = df_offers.select(F.explode(F.col(\"channels\")).alias(\"channels\")).distinct()\n",
    "distinct_channels = [ch.channels for ch in channels_df.collect()]\n",
    "distinct_channels"
   ]
  },
  {
   "cell_type": "code",
   "execution_count": 13,
   "metadata": {
    "application/vnd.databricks.v1+cell": {
     "cellMetadata": {
      "byteLimit": 2048000,
      "rowLimit": 10000
     },
     "inputWidgets": {},
     "nuid": "1dd92247-67bc-4e5f-b3f6-b9c9a04b3336",
     "showTitle": false,
     "tableResultSettingsMap": {
      "0": {
       "dataGridStateBlob": "{\"version\":1,\"tableState\":{\"columnPinning\":{\"left\":[\"#row_number#\"],\"right\":[]},\"columnSizing\":{},\"columnVisibility\":{}},\"settings\":{\"columns\":{}},\"syncTimestamp\":1754504450622}",
       "filterBlob": null,
       "queryPlanFiltersBlob": null,
       "tableResultIndex": 0
      }
     },
     "title": ""
    }
   },
   "outputs": [
    {
     "name": "stdout",
     "output_type": "stream",
     "text": [
      "+--------------------------------+-------------+---------+--------------+--------+------+-----+------+---+\n",
      "|id                              |offer_type   |min_value|discount_value|duration|mobile|email|social|web|\n",
      "+--------------------------------+-------------+---------+--------------+--------+------+-----+------+---+\n",
      "|ae264e3637204a6fb9bb56bc8210ddfd|bogo         |10       |10            |7.0     |1     |1    |1     |0  |\n",
      "|4d5c57ea9a6940dd891ad53e9dbe8da0|bogo         |10       |10            |5.0     |1     |1    |1     |1  |\n",
      "|3f207df678b143eea3cee63160fa8bed|informational|0        |0             |4.0     |1     |1    |0     |1  |\n",
      "|9b98b8c7a33c4b65b9aebfe6a799e6d9|bogo         |5        |5             |7.0     |1     |1    |0     |1  |\n",
      "|0b1e1539f2cc45b7b9fa7c272da2e1d7|discount     |20       |5             |10.0    |0     |1    |0     |1  |\n",
      "+--------------------------------+-------------+---------+--------------+--------+------+-----+------+---+\n",
      "only showing top 5 rows\n"
     ]
    }
   ],
   "source": [
    "for channel in distinct_channels:\n",
    "    df_offers = df_offers.withColumn(channel, F.when(F.array_contains(F.col(\"channels\"), channel), 1).otherwise(0))\n",
    "df_offers = df_offers.drop(\"channels\")\n",
    "df_offers.show(5, truncate=False)"
   ]
  },
  {
   "cell_type": "markdown",
   "metadata": {
    "application/vnd.databricks.v1+cell": {
     "cellMetadata": {},
     "inputWidgets": {},
     "nuid": "244d4638-8d94-4f92-8128-fe819c34ede3",
     "showTitle": false,
     "tableResultSettingsMap": {},
     "title": ""
    }
   },
   "source": [
    "##### Padronizando colunas referente às ofertas"
   ]
  },
  {
   "cell_type": "code",
   "execution_count": 14,
   "metadata": {
    "application/vnd.databricks.v1+cell": {
     "cellMetadata": {
      "byteLimit": 2048000,
      "rowLimit": 10000
     },
     "inputWidgets": {},
     "nuid": "20a87e43-be6b-4a8b-a4ed-ea13f57cf0f8",
     "showTitle": false,
     "tableResultSettingsMap": {},
     "title": ""
    }
   },
   "outputs": [
    {
     "name": "stdout",
     "output_type": "stream",
     "text": [
      "+--------------------------------+-------------+---------------+--------------------+--------------+--------------+-------------+--------------+-----------+\n",
      "|offer_id                        |offer_type   |offer_min_value|offer_discount_value|offer_duration|channel_mobile|channel_email|channel_social|channel_web|\n",
      "+--------------------------------+-------------+---------------+--------------------+--------------+--------------+-------------+--------------+-----------+\n",
      "|ae264e3637204a6fb9bb56bc8210ddfd|bogo         |10             |10                  |7.0           |1             |1            |1             |0          |\n",
      "|4d5c57ea9a6940dd891ad53e9dbe8da0|bogo         |10             |10                  |5.0           |1             |1            |1             |1          |\n",
      "|3f207df678b143eea3cee63160fa8bed|informational|0              |0                   |4.0           |1             |1            |0             |1          |\n",
      "|9b98b8c7a33c4b65b9aebfe6a799e6d9|bogo         |5              |5                   |7.0           |1             |1            |0             |1          |\n",
      "|0b1e1539f2cc45b7b9fa7c272da2e1d7|discount     |20             |5                   |10.0          |0             |1            |0             |1          |\n",
      "+--------------------------------+-------------+---------------+--------------------+--------------+--------------+-------------+--------------+-----------+\n",
      "only showing top 5 rows\n"
     ]
    }
   ],
   "source": [
    "df_offers = df_offers.withColumnRenamed(\"id\", \"offer_id\")\\\n",
    "                     .withColumnRenamed(\"min_value\", \"offer_min_value\")\\\n",
    "                     .withColumnRenamed(\"discount_value\", \"offer_discount_value\")\\\n",
    "                     .withColumnRenamed(\"duration\", \"offer_duration\")\\\n",
    "                     .withColumnRenamed(\"min_value\", \"offer_min_value\")\\\n",
    "                     .withColumnRenamed(\"mobile\", \"channel_mobile\")\\\n",
    "                     .withColumnRenamed(\"email\", \"channel_email\")\\\n",
    "                     .withColumnRenamed(\"social\", \"channel_social\")\\\n",
    "                     .withColumnRenamed(\"web\", \"channel_web\")\n",
    "df_offers.show(5, truncate=False)"
   ]
  },
  {
   "cell_type": "markdown",
   "metadata": {
    "application/vnd.databricks.v1+cell": {
     "cellMetadata": {},
     "inputWidgets": {},
     "nuid": "d9eb82bf-3d01-4a35-92e7-faa0c1db9e1e",
     "showTitle": false,
     "tableResultSettingsMap": {},
     "title": ""
    }
   },
   "source": [
    "##### Encodando o tipo de oferta"
   ]
  },
  {
   "cell_type": "code",
   "execution_count": 15,
   "metadata": {
    "application/vnd.databricks.v1+cell": {
     "cellMetadata": {
      "byteLimit": 2048000,
      "rowLimit": 10000
     },
     "inputWidgets": {},
     "nuid": "794edcd6-32f4-43dc-ab16-97779bbd97cb",
     "showTitle": false,
     "tableResultSettingsMap": {},
     "title": ""
    }
   },
   "outputs": [
    {
     "name": "stdout",
     "output_type": "stream",
     "text": [
      "+-------------+----------------+\n",
      "|offer_type   |offer_type_index|\n",
      "+-------------+----------------+\n",
      "|discount     |0               |\n",
      "|informational|1               |\n",
      "|bogo         |2               |\n",
      "+-------------+----------------+\n",
      "\n"
     ]
    }
   ],
   "source": [
    "df_offer_type = df_offers.select(F.col(\"offer_type\")).distinct()\\\n",
    "                         .withColumn(\"offer_type_index\", F.monotonically_increasing_id())\\\n",
    "                         .select('offer_type', 'offer_type_index')\n",
    "df_offer_type.show(5, truncate=False)"
   ]
  },
  {
   "cell_type": "code",
   "execution_count": 16,
   "metadata": {
    "application/vnd.databricks.v1+cell": {
     "cellMetadata": {
      "byteLimit": 2048000,
      "rowLimit": 10000
     },
     "inputWidgets": {},
     "nuid": "6d46a74f-c5a4-49b8-b853-9a61c1615484",
     "showTitle": false,
     "tableResultSettingsMap": {},
     "title": ""
    }
   },
   "outputs": [
    {
     "name": "stdout",
     "output_type": "stream",
     "text": [
      "+-------------+--------------------------------+---------------+--------------------+--------------+--------------+-------------+--------------+-----------+----------------+\n",
      "|offer_type   |offer_id                        |offer_min_value|offer_discount_value|offer_duration|channel_mobile|channel_email|channel_social|channel_web|offer_type_index|\n",
      "+-------------+--------------------------------+---------------+--------------------+--------------+--------------+-------------+--------------+-----------+----------------+\n",
      "|bogo         |ae264e3637204a6fb9bb56bc8210ddfd|10             |10                  |7.0           |1             |1            |1             |0          |2               |\n",
      "|bogo         |4d5c57ea9a6940dd891ad53e9dbe8da0|10             |10                  |5.0           |1             |1            |1             |1          |2               |\n",
      "|informational|3f207df678b143eea3cee63160fa8bed|0              |0                   |4.0           |1             |1            |0             |1          |1               |\n",
      "|bogo         |9b98b8c7a33c4b65b9aebfe6a799e6d9|5              |5                   |7.0           |1             |1            |0             |1          |2               |\n",
      "|discount     |0b1e1539f2cc45b7b9fa7c272da2e1d7|20             |5                   |10.0          |0             |1            |0             |1          |0               |\n",
      "+-------------+--------------------------------+---------------+--------------------+--------------+--------------+-------------+--------------+-----------+----------------+\n",
      "only showing top 5 rows\n"
     ]
    }
   ],
   "source": [
    "df_offers = df_offers.join(df_offer_type, on='offer_type', how='inner')\n",
    "df_offers.show(5, truncate=False)"
   ]
  },
  {
   "cell_type": "markdown",
   "metadata": {
    "application/vnd.databricks.v1+cell": {
     "cellMetadata": {},
     "inputWidgets": {},
     "nuid": "aa7d75db-4afc-42df-accb-bf6f1d369763",
     "showTitle": false,
     "tableResultSettingsMap": {},
     "title": ""
    }
   },
   "source": [
    "##### Salvando tabela de ofertas "
   ]
  },
  {
   "cell_type": "code",
   "execution_count": 17,
   "metadata": {
    "application/vnd.databricks.v1+cell": {
     "cellMetadata": {
      "byteLimit": 2048000,
      "rowLimit": 10000
     },
     "inputWidgets": {},
     "nuid": "4920410f-fe87-4fde-85c5-954970303f8e",
     "showTitle": false,
     "tableResultSettingsMap": {},
     "title": ""
    }
   },
   "outputs": [
    {
     "name": "stdout",
     "output_type": "stream",
     "text": [
      "+--------------------------------+-------------+---------------+--------------------+--------------+--------------+-------------+--------------+-----------+----------------+\n",
      "|offer_id                        |offer_type   |offer_min_value|offer_discount_value|offer_duration|channel_mobile|channel_email|channel_social|channel_web|offer_type_index|\n",
      "+--------------------------------+-------------+---------------+--------------------+--------------+--------------+-------------+--------------+-----------+----------------+\n",
      "|ae264e3637204a6fb9bb56bc8210ddfd|bogo         |10             |10                  |7.0           |1             |1            |1             |0          |2               |\n",
      "|4d5c57ea9a6940dd891ad53e9dbe8da0|bogo         |10             |10                  |5.0           |1             |1            |1             |1          |2               |\n",
      "|3f207df678b143eea3cee63160fa8bed|informational|0              |0                   |4.0           |1             |1            |0             |1          |1               |\n",
      "|9b98b8c7a33c4b65b9aebfe6a799e6d9|bogo         |5              |5                   |7.0           |1             |1            |0             |1          |2               |\n",
      "|0b1e1539f2cc45b7b9fa7c272da2e1d7|discount     |20             |5                   |10.0          |0             |1            |0             |1          |0               |\n",
      "+--------------------------------+-------------+---------------+--------------------+--------------+--------------+-------------+--------------+-----------+----------------+\n",
      "only showing top 5 rows\n"
     ]
    }
   ],
   "source": [
    "df_offers = df_offers.select('offer_id', 'offer_type', 'offer_min_value', 'offer_discount_value', 'offer_duration', 'channel_mobile', \n",
    "                             'channel_email', 'channel_social', 'channel_web', 'offer_type_index')\n",
    "df_offers.show(5, truncate=False)"
   ]
  },
  {
   "cell_type": "code",
   "execution_count": 18,
   "metadata": {
    "application/vnd.databricks.v1+cell": {
     "cellMetadata": {
      "byteLimit": 2048000,
      "rowLimit": 10000
     },
     "inputWidgets": {},
     "nuid": "5de26dc0-3b64-4da6-a65d-419dbf336d81",
     "showTitle": false,
     "tableResultSettingsMap": {},
     "title": ""
    }
   },
   "outputs": [],
   "source": [
    "df_offers.write.format(\"parquet\").mode(\"overwrite\").save(output_table)"
   ]
  },
  {
   "cell_type": "code",
   "execution_count": null,
   "metadata": {},
   "outputs": [],
   "source": []
  }
 ],
 "metadata": {
  "application/vnd.databricks.v1+notebook": {
   "computePreferences": {
    "hardware": {
     "accelerator": null,
     "gpuPoolId": null,
     "memory": null
    }
   },
   "dashboards": [],
   "environmentMetadata": {
    "base_environment": "",
    "environment_version": "2"
   },
   "inputWidgetPreferences": null,
   "language": "python",
   "notebookMetadata": {
    "mostRecentlyExecutedCommandWithImplicitDF": {
     "commandId": 7987648312088314,
     "dataframes": [
      "_sqldf"
     ]
    },
    "pythonIndentUnit": 4
   },
   "notebookName": "1_offer_data_understanding",
   "widgets": {}
  },
  "kernelspec": {
   "display_name": "Python 3 (ipykernel)",
   "language": "python",
   "name": "python3"
  },
  "language_info": {
   "codemirror_mode": {
    "name": "ipython",
    "version": 3
   },
   "file_extension": ".py",
   "mimetype": "text/x-python",
   "name": "python",
   "nbconvert_exporter": "python",
   "pygments_lexer": "ipython3",
   "version": "3.12.11"
  }
 },
 "nbformat": 4,
 "nbformat_minor": 4
}
